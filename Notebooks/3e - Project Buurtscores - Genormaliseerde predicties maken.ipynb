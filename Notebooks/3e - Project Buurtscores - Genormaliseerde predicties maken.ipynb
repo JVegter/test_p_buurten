{
 "nbformat": 4,
 "nbformat_minor": 2,
 "metadata": {
  "language_info": {
   "name": "python",
   "codemirror_mode": {
    "name": "ipython",
    "version": 3
   },
   "version": "3.7.4-final"
  },
  "orig_nbformat": 2,
  "file_extension": ".py",
  "mimetype": "text/x-python",
  "name": "python",
  "npconvert_exporter": "python",
  "pygments_lexer": "ipython3",
  "version": 3,
  "kernelspec": {
   "name": "python37464bitbaseconda242bb0ba9e57475e817de0db7bd613e8",
   "display_name": "Python 3.7.4 64-bit ('base': conda)"
  }
 },
 "cells": [
  {
   "cell_type": "code",
   "execution_count": 3,
   "metadata": {},
   "outputs": [],
   "source": [
    "# importeren packages\n",
    "import pandas as pd\n",
    "import numpy as np\n",
    "#conda install -c anaconda py-xgboost #installeer XGBoost\n",
    "import xgboost\n",
    "import pickle\n",
    "from sklearn.preprocessing import RobustScaler\n",
    "from sklearn.metrics import accuracy_score, confusion_matrix\n",
    "import numpy as np\n",
    "#conda install -c anaconda py-xgboost #installeer XGBoost\n",
    "import xgboost\n",
    "#from xgboost import XGBClassifier\n",
    "from xgboost import plot_importance\n",
    "from sklearn.model_selection import train_test_split, RandomizedSearchCV, GridSearchCV, KFold, cross_val_score"
   ]
  },
  {
   "cell_type": "code",
   "execution_count": 4,
   "metadata": {},
   "outputs": [],
   "source": [
    "# setten source path: later moet alle brondata naar datalake\n",
    "source_path =\"P:\\\\DATASCIENCE\\\\Aantrekkelijkheid buurten\\\\Resultaten\\\\\"\n",
    "# alle tussentijdse data voorlopig in dezelfde map op een schijf opslaan in\n",
    "save_path = \"P:\\\\DATASCIENCE\\\\Aantrekkelijkheid buurten\\\\Resultaten\\\\\""
   ]
  },
  {
   "cell_type": "code",
   "execution_count": 5,
   "metadata": {},
   "outputs": [],
   "source": [
    "# inladen bestand met alle buurten en onafhankelijke variabelen als all\n",
    "buurtendata = pd.read_csv(source_path + 'buurten.csv', encoding='utf-16')\n",
    "buurtendata.rename(columns={\"RLBBEV18\":\"RLBBEV\",'KL18': \"KL\", \n",
    "               'RLBRMTR18': 'RLBRMTR', 'RLBWON18':'RLBWON' , 'RLBBEV18':'RLBBEV', 'RLBVRZ18':'RLBVRZ', 'RLBVEI18': 'RLBVEI', 'RLBFYS18': 'RLBFYS',}, inplace=True) "
   ]
  },
  {
   "cell_type": "code",
   "execution_count": 6,
   "metadata": {},
   "outputs": [],
   "source": [
    "# inladen bestand met scores als sc\n",
    "sc = pd.read_excel(source_path + 'buurten voor experts 2e ronde.xlsx', sheet_name='buurten')\n",
    "# alleen selecteren kolommen voor scores en oordelen\n",
    "sc = sc[['buurtcode','EE','TK']]"
   ]
  },
  {
   "cell_type": "code",
   "execution_count": 5,
   "metadata": {},
   "outputs": [],
   "source": [
    "# merge op buurtcode (die van 2019)\n",
    "#######\n",
    "df = pd.merge(buurtendata,sc, on='buurtcode', how = 'left')"
   ]
  },
  {
   "cell_type": "code",
   "execution_count": 41,
   "metadata": {},
   "outputs": [
    {
     "output_type": "execute_result",
     "data": {
      "text/plain": "(13632, 115)"
     },
     "metadata": {},
     "execution_count": 41
    }
   ],
   "source": [
    "df.shape"
   ]
  },
  {
   "cell_type": "code",
   "execution_count": 42,
   "metadata": {},
   "outputs": [],
   "source": [
    "#######\n",
    "feature_cols = ['AantalCafe3', 'woxdelta5jr', 'woxm2', 'woxww',\n",
    "       'woxdelta5jrGem', 'wox', 'RLBBEV',\n",
    "       'RLBVRZ', 'AantalLevensm3', 'woxm2WG', 'aand1945-1970',\n",
    "       'woxdelta5jrWGabs', 'woxdelta1jrGem', 'AantalPodiumk10',\n",
    "       'wv2000-2010', 'AantalBios5']\n",
    "\n",
    "       \n",
    "X = df[feature_cols]\n",
    "y = df['EE']\n",
    "\n",
    "Xs = df[df['EE'].notnull()].drop('EE', axis = 1)\n",
    "ys = df[df['EE'].notnull()]['EE']\n",
    "X_train, X_test, y_train, y_test = train_test_split(Xs, ys, test_size=0.25, random_state=2)"
   ]
  },
  {
   "cell_type": "code",
   "execution_count": 43,
   "metadata": {},
   "outputs": [
    {
     "output_type": "execute_result",
     "data": {
      "text/plain": "Index(['AantalCafe3', 'woxdelta5jr', 'woxm2', 'woxww', 'woxdelta5jrGem', 'wox',\n       'RLBBEV', 'RLBVRZ', 'AantalLevensm3', 'woxm2WG', 'aand1945-1970',\n       'woxdelta5jrWGabs', 'woxdelta1jrGem', 'AantalPodiumk10', 'wv2000-2010',\n       'AantalBios5'],\n      dtype='object')"
     },
     "metadata": {},
     "execution_count": 43
    }
   ],
   "source": [
    "X.columns"
   ]
  },
  {
   "cell_type": "code",
   "execution_count": 44,
   "metadata": {},
   "outputs": [
    {
     "output_type": "execute_result",
     "data": {
      "text/plain": "   AantalCafe3  woxdelta5jr  woxm2  woxww  woxdelta5jrGem  wox    RLBBEV  \\\n0          5.0          NaN    NaN    NaN             NaN  NaN  0.033864   \n1          5.6          NaN    NaN    NaN             NaN  NaN  0.048271   \n2          5.0          NaN    NaN    NaN             NaN  NaN -0.005198   \n3          4.6          NaN    NaN    NaN             NaN  NaN  0.105121   \n4          2.5          NaN    NaN    NaN             NaN  NaN       NaN   \n\n     RLBVRZ  AantalLevensm3  woxm2WG  aand1945-1970  woxdelta5jrWGabs  \\\n0 -0.100124            14.0      NaN            NaN               NaN   \n1 -0.124013            14.0      NaN            NaN               NaN   \n2 -0.114426            14.0      NaN            NaN               NaN   \n3 -0.139309            12.5      NaN            NaN               NaN   \n4       NaN             8.7      NaN            NaN               NaN   \n\n   woxdelta1jrGem  AantalPodiumk10  wv2000-2010  AantalBios5  \n0             NaN              1.0          NaN          0.0  \n1             NaN              1.0          NaN          0.0  \n2             NaN              1.0          NaN          0.0  \n3             NaN              1.0          NaN          0.0  \n4             NaN              1.0          NaN          0.0  ",
      "text/html": "<div>\n<style scoped>\n    .dataframe tbody tr th:only-of-type {\n        vertical-align: middle;\n    }\n\n    .dataframe tbody tr th {\n        vertical-align: top;\n    }\n\n    .dataframe thead th {\n        text-align: right;\n    }\n</style>\n<table border=\"1\" class=\"dataframe\">\n  <thead>\n    <tr style=\"text-align: right;\">\n      <th></th>\n      <th>AantalCafe3</th>\n      <th>woxdelta5jr</th>\n      <th>woxm2</th>\n      <th>woxww</th>\n      <th>woxdelta5jrGem</th>\n      <th>wox</th>\n      <th>RLBBEV</th>\n      <th>RLBVRZ</th>\n      <th>AantalLevensm3</th>\n      <th>woxm2WG</th>\n      <th>aand1945-1970</th>\n      <th>woxdelta5jrWGabs</th>\n      <th>woxdelta1jrGem</th>\n      <th>AantalPodiumk10</th>\n      <th>wv2000-2010</th>\n      <th>AantalBios5</th>\n    </tr>\n  </thead>\n  <tbody>\n    <tr>\n      <td>0</td>\n      <td>5.0</td>\n      <td>NaN</td>\n      <td>NaN</td>\n      <td>NaN</td>\n      <td>NaN</td>\n      <td>NaN</td>\n      <td>0.033864</td>\n      <td>-0.100124</td>\n      <td>14.0</td>\n      <td>NaN</td>\n      <td>NaN</td>\n      <td>NaN</td>\n      <td>NaN</td>\n      <td>1.0</td>\n      <td>NaN</td>\n      <td>0.0</td>\n    </tr>\n    <tr>\n      <td>1</td>\n      <td>5.6</td>\n      <td>NaN</td>\n      <td>NaN</td>\n      <td>NaN</td>\n      <td>NaN</td>\n      <td>NaN</td>\n      <td>0.048271</td>\n      <td>-0.124013</td>\n      <td>14.0</td>\n      <td>NaN</td>\n      <td>NaN</td>\n      <td>NaN</td>\n      <td>NaN</td>\n      <td>1.0</td>\n      <td>NaN</td>\n      <td>0.0</td>\n    </tr>\n    <tr>\n      <td>2</td>\n      <td>5.0</td>\n      <td>NaN</td>\n      <td>NaN</td>\n      <td>NaN</td>\n      <td>NaN</td>\n      <td>NaN</td>\n      <td>-0.005198</td>\n      <td>-0.114426</td>\n      <td>14.0</td>\n      <td>NaN</td>\n      <td>NaN</td>\n      <td>NaN</td>\n      <td>NaN</td>\n      <td>1.0</td>\n      <td>NaN</td>\n      <td>0.0</td>\n    </tr>\n    <tr>\n      <td>3</td>\n      <td>4.6</td>\n      <td>NaN</td>\n      <td>NaN</td>\n      <td>NaN</td>\n      <td>NaN</td>\n      <td>NaN</td>\n      <td>0.105121</td>\n      <td>-0.139309</td>\n      <td>12.5</td>\n      <td>NaN</td>\n      <td>NaN</td>\n      <td>NaN</td>\n      <td>NaN</td>\n      <td>1.0</td>\n      <td>NaN</td>\n      <td>0.0</td>\n    </tr>\n    <tr>\n      <td>4</td>\n      <td>2.5</td>\n      <td>NaN</td>\n      <td>NaN</td>\n      <td>NaN</td>\n      <td>NaN</td>\n      <td>NaN</td>\n      <td>NaN</td>\n      <td>NaN</td>\n      <td>8.7</td>\n      <td>NaN</td>\n      <td>NaN</td>\n      <td>NaN</td>\n      <td>NaN</td>\n      <td>1.0</td>\n      <td>NaN</td>\n      <td>0.0</td>\n    </tr>\n  </tbody>\n</table>\n</div>"
     },
     "metadata": {},
     "execution_count": 44
    }
   ],
   "source": [
    "X.head()"
   ]
  },
  {
   "cell_type": "markdown",
   "metadata": {},
   "source": [
    "# EE"
   ]
  },
  {
   "cell_type": "code",
   "execution_count": 45,
   "metadata": {},
   "outputs": [
    {
     "output_type": "stream",
     "name": "stdout",
     "text": "Removed test: True\n0.9960474308300395 \n 0.9294117647058824 \n [[34  3  0]\n [ 2 27  0]\n [ 1  0 18]]\n"
    }
   ],
   "source": [
    "# get dataset\n",
    "feature_cols = ['AantalCafe3', 'woxdelta5jr', 'woxm2', 'woxww',\n",
    "       'woxdelta5jrGem', 'wox', 'RLBBEV',\n",
    "       'RLBVRZ', 'AantalLevensm3', 'woxm2WG', 'aand1945-1970',\n",
    "       'woxdelta5jrWGabs', 'woxdelta1jrGem', 'AantalPodiumk10',\n",
    "       'wv2000-2010', 'AantalBios5']      \n",
    "X = df[feature_cols]\n",
    "y = df['EE']\n",
    "\n",
    "Xs = df[df['EE'].notnull()].drop('EE', axis = 1)\n",
    "ys = df[df['EE'].notnull()]['EE']\n",
    "X_train, X_test, y_train, y_test = train_test_split(Xs, ys, test_size=0.25, random_state=2)\n",
    "\n",
    "# remove testset\n",
    "X_min_test = X.append(X_test)\n",
    "X_min_test = X_min_test.loc[X_min_test.index.drop_duplicates(keep=False)]\n",
    "y_min_test = y.append(y_test)\n",
    "y_min_test = y_min_test.loc[y_min_test.index.drop_duplicates(keep=False)]\n",
    "print(f\"Removed test: { len(X)-len(X_test)==len(X_min_test)}\")\n",
    "\n",
    "# normalize dataset\n",
    "scaler = RobustScaler()\n",
    "\n",
    "# transform our full-dataset\n",
    "X_min_test = scaler.fit_transform(X_min_test[feature_cols])\n",
    "X_min_test = pd.DataFrame(X_min_test)\n",
    "X_min_test.columns = feature_cols\n",
    "\n",
    "# # select train items based on what's filled and not in test\n",
    "X_train = X_min_test[y_min_test.notnull().values]\n",
    "y_train = y_min_test[y_min_test.notnull().values]\n",
    "\n",
    "# maak object met geoptimaliseerde hyperparameters\n",
    "model = xgboost.XGBClassifier(base_score=0.5, booster='gbtree', colsample_bylevel=1,\n",
    "              colsample_bynode=1, colsample_bytree=0.7, gamma=0.2,\n",
    "              learning_rate=0.15, max_delta_step=0, max_depth=7,\n",
    "              min_child_weight=3, missing=None, n_estimators=250, n_jobs=1,\n",
    "              nthread=None, objective='multi:softprob', random_state=0,\n",
    "              reg_alpha=0, reg_lambda=1, scale_pos_weight=1, seed=2,\n",
    "              silent=None, subsample=0.8, verbosity=1)\n",
    "\n",
    "# en fit op data\n",
    "model.fit(X_train, y_train)\n",
    "\n",
    "# get full dataset and normalize full dataset\n",
    "X_full_transformed = scaler.fit_transform(X[feature_cols])\n",
    "X_full_transformed = pd.DataFrame(X_full_transformed)\n",
    "X_full_transformed.columns = feature_cols\n",
    "X_full_transformed = X_full_transformed[df['EE'].notnull()] # only take labeled data\n",
    "y = df[df['EE'].notnull()]['EE']\n",
    "tempx, X_test, tempy, y_test = train_test_split(X_full_transformed, y, test_size=0.25, random_state=2)\n",
    "\n",
    "\n",
    "# predict full dataset\n",
    "y_pred = model.predict(X_test)\n",
    "y_train_pred = model.predict(X_train)\n",
    "\n",
    "train_accuracy = accuracy_score(y_train,y_train_pred)\n",
    "test_accuracy = accuracy_score(y_test,y_pred)\n",
    "cm = confusion_matrix(y_test, y_pred)\n",
    "print(train_accuracy, '\\n',test_accuracy,'\\n', cm)"
   ]
  },
  {
   "cell_type": "code",
   "execution_count": 46,
   "metadata": {},
   "outputs": [
    {
     "output_type": "execute_result",
     "data": {
      "text/plain": "                  feature_score           feature\nwoxm2                  0.215877             woxm2\nwoxww                  0.181061             woxww\nwoxm2WG                0.104963           woxm2WG\nwoxdelta5jr            0.082669       woxdelta5jr\nwox                    0.062444               wox\nAantalPodiumk10        0.051171   AantalPodiumk10\nwv2000-2010            0.041772       wv2000-2010\nAantalBios5            0.041467       AantalBios5\nwoxdelta5jrWGabs       0.038685  woxdelta5jrWGabs\nRLBBEV                 0.036130            RLBBEV\nRLBVRZ                 0.029082            RLBVRZ\nwoxdelta1jrGem         0.025601    woxdelta1jrGem\nAantalCafe3            0.024008       AantalCafe3\nAantalLevensm3         0.023399    AantalLevensm3\nwoxdelta5jrGem         0.021446    woxdelta5jrGem\naand1945-1970          0.020225     aand1945-1970",
      "text/html": "<div>\n<style scoped>\n    .dataframe tbody tr th:only-of-type {\n        vertical-align: middle;\n    }\n\n    .dataframe tbody tr th {\n        vertical-align: top;\n    }\n\n    .dataframe thead th {\n        text-align: right;\n    }\n</style>\n<table border=\"1\" class=\"dataframe\">\n  <thead>\n    <tr style=\"text-align: right;\">\n      <th></th>\n      <th>feature_score</th>\n      <th>feature</th>\n    </tr>\n  </thead>\n  <tbody>\n    <tr>\n      <td>woxm2</td>\n      <td>0.215877</td>\n      <td>woxm2</td>\n    </tr>\n    <tr>\n      <td>woxww</td>\n      <td>0.181061</td>\n      <td>woxww</td>\n    </tr>\n    <tr>\n      <td>woxm2WG</td>\n      <td>0.104963</td>\n      <td>woxm2WG</td>\n    </tr>\n    <tr>\n      <td>woxdelta5jr</td>\n      <td>0.082669</td>\n      <td>woxdelta5jr</td>\n    </tr>\n    <tr>\n      <td>wox</td>\n      <td>0.062444</td>\n      <td>wox</td>\n    </tr>\n    <tr>\n      <td>AantalPodiumk10</td>\n      <td>0.051171</td>\n      <td>AantalPodiumk10</td>\n    </tr>\n    <tr>\n      <td>wv2000-2010</td>\n      <td>0.041772</td>\n      <td>wv2000-2010</td>\n    </tr>\n    <tr>\n      <td>AantalBios5</td>\n      <td>0.041467</td>\n      <td>AantalBios5</td>\n    </tr>\n    <tr>\n      <td>woxdelta5jrWGabs</td>\n      <td>0.038685</td>\n      <td>woxdelta5jrWGabs</td>\n    </tr>\n    <tr>\n      <td>RLBBEV</td>\n      <td>0.036130</td>\n      <td>RLBBEV</td>\n    </tr>\n    <tr>\n      <td>RLBVRZ</td>\n      <td>0.029082</td>\n      <td>RLBVRZ</td>\n    </tr>\n    <tr>\n      <td>woxdelta1jrGem</td>\n      <td>0.025601</td>\n      <td>woxdelta1jrGem</td>\n    </tr>\n    <tr>\n      <td>AantalCafe3</td>\n      <td>0.024008</td>\n      <td>AantalCafe3</td>\n    </tr>\n    <tr>\n      <td>AantalLevensm3</td>\n      <td>0.023399</td>\n      <td>AantalLevensm3</td>\n    </tr>\n    <tr>\n      <td>woxdelta5jrGem</td>\n      <td>0.021446</td>\n      <td>woxdelta5jrGem</td>\n    </tr>\n    <tr>\n      <td>aand1945-1970</td>\n      <td>0.020225</td>\n      <td>aand1945-1970</td>\n    </tr>\n  </tbody>\n</table>\n</div>"
     },
     "metadata": {},
     "execution_count": 46
    }
   ],
   "source": [
    "fi = pd.DataFrame(model.feature_importances_,X_train.columns)\n",
    "fi.columns = ['feature_score']\n",
    "fi.sort_values('feature_score', ascending=False, inplace=True)\n",
    "fi['feature'] = fi.index\n",
    "fi"
   ]
  },
  {
   "cell_type": "code",
   "execution_count": 47,
   "metadata": {},
   "outputs": [],
   "source": [
    "# sla model op\n",
    "file_name = \"final_models_normalised/final_model_EE_wox.pkl\"\n",
    "pickle.dump(model, open(file_name, \"wb\"))"
   ]
  },
  {
   "cell_type": "markdown",
   "metadata": {},
   "source": [
    "## Thomas model"
   ]
  },
  {
   "cell_type": "code",
   "execution_count": 48,
   "metadata": {},
   "outputs": [
    {
     "output_type": "stream",
     "name": "stdout",
     "text": "Removed test: True\n1.0 \n 0.8823529411764706 \n [[31  2  4]\n [ 2 14  1]\n [ 1  0 30]]\n"
    }
   ],
   "source": [
    "# get dataset\n",
    "feature_cols = ['AantalCafe3', 'woxdelta5jr', 'woxm2', 'woxww',\n",
    "       'woxdelta5jrGem', 'wox', 'RLBBEV',\n",
    "       'RLBVRZ', 'AantalLevensm3', 'woxm2WG', 'aand1945-1970',\n",
    "       'woxdelta5jrWGabs', 'woxdelta1jrGem', 'AantalPodiumk10',\n",
    "       'wv2000-2010', 'AantalBios5']      \n",
    "X = df[feature_cols]\n",
    "y = df['TK']\n",
    "\n",
    "Xs = df[df['TK'].notnull()].drop('TK', axis = 1)\n",
    "ys = df[df['TK'].notnull()]['TK']\n",
    "X_train, X_test, y_train, y_test = train_test_split(Xs, ys, test_size=0.25, random_state=2)\n",
    "\n",
    "# remove testset\n",
    "X_min_test = X.append(X_test)\n",
    "X_min_test = X_min_test.loc[X_min_test.index.drop_duplicates(keep=False)]\n",
    "y_min_test = y.append(y_test)\n",
    "y_min_test = y_min_test.loc[y_min_test.index.drop_duplicates(keep=False)]\n",
    "print(f\"Removed test: { len(X)-len(X_test)==len(X_min_test)}\")\n",
    "\n",
    "# normalize dataset\n",
    "scaler = RobustScaler()\n",
    "\n",
    "# transform our full-dataset\n",
    "X_min_test = scaler.fit_transform(X_min_test[feature_cols])\n",
    "X_min_test = pd.DataFrame(X_min_test)\n",
    "X_min_test.columns = feature_cols\n",
    "\n",
    "# # select train items based on what's filled and not in test\n",
    "X_train = X_min_test[y_min_test.notnull().values]\n",
    "y_train = y_min_test[y_min_test.notnull().values]\n",
    "\n",
    "# maak object met geoptimaliseerde hyperparameters\n",
    "model = xgboost.XGBClassifier(base_score=0.5, booster='gbtree', colsample_bylevel=1,\n",
    "              colsample_bynode=1, colsample_bytree=0.7, gamma=0.2,\n",
    "              learning_rate=0.15, max_delta_step=0, max_depth=7,\n",
    "              min_child_weight=3, missing=None, n_estimators=250, n_jobs=1,\n",
    "              nthread=None, objective='multi:softprob', random_state=0,\n",
    "              reg_alpha=0, reg_lambda=1, scale_pos_weight=1, seed=2,\n",
    "              silent=None, subsample=0.8, verbosity=1)\n",
    "\n",
    "# en fit op data\n",
    "model.fit(X_train, y_train)\n",
    "\n",
    "# get full dataset and normalize full dataset\n",
    "X_full_transformed = scaler.fit_transform(X[feature_cols])\n",
    "X_full_transformed = pd.DataFrame(X_full_transformed)\n",
    "X_full_transformed.columns = feature_cols\n",
    "X_full_transformed = X_full_transformed[df['TK'].notnull()] # only take labeled data\n",
    "y = df[df['TK'].notnull()]['TK']\n",
    "tempx, X_test, tempy, y_test = train_test_split(X_full_transformed, y, test_size=0.25, random_state=2)\n",
    "\n",
    "\n",
    "# predict full dataset\n",
    "y_pred = model.predict(X_test)\n",
    "y_train_pred = model.predict(X_train)\n",
    "\n",
    "train_accuracy = accuracy_score(y_train,y_train_pred)\n",
    "test_accuracy = accuracy_score(y_test,y_pred)\n",
    "cm = confusion_matrix(y_test, y_pred)\n",
    "print(train_accuracy, '\\n',test_accuracy,'\\n', cm)"
   ]
  },
  {
   "cell_type": "code",
   "execution_count": 49,
   "metadata": {},
   "outputs": [
    {
     "output_type": "execute_result",
     "data": {
      "text/plain": "                  feature_score           feature\nwoxdelta1jrGem         0.097575    woxdelta1jrGem\nRLBVRZ                 0.097332            RLBVRZ\nwox                    0.093619               wox\nwoxdelta5jr            0.087776       woxdelta5jr\nwoxdelta5jrGem         0.081800    woxdelta5jrGem\nwoxm2WG                0.070157           woxm2WG\nwoxm2                  0.066518             woxm2\nwoxww                  0.066029             woxww\nAantalBios5            0.056493       AantalBios5\nAantalCafe3            0.047549       AantalCafe3\nAantalPodiumk10        0.044528   AantalPodiumk10\nwv2000-2010            0.043816       wv2000-2010\nwoxdelta5jrWGabs       0.043067  woxdelta5jrWGabs\nAantalLevensm3         0.039432    AantalLevensm3\naand1945-1970          0.038067     aand1945-1970\nRLBBEV                 0.026241            RLBBEV",
      "text/html": "<div>\n<style scoped>\n    .dataframe tbody tr th:only-of-type {\n        vertical-align: middle;\n    }\n\n    .dataframe tbody tr th {\n        vertical-align: top;\n    }\n\n    .dataframe thead th {\n        text-align: right;\n    }\n</style>\n<table border=\"1\" class=\"dataframe\">\n  <thead>\n    <tr style=\"text-align: right;\">\n      <th></th>\n      <th>feature_score</th>\n      <th>feature</th>\n    </tr>\n  </thead>\n  <tbody>\n    <tr>\n      <td>woxdelta1jrGem</td>\n      <td>0.097575</td>\n      <td>woxdelta1jrGem</td>\n    </tr>\n    <tr>\n      <td>RLBVRZ</td>\n      <td>0.097332</td>\n      <td>RLBVRZ</td>\n    </tr>\n    <tr>\n      <td>wox</td>\n      <td>0.093619</td>\n      <td>wox</td>\n    </tr>\n    <tr>\n      <td>woxdelta5jr</td>\n      <td>0.087776</td>\n      <td>woxdelta5jr</td>\n    </tr>\n    <tr>\n      <td>woxdelta5jrGem</td>\n      <td>0.081800</td>\n      <td>woxdelta5jrGem</td>\n    </tr>\n    <tr>\n      <td>woxm2WG</td>\n      <td>0.070157</td>\n      <td>woxm2WG</td>\n    </tr>\n    <tr>\n      <td>woxm2</td>\n      <td>0.066518</td>\n      <td>woxm2</td>\n    </tr>\n    <tr>\n      <td>woxww</td>\n      <td>0.066029</td>\n      <td>woxww</td>\n    </tr>\n    <tr>\n      <td>AantalBios5</td>\n      <td>0.056493</td>\n      <td>AantalBios5</td>\n    </tr>\n    <tr>\n      <td>AantalCafe3</td>\n      <td>0.047549</td>\n      <td>AantalCafe3</td>\n    </tr>\n    <tr>\n      <td>AantalPodiumk10</td>\n      <td>0.044528</td>\n      <td>AantalPodiumk10</td>\n    </tr>\n    <tr>\n      <td>wv2000-2010</td>\n      <td>0.043816</td>\n      <td>wv2000-2010</td>\n    </tr>\n    <tr>\n      <td>woxdelta5jrWGabs</td>\n      <td>0.043067</td>\n      <td>woxdelta5jrWGabs</td>\n    </tr>\n    <tr>\n      <td>AantalLevensm3</td>\n      <td>0.039432</td>\n      <td>AantalLevensm3</td>\n    </tr>\n    <tr>\n      <td>aand1945-1970</td>\n      <td>0.038067</td>\n      <td>aand1945-1970</td>\n    </tr>\n    <tr>\n      <td>RLBBEV</td>\n      <td>0.026241</td>\n      <td>RLBBEV</td>\n    </tr>\n  </tbody>\n</table>\n</div>"
     },
     "metadata": {},
     "execution_count": 49
    }
   ],
   "source": [
    "fi = pd.DataFrame(model.feature_importances_,X_train.columns)\n",
    "fi.columns = ['feature_score']\n",
    "fi.sort_values('feature_score', ascending=False, inplace=True)\n",
    "fi['feature'] = fi.index\n",
    "fi"
   ]
  },
  {
   "cell_type": "code",
   "execution_count": 50,
   "metadata": {},
   "outputs": [],
   "source": [
    "# sla model op\n",
    "file_name = \"final_models_normalised/final_model_TK_wox.pkl\"\n",
    "pickle.dump(model, open(file_name, \"wb\"))"
   ]
  },
  {
   "cell_type": "markdown",
   "metadata": {},
   "source": [
    "## NO WOX Thomas"
   ]
  },
  {
   "cell_type": "code",
   "execution_count": 51,
   "metadata": {},
   "outputs": [],
   "source": [
    "# feature_cols_nw = ['inw', 'bevdh', 'oadh', 'hh', 'inw65', 'KL', \n",
    "#                'RLBRMTR', 'RLBWON', 'RLBBEV', 'RLBVRZ', 'RLBVEI', 'RLBFYS', \n",
    "#                'AfstandSupermarkt', 'AantalLevensm3', 'AfstandHuisarts', 'AantalCafe3','AantalRest3', 'AantalKinderopvang1', \n",
    "#                'AfstandZwembad', 'AantalMusea10', 'AantalPodiumk10', 'AantalBios5', \n",
    "#                'hh19inkLaag', 'hh30inkLaag', 'hh19inkMidden', 'hh30inkMidden', 'hh19inkHoog', 'hh30inkHoog', \n",
    "#                'aandeelMH19', 'auto30', 'auto60', 'ov30', 'ov60', 'fiets', 'banen'] "
   ]
  },
  {
   "cell_type": "code",
   "execution_count": 8,
   "metadata": {},
   "outputs": [
    {
     "output_type": "stream",
     "name": "stdout",
     "text": "Removed test: True\n1.0 \n 0.8705882352941177 \n [[32  4  1]\n [ 2 11  4]\n [ 0  0 31]]\n"
    }
   ],
   "source": [
    "# get dataset\n",
    "feature_cols = ['inw', 'bevdh', 'oadh', 'hh', 'inw65', 'KL', \n",
    "               'RLBRMTR', 'RLBWON', 'RLBBEV', 'RLBVRZ', 'RLBVEI', 'RLBFYS', \n",
    "               'AfstandSupermarkt', 'AantalLevensm3', 'AfstandHuisarts', 'AantalCafe3','AantalRest3', 'AantalKinderopvang1', \n",
    "               'AfstandZwembad', 'AantalMusea10', 'AantalPodiumk10', 'AantalBios5', \n",
    "               'hh19inkLaag', 'hh30inkLaag', 'hh19inkMidden', 'hh30inkMidden', 'hh19inkHoog', 'hh30inkHoog', \n",
    "               'aandeelMH19', 'auto30', 'auto60', 'ov30', 'ov60', 'fiets', 'banen']     \n",
    "X = df[feature_cols]\n",
    "y = df['TK']\n",
    "\n",
    "Xs = df[df['TK'].notnull()].drop('TK', axis = 1)\n",
    "ys = df[df['TK'].notnull()]['TK']\n",
    "X_train, X_test, y_train, y_test = train_test_split(Xs, ys, test_size=0.25, random_state=2)\n",
    "\n",
    "# remove testset\n",
    "X_min_test = X.append(X_test)\n",
    "X_min_test = X_min_test.loc[X_min_test.index.drop_duplicates(keep=False)]\n",
    "y_min_test = y.append(y_test)\n",
    "y_min_test = y_min_test.loc[y_min_test.index.drop_duplicates(keep=False)]\n",
    "print(f\"Removed test: { len(X)-len(X_test)==len(X_min_test)}\")\n",
    "\n",
    "# normalize dataset\n",
    "scaler = RobustScaler()\n",
    "\n",
    "# transform our full-dataset\n",
    "X_min_test = scaler.fit_transform(X_min_test[feature_cols])\n",
    "X_min_test = pd.DataFrame(X_min_test)\n",
    "X_min_test.columns = feature_cols\n",
    "\n",
    "# # select train items based on what's filled and not in test\n",
    "X_train = X_min_test[y_min_test.notnull().values]\n",
    "y_train = y_min_test[y_min_test.notnull().values]\n",
    "\n",
    "# maak object met geoptimaliseerde hyperparameters\n",
    "model = xgboost.XGBClassifier(base_score=0.5, booster='gbtree', colsample_bylevel=1,\n",
    "              colsample_bynode=1, colsample_bytree=0.7, gamma=0.2,\n",
    "              learning_rate=0.15, max_delta_step=0, max_depth=7,\n",
    "              min_child_weight=3, missing=None, n_estimators=250, n_jobs=1,\n",
    "              nthread=None, objective='multi:softprob', random_state=0,\n",
    "              reg_alpha=0, reg_lambda=1, scale_pos_weight=1, seed=2,\n",
    "              silent=None, subsample=0.8, verbosity=1)\n",
    "\n",
    "# en fit op data\n",
    "model.fit(X_train, y_train)\n",
    "\n",
    "# get full dataset and normalize full dataset\n",
    "X_full_transformed = scaler.fit_transform(X[feature_cols])\n",
    "X_full_transformed = pd.DataFrame(X_full_transformed)\n",
    "X_full_transformed.columns = feature_cols\n",
    "X_full_transformed = X_full_transformed[df['TK'].notnull()] # only take labeled data\n",
    "y = df[df['TK'].notnull()]['TK']\n",
    "tempx, X_test, tempy, y_test = train_test_split(X_full_transformed, y, test_size=0.25, random_state=2)\n",
    "\n",
    "\n",
    "# predict full dataset\n",
    "y_pred = model.predict(X_test)\n",
    "y_train_pred = model.predict(X_train)\n",
    "\n",
    "train_accuracy = accuracy_score(y_train,y_train_pred)\n",
    "test_accuracy = accuracy_score(y_test,y_pred)\n",
    "cm = confusion_matrix(y_test, y_pred)\n",
    "print(train_accuracy, '\\n',test_accuracy,'\\n', cm)"
   ]
  },
  {
   "cell_type": "code",
   "execution_count": 9,
   "metadata": {},
   "outputs": [
    {
     "output_type": "execute_result",
     "data": {
      "text/plain": "                     feature_score              feature\nRLBVRZ                    0.094495               RLBVRZ\nAantalLevensm3            0.072214       AantalLevensm3\nAantalBios5               0.071250          AantalBios5\nfiets                     0.054135                fiets\nauto60                    0.052623               auto60\nAantalPodiumk10           0.051230      AantalPodiumk10\nov60                      0.040819                 ov60\nAantalCafe3               0.039431          AantalCafe3\nAantalMusea10             0.034068        AantalMusea10\nhh30inkHoog               0.031017          hh30inkHoog\nRLBRMTR                   0.030012              RLBRMTR\nKL                        0.028932                   KL\nRLBFYS                    0.027689               RLBFYS\nRLBBEV                    0.026732               RLBBEV\ninw                       0.025980                  inw\nhh19inkHoog               0.021969          hh19inkHoog\nhh19inkLaag               0.020965          hh19inkLaag\nov30                      0.020942                 ov30\nhh                        0.018491                   hh\nbanen                     0.018314                banen\noadh                      0.018111                 oadh\nhh19inkMidden             0.017639        hh19inkMidden\naandeelMH19               0.017613          aandeelMH19\nAantalRest3               0.016674          AantalRest3\nRLBWON                    0.016470               RLBWON\nhh30inkMidden             0.016329        hh30inkMidden\nauto30                    0.016223               auto30\nbevdh                     0.016212                bevdh\nAfstandSupermarkt         0.015711    AfstandSupermarkt\nAantalKinderopvang1       0.014314  AantalKinderopvang1\nAfstandHuisarts           0.013811      AfstandHuisarts\nRLBVEI                    0.012821               RLBVEI\nAfstandZwembad            0.009565       AfstandZwembad\ninw65                     0.008947                inw65\nhh30inkLaag               0.008255          hh30inkLaag",
      "text/html": "<div>\n<style scoped>\n    .dataframe tbody tr th:only-of-type {\n        vertical-align: middle;\n    }\n\n    .dataframe tbody tr th {\n        vertical-align: top;\n    }\n\n    .dataframe thead th {\n        text-align: right;\n    }\n</style>\n<table border=\"1\" class=\"dataframe\">\n  <thead>\n    <tr style=\"text-align: right;\">\n      <th></th>\n      <th>feature_score</th>\n      <th>feature</th>\n    </tr>\n  </thead>\n  <tbody>\n    <tr>\n      <td>RLBVRZ</td>\n      <td>0.094495</td>\n      <td>RLBVRZ</td>\n    </tr>\n    <tr>\n      <td>AantalLevensm3</td>\n      <td>0.072214</td>\n      <td>AantalLevensm3</td>\n    </tr>\n    <tr>\n      <td>AantalBios5</td>\n      <td>0.071250</td>\n      <td>AantalBios5</td>\n    </tr>\n    <tr>\n      <td>fiets</td>\n      <td>0.054135</td>\n      <td>fiets</td>\n    </tr>\n    <tr>\n      <td>auto60</td>\n      <td>0.052623</td>\n      <td>auto60</td>\n    </tr>\n    <tr>\n      <td>AantalPodiumk10</td>\n      <td>0.051230</td>\n      <td>AantalPodiumk10</td>\n    </tr>\n    <tr>\n      <td>ov60</td>\n      <td>0.040819</td>\n      <td>ov60</td>\n    </tr>\n    <tr>\n      <td>AantalCafe3</td>\n      <td>0.039431</td>\n      <td>AantalCafe3</td>\n    </tr>\n    <tr>\n      <td>AantalMusea10</td>\n      <td>0.034068</td>\n      <td>AantalMusea10</td>\n    </tr>\n    <tr>\n      <td>hh30inkHoog</td>\n      <td>0.031017</td>\n      <td>hh30inkHoog</td>\n    </tr>\n    <tr>\n      <td>RLBRMTR</td>\n      <td>0.030012</td>\n      <td>RLBRMTR</td>\n    </tr>\n    <tr>\n      <td>KL</td>\n      <td>0.028932</td>\n      <td>KL</td>\n    </tr>\n    <tr>\n      <td>RLBFYS</td>\n      <td>0.027689</td>\n      <td>RLBFYS</td>\n    </tr>\n    <tr>\n      <td>RLBBEV</td>\n      <td>0.026732</td>\n      <td>RLBBEV</td>\n    </tr>\n    <tr>\n      <td>inw</td>\n      <td>0.025980</td>\n      <td>inw</td>\n    </tr>\n    <tr>\n      <td>hh19inkHoog</td>\n      <td>0.021969</td>\n      <td>hh19inkHoog</td>\n    </tr>\n    <tr>\n      <td>hh19inkLaag</td>\n      <td>0.020965</td>\n      <td>hh19inkLaag</td>\n    </tr>\n    <tr>\n      <td>ov30</td>\n      <td>0.020942</td>\n      <td>ov30</td>\n    </tr>\n    <tr>\n      <td>hh</td>\n      <td>0.018491</td>\n      <td>hh</td>\n    </tr>\n    <tr>\n      <td>banen</td>\n      <td>0.018314</td>\n      <td>banen</td>\n    </tr>\n    <tr>\n      <td>oadh</td>\n      <td>0.018111</td>\n      <td>oadh</td>\n    </tr>\n    <tr>\n      <td>hh19inkMidden</td>\n      <td>0.017639</td>\n      <td>hh19inkMidden</td>\n    </tr>\n    <tr>\n      <td>aandeelMH19</td>\n      <td>0.017613</td>\n      <td>aandeelMH19</td>\n    </tr>\n    <tr>\n      <td>AantalRest3</td>\n      <td>0.016674</td>\n      <td>AantalRest3</td>\n    </tr>\n    <tr>\n      <td>RLBWON</td>\n      <td>0.016470</td>\n      <td>RLBWON</td>\n    </tr>\n    <tr>\n      <td>hh30inkMidden</td>\n      <td>0.016329</td>\n      <td>hh30inkMidden</td>\n    </tr>\n    <tr>\n      <td>auto30</td>\n      <td>0.016223</td>\n      <td>auto30</td>\n    </tr>\n    <tr>\n      <td>bevdh</td>\n      <td>0.016212</td>\n      <td>bevdh</td>\n    </tr>\n    <tr>\n      <td>AfstandSupermarkt</td>\n      <td>0.015711</td>\n      <td>AfstandSupermarkt</td>\n    </tr>\n    <tr>\n      <td>AantalKinderopvang1</td>\n      <td>0.014314</td>\n      <td>AantalKinderopvang1</td>\n    </tr>\n    <tr>\n      <td>AfstandHuisarts</td>\n      <td>0.013811</td>\n      <td>AfstandHuisarts</td>\n    </tr>\n    <tr>\n      <td>RLBVEI</td>\n      <td>0.012821</td>\n      <td>RLBVEI</td>\n    </tr>\n    <tr>\n      <td>AfstandZwembad</td>\n      <td>0.009565</td>\n      <td>AfstandZwembad</td>\n    </tr>\n    <tr>\n      <td>inw65</td>\n      <td>0.008947</td>\n      <td>inw65</td>\n    </tr>\n    <tr>\n      <td>hh30inkLaag</td>\n      <td>0.008255</td>\n      <td>hh30inkLaag</td>\n    </tr>\n  </tbody>\n</table>\n</div>"
     },
     "metadata": {},
     "execution_count": 9
    }
   ],
   "source": [
    "fi = pd.DataFrame(model.feature_importances_,X_train.columns)\n",
    "fi.columns = ['feature_score']\n",
    "fi.sort_values('feature_score', ascending=False, inplace=True)\n",
    "fi['feature'] = fi.index\n",
    "fi"
   ]
  },
  {
   "cell_type": "code",
   "execution_count": 54,
   "metadata": {},
   "outputs": [],
   "source": [
    "file_name = \"final_models_normalised/final_model_TK_nowox.pkl\"\n",
    "pickle.dump(model, open(file_name, \"wb\"))"
   ]
  },
  {
   "cell_type": "markdown",
   "metadata": {},
   "source": [
    "## NO WOX Erwin"
   ]
  },
  {
   "cell_type": "code",
   "execution_count": 10,
   "metadata": {},
   "outputs": [
    {
     "output_type": "stream",
     "name": "stdout",
     "text": "Removed test: True\n1.0 \n 0.8705882352941177 \n [[32  3  2]\n [ 2 25  2]\n [ 2  0 17]]\n"
    }
   ],
   "source": [
    "# get dataset\n",
    "# get dataset\n",
    "feature_cols = ['inw', 'bevdh', 'oadh', 'hh', 'inw65', 'KL', \n",
    "               'RLBRMTR', 'RLBWON', 'RLBBEV', 'RLBVRZ', 'RLBVEI', 'RLBFYS', \n",
    "               'AfstandSupermarkt', 'AantalLevensm3', 'AfstandHuisarts', 'AantalCafe3','AantalRest3', 'AantalKinderopvang1', \n",
    "               'AfstandZwembad', 'AantalMusea10', 'AantalPodiumk10', 'AantalBios5', \n",
    "               'hh19inkLaag', 'hh30inkLaag', 'hh19inkMidden', 'hh30inkMidden', 'hh19inkHoog', 'hh30inkHoog', \n",
    "               'aandeelMH19', 'auto30', 'auto60', 'ov30', 'ov60', 'fiets', 'banen']    \n",
    "X = df[feature_cols]\n",
    "y = df['EE']\n",
    "\n",
    "Xs = df[df['EE'].notnull()].drop('EE', axis = 1)\n",
    "ys = df[df['EE'].notnull()]['EE']\n",
    "X_train, X_test, y_train, y_test = train_test_split(Xs, ys, test_size=0.25, random_state=2)\n",
    "\n",
    "# remove testset\n",
    "X_min_test = X.append(X_test)\n",
    "X_min_test = X_min_test.loc[X_min_test.index.drop_duplicates(keep=False)]\n",
    "y_min_test = y.append(y_test)\n",
    "y_min_test = y_min_test.loc[y_min_test.index.drop_duplicates(keep=False)]\n",
    "print(f\"Removed test: { len(X)-len(X_test)==len(X_min_test)}\")\n",
    "\n",
    "# normalize dataset\n",
    "scaler = RobustScaler()\n",
    "\n",
    "# transform our full-dataset\n",
    "X_min_test = scaler.fit_transform(X_min_test[feature_cols])\n",
    "X_min_test = pd.DataFrame(X_min_test)\n",
    "X_min_test.columns = feature_cols\n",
    "\n",
    "# # select train items based on what's filled and not in test\n",
    "X_train = X_min_test[y_min_test.notnull().values]\n",
    "y_train = y_min_test[y_min_test.notnull().values]\n",
    "\n",
    "# maak object met geoptimaliseerde hyperparameters\n",
    "model = xgboost.XGBClassifier(base_score=0.5, booster='gbtree', colsample_bylevel=1,\n",
    "              colsample_bynode=1, colsample_bytree=0.7, gamma=0.2,\n",
    "              learning_rate=0.15, max_delta_step=0, max_depth=7,\n",
    "              min_child_weight=3, missing=None, n_estimators=250, n_jobs=1,\n",
    "              nthread=None, objective='multi:softprob', random_state=0,\n",
    "              reg_alpha=0, reg_lambda=1, scale_pos_weight=1, seed=2,\n",
    "              silent=None, subsample=0.8, verbosity=1)\n",
    "\n",
    "# en fit op data\n",
    "model.fit(X_train, y_train)\n",
    "\n",
    "# get full dataset and normalize full dataset\n",
    "X_full_transformed = scaler.fit_transform(X[feature_cols])\n",
    "X_full_transformed = pd.DataFrame(X_full_transformed)\n",
    "X_full_transformed.columns = feature_cols\n",
    "X_full_transformed = X_full_transformed[df['EE'].notnull()] # only take labeled data\n",
    "y = df[df['EE'].notnull()]['EE']\n",
    "tempx, X_test, tempy, y_test = train_test_split(X_full_transformed, y, test_size=0.25, random_state=2)\n",
    "\n",
    "\n",
    "# predict full dataset\n",
    "y_pred = model.predict(X_test)\n",
    "y_train_pred = model.predict(X_train)\n",
    "\n",
    "train_accuracy = accuracy_score(y_train,y_train_pred)\n",
    "test_accuracy = accuracy_score(y_test,y_pred)\n",
    "cm = confusion_matrix(y_test, y_pred)\n",
    "print(train_accuracy, '\\n',test_accuracy,'\\n', cm)\n",
    ""
   ]
  },
  {
   "cell_type": "code",
   "execution_count": 11,
   "metadata": {},
   "outputs": [
    {
     "output_type": "execute_result",
     "data": {
      "text/plain": "                     feature_score              feature\nAantalPodiumk10           0.108728      AantalPodiumk10\nAantalMusea10             0.092169        AantalMusea10\nfiets                     0.050634                fiets\naandeelMH19               0.042041          aandeelMH19\nbanen                     0.034482                banen\nRLBRMTR                   0.034147              RLBRMTR\nRLBBEV                    0.033882               RLBBEV\nAfstandZwembad            0.031308       AfstandZwembad\nhh30inkHoog               0.029784          hh30inkHoog\ninw                       0.029764                  inw\nRLBVRZ                    0.029421               RLBVRZ\nauto30                    0.029408               auto30\nRLBVEI                    0.028996               RLBVEI\nhh19inkHoog               0.028497          hh19inkHoog\nRLBWON                    0.026783               RLBWON\nAfstandSupermarkt         0.025760    AfstandSupermarkt\nAantalCafe3               0.024861          AantalCafe3\nov30                      0.024237                 ov30\nauto60                    0.022731               auto60\nbevdh                     0.022627                bevdh\noadh                      0.021386                 oadh\ninw65                     0.020648                inw65\nAantalRest3               0.019397          AantalRest3\nRLBFYS                    0.018798               RLBFYS\nAantalLevensm3            0.018519       AantalLevensm3\nAantalBios5               0.017908          AantalBios5\nhh19inkMidden             0.017287        hh19inkMidden\nKL                        0.016978                   KL\nhh30inkMidden             0.016504        hh30inkMidden\nAantalKinderopvang1       0.016437  AantalKinderopvang1\nhh30inkLaag               0.015996          hh30inkLaag\nhh                        0.015248                   hh\nov60                      0.013556                 ov60\nhh19inkLaag               0.010888          hh19inkLaag\nAfstandHuisarts           0.010190      AfstandHuisarts",
      "text/html": "<div>\n<style scoped>\n    .dataframe tbody tr th:only-of-type {\n        vertical-align: middle;\n    }\n\n    .dataframe tbody tr th {\n        vertical-align: top;\n    }\n\n    .dataframe thead th {\n        text-align: right;\n    }\n</style>\n<table border=\"1\" class=\"dataframe\">\n  <thead>\n    <tr style=\"text-align: right;\">\n      <th></th>\n      <th>feature_score</th>\n      <th>feature</th>\n    </tr>\n  </thead>\n  <tbody>\n    <tr>\n      <td>AantalPodiumk10</td>\n      <td>0.108728</td>\n      <td>AantalPodiumk10</td>\n    </tr>\n    <tr>\n      <td>AantalMusea10</td>\n      <td>0.092169</td>\n      <td>AantalMusea10</td>\n    </tr>\n    <tr>\n      <td>fiets</td>\n      <td>0.050634</td>\n      <td>fiets</td>\n    </tr>\n    <tr>\n      <td>aandeelMH19</td>\n      <td>0.042041</td>\n      <td>aandeelMH19</td>\n    </tr>\n    <tr>\n      <td>banen</td>\n      <td>0.034482</td>\n      <td>banen</td>\n    </tr>\n    <tr>\n      <td>RLBRMTR</td>\n      <td>0.034147</td>\n      <td>RLBRMTR</td>\n    </tr>\n    <tr>\n      <td>RLBBEV</td>\n      <td>0.033882</td>\n      <td>RLBBEV</td>\n    </tr>\n    <tr>\n      <td>AfstandZwembad</td>\n      <td>0.031308</td>\n      <td>AfstandZwembad</td>\n    </tr>\n    <tr>\n      <td>hh30inkHoog</td>\n      <td>0.029784</td>\n      <td>hh30inkHoog</td>\n    </tr>\n    <tr>\n      <td>inw</td>\n      <td>0.029764</td>\n      <td>inw</td>\n    </tr>\n    <tr>\n      <td>RLBVRZ</td>\n      <td>0.029421</td>\n      <td>RLBVRZ</td>\n    </tr>\n    <tr>\n      <td>auto30</td>\n      <td>0.029408</td>\n      <td>auto30</td>\n    </tr>\n    <tr>\n      <td>RLBVEI</td>\n      <td>0.028996</td>\n      <td>RLBVEI</td>\n    </tr>\n    <tr>\n      <td>hh19inkHoog</td>\n      <td>0.028497</td>\n      <td>hh19inkHoog</td>\n    </tr>\n    <tr>\n      <td>RLBWON</td>\n      <td>0.026783</td>\n      <td>RLBWON</td>\n    </tr>\n    <tr>\n      <td>AfstandSupermarkt</td>\n      <td>0.025760</td>\n      <td>AfstandSupermarkt</td>\n    </tr>\n    <tr>\n      <td>AantalCafe3</td>\n      <td>0.024861</td>\n      <td>AantalCafe3</td>\n    </tr>\n    <tr>\n      <td>ov30</td>\n      <td>0.024237</td>\n      <td>ov30</td>\n    </tr>\n    <tr>\n      <td>auto60</td>\n      <td>0.022731</td>\n      <td>auto60</td>\n    </tr>\n    <tr>\n      <td>bevdh</td>\n      <td>0.022627</td>\n      <td>bevdh</td>\n    </tr>\n    <tr>\n      <td>oadh</td>\n      <td>0.021386</td>\n      <td>oadh</td>\n    </tr>\n    <tr>\n      <td>inw65</td>\n      <td>0.020648</td>\n      <td>inw65</td>\n    </tr>\n    <tr>\n      <td>AantalRest3</td>\n      <td>0.019397</td>\n      <td>AantalRest3</td>\n    </tr>\n    <tr>\n      <td>RLBFYS</td>\n      <td>0.018798</td>\n      <td>RLBFYS</td>\n    </tr>\n    <tr>\n      <td>AantalLevensm3</td>\n      <td>0.018519</td>\n      <td>AantalLevensm3</td>\n    </tr>\n    <tr>\n      <td>AantalBios5</td>\n      <td>0.017908</td>\n      <td>AantalBios5</td>\n    </tr>\n    <tr>\n      <td>hh19inkMidden</td>\n      <td>0.017287</td>\n      <td>hh19inkMidden</td>\n    </tr>\n    <tr>\n      <td>KL</td>\n      <td>0.016978</td>\n      <td>KL</td>\n    </tr>\n    <tr>\n      <td>hh30inkMidden</td>\n      <td>0.016504</td>\n      <td>hh30inkMidden</td>\n    </tr>\n    <tr>\n      <td>AantalKinderopvang1</td>\n      <td>0.016437</td>\n      <td>AantalKinderopvang1</td>\n    </tr>\n    <tr>\n      <td>hh30inkLaag</td>\n      <td>0.015996</td>\n      <td>hh30inkLaag</td>\n    </tr>\n    <tr>\n      <td>hh</td>\n      <td>0.015248</td>\n      <td>hh</td>\n    </tr>\n    <tr>\n      <td>ov60</td>\n      <td>0.013556</td>\n      <td>ov60</td>\n    </tr>\n    <tr>\n      <td>hh19inkLaag</td>\n      <td>0.010888</td>\n      <td>hh19inkLaag</td>\n    </tr>\n    <tr>\n      <td>AfstandHuisarts</td>\n      <td>0.010190</td>\n      <td>AfstandHuisarts</td>\n    </tr>\n  </tbody>\n</table>\n</div>"
     },
     "metadata": {},
     "execution_count": 11
    }
   ],
   "source": [
    "fi = pd.DataFrame(model.feature_importances_,X_train.columns)\n",
    "fi.columns = ['feature_score']\n",
    "fi.sort_values('feature_score', ascending=False, inplace=True)\n",
    "fi['feature'] = fi.index\n",
    "fi"
   ]
  },
  {
   "cell_type": "code",
   "execution_count": 57,
   "metadata": {},
   "outputs": [],
   "source": [
    "file_name = \"final_models_normalised/final_model_EE_nowox.pkl\"\n",
    "pickle.dump(model, open(file_name, \"wb\"))"
   ]
  },
  {
   "cell_type": "markdown",
   "metadata": {},
   "source": [
    "# Voorspellingen gebruiken/ testen"
   ]
  },
  {
   "cell_type": "code",
   "execution_count": 8,
   "metadata": {},
   "outputs": [],
   "source": [
    "feature_cols = ['AantalCafe3', 'woxdelta5jr', 'woxm2', 'woxww',\n",
    "       'woxdelta5jrGem', 'wox', 'RLBBEV',\n",
    "       'RLBVRZ', 'AantalLevensm3', 'woxm2WG', 'aand1945-1970',\n",
    "       'woxdelta5jrWGabs', 'woxdelta1jrGem', 'AantalPodiumk10',\n",
    "       'wv2000-2010', 'AantalBios5']    \n",
    "\n",
    "feature_cols_nw =  ['inw', 'bevdh', 'oadh', 'hh', 'inw65', 'KL', \n",
    "               'RLBRMTR', 'RLBWON', 'RLBBEV', 'RLBVRZ', 'RLBVEI', 'RLBFYS', \n",
    "               'AfstandSupermarkt', 'AantalLevensm3', 'AfstandHuisarts', 'AantalCafe3','AantalRest3', 'AantalKinderopvang1', \n",
    "               'AfstandZwembad', 'AantalMusea10', 'AantalPodiumk10', 'AantalBios5', \n",
    "               'hh19inkLaag', 'hh30inkLaag', 'hh19inkMidden', 'hh30inkMidden', 'hh19inkHoog', 'hh30inkHoog', \n",
    "               'aandeelMH19', 'auto30', 'auto60', 'ov30', 'ov60', 'fiets', 'banen']  \n",
    "scaler = RobustScaler()"
   ]
  },
  {
   "cell_type": "code",
   "execution_count": 9,
   "metadata": {},
   "outputs": [],
   "source": [
    "# de predictie dataframes maken:\n",
    "# X_pred_w = buurtendata[feature_cols]\n",
    "# X_pred_w = pd.DataFrame(X_pred_w)\n",
    "# X_pred_w.columns = feature_cols\n",
    "\n",
    "X_pred_w = buurtendata[feature_cols]\n",
    "X_pred_w = scaler.fit_transform(X_pred_w[feature_cols])\n",
    "X_pred_w = pd.DataFrame(X_pred_w)\n",
    "X_pred_w.columns = feature_cols\n",
    "\n",
    "\n",
    "# No wox:\n",
    "# X_pred_nw = buurtendata[feature_cols_nw]\n",
    "# X_pred_nw = pd.DataFrame(X_pred_nw)\n",
    "# X_pred_nw.columns = feature_cols_nw\n",
    "\n",
    "X_pred_nw = buurtendata[feature_cols_nw]\n",
    "X_pred_nw = scaler.fit_transform(X_pred_nw[feature_cols_nw])\n",
    "X_pred_nw = pd.DataFrame(X_pred_nw)\n",
    "X_pred_nw.columns = feature_cols_nw"
   ]
  },
  {
   "cell_type": "code",
   "execution_count": 11,
   "metadata": {},
   "outputs": [],
   "source": [
    "# laad model\n",
    "model_2019_EE = pickle.load(open(\"../final_models_normalised/final_model_EE_wox.pkl\", \"rb\"))\n",
    "model_2019_TK = pickle.load(open(\"../final_models_normalised/final_model_TK_wox.pkl\", \"rb\"))\n",
    "model_2019_EE_nw = pickle.load(open(\"../final_models_normalised/final_model_EE_nowox.pkl\", \"rb\"))\n",
    "model_2019_TK_nw = pickle.load(open(\"../final_models_normalised/final_model_TK_nowox.pkl\", \"rb\"))"
   ]
  },
  {
   "cell_type": "code",
   "execution_count": 12,
   "metadata": {},
   "outputs": [],
   "source": [
    "predictions_EE = model_2019_EE.predict(X_pred_w)\n",
    "predictions_TK = model_2019_TK.predict(X_pred_w)\n",
    "predictions_EE_nw = model_2019_EE_nw.predict(X_pred_nw)\n",
    "predictions_TK_nw = model_2019_TK_nw.predict(X_pred_nw)"
   ]
  },
  {
   "cell_type": "code",
   "execution_count": 13,
   "metadata": {},
   "outputs": [],
   "source": [
    "buurtendata['voorspellingen_TK'] = predictions_TK\n",
    "buurtendata['voorspellingen_EE'] = predictions_EE\n",
    "buurtendata['voorspellingen_TK_nw'] = predictions_TK_nw\n",
    "buurtendata['voorspellingen_EE_nw'] = predictions_EE_nw"
   ]
  },
  {
   "cell_type": "code",
   "execution_count": 14,
   "metadata": {},
   "outputs": [
    {
     "output_type": "execute_result",
     "data": {
      "text/plain": "13632"
     },
     "metadata": {},
     "execution_count": 14
    }
   ],
   "source": [
    "len(buurtendata)"
   ]
  },
  {
   "cell_type": "code",
   "execution_count": 15,
   "metadata": {},
   "outputs": [],
   "source": [
    "df_final = pd.merge(buurtendata,sc,how='left', on='buurtcode')"
   ]
  },
  {
   "cell_type": "code",
   "execution_count": 16,
   "metadata": {},
   "outputs": [
    {
     "output_type": "execute_result",
     "data": {
      "text/plain": "(13632, 119)"
     },
     "metadata": {},
     "execution_count": 16
    }
   ],
   "source": [
    "df_final.shape"
   ]
  },
  {
   "cell_type": "code",
   "execution_count": 17,
   "metadata": {},
   "outputs": [
    {
     "output_type": "stream",
     "name": "stdout",
     "text": "accuracy score EE normal  0.9763313609467456\naccuracy score TK normal  0.9674556213017751\naccuracy score EE no wox  0.9674556213017751\naccuracy score TK no wox  0.9674556213017751\n"
    }
   ],
   "source": [
    "df_temp = df_final[df_final['EE'].notnull()]\n",
    "print(\"accuracy score EE normal \", accuracy_score(df_temp['EE'], df_temp['voorspellingen_EE']))\n",
    "print(\"accuracy score TK normal \", accuracy_score(df_temp['TK'], df_temp['voorspellingen_TK']))\n",
    "print(\"accuracy score EE no wox \", accuracy_score(df_temp['EE'], df_temp['voorspellingen_EE_nw']))\n",
    "print(\"accuracy score TK no wox \", accuracy_score(df_temp['TK'], df_temp['voorspellingen_TK_nw']))"
   ]
  },
  {
   "cell_type": "code",
   "execution_count": 18,
   "metadata": {},
   "outputs": [
    {
     "output_type": "execute_result",
     "data": {
      "text/plain": "   buurtcode   EE   TK voorspellingen_EE voorspellingen_TK  \\\n0      30000  NaN  NaN                 c                 c   \n1      30001  NaN  NaN                 c                 c   \n2      30002  NaN  NaN                 c                 c   \n3      30007  NaN  NaN                 c                 c   \n4      30008  NaN  NaN                 c                 c   \n\n  voorspellingen_EE_nw voorspellingen_TK_nw  \n0                    c                    c  \n1                    b                    c  \n2                    c                    c  \n3                    b                    c  \n4                    c                    c  ",
      "text/html": "<div>\n<style scoped>\n    .dataframe tbody tr th:only-of-type {\n        vertical-align: middle;\n    }\n\n    .dataframe tbody tr th {\n        vertical-align: top;\n    }\n\n    .dataframe thead th {\n        text-align: right;\n    }\n</style>\n<table border=\"1\" class=\"dataframe\">\n  <thead>\n    <tr style=\"text-align: right;\">\n      <th></th>\n      <th>buurtcode</th>\n      <th>EE</th>\n      <th>TK</th>\n      <th>voorspellingen_EE</th>\n      <th>voorspellingen_TK</th>\n      <th>voorspellingen_EE_nw</th>\n      <th>voorspellingen_TK_nw</th>\n    </tr>\n  </thead>\n  <tbody>\n    <tr>\n      <td>0</td>\n      <td>30000</td>\n      <td>NaN</td>\n      <td>NaN</td>\n      <td>c</td>\n      <td>c</td>\n      <td>c</td>\n      <td>c</td>\n    </tr>\n    <tr>\n      <td>1</td>\n      <td>30001</td>\n      <td>NaN</td>\n      <td>NaN</td>\n      <td>c</td>\n      <td>c</td>\n      <td>b</td>\n      <td>c</td>\n    </tr>\n    <tr>\n      <td>2</td>\n      <td>30002</td>\n      <td>NaN</td>\n      <td>NaN</td>\n      <td>c</td>\n      <td>c</td>\n      <td>c</td>\n      <td>c</td>\n    </tr>\n    <tr>\n      <td>3</td>\n      <td>30007</td>\n      <td>NaN</td>\n      <td>NaN</td>\n      <td>c</td>\n      <td>c</td>\n      <td>b</td>\n      <td>c</td>\n    </tr>\n    <tr>\n      <td>4</td>\n      <td>30008</td>\n      <td>NaN</td>\n      <td>NaN</td>\n      <td>c</td>\n      <td>c</td>\n      <td>c</td>\n      <td>c</td>\n    </tr>\n  </tbody>\n</table>\n</div>"
     },
     "metadata": {},
     "execution_count": 18
    }
   ],
   "source": [
    "df_final[['buurtcode', 'EE', 'TK', 'voorspellingen_EE', 'voorspellingen_TK','voorspellingen_EE_nw', 'voorspellingen_TK_nw']].head()"
   ]
  },
  {
   "cell_type": "code",
   "execution_count": 21,
   "metadata": {},
   "outputs": [],
   "source": [
    "df_final['wox_info'] = df_final['wox'].notnull()\n",
    ""
   ]
  },
  {
   "cell_type": "code",
   "execution_count": 22,
   "metadata": {},
   "outputs": [],
   "source": [
    "df_final['EE_Choice'] = df_final.apply(lambda x: x['voorspellingen_EE'] if x['wox_info'] else x['voorspellingen_EE_nw'], axis=1)\n",
    "df_final['TK_Choice'] = df_final.apply(lambda x: x['voorspellingen_TK'] if x['wox_info'] else x['voorspellingen_TK_nw'], axis=1)"
   ]
  },
  {
   "cell_type": "code",
   "execution_count": 23,
   "metadata": {},
   "outputs": [],
   "source": [
    "df_final[['buurtcode', 'EE', 'TK', 'voorspellingen_EE', 'voorspellingen_TK','voorspellingen_EE_nw', 'voorspellingen_TK_nw', 'wox_info', 'EE_Choice', 'TK_Choice']].to_csv('../predictions buurtscores/predictions_final_normalised.csv')"
   ]
  },
  {
   "cell_type": "code",
   "execution_count": 20,
   "metadata": {},
   "outputs": [
    {
     "output_type": "execute_result",
     "data": {
      "text/plain": "6737"
     },
     "metadata": {},
     "execution_count": 20
    }
   ],
   "source": [
    "sum(df_final['wox'].notnull())"
   ]
  },
  {
   "cell_type": "code",
   "execution_count": null,
   "metadata": {},
   "outputs": [],
   "source": []
  }
 ]
}