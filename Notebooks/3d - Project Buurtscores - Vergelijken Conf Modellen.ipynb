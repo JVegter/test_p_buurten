{
 "cells": [
  {
   "cell_type": "markdown",
   "metadata": {},
   "source": [
    "# Comparing Normalized & Conf Models\n",
    "Via XGB.train kunnen wij aparte confidence berekenen\n",
    "via xgbclassifier.fit niet"
   ]
  },
  {
   "cell_type": "code",
   "execution_count": 1,
   "metadata": {},
   "outputs": [],
   "source": [
    "# importeren packages\n",
    "import pandas as pd\n",
    "import numpy as np\n",
    "#conda install -c anaconda py-xgboost #installeer XGBoost\n",
    "import xgboost\n",
    "from xgboost import XGBClassifier\n",
    "from xgboost import plot_importance\n",
    "from sklearn.model_selection import train_test_split, RandomizedSearchCV, GridSearchCV, KFold, cross_val_score \n",
    "from sklearn.metrics import accuracy_score, confusion_matrix\n",
    "from matplotlib import pyplot\n",
    "from sklearn.preprocessing import RobustScaler"
   ]
  },
  {
   "cell_type": "code",
   "execution_count": 2,
   "metadata": {},
   "outputs": [
    {
     "name": "stderr",
     "output_type": "stream",
     "text": [
      "C:\\Users\\sikkesr\\AppData\\Local\\Continuum\\anaconda3\\lib\\site-packages\\IPython\\core\\interactiveshell.py:3058: DtypeWarning: Columns (8) have mixed types. Specify dtype option on import or set low_memory=False.\n",
      "  interactivity=interactivity, compiler=compiler, result=result)\n"
     ]
    }
   ],
   "source": [
    "# inladen bestand met scores als sc\n",
    "sc = pd.read_excel('P:\\\\DATASCIENCE\\\\Aantrekkelijkheid buurten\\\\Resultaten\\\\buurten voor experts 2e ronde.xlsx', sheet_name='buurten')\n",
    "# alleen selecteren kolommen voor scores en oordelen\n",
    "sc = sc[['buurtcode','EE','TK']]\n",
    "\n",
    "# inladen bestand met alle buurten en onafhankelijke variabelen als all\n",
    "buurtendata = pd.read_csv('P:\\\\DATASCIENCE\\\\Aantrekkelijkheid buurten\\\\Resultaten\\\\buurten.csv', encoding='utf-16')"
   ]
  },
  {
   "cell_type": "code",
   "execution_count": 3,
   "metadata": {},
   "outputs": [],
   "source": [
    "df = pd.merge(sc,buurtendata, on='buurtcode')"
   ]
  },
  {
   "cell_type": "code",
   "execution_count": 4,
   "metadata": {},
   "outputs": [],
   "source": [
    "# feature_cols_full = ['inw', 'bevdh', 'oadh', 'hh', 'inw65', 'KL16', 'KL18', 'VKL1618',\n",
    "#                'RLBRMTR18', 'RLBWON18', 'RLBBEV18', 'RLBVRZ18', 'RLBVEI18', 'RLBFYS18', \n",
    "#                'AfstandSupermarkt', 'AantalLevensm3', 'AfstandHuisarts', 'AantalCafe3','AantalRest3', 'AantalKinderopvang1', \n",
    "#                'AfstandZwembad', 'AantalMusea10', 'AantalPodiumk10', 'AantalBios5', \n",
    "#                'hh19inkLaag', 'hh30inkLaag', 'hh19inkMidden', 'hh30inkMidden', 'hh19inkHoog', 'hh30inkHoog', \n",
    "#                'aandeelMH19', 'auto30', 'auto60', 'ov30', 'ov60', 'fiets', \n",
    "#                'wox', 'woxdelta1jr', 'woxdelta5jr', 'woxww', 'woxm2', \n",
    "#                'woxGem', 'woxdelta1jrGem', 'woxdelta5jrGem', 'woxwwGem', 'woxm2Gem', 'woxdelta5jrWGabs', 'woxdelta5jrWGrel', \n",
    "#                'woxm2WG','banen'] \n",
    "\n",
    "# feature_cols_full = ['AantalCafe3', 'ar60', 'woxdelta5jr', 'woxm2', 'woxww',\n",
    "#        'woxdelta5jrGem', 'wox', 'RLBBEV18', 'ov60',\n",
    "#        'RLBVRZ16', 'AantalLevensm3', 'woxm2WG', 'aand1945-1970',\n",
    "#        'woxdelta5jrWGabs', 'woxdelta1jrGem', 'fiets', 'AantalPodiumk10',\n",
    "#        'banen', 'wv2000-2010', 'AantalBios5']\n",
    "\n",
    "feature_cols_full = ['woxdelta5jrGem', 'AantalCafe3', 'woxdelta5jr', 'ar60', 'wox',\n",
    "       'woxdelta1jrGem', 'AantalBios5', 'woxm2WG']\n",
    "\n",
    "X = df[feature_cols_full]\n",
    "\n",
    "# Same for all models\n",
    "replace_dict = {'a': 0, 'b': 1, 'c':2}\n",
    "y = df['TK'].apply(lambda x: replace_dict[x])"
   ]
  },
  {
   "cell_type": "code",
   "execution_count": 5,
   "metadata": {},
   "outputs": [],
   "source": [
    "# Creating a scaled feature set\n",
    "scaler = RobustScaler()\n",
    "X_scaled = scaler.fit_transform(df[feature_cols_full])\n",
    "X_scaled = pd.DataFrame(X_scaled)\n",
    "X_scaled.columns = feature_cols_full"
   ]
  },
  {
   "cell_type": "code",
   "execution_count": 8,
   "metadata": {},
   "outputs": [],
   "source": [
    "#X_scaled.columns"
   ]
  },
  {
   "cell_type": "code",
   "execution_count": 6,
   "metadata": {},
   "outputs": [],
   "source": [
    "# Same for all models\n",
    "# replace_dict = {'a': 0, 'b': 1, 'c':2}\n",
    "# y = df['EE'].apply(lambda x: replace_dict[x])\n",
    "\n",
    "## Testing\n",
    "#pd.DataFrame({'original': df['EE'], 'new': y}).to_csv('testing.csv')"
   ]
  },
  {
   "cell_type": "code",
   "execution_count": 9,
   "metadata": {},
   "outputs": [],
   "source": [
    "X_train, X_test, y_train, y_test = train_test_split(X, y, test_size=0.25, random_state=2)\n",
    "X_train_scaled, X_test_scaled, y_train_scaled, y_test_scaled = train_test_split(X_scaled, y, test_size=0.25, random_state=2)"
   ]
  },
  {
   "cell_type": "code",
   "execution_count": 10,
   "metadata": {},
   "outputs": [
    {
     "name": "stdout",
     "output_type": "stream",
     "text": [
      "1.0\n",
      "1.0\n"
     ]
    }
   ],
   "source": [
    "# Test if split is the same indices are taken\n",
    "print(sum(y_train_scaled.index.values == y_train.index.values)/len(y_train))\n",
    "print(sum(X_train_scaled.index.values == X_train.index.values)/len(y_train))"
   ]
  },
  {
   "cell_type": "code",
   "execution_count": 11,
   "metadata": {},
   "outputs": [],
   "source": [
    "# check if < in column names, this is not allowed\n",
    "#[x for x in X_train.columns if '<' in x]"
   ]
  },
  {
   "cell_type": "code",
   "execution_count": 10,
   "metadata": {},
   "outputs": [],
   "source": [
    "# For the confidence model we factorize the output\n",
    "# replace_dict = {'a': 0, 'b': 1, 'c':2}\n",
    "\n",
    "# y_train = y_train['EE'].apply(lambda x: replace_dict[x])\n",
    "# y_test = y_test['EE'].apply(lambda x: replace_dict[x])\n",
    "\n",
    "# y_train_scaled = y_train_scaled['EE'].apply(lambda x: replace_dict[x])\n",
    "# y_test_scaled = y_test_scaled['EE'].apply(lambda x: replace_dict[x])"
   ]
  },
  {
   "cell_type": "markdown",
   "metadata": {},
   "source": [
    "# Testing"
   ]
  },
  {
   "cell_type": "code",
   "execution_count": null,
   "metadata": {},
   "outputs": [],
   "source": []
  },
  {
   "cell_type": "code",
   "execution_count": null,
   "metadata": {},
   "outputs": [],
   "source": []
  },
  {
   "cell_type": "code",
   "execution_count": null,
   "metadata": {},
   "outputs": [],
   "source": []
  },
  {
   "cell_type": "markdown",
   "metadata": {},
   "source": [
    "## Creating models with confidence for both datasets; standard & scaled\n",
    "### Conf model with standard data"
   ]
  },
  {
   "cell_type": "code",
   "execution_count": 12,
   "metadata": {},
   "outputs": [],
   "source": [
    "params= {'base_score':0.5, 'booster':'gbtree', 'colsample_bylevel':1,\n",
    "              'colsample_bynode':1, 'colsample_bytree':0.7, 'gamma':0.2,\n",
    "              'learning_rate':0.15, 'max_delta_step':0, 'max_depth':7,\n",
    "              'min_child_weight':3, 'missing':None, 'n_estimators':250, 'n_jobs':1,\n",
    "              'nthread':None, 'objective':'multi:softprob', 'random_state':0,\n",
    "              'reg_alpha':0, 'reg_lambda':1, 'scale_pos_weight':1, 'seed':2,\n",
    "              'silent':None, 'subsample':0.8, 'verbosity':3, 'num_class' : 3}"
   ]
  },
  {
   "cell_type": "code",
   "execution_count": 13,
   "metadata": {},
   "outputs": [
    {
     "name": "stdout",
     "output_type": "stream",
     "text": [
      "[14:24:12] WARNING: C:\\Users\\Administrator\\workspace\\xgboost-win64_release_1.0.0\\src\\learner.cc:328: \n",
      "Parameters: { n_estimators, scale_pos_weight } might not be used.\n",
      "\n",
      "  This may not be accurate due to some parameters are only used in language bindings but\n",
      "  passed down to XGBoost core.  Or some parameters are not used but slip through this\n",
      "  verification. Please open an issue if you find above cases.\n",
      "\n",
      "\n",
      "[14:24:12] DEBUG: C:\\Users\\Administrator\\workspace\\xgboost-win64_release_1.0.0\\src\\gbm\\gbtree.cc:146: Using tree method: 2\n",
      "[14:24:12] INFO: C:\\Users\\Administrator\\workspace\\xgboost-win64_release_1.0.0\\src\\tree\\updater_prune.cc:89: tree pruning end, 18 extra nodes, 2 pruned nodes, max_depth=4\n",
      "[14:24:12] INFO: C:\\Users\\Administrator\\workspace\\xgboost-win64_release_1.0.0\\src\\tree\\updater_prune.cc:89: tree pruning end, 18 extra nodes, 0 pruned nodes, max_depth=5\n",
      "[14:24:12] INFO: C:\\Users\\Administrator\\workspace\\xgboost-win64_release_1.0.0\\src\\tree\\updater_prune.cc:89: tree pruning end, 12 extra nodes, 0 pruned nodes, max_depth=4\n",
      "[14:24:12] INFO: C:\\Users\\Administrator\\workspace\\xgboost-win64_release_1.0.0\\src\\tree\\updater_prune.cc:89: tree pruning end, 24 extra nodes, 0 pruned nodes, max_depth=6\n",
      "[14:24:12] INFO: C:\\Users\\Administrator\\workspace\\xgboost-win64_release_1.0.0\\src\\tree\\updater_prune.cc:89: tree pruning end, 16 extra nodes, 0 pruned nodes, max_depth=5\n",
      "[14:24:12] INFO: C:\\Users\\Administrator\\workspace\\xgboost-win64_release_1.0.0\\src\\tree\\updater_prune.cc:89: tree pruning end, 16 extra nodes, 2 pruned nodes, max_depth=6\n",
      "[14:24:12] INFO: C:\\Users\\Administrator\\workspace\\xgboost-win64_release_1.0.0\\src\\tree\\updater_prune.cc:89: tree pruning end, 16 extra nodes, 2 pruned nodes, max_depth=5\n",
      "[14:24:12] INFO: C:\\Users\\Administrator\\workspace\\xgboost-win64_release_1.0.0\\src\\tree\\updater_prune.cc:89: tree pruning end, 18 extra nodes, 2 pruned nodes, max_depth=4\n",
      "[14:24:12] INFO: C:\\Users\\Administrator\\workspace\\xgboost-win64_release_1.0.0\\src\\tree\\updater_prune.cc:89: tree pruning end, 14 extra nodes, 0 pruned nodes, max_depth=5\n",
      "[14:24:12] INFO: C:\\Users\\Administrator\\workspace\\xgboost-win64_release_1.0.0\\src\\tree\\updater_prune.cc:89: tree pruning end, 18 extra nodes, 4 pruned nodes, max_depth=5\n",
      "[14:24:12] INFO: C:\\Users\\Administrator\\workspace\\xgboost-win64_release_1.0.0\\src\\tree\\updater_prune.cc:89: tree pruning end, 18 extra nodes, 2 pruned nodes, max_depth=5\n",
      "[14:24:12] INFO: C:\\Users\\Administrator\\workspace\\xgboost-win64_release_1.0.0\\src\\tree\\updater_prune.cc:89: tree pruning end, 12 extra nodes, 2 pruned nodes, max_depth=5\n",
      "[14:24:12] INFO: C:\\Users\\Administrator\\workspace\\xgboost-win64_release_1.0.0\\src\\tree\\updater_prune.cc:89: tree pruning end, 20 extra nodes, 2 pruned nodes, max_depth=5\n",
      "[14:24:12] INFO: C:\\Users\\Administrator\\workspace\\xgboost-win64_release_1.0.0\\src\\tree\\updater_prune.cc:89: tree pruning end, 16 extra nodes, 0 pruned nodes, max_depth=5\n",
      "[14:24:12] INFO: C:\\Users\\Administrator\\workspace\\xgboost-win64_release_1.0.0\\src\\tree\\updater_prune.cc:89: tree pruning end, 14 extra nodes, 0 pruned nodes, max_depth=5\n",
      "[14:24:12] INFO: C:\\Users\\Administrator\\workspace\\xgboost-win64_release_1.0.0\\src\\tree\\updater_prune.cc:89: tree pruning end, 18 extra nodes, 0 pruned nodes, max_depth=5\n",
      "[14:24:12] INFO: C:\\Users\\Administrator\\workspace\\xgboost-win64_release_1.0.0\\src\\tree\\updater_prune.cc:89: tree pruning end, 16 extra nodes, 0 pruned nodes, max_depth=4\n",
      "[14:24:12] INFO: C:\\Users\\Administrator\\workspace\\xgboost-win64_release_1.0.0\\src\\tree\\updater_prune.cc:89: tree pruning end, 10 extra nodes, 0 pruned nodes, max_depth=4\n",
      "[14:24:12] INFO: C:\\Users\\Administrator\\workspace\\xgboost-win64_release_1.0.0\\src\\tree\\updater_prune.cc:89: tree pruning end, 20 extra nodes, 0 pruned nodes, max_depth=5\n",
      "[14:24:12] INFO: C:\\Users\\Administrator\\workspace\\xgboost-win64_release_1.0.0\\src\\tree\\updater_prune.cc:89: tree pruning end, 16 extra nodes, 0 pruned nodes, max_depth=4\n",
      "[14:24:12] INFO: C:\\Users\\Administrator\\workspace\\xgboost-win64_release_1.0.0\\src\\tree\\updater_prune.cc:89: tree pruning end, 14 extra nodes, 2 pruned nodes, max_depth=4\n",
      "[14:24:12] INFO: C:\\Users\\Administrator\\workspace\\xgboost-win64_release_1.0.0\\src\\tree\\updater_prune.cc:89: tree pruning end, 16 extra nodes, 0 pruned nodes, max_depth=7\n",
      "[14:24:12] INFO: C:\\Users\\Administrator\\workspace\\xgboost-win64_release_1.0.0\\src\\tree\\updater_prune.cc:89: tree pruning end, 16 extra nodes, 2 pruned nodes, max_depth=5\n",
      "[14:24:12] INFO: C:\\Users\\Administrator\\workspace\\xgboost-win64_release_1.0.0\\src\\tree\\updater_prune.cc:89: tree pruning end, 18 extra nodes, 2 pruned nodes, max_depth=6\n",
      "[14:24:12] INFO: C:\\Users\\Administrator\\workspace\\xgboost-win64_release_1.0.0\\src\\tree\\updater_prune.cc:89: tree pruning end, 18 extra nodes, 0 pruned nodes, max_depth=5\n",
      "[14:24:12] INFO: C:\\Users\\Administrator\\workspace\\xgboost-win64_release_1.0.0\\src\\tree\\updater_prune.cc:89: tree pruning end, 18 extra nodes, 0 pruned nodes, max_depth=5\n",
      "[14:24:12] INFO: C:\\Users\\Administrator\\workspace\\xgboost-win64_release_1.0.0\\src\\tree\\updater_prune.cc:89: tree pruning end, 14 extra nodes, 0 pruned nodes, max_depth=4\n",
      "[14:24:12] INFO: C:\\Users\\Administrator\\workspace\\xgboost-win64_release_1.0.0\\src\\tree\\updater_prune.cc:89: tree pruning end, 18 extra nodes, 2 pruned nodes, max_depth=5\n",
      "[14:24:12] INFO: C:\\Users\\Administrator\\workspace\\xgboost-win64_release_1.0.0\\src\\tree\\updater_prune.cc:89: tree pruning end, 18 extra nodes, 0 pruned nodes, max_depth=5\n",
      "[14:24:12] INFO: C:\\Users\\Administrator\\workspace\\xgboost-win64_release_1.0.0\\src\\tree\\updater_prune.cc:89: tree pruning end, 12 extra nodes, 0 pruned nodes, max_depth=5\n",
      "Truth: 1, pred:1, conf 0.584984302520752\n",
      "Truth: 0, pred:0, conf 0.6164920330047607\n",
      "Truth: 2, pred:2, conf 0.7820245623588562\n",
      "Truth: 2, pred:2, conf 0.6815032958984375\n",
      "Truth: 0, pred:0, conf 0.8199103474617004\n",
      "Truth: 2, pred:2, conf 0.7053512334823608\n",
      "Truth: 0, pred:0, conf 0.8210679292678833\n",
      "Truth: 0, pred:0, conf 0.7354386448860168\n",
      "Truth: 0, pred:0, conf 0.8210679292678833\n",
      "Truth: 2, pred:2, conf 0.7479561567306519\n",
      "Truth: 0, pred:0, conf 0.635284423828125\n",
      "Truth: 2, pred:2, conf 0.7053512334823608\n",
      "Truth: 0, pred:0, conf 0.7907415628433228\n",
      "Truth: 2, pred:2, conf 0.7820245623588562\n",
      "Truth: 0, pred:0, conf 0.8210679292678833\n",
      "Truth: 0, pred:2, conf 0.43195176124572754\n",
      "Truth: 2, pred:2, conf 0.7509176731109619\n",
      "Truth: 2, pred:2, conf 0.7582327127456665\n",
      "Truth: 0, pred:0, conf 0.8210679292678833\n",
      "Truth: 0, pred:0, conf 0.43383732438087463\n",
      "Truth: 0, pred:0, conf 0.8210679292678833\n",
      "Truth: 2, pred:2, conf 0.7509176731109619\n",
      "Truth: 0, pred:0, conf 0.4084501266479492\n",
      "Truth: 2, pred:2, conf 0.419683039188385\n",
      "Truth: 2, pred:2, conf 0.761125922203064\n",
      "Truth: 1, pred:2, conf 0.640626072883606\n",
      "Truth: 1, pred:2, conf 0.6048589944839478\n",
      "Truth: 2, pred:2, conf 0.5966596603393555\n",
      "Truth: 2, pred:2, conf 0.8128542304039001\n",
      "Truth: 2, pred:2, conf 0.518168032169342\n",
      "Truth: 0, pred:0, conf 0.7590047121047974\n",
      "Truth: 0, pred:0, conf 0.8199103474617004\n",
      "Truth: 0, pred:1, conf 0.6426105499267578\n",
      "Truth: 2, pred:2, conf 0.806890070438385\n",
      "Truth: 0, pred:0, conf 0.8196501135826111\n",
      "Truth: 0, pred:0, conf 0.6470481157302856\n",
      "Truth: 1, pred:0, conf 0.42508062720298767\n",
      "Truth: 0, pred:0, conf 0.4686315655708313\n",
      "Truth: 1, pred:1, conf 0.47511711716651917\n",
      "Truth: 2, pred:2, conf 0.6259499192237854\n",
      "Truth: 2, pred:2, conf 0.5299745798110962\n",
      "Truth: 0, pred:0, conf 0.7342178821563721\n",
      "Truth: 1, pred:1, conf 0.5342897176742554\n",
      "Truth: 0, pred:0, conf 0.8199103474617004\n",
      "Truth: 2, pred:2, conf 0.5480424761772156\n",
      "Truth: 0, pred:0, conf 0.6447062492370605\n",
      "Truth: 0, pred:0, conf 0.4912596344947815\n",
      "Truth: 1, pred:1, conf 0.7816823720932007\n",
      "Truth: 0, pred:0, conf 0.3955766558647156\n",
      "Truth: 0, pred:0, conf 0.7862604260444641\n",
      "Truth: 2, pred:2, conf 0.8128542304039001\n",
      "Truth: 1, pred:1, conf 0.7506640553474426\n",
      "Truth: 2, pred:2, conf 0.640626072883606\n",
      "Truth: 1, pred:1, conf 0.7144032716751099\n",
      "Truth: 1, pred:1, conf 0.7484267354011536\n",
      "Truth: 0, pred:0, conf 0.4139311909675598\n",
      "Truth: 2, pred:2, conf 0.7569289207458496\n",
      "Truth: 0, pred:0, conf 0.6581168174743652\n",
      "Truth: 2, pred:2, conf 0.808610737323761\n",
      "Truth: 1, pred:0, conf 0.6054439544677734\n",
      "Truth: 0, pred:0, conf 0.6983181238174438\n",
      "Truth: 0, pred:0, conf 0.41956642270088196\n",
      "Truth: 2, pred:2, conf 0.7820245623588562\n",
      "Truth: 0, pred:0, conf 0.760105550289154\n",
      "Truth: 0, pred:0, conf 0.5833900570869446\n",
      "Truth: 2, pred:2, conf 0.8128542304039001\n",
      "Truth: 0, pred:2, conf 0.5005837082862854\n",
      "Truth: 1, pred:1, conf 0.7908227443695068\n",
      "Truth: 0, pred:0, conf 0.7084746956825256\n",
      "Truth: 2, pred:2, conf 0.6997578740119934\n",
      "Truth: 2, pred:2, conf 0.573989987373352\n",
      "Truth: 1, pred:1, conf 0.520355761051178\n",
      "Truth: 2, pred:2, conf 0.8035159111022949\n",
      "Truth: 0, pred:0, conf 0.8210679292678833\n",
      "Truth: 1, pred:1, conf 0.7530826926231384\n",
      "Truth: 0, pred:0, conf 0.5847151875495911\n",
      "Truth: 0, pred:1, conf 0.4271174371242523\n",
      "Truth: 2, pred:2, conf 0.5749189853668213\n",
      "Truth: 0, pred:0, conf 0.7888970375061035\n",
      "Truth: 0, pred:0, conf 0.5770589709281921\n",
      "Truth: 0, pred:0, conf 0.8210679292678833\n",
      "Truth: 0, pred:0, conf 0.8075907230377197\n",
      "Truth: 1, pred:0, conf 0.5539581179618835\n",
      "Truth: 1, pred:2, conf 0.433989942073822\n",
      "Truth: 2, pred:2, conf 0.7225549817085266\n"
     ]
    }
   ],
   "source": [
    "xgb_train = xgboost.DMatrix(X_train, label=y_train)\n",
    "xgb_test =  xgboost.DMatrix(X_test, label=y_test)\n",
    "model = xgboost.train(params, dtrain = xgb_train)\n",
    "\n",
    "test_preds = [x.argmax() for x in model.predict(xgb_test)]\n",
    "\n",
    "for x,y,z in zip(y_test, test_preds, [x.max() for x in model.predict(xgb_test)]):\n",
    "    print(f\"Truth: {x}, pred:{y}, conf {z}\")"
   ]
  },
  {
   "cell_type": "code",
   "execution_count": 15,
   "metadata": {},
   "outputs": [],
   "source": [
    "#model.predict(xgb_test)"
   ]
  },
  {
   "cell_type": "code",
   "execution_count": 41,
   "metadata": {},
   "outputs": [
    {
     "data": {
      "text/plain": [
       "'{\"learner\":{\"generic_param\":{\"enable_experimental_json_serialization\":\"0\",\"gpu_id\":\"-1\",\"gpu_page_size\":\"0\",\"n_gpus\":\"0\",\"n_jobs\":\"1\",\"nthread\":\"1\",\"random_state\":\"2\",\"seed\":\"2\",\"seed_per_iteration\":\"0\",\"validate_features\":\"0\",\"validate_parameters\":\"1\"},\"gradient_booster\":{\"gbtree_train_param\":{\"num_parallel_tree\":\"1\",\"predictor\":\"auto\",\"process_type\":\"default\",\"tree_method\":\"exact\",\"updater\":\"grow_colmaker,prune\",\"updater_seq\":\"grow_colmaker,prune\"},\"name\":\"gbtree\",\"specified_updater\":false,\"updater\":{\"grow_colmaker\":{\"colmaker_train_param\":{\"opt_dense_col\":\"1\"},\"train_param\":{\"alpha\":\"0\",\"cache_opt\":\"1\",\"colsample_bylevel\":\"1\",\"colsample_bynode\":\"1\",\"colsample_bytree\":\"0.699999988\",\"default_direction\":\"learn\",\"enable_feature_grouping\":\"0\",\"eta\":\"0.150000006\",\"gamma\":\"0.200000003\",\"grow_policy\":\"depthwise\",\"interaction_constraints\":\"\",\"lambda\":\"1\",\"learning_rate\":\"0.150000006\",\"max_bin\":\"256\",\"max_conflict_rate\":\"0\",\"max_delta_step\":\"0\",\"max_depth\":\"7\",\"max_leaves\":\"0\",\"max_search_group\":\"100\",\"min_child_weight\":\"3\",\"min_split_loss\":\"0.200000003\",\"monotone_constraints\":\"()\",\"refresh_leaf\":\"1\",\"reg_alpha\":\"0\",\"reg_lambda\":\"1\",\"sketch_eps\":\"0.0299999993\",\"sketch_ratio\":\"2\",\"sparse_threshold\":\"0.20000000000000001\",\"split_evaluator\":\"elastic_net,monotonic\",\"subsample\":\"0.800000012\"}},\"prune\":{\"train_param\":{\"alpha\":\"0\",\"cache_opt\":\"1\",\"colsample_bylevel\":\"1\",\"colsample_bynode\":\"1\",\"colsample_bytree\":\"0.699999988\",\"default_direction\":\"learn\",\"enable_feature_grouping\":\"0\",\"eta\":\"0.150000006\",\"gamma\":\"0.200000003\",\"grow_policy\":\"depthwise\",\"interaction_constraints\":\"\",\"lambda\":\"1\",\"learning_rate\":\"0.150000006\",\"max_bin\":\"256\",\"max_conflict_rate\":\"0\",\"max_delta_step\":\"0\",\"max_depth\":\"7\",\"max_leaves\":\"0\",\"max_search_group\":\"100\",\"min_child_weight\":\"3\",\"min_split_loss\":\"0.200000003\",\"monotone_constraints\":\"()\",\"refresh_leaf\":\"1\",\"reg_alpha\":\"0\",\"reg_lambda\":\"1\",\"sketch_eps\":\"0.0299999993\",\"sketch_ratio\":\"2\",\"sparse_threshold\":\"0.20000000000000001\",\"split_evaluator\":\"elastic_net,monotonic\",\"subsample\":\"0.800000012\"}}}},\"learner_model_param\":{\"base_score\":\"0.500000\",\"num_class\":\"3\",\"num_feature\":\"8\"},\"learner_train_param\":{\"booster\":\"gbtree\",\"disable_default_eval_metric\":\"0\",\"dsplit\":\"auto\",\"objective\":\"multi:softprob\"},\"metrics\":[],\"objective\":{\"name\":\"multi:softprob\",\"softmax_multiclass_param\":{\"num_class\":\"3\"}}},\"version\":[1,0,2]}'"
      ]
     },
     "execution_count": 41,
     "metadata": {},
     "output_type": "execute_result"
    }
   ],
   "source": [
    "model.save_config()"
   ]
  },
  {
   "cell_type": "code",
   "execution_count": 16,
   "metadata": {},
   "outputs": [],
   "source": [
    "#train_accuracy = accuracy_score(y_train,test_preds)\n",
    "test_accuracy = accuracy_score(y_test,test_preds)\n",
    "cm = confusion_matrix(y_test, test_preds)"
   ]
  },
  {
   "cell_type": "code",
   "execution_count": 17,
   "metadata": {},
   "outputs": [
    {
     "data": {
      "text/plain": [
       "0.8823529411764706"
      ]
     },
     "execution_count": 17,
     "metadata": {},
     "output_type": "execute_result"
    }
   ],
   "source": [
    "test_accuracy"
   ]
  },
  {
   "cell_type": "code",
   "execution_count": 18,
   "metadata": {},
   "outputs": [
    {
     "data": {
      "text/plain": [
       "{'AantalCafe3': 4.013762429719297,\n",
       " 'woxdelta5jr': 3.2016668324042556,\n",
       " 'woxm2WG': 2.5807303785640823,\n",
       " 'wox': 8.172626356470587,\n",
       " 'woxdelta5jrGem': 6.350791487375,\n",
       " 'ar60': 4.80833654783784,\n",
       " 'AantalBios5': 4.18090753156,\n",
       " 'woxdelta1jrGem': 1.6339578223333333}"
      ]
     },
     "execution_count": 18,
     "metadata": {},
     "output_type": "execute_result"
    }
   ],
   "source": [
    "model.get_score(importance_type='gain')"
   ]
  },
  {
   "cell_type": "code",
   "execution_count": 19,
   "metadata": {},
   "outputs": [],
   "source": [
    "standard_conf_preds = test_preds"
   ]
  },
  {
   "cell_type": "markdown",
   "metadata": {},
   "source": [
    "### Conf model with scaled data"
   ]
  },
  {
   "cell_type": "code",
   "execution_count": 20,
   "metadata": {},
   "outputs": [
    {
     "data": {
      "text/html": [
       "<div>\n",
       "<style scoped>\n",
       "    .dataframe tbody tr th:only-of-type {\n",
       "        vertical-align: middle;\n",
       "    }\n",
       "\n",
       "    .dataframe tbody tr th {\n",
       "        vertical-align: top;\n",
       "    }\n",
       "\n",
       "    .dataframe thead th {\n",
       "        text-align: right;\n",
       "    }\n",
       "</style>\n",
       "<table border=\"1\" class=\"dataframe\">\n",
       "  <thead>\n",
       "    <tr style=\"text-align: right;\">\n",
       "      <th></th>\n",
       "      <th>woxdelta5jrGem</th>\n",
       "      <th>AantalCafe3</th>\n",
       "      <th>woxdelta5jr</th>\n",
       "      <th>ar60</th>\n",
       "      <th>wox</th>\n",
       "      <th>woxdelta1jrGem</th>\n",
       "      <th>AantalBios5</th>\n",
       "      <th>woxm2WG</th>\n",
       "    </tr>\n",
       "  </thead>\n",
       "  <tbody>\n",
       "    <tr>\n",
       "      <td>300</td>\n",
       "      <td>43.9</td>\n",
       "      <td>9.5</td>\n",
       "      <td>43.5</td>\n",
       "      <td>3.0</td>\n",
       "      <td>283.0</td>\n",
       "      <td>7.6</td>\n",
       "      <td>0.0</td>\n",
       "      <td>0.871795</td>\n",
       "    </tr>\n",
       "  </tbody>\n",
       "</table>\n",
       "</div>"
      ],
      "text/plain": [
       "     woxdelta5jrGem  AantalCafe3  woxdelta5jr  ar60    wox  woxdelta1jrGem  \\\n",
       "300            43.9          9.5         43.5   3.0  283.0             7.6   \n",
       "\n",
       "     AantalBios5   woxm2WG  \n",
       "300          0.0  0.871795  "
      ]
     },
     "execution_count": 20,
     "metadata": {},
     "output_type": "execute_result"
    }
   ],
   "source": [
    "X_train[:1]"
   ]
  },
  {
   "cell_type": "code",
   "execution_count": 21,
   "metadata": {},
   "outputs": [
    {
     "data": {
      "text/html": [
       "<div>\n",
       "<style scoped>\n",
       "    .dataframe tbody tr th:only-of-type {\n",
       "        vertical-align: middle;\n",
       "    }\n",
       "\n",
       "    .dataframe tbody tr th {\n",
       "        vertical-align: top;\n",
       "    }\n",
       "\n",
       "    .dataframe thead th {\n",
       "        text-align: right;\n",
       "    }\n",
       "</style>\n",
       "<table border=\"1\" class=\"dataframe\">\n",
       "  <thead>\n",
       "    <tr style=\"text-align: right;\">\n",
       "      <th></th>\n",
       "      <th>woxdelta5jrGem</th>\n",
       "      <th>AantalCafe3</th>\n",
       "      <th>woxdelta5jr</th>\n",
       "      <th>ar60</th>\n",
       "      <th>wox</th>\n",
       "      <th>woxdelta1jrGem</th>\n",
       "      <th>AantalBios5</th>\n",
       "      <th>woxm2WG</th>\n",
       "    </tr>\n",
       "  </thead>\n",
       "  <tbody>\n",
       "    <tr>\n",
       "      <td>300</td>\n",
       "      <td>0.0</td>\n",
       "      <td>-0.011662</td>\n",
       "      <td>-0.172414</td>\n",
       "      <td>-0.509936</td>\n",
       "      <td>-0.244344</td>\n",
       "      <td>0.186441</td>\n",
       "      <td>-0.5</td>\n",
       "      <td>-0.631676</td>\n",
       "    </tr>\n",
       "  </tbody>\n",
       "</table>\n",
       "</div>"
      ],
      "text/plain": [
       "     woxdelta5jrGem  AantalCafe3  woxdelta5jr      ar60       wox  \\\n",
       "300             0.0    -0.011662    -0.172414 -0.509936 -0.244344   \n",
       "\n",
       "     woxdelta1jrGem  AantalBios5   woxm2WG  \n",
       "300        0.186441         -0.5 -0.631676  "
      ]
     },
     "execution_count": 21,
     "metadata": {},
     "output_type": "execute_result"
    }
   ],
   "source": [
    "X_train_scaled[:1]"
   ]
  },
  {
   "cell_type": "code",
   "execution_count": 22,
   "metadata": {},
   "outputs": [
    {
     "data": {
      "text/plain": [
       "300    2\n",
       "Name: TK, dtype: int64"
      ]
     },
     "execution_count": 22,
     "metadata": {},
     "output_type": "execute_result"
    }
   ],
   "source": [
    "y_train_scaled[:1]"
   ]
  },
  {
   "cell_type": "code",
   "execution_count": 23,
   "metadata": {},
   "outputs": [
    {
     "data": {
      "text/plain": [
       "300    2\n",
       "Name: TK, dtype: int64"
      ]
     },
     "execution_count": 23,
     "metadata": {},
     "output_type": "execute_result"
    }
   ],
   "source": [
    "y_train[:1]"
   ]
  },
  {
   "cell_type": "code",
   "execution_count": 24,
   "metadata": {},
   "outputs": [
    {
     "name": "stdout",
     "output_type": "stream",
     "text": [
      "[14:27:12] WARNING: C:\\Users\\Administrator\\workspace\\xgboost-win64_release_1.0.0\\src\\learner.cc:328: \n",
      "Parameters: { n_estimators, scale_pos_weight } might not be used.\n",
      "\n",
      "  This may not be accurate due to some parameters are only used in language bindings but\n",
      "  passed down to XGBoost core.  Or some parameters are not used but slip through this\n",
      "  verification. Please open an issue if you find above cases.\n",
      "\n",
      "\n",
      "[14:27:12] DEBUG: C:\\Users\\Administrator\\workspace\\xgboost-win64_release_1.0.0\\src\\gbm\\gbtree.cc:146: Using tree method: 2\n",
      "[14:27:12] INFO: C:\\Users\\Administrator\\workspace\\xgboost-win64_release_1.0.0\\src\\tree\\updater_prune.cc:89: tree pruning end, 18 extra nodes, 2 pruned nodes, max_depth=4\n",
      "[14:27:12] INFO: C:\\Users\\Administrator\\workspace\\xgboost-win64_release_1.0.0\\src\\tree\\updater_prune.cc:89: tree pruning end, 18 extra nodes, 0 pruned nodes, max_depth=5\n",
      "[14:27:12] INFO: C:\\Users\\Administrator\\workspace\\xgboost-win64_release_1.0.0\\src\\tree\\updater_prune.cc:89: tree pruning end, 12 extra nodes, 0 pruned nodes, max_depth=4\n",
      "[14:27:12] INFO: C:\\Users\\Administrator\\workspace\\xgboost-win64_release_1.0.0\\src\\tree\\updater_prune.cc:89: tree pruning end, 24 extra nodes, 0 pruned nodes, max_depth=6\n",
      "[14:27:12] INFO: C:\\Users\\Administrator\\workspace\\xgboost-win64_release_1.0.0\\src\\tree\\updater_prune.cc:89: tree pruning end, 16 extra nodes, 0 pruned nodes, max_depth=5\n",
      "[14:27:12] INFO: C:\\Users\\Administrator\\workspace\\xgboost-win64_release_1.0.0\\src\\tree\\updater_prune.cc:89: tree pruning end, 16 extra nodes, 2 pruned nodes, max_depth=6\n",
      "[14:27:12] INFO: C:\\Users\\Administrator\\workspace\\xgboost-win64_release_1.0.0\\src\\tree\\updater_prune.cc:89: tree pruning end, 16 extra nodes, 2 pruned nodes, max_depth=5\n",
      "[14:27:12] INFO: C:\\Users\\Administrator\\workspace\\xgboost-win64_release_1.0.0\\src\\tree\\updater_prune.cc:89: tree pruning end, 18 extra nodes, 2 pruned nodes, max_depth=4\n",
      "[14:27:12] INFO: C:\\Users\\Administrator\\workspace\\xgboost-win64_release_1.0.0\\src\\tree\\updater_prune.cc:89: tree pruning end, 14 extra nodes, 0 pruned nodes, max_depth=5\n",
      "[14:27:12] INFO: C:\\Users\\Administrator\\workspace\\xgboost-win64_release_1.0.0\\src\\tree\\updater_prune.cc:89: tree pruning end, 18 extra nodes, 4 pruned nodes, max_depth=5\n",
      "[14:27:12] INFO: C:\\Users\\Administrator\\workspace\\xgboost-win64_release_1.0.0\\src\\tree\\updater_prune.cc:89: tree pruning end, 18 extra nodes, 2 pruned nodes, max_depth=5\n",
      "[14:27:12] INFO: C:\\Users\\Administrator\\workspace\\xgboost-win64_release_1.0.0\\src\\tree\\updater_prune.cc:89: tree pruning end, 12 extra nodes, 2 pruned nodes, max_depth=5\n",
      "[14:27:12] INFO: C:\\Users\\Administrator\\workspace\\xgboost-win64_release_1.0.0\\src\\tree\\updater_prune.cc:89: tree pruning end, 20 extra nodes, 2 pruned nodes, max_depth=5\n",
      "[14:27:12] INFO: C:\\Users\\Administrator\\workspace\\xgboost-win64_release_1.0.0\\src\\tree\\updater_prune.cc:89: tree pruning end, 16 extra nodes, 0 pruned nodes, max_depth=5\n",
      "[14:27:12] INFO: C:\\Users\\Administrator\\workspace\\xgboost-win64_release_1.0.0\\src\\tree\\updater_prune.cc:89: tree pruning end, 14 extra nodes, 0 pruned nodes, max_depth=5\n",
      "[14:27:12] INFO: C:\\Users\\Administrator\\workspace\\xgboost-win64_release_1.0.0\\src\\tree\\updater_prune.cc:89: tree pruning end, 18 extra nodes, 0 pruned nodes, max_depth=5\n",
      "[14:27:12] INFO: C:\\Users\\Administrator\\workspace\\xgboost-win64_release_1.0.0\\src\\tree\\updater_prune.cc:89: tree pruning end, 16 extra nodes, 0 pruned nodes, max_depth=4\n",
      "[14:27:12] INFO: C:\\Users\\Administrator\\workspace\\xgboost-win64_release_1.0.0\\src\\tree\\updater_prune.cc:89: tree pruning end, 10 extra nodes, 0 pruned nodes, max_depth=4\n",
      "[14:27:12] INFO: C:\\Users\\Administrator\\workspace\\xgboost-win64_release_1.0.0\\src\\tree\\updater_prune.cc:89: tree pruning end, 20 extra nodes, 0 pruned nodes, max_depth=5\n",
      "[14:27:12] INFO: C:\\Users\\Administrator\\workspace\\xgboost-win64_release_1.0.0\\src\\tree\\updater_prune.cc:89: tree pruning end, 16 extra nodes, 0 pruned nodes, max_depth=4\n",
      "[14:27:12] INFO: C:\\Users\\Administrator\\workspace\\xgboost-win64_release_1.0.0\\src\\tree\\updater_prune.cc:89: tree pruning end, 14 extra nodes, 2 pruned nodes, max_depth=4\n",
      "[14:27:12] INFO: C:\\Users\\Administrator\\workspace\\xgboost-win64_release_1.0.0\\src\\tree\\updater_prune.cc:89: tree pruning end, 16 extra nodes, 0 pruned nodes, max_depth=7\n",
      "[14:27:12] INFO: C:\\Users\\Administrator\\workspace\\xgboost-win64_release_1.0.0\\src\\tree\\updater_prune.cc:89: tree pruning end, 16 extra nodes, 2 pruned nodes, max_depth=5\n",
      "[14:27:12] INFO: C:\\Users\\Administrator\\workspace\\xgboost-win64_release_1.0.0\\src\\tree\\updater_prune.cc:89: tree pruning end, 18 extra nodes, 2 pruned nodes, max_depth=6\n",
      "[14:27:12] INFO: C:\\Users\\Administrator\\workspace\\xgboost-win64_release_1.0.0\\src\\tree\\updater_prune.cc:89: tree pruning end, 18 extra nodes, 0 pruned nodes, max_depth=5\n",
      "[14:27:12] INFO: C:\\Users\\Administrator\\workspace\\xgboost-win64_release_1.0.0\\src\\tree\\updater_prune.cc:89: tree pruning end, 18 extra nodes, 0 pruned nodes, max_depth=5\n",
      "[14:27:12] INFO: C:\\Users\\Administrator\\workspace\\xgboost-win64_release_1.0.0\\src\\tree\\updater_prune.cc:89: tree pruning end, 14 extra nodes, 0 pruned nodes, max_depth=4\n",
      "[14:27:12] INFO: C:\\Users\\Administrator\\workspace\\xgboost-win64_release_1.0.0\\src\\tree\\updater_prune.cc:89: tree pruning end, 18 extra nodes, 2 pruned nodes, max_depth=5\n",
      "[14:27:12] INFO: C:\\Users\\Administrator\\workspace\\xgboost-win64_release_1.0.0\\src\\tree\\updater_prune.cc:89: tree pruning end, 18 extra nodes, 0 pruned nodes, max_depth=5\n",
      "[14:27:12] INFO: C:\\Users\\Administrator\\workspace\\xgboost-win64_release_1.0.0\\src\\tree\\updater_prune.cc:89: tree pruning end, 12 extra nodes, 0 pruned nodes, max_depth=5\n",
      "[14:27:12] ======== Monitor: Learner ========\n",
      "[14:27:12] Configure: 0s, 1 calls @ 0us\n",
      "\n",
      "[14:27:12] GetGradient: 0.001474s, 10 calls @ 1474us\n",
      "\n",
      "[14:27:12] PredictRaw: 0.000238s, 10 calls @ 238us\n",
      "\n",
      "[14:27:12] UpdateOneIter: 0.027567s, 10 calls @ 27567us\n",
      "\n",
      "[14:27:12] ======== Monitor: GBTree ========\n",
      "[14:27:12] BoostNewTrees: 0.028588s, 10 calls @ 28588us\n",
      "\n",
      "[14:27:12] CommitModel: 0.001622s, 10 calls @ 1622us\n",
      "\n",
      "Truth: 1, pred:1, conf 0.584984302520752\n",
      "Truth: 0, pred:0, conf 0.6164920330047607\n",
      "Truth: 2, pred:2, conf 0.7820245623588562\n",
      "Truth: 2, pred:2, conf 0.6815032958984375\n",
      "Truth: 0, pred:0, conf 0.8199103474617004\n",
      "Truth: 2, pred:2, conf 0.7053512334823608\n",
      "Truth: 0, pred:0, conf 0.8210679292678833\n",
      "Truth: 0, pred:0, conf 0.7354386448860168\n",
      "Truth: 0, pred:0, conf 0.8210679292678833\n",
      "Truth: 2, pred:2, conf 0.7479561567306519\n",
      "Truth: 0, pred:0, conf 0.635284423828125\n",
      "Truth: 2, pred:2, conf 0.7053512334823608\n",
      "Truth: 0, pred:0, conf 0.7907415628433228\n",
      "Truth: 2, pred:2, conf 0.7820245623588562\n",
      "Truth: 0, pred:0, conf 0.8210679292678833\n",
      "Truth: 0, pred:2, conf 0.43195176124572754\n",
      "Truth: 2, pred:2, conf 0.7509176731109619\n",
      "Truth: 2, pred:2, conf 0.7582327127456665\n",
      "Truth: 0, pred:0, conf 0.8210679292678833\n",
      "Truth: 0, pred:0, conf 0.43383732438087463\n",
      "Truth: 0, pred:0, conf 0.8210679292678833\n",
      "Truth: 2, pred:2, conf 0.7509176731109619\n",
      "Truth: 0, pred:0, conf 0.4084501266479492\n",
      "Truth: 2, pred:2, conf 0.419683039188385\n",
      "Truth: 2, pred:2, conf 0.761125922203064\n",
      "Truth: 1, pred:2, conf 0.640626072883606\n",
      "Truth: 1, pred:2, conf 0.6048589944839478\n",
      "Truth: 2, pred:2, conf 0.5966596603393555\n",
      "Truth: 2, pred:2, conf 0.8128542304039001\n",
      "Truth: 2, pred:2, conf 0.518168032169342\n",
      "Truth: 0, pred:0, conf 0.7590047121047974\n",
      "Truth: 0, pred:0, conf 0.8199103474617004\n",
      "Truth: 0, pred:1, conf 0.6426105499267578\n",
      "Truth: 2, pred:2, conf 0.806890070438385\n",
      "Truth: 0, pred:0, conf 0.8196501135826111\n",
      "Truth: 0, pred:0, conf 0.6470481157302856\n",
      "Truth: 1, pred:0, conf 0.42508062720298767\n",
      "Truth: 0, pred:0, conf 0.4686315655708313\n",
      "Truth: 1, pred:1, conf 0.47511711716651917\n",
      "Truth: 2, pred:2, conf 0.6259499192237854\n",
      "Truth: 2, pred:2, conf 0.5299745798110962\n",
      "Truth: 0, pred:0, conf 0.7342178821563721\n",
      "Truth: 1, pred:1, conf 0.5342897176742554\n",
      "Truth: 0, pred:0, conf 0.8199103474617004\n",
      "Truth: 2, pred:2, conf 0.5480424761772156\n",
      "Truth: 0, pred:0, conf 0.6447062492370605\n",
      "Truth: 0, pred:0, conf 0.4912596344947815\n",
      "Truth: 1, pred:1, conf 0.7816823720932007\n",
      "Truth: 0, pred:0, conf 0.3955766558647156\n",
      "Truth: 0, pred:0, conf 0.7862604260444641\n",
      "Truth: 2, pred:2, conf 0.8128542304039001\n",
      "Truth: 1, pred:1, conf 0.7506640553474426\n",
      "Truth: 2, pred:2, conf 0.640626072883606\n",
      "Truth: 1, pred:1, conf 0.7348225116729736\n",
      "Truth: 1, pred:1, conf 0.7484267354011536\n",
      "Truth: 0, pred:0, conf 0.4139311909675598\n",
      "Truth: 2, pred:2, conf 0.7569289207458496\n",
      "Truth: 0, pred:0, conf 0.6581168174743652\n",
      "Truth: 2, pred:2, conf 0.808610737323761\n",
      "Truth: 1, pred:0, conf 0.6054439544677734\n",
      "Truth: 0, pred:0, conf 0.6983181238174438\n",
      "Truth: 0, pred:0, conf 0.41956642270088196\n",
      "Truth: 2, pred:2, conf 0.7820245623588562\n",
      "Truth: 0, pred:0, conf 0.760105550289154\n",
      "Truth: 0, pred:0, conf 0.5833900570869446\n",
      "Truth: 2, pred:2, conf 0.8128542304039001\n",
      "Truth: 0, pred:2, conf 0.5005837082862854\n",
      "Truth: 1, pred:1, conf 0.7908227443695068\n",
      "Truth: 0, pred:0, conf 0.7084746956825256\n",
      "Truth: 2, pred:2, conf 0.6997578740119934\n",
      "Truth: 2, pred:2, conf 0.573989987373352\n",
      "Truth: 1, pred:1, conf 0.520355761051178\n",
      "Truth: 2, pred:2, conf 0.8035159111022949\n",
      "Truth: 0, pred:0, conf 0.8210679292678833\n",
      "Truth: 1, pred:1, conf 0.7530826926231384\n",
      "Truth: 0, pred:0, conf 0.5847151875495911\n",
      "Truth: 0, pred:1, conf 0.4271174371242523\n",
      "Truth: 2, pred:2, conf 0.5749189853668213\n",
      "Truth: 0, pred:0, conf 0.7888970375061035\n",
      "Truth: 0, pred:0, conf 0.5770589709281921\n",
      "Truth: 0, pred:0, conf 0.8210679292678833\n",
      "Truth: 0, pred:0, conf 0.8075907230377197\n",
      "Truth: 1, pred:0, conf 0.5539581179618835\n",
      "Truth: 1, pred:2, conf 0.433989942073822\n",
      "Truth: 2, pred:2, conf 0.7225549817085266\n"
     ]
    }
   ],
   "source": [
    "xgb_train_scaled = xgboost.DMatrix(X_train_scaled, label=y_train_scaled)\n",
    "xgb_test_scaled =  xgboost.DMatrix(X_test_scaled, label=y_test_scaled)\n",
    "model = xgboost.train(params, dtrain = xgb_train_scaled)\n",
    "\n",
    "test_preds = [x.argmax() for x in model.predict(xgb_test_scaled)]\n",
    "\n",
    "for x,y,z in zip(y_test_scaled, test_preds, [x.max() for x in model.predict(xgb_test_scaled)]):\n",
    "    print(f\"Truth: {x}, pred:{y}, conf {z}\")"
   ]
  },
  {
   "cell_type": "code",
   "execution_count": null,
   "metadata": {},
   "outputs": [],
   "source": [
    "# confidence verifieren. "
   ]
  },
  {
   "cell_type": "code",
   "execution_count": 25,
   "metadata": {},
   "outputs": [],
   "source": [
    "normalized_conf_preds = test_preds"
   ]
  },
  {
   "cell_type": "markdown",
   "metadata": {},
   "source": [
    "# Standard Model standard data"
   ]
  },
  {
   "cell_type": "code",
   "execution_count": 26,
   "metadata": {},
   "outputs": [
    {
     "data": {
      "text/plain": [
       "XGBClassifier(base_score=0.5, booster='gbtree', colsample_bylevel=1,\n",
       "              colsample_bynode=1, colsample_bytree=0.7, gamma=0.2, gpu_id=-1,\n",
       "              importance_type='gain', interaction_constraints=None,\n",
       "              learning_rate=0.15, max_delta_step=0, max_depth=7,\n",
       "              min_child_weight=3, missing=nan, monotone_constraints=None,\n",
       "              n_estimators=250, n_jobs=1, nthread=1, num_parallel_tree=1,\n",
       "              objective='multi:softprob', random_state=0, reg_alpha=0,\n",
       "              reg_lambda=1, scale_pos_weight=1, seed=2, silent=None,\n",
       "              softmax_multiclass_param=3, subsample=0.8, tree_method=None,\n",
       "              validate_parameters=False, ...)"
      ]
     },
     "execution_count": 26,
     "metadata": {},
     "output_type": "execute_result"
    }
   ],
   "source": [
    "# maak object met geoptimaliseerde hyperparameters\n",
    "standard_model = xgboost.XGBClassifier(base_score=0.5, booster='gbtree', colsample_bylevel=1,\n",
    "              colsample_bynode=1, colsample_bytree=0.7, gamma=0.2,\n",
    "              learning_rate=0.15, max_delta_step=0, max_depth=7,\n",
    "              min_child_weight=3, missing=None, n_estimators=250, n_jobs=1,\n",
    "              nthread=None, objective='multi:softprob',softmax_multiclass_param= 3,random_state=0,\n",
    "              reg_alpha=0, reg_lambda=1, scale_pos_weight=1, seed=2,\n",
    "              silent=None, subsample=0.8, verbosity=1)\n",
    "\n",
    "# en fit op data\n",
    "standard_model.fit(X_train, y_train)"
   ]
  },
  {
   "cell_type": "code",
   "execution_count": 25,
   "metadata": {},
   "outputs": [],
   "source": [
    "#standard_model.get_xgb_params"
   ]
  },
  {
   "cell_type": "code",
   "execution_count": 27,
   "metadata": {},
   "outputs": [],
   "source": [
    "y_pred = standard_model.predict(X_test)\n",
    "y_train_pred = standard_model.predict(X_train)"
   ]
  },
  {
   "cell_type": "code",
   "execution_count": 28,
   "metadata": {},
   "outputs": [
    {
     "data": {
      "text/plain": [
       "0.9058823529411765"
      ]
     },
     "execution_count": 28,
     "metadata": {},
     "output_type": "execute_result"
    }
   ],
   "source": [
    "train_accuracy = accuracy_score(y_train,y_train_pred)\n",
    "test_accuracy = accuracy_score(y_test,y_pred)\n",
    "cm = confusion_matrix(y_test, y_pred)\n",
    "test_accuracy"
   ]
  },
  {
   "cell_type": "code",
   "execution_count": 29,
   "metadata": {},
   "outputs": [],
   "source": [
    "standard_standard_preds = y_pred"
   ]
  },
  {
   "cell_type": "code",
   "execution_count": 30,
   "metadata": {},
   "outputs": [
    {
     "data": {
      "text/plain": [
       "array([1, 0, 2, 2, 0, 2, 0, 0, 0, 2, 0, 2, 0, 2, 0, 0, 2, 2, 0, 0, 0, 2,\n",
       "       0, 2, 2, 2, 1, 2, 2, 0, 0, 0, 1, 2, 0, 0, 1, 0, 0, 2, 2, 0, 1, 0,\n",
       "       2, 0, 0, 1, 0, 0, 2, 1, 2, 1, 1, 0, 2, 0, 2, 0, 0, 0, 2, 0, 0, 2,\n",
       "       0, 1, 0, 2, 2, 1, 2, 0, 1, 0, 1, 2, 0, 0, 0, 0, 0, 2, 2],\n",
       "      dtype=int64)"
      ]
     },
     "execution_count": 30,
     "metadata": {},
     "output_type": "execute_result"
    }
   ],
   "source": [
    "standard_standard_preds"
   ]
  },
  {
   "cell_type": "code",
   "execution_count": 31,
   "metadata": {},
   "outputs": [
    {
     "data": {
      "text/plain": [
       "300    2\n",
       "99     0\n",
       "257    2\n",
       "74     2\n",
       "232    2\n",
       "      ..\n",
       "299    2\n",
       "22     0\n",
       "72     2\n",
       "15     1\n",
       "168    0\n",
       "Name: TK, Length: 253, dtype: int64"
      ]
     },
     "execution_count": 31,
     "metadata": {},
     "output_type": "execute_result"
    }
   ],
   "source": [
    "y_train"
   ]
  },
  {
   "cell_type": "code",
   "execution_count": 31,
   "metadata": {},
   "outputs": [],
   "source": [
    "# fi = pd.DataFrame(standard_model.feature_importances_,X_train.columns)\n",
    "# fi.columns = ['feature_score']\n",
    "# fi.sort_values('feature_score', ascending=False, inplace=True)\n",
    "# fi['feature'] = fi.index\n",
    "# fi"
   ]
  },
  {
   "cell_type": "markdown",
   "metadata": {},
   "source": [
    "## Standard Model Normalized Data"
   ]
  },
  {
   "cell_type": "code",
   "execution_count": 32,
   "metadata": {},
   "outputs": [],
   "source": [
    "standard_model = xgboost.XGBClassifier(base_score=0.5, booster='gbtree', colsample_bylevel=1,\n",
    "              colsample_bynode=1, colsample_bytree=0.7, gamma=0.2,\n",
    "              learning_rate=0.15, max_delta_step=0, max_depth=7,\n",
    "              min_child_weight=3, missing=None, n_estimators=250, n_jobs=1,\n",
    "              nthread=None, objective='multi:softprob', random_state=0,\n",
    "              reg_alpha=0, reg_lambda=1, scale_pos_weight=1, seed=2,\n",
    "              silent=None, subsample=0.8, verbosity=1)"
   ]
  },
  {
   "cell_type": "code",
   "execution_count": 33,
   "metadata": {},
   "outputs": [
    {
     "data": {
      "text/plain": [
       "XGBClassifier(base_score=0.5, booster='gbtree', colsample_bylevel=1,\n",
       "              colsample_bynode=1, colsample_bytree=0.7, gamma=0.2, gpu_id=-1,\n",
       "              importance_type='gain', interaction_constraints=None,\n",
       "              learning_rate=0.15, max_delta_step=0, max_depth=7,\n",
       "              min_child_weight=3, missing=nan, monotone_constraints=None,\n",
       "              n_estimators=250, n_jobs=1, nthread=1, num_parallel_tree=1,\n",
       "              objective='multi:softprob', random_state=0, reg_alpha=0,\n",
       "              reg_lambda=1, scale_pos_weight=1, seed=2, silent=None,\n",
       "              subsample=0.8, tree_method=None, validate_parameters=False,\n",
       "              verbosity=1)"
      ]
     },
     "execution_count": 33,
     "metadata": {},
     "output_type": "execute_result"
    }
   ],
   "source": [
    "standard_model.fit(X_train_scaled, y_train_scaled)"
   ]
  },
  {
   "cell_type": "code",
   "execution_count": 34,
   "metadata": {},
   "outputs": [
    {
     "data": {
      "text/plain": [
       "<bound method XGBModel.get_params of XGBClassifier(base_score=0.5, booster='gbtree', colsample_bylevel=1,\n",
       "              colsample_bynode=1, colsample_bytree=0.7, gamma=0.2, gpu_id=-1,\n",
       "              importance_type='gain', interaction_constraints=None,\n",
       "              learning_rate=0.15, max_delta_step=0, max_depth=7,\n",
       "              min_child_weight=3, missing=nan, monotone_constraints=None,\n",
       "              n_estimators=250, n_jobs=1, nthread=1, num_parallel_tree=1,\n",
       "              objective='multi:softprob', random_state=0, reg_alpha=0,\n",
       "              reg_lambda=1, scale_pos_weight=1, seed=2, silent=None,\n",
       "              subsample=0.8, tree_method=None, validate_parameters=False,\n",
       "              verbosity=1)>"
      ]
     },
     "execution_count": 34,
     "metadata": {},
     "output_type": "execute_result"
    }
   ],
   "source": [
    "standard_model.get_params"
   ]
  },
  {
   "cell_type": "code",
   "execution_count": 35,
   "metadata": {},
   "outputs": [],
   "source": [
    "y_pred = standard_model.predict(X_test_scaled)\n",
    "y_train_pred = standard_model.predict(X_train_scaled)"
   ]
  },
  {
   "cell_type": "code",
   "execution_count": 36,
   "metadata": {},
   "outputs": [
    {
     "data": {
      "text/plain": [
       "0.9058823529411765"
      ]
     },
     "execution_count": 36,
     "metadata": {},
     "output_type": "execute_result"
    }
   ],
   "source": [
    "train_accuracy = accuracy_score(y_train_scaled,y_train_pred)\n",
    "test_accuracy = accuracy_score(y_test_scaled,y_pred)\n",
    "cm = confusion_matrix(y_test, y_pred)\n",
    "test_accuracy"
   ]
  },
  {
   "cell_type": "code",
   "execution_count": 37,
   "metadata": {},
   "outputs": [
    {
     "data": {
      "text/plain": [
       "array([[38,  2,  0],\n",
       "       [ 3, 11,  2],\n",
       "       [ 1,  0, 28]], dtype=int64)"
      ]
     },
     "execution_count": 37,
     "metadata": {},
     "output_type": "execute_result"
    }
   ],
   "source": [
    "cm"
   ]
  },
  {
   "cell_type": "code",
   "execution_count": 38,
   "metadata": {},
   "outputs": [],
   "source": [
    "standard_normalized_preds = y_pred"
   ]
  },
  {
   "cell_type": "markdown",
   "metadata": {},
   "source": [
    "# Comparing Results"
   ]
  },
  {
   "cell_type": "code",
   "execution_count": 39,
   "metadata": {},
   "outputs": [
    {
     "data": {
      "text/html": [
       "<div>\n",
       "<style scoped>\n",
       "    .dataframe tbody tr th:only-of-type {\n",
       "        vertical-align: middle;\n",
       "    }\n",
       "\n",
       "    .dataframe tbody tr th {\n",
       "        vertical-align: top;\n",
       "    }\n",
       "\n",
       "    .dataframe thead th {\n",
       "        text-align: right;\n",
       "    }\n",
       "</style>\n",
       "<table border=\"1\" class=\"dataframe\">\n",
       "  <thead>\n",
       "    <tr style=\"text-align: right;\">\n",
       "      <th></th>\n",
       "      <th>conf_standard</th>\n",
       "      <th>conf_normalized</th>\n",
       "      <th>standard_standard</th>\n",
       "      <th>standard_normalized</th>\n",
       "    </tr>\n",
       "  </thead>\n",
       "  <tbody>\n",
       "    <tr>\n",
       "      <td>0</td>\n",
       "      <td>1</td>\n",
       "      <td>1</td>\n",
       "      <td>1</td>\n",
       "      <td>1</td>\n",
       "    </tr>\n",
       "    <tr>\n",
       "      <td>1</td>\n",
       "      <td>0</td>\n",
       "      <td>0</td>\n",
       "      <td>0</td>\n",
       "      <td>0</td>\n",
       "    </tr>\n",
       "    <tr>\n",
       "      <td>2</td>\n",
       "      <td>2</td>\n",
       "      <td>2</td>\n",
       "      <td>2</td>\n",
       "      <td>2</td>\n",
       "    </tr>\n",
       "    <tr>\n",
       "      <td>3</td>\n",
       "      <td>2</td>\n",
       "      <td>2</td>\n",
       "      <td>2</td>\n",
       "      <td>2</td>\n",
       "    </tr>\n",
       "    <tr>\n",
       "      <td>4</td>\n",
       "      <td>0</td>\n",
       "      <td>0</td>\n",
       "      <td>0</td>\n",
       "      <td>0</td>\n",
       "    </tr>\n",
       "  </tbody>\n",
       "</table>\n",
       "</div>"
      ],
      "text/plain": [
       "   conf_standard  conf_normalized  standard_standard  standard_normalized\n",
       "0              1                1                  1                    1\n",
       "1              0                0                  0                    0\n",
       "2              2                2                  2                    2\n",
       "3              2                2                  2                    2\n",
       "4              0                0                  0                    0"
      ]
     },
     "execution_count": 39,
     "metadata": {},
     "output_type": "execute_result"
    }
   ],
   "source": [
    "results = pd.DataFrame({\n",
    "    'conf_standard': standard_conf_preds,\n",
    "    'conf_normalized': normalized_conf_preds,\n",
    "    'standard_standard': standard_standard_preds,\n",
    "    'standard_normalized': standard_normalized_preds\n",
    "})\n",
    "#     standard_normalized_preds\n",
    "# standard_standard_preds\n",
    "# normalized_conf_preds\n",
    "# standard_conf_preds\n",
    "results.head()"
   ]
  },
  {
   "cell_type": "code",
   "execution_count": 39,
   "metadata": {},
   "outputs": [
    {
     "data": {
      "text/plain": [
       "0     2\n",
       "1     0\n",
       "2     0\n",
       "3     0\n",
       "4     0\n",
       "     ..\n",
       "80    0\n",
       "81    0\n",
       "82    0\n",
       "83    0\n",
       "84    0\n",
       "Length: 85, dtype: int64"
      ]
     },
     "execution_count": 39,
     "metadata": {},
     "output_type": "execute_result"
    }
   ],
   "source": [
    "#pd.Series(results.sum(axis=1)%4)"
   ]
  },
  {
   "cell_type": "code",
   "execution_count": 40,
   "metadata": {},
   "outputs": [],
   "source": [
    "#pd.Series(results.sum(axis=1)%4).sum()"
   ]
  },
  {
   "cell_type": "code",
   "execution_count": 41,
   "metadata": {},
   "outputs": [
    {
     "data": {
      "text/html": [
       "<div>\n",
       "<style scoped>\n",
       "    .dataframe tbody tr th:only-of-type {\n",
       "        vertical-align: middle;\n",
       "    }\n",
       "\n",
       "    .dataframe tbody tr th {\n",
       "        vertical-align: top;\n",
       "    }\n",
       "\n",
       "    .dataframe thead th {\n",
       "        text-align: right;\n",
       "    }\n",
       "</style>\n",
       "<table border=\"1\" class=\"dataframe\">\n",
       "  <thead>\n",
       "    <tr style=\"text-align: right;\">\n",
       "      <th></th>\n",
       "      <th>conf_standard</th>\n",
       "      <th>conf_normalized</th>\n",
       "      <th>standard_standard</th>\n",
       "      <th>standard_normalized</th>\n",
       "    </tr>\n",
       "  </thead>\n",
       "  <tbody>\n",
       "    <tr>\n",
       "      <td>conf_standard</td>\n",
       "      <td>1.000000</td>\n",
       "      <td>1.000000</td>\n",
       "      <td>0.942874</td>\n",
       "      <td>0.942874</td>\n",
       "    </tr>\n",
       "    <tr>\n",
       "      <td>conf_normalized</td>\n",
       "      <td>1.000000</td>\n",
       "      <td>1.000000</td>\n",
       "      <td>0.942874</td>\n",
       "      <td>0.942874</td>\n",
       "    </tr>\n",
       "    <tr>\n",
       "      <td>standard_standard</td>\n",
       "      <td>0.942874</td>\n",
       "      <td>0.942874</td>\n",
       "      <td>1.000000</td>\n",
       "      <td>1.000000</td>\n",
       "    </tr>\n",
       "    <tr>\n",
       "      <td>standard_normalized</td>\n",
       "      <td>0.942874</td>\n",
       "      <td>0.942874</td>\n",
       "      <td>1.000000</td>\n",
       "      <td>1.000000</td>\n",
       "    </tr>\n",
       "  </tbody>\n",
       "</table>\n",
       "</div>"
      ],
      "text/plain": [
       "                     conf_standard  conf_normalized  standard_standard  \\\n",
       "conf_standard             1.000000         1.000000           0.942874   \n",
       "conf_normalized           1.000000         1.000000           0.942874   \n",
       "standard_standard         0.942874         0.942874           1.000000   \n",
       "standard_normalized       0.942874         0.942874           1.000000   \n",
       "\n",
       "                     standard_normalized  \n",
       "conf_standard                   0.942874  \n",
       "conf_normalized                 0.942874  \n",
       "standard_standard               1.000000  \n",
       "standard_normalized             1.000000  "
      ]
     },
     "execution_count": 41,
     "metadata": {},
     "output_type": "execute_result"
    }
   ],
   "source": [
    "results.corr()"
   ]
  },
  {
   "cell_type": "markdown",
   "metadata": {},
   "source": [
    "# Zijn dus een paar verschillen"
   ]
  },
  {
   "cell_type": "code",
   "execution_count": 44,
   "metadata": {},
   "outputs": [],
   "source": [
    "standard_model.save_model('0001.model') "
   ]
  },
  {
   "cell_type": "code",
   "execution_count": 47,
   "metadata": {},
   "outputs": [
    {
     "name": "stdout",
     "output_type": "stream",
     "text": [
      "[14:55:45] WARNING: C:\\Users\\Administrator\\workspace\\xgboost-win64_release_1.0.0\\src\\learner.cc:328: \n",
      "Parameters: { n_estimators, scale_pos_weight } might not be used.\n",
      "\n",
      "  This may not be accurate due to some parameters are only used in language bindings but\n",
      "  passed down to XGBoost core.  Or some parameters are not used but slip through this\n",
      "  verification. Please open an issue if you find above cases.\n",
      "\n",
      "\n"
     ]
    }
   ],
   "source": [
    "bst = xgboost.Booster(params)  # init model\n",
    "bst.load_model('0001.model')  # load data"
   ]
  },
  {
   "cell_type": "code",
   "execution_count": 48,
   "metadata": {},
   "outputs": [
    {
     "name": "stdout",
     "output_type": "stream",
     "text": [
      "[14:56:16] ======== Monitor: Learner ========\n",
      "[14:56:16] Configure: 0s, 1 calls @ 0us\n",
      "\n",
      "[14:56:16] ======== Monitor: GBTree ========\n"
     ]
    }
   ],
   "source": [
    "bst = xgboost.XGBClassifier(base_score=0.5, booster='gbtree', colsample_bylevel=1,\n",
    "              colsample_bynode=1, colsample_bytree=0.7, gamma=0.2,\n",
    "              learning_rate=0.15, max_delta_step=0, max_depth=7,\n",
    "              min_child_weight=3, missing=None, n_estimators=250, n_jobs=1,\n",
    "              nthread=None, objective='multi:softprob', random_state=0,\n",
    "              reg_alpha=0, reg_lambda=1, scale_pos_weight=1, seed=2,\n",
    "              silent=None, subsample=0.8, verbosity=1)\n",
    "bst.load_model('0001.model') "
   ]
  },
  {
   "cell_type": "code",
   "execution_count": 49,
   "metadata": {},
   "outputs": [
    {
     "data": {
      "text/plain": [
       "XGBClassifier(base_score=0.5, booster='gbtree', colsample_bylevel=1,\n",
       "              colsample_bynode=1, colsample_bytree=0.7, gamma=0.2, gpu_id=-1,\n",
       "              importance_type='gain', interaction_constraints=None,\n",
       "              learning_rate=0.15, max_delta_step=0, max_depth=7,\n",
       "              min_child_weight=3, missing=nan, monotone_constraints=None,\n",
       "              n_estimators=250, n_jobs=1, nthread=1, num_parallel_tree=1,\n",
       "              objective='multi:softprob', random_state=0, reg_alpha=0,\n",
       "              reg_lambda=1, scale_pos_weight=1, seed=2, silent=None,\n",
       "              subsample=0.8, tree_method=None, validate_parameters=False,\n",
       "              verbosity=1)"
      ]
     },
     "execution_count": 49,
     "metadata": {},
     "output_type": "execute_result"
    }
   ],
   "source": [
    "bst"
   ]
  },
  {
   "cell_type": "code",
   "execution_count": null,
   "metadata": {},
   "outputs": [],
   "source": []
  }
 ],
 "metadata": {
  "kernelspec": {
   "display_name": "Python 3",
   "language": "python",
   "name": "python3"
  },
  "language_info": {
   "codemirror_mode": {
    "name": "ipython",
    "version": 3
   },
   "file_extension": ".py",
   "mimetype": "text/x-python",
   "name": "python",
   "nbconvert_exporter": "python",
   "pygments_lexer": "ipython3",
   "version": "3.7.4"
  }
 },
 "nbformat": 4,
 "nbformat_minor": 2
}
