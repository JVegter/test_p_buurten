{
 "cells": [
  {
   "cell_type": "markdown",
   "metadata": {},
   "source": [
    "# De Finale Modellen Creeren en hier een verklaring bij geven.\n",
    "Hierbij zijn voor Thomas en Erwin 2 modellen gemaakt: met en zonder WOX.\n",
    "\n",
    "\n",
    "Indien WOX data beschikbaar is, gebruiken wij het wox model. Hier wordt uitgegaan van een optimaal iteraties at 75. Voor het niet WOX model wordt een aantal iteraties van X gebruikt. \n",
    "Deze waardes zijn om overfitting te voorkomen. Wij willen het model alleen dingen leren die te generaliseren zijn. \n",
    "\n",
    "\n",
    "De WOX en niet WOX modellen worden samengevoegd om tot een Ensemble te komen.\n",
    "\n",
    "Via SHAP values worden verklaringen gegeven voor waarom een voorspelling wordt gedaan. \n",
    "\n",
    "Per buurt willen wij hierdoor per emsemble model (= wox/geen wox samengevoegd)\n",
    "* Voorspelling TK \n",
    "* Voorspelling EE \n",
    "* Confidence TK voorspellingen \n",
    "* Confidence EE voorspellingen\n",
    "* Feature Importance TK\n",
    "* Feature Importance EE\n",
    "\n",
    "---------------\n",
    "In deze notebook realiseren wij een output voor Powerbi\n",
    "- samenvoegen van de 4 modellen tot 2 waarbij wox/ geen wox wordt gecombineerd.\n",
    "- confidence toevoegen\n",
    "- 5 belangrijkste features meegeven."
   ]
  },
  {
   "cell_type": "code",
   "execution_count": 1,
   "metadata": {},
   "outputs": [],
   "source": [
    "import pandas as pd"
   ]
  },
  {
   "cell_type": "code",
   "execution_count": 3,
   "metadata": {},
   "outputs": [],
   "source": [
    "predictions = pd.read_csv('../2019model_predictions.csv')"
   ]
  },
  {
   "cell_type": "code",
   "execution_count": 4,
   "metadata": {},
   "outputs": [
    {
     "output_type": "execute_result",
     "data": {
      "text/plain": "   Unnamed: 0  buurtcode ee_wox ee_nowox TK_wox TK_nowox\n0           0      30000      c        b      c        c\n1           1      30001      c        b      c        c\n2           2      30002      c        b      c        c\n3           3      30007      c        b      c        c\n4           4      30008      c        c      c        c",
      "text/html": "<div>\n<style scoped>\n    .dataframe tbody tr th:only-of-type {\n        vertical-align: middle;\n    }\n\n    .dataframe tbody tr th {\n        vertical-align: top;\n    }\n\n    .dataframe thead th {\n        text-align: right;\n    }\n</style>\n<table border=\"1\" class=\"dataframe\">\n  <thead>\n    <tr style=\"text-align: right;\">\n      <th></th>\n      <th>Unnamed: 0</th>\n      <th>buurtcode</th>\n      <th>ee_wox</th>\n      <th>ee_nowox</th>\n      <th>TK_wox</th>\n      <th>TK_nowox</th>\n    </tr>\n  </thead>\n  <tbody>\n    <tr>\n      <td>0</td>\n      <td>0</td>\n      <td>30000</td>\n      <td>c</td>\n      <td>b</td>\n      <td>c</td>\n      <td>c</td>\n    </tr>\n    <tr>\n      <td>1</td>\n      <td>1</td>\n      <td>30001</td>\n      <td>c</td>\n      <td>b</td>\n      <td>c</td>\n      <td>c</td>\n    </tr>\n    <tr>\n      <td>2</td>\n      <td>2</td>\n      <td>30002</td>\n      <td>c</td>\n      <td>b</td>\n      <td>c</td>\n      <td>c</td>\n    </tr>\n    <tr>\n      <td>3</td>\n      <td>3</td>\n      <td>30007</td>\n      <td>c</td>\n      <td>b</td>\n      <td>c</td>\n      <td>c</td>\n    </tr>\n    <tr>\n      <td>4</td>\n      <td>4</td>\n      <td>30008</td>\n      <td>c</td>\n      <td>c</td>\n      <td>c</td>\n      <td>c</td>\n    </tr>\n  </tbody>\n</table>\n</div>"
     },
     "metadata": {},
     "execution_count": 4
    }
   ],
   "source": [
    "predictions.head()"
   ]
  },
  {
   "cell_type": "code",
   "execution_count": 5,
   "metadata": {},
   "outputs": [],
   "source": [
    "# setten source path: later moet alle brondata naar datalake\n",
    "source_path =\"P:\\\\DATASCIENCE\\\\Aantrekkelijkheid buurten\\\\Resultaten\\\\\"\n",
    "# alle tussentijdse data voorlopig in dezelfde map op een schijf opslaan in\n",
    "save_path = \"P:\\\\DATASCIENCE\\\\Aantrekkelijkheid buurten\\\\Resultaten\\\\\"\n",
    "\n",
    "# inladen bestand met alle buurten en onafhankelijke variabelen als all\n",
    "buurtendata = pd.read_csv(source_path + 'buurten.csv', encoding='utf-16')\n",
    "buurtendata.rename(columns={\"RLBBEV18\":\"RLBBEV\",'KL18': \"KL\", \n",
    "               'RLBRMTR18': 'RLBRMTR', 'RLBWON18':'RLBWON' , 'RLBBEV18':'RLBBEV', 'RLBVRZ18':'RLBVRZ', 'RLBVEI18': 'RLBVEI', 'RLBFYS18': 'RLBFYS',}, inplace=True) "
   ]
  },
  {
   "cell_type": "code",
   "execution_count": 7,
   "metadata": {},
   "outputs": [],
   "source": [
    "predictions['wox_info'] = buurtendata['wox'].notnull()\n",
    "predictions['EE_Ensemble'] = predictions.apply(lambda x: x['ee_wox'] if x['wox_info'] else x['ee_nowox'], axis=1)\n",
    "predictions['TK_Ensemble'] = predictions.apply(lambda x: x['TK_wox'] if x['wox_info'] else x['TK_nowox'], axis=1)\n"
   ]
  },
  {
   "cell_type": "code",
   "execution_count": 8,
   "metadata": {},
   "outputs": [
    {
     "output_type": "execute_result",
     "data": {
      "text/plain": "   Unnamed: 0  buurtcode ee_wox ee_nowox TK_wox TK_nowox  wox_info  \\\n0           0      30000      c        b      c        c     False   \n1           1      30001      c        b      c        c     False   \n2           2      30002      c        b      c        c     False   \n3           3      30007      c        b      c        c     False   \n4           4      30008      c        c      c        c     False   \n\n  EE_Ensemble TK_Ensemble  \n0           b           c  \n1           b           c  \n2           b           c  \n3           b           c  \n4           c           c  ",
      "text/html": "<div>\n<style scoped>\n    .dataframe tbody tr th:only-of-type {\n        vertical-align: middle;\n    }\n\n    .dataframe tbody tr th {\n        vertical-align: top;\n    }\n\n    .dataframe thead th {\n        text-align: right;\n    }\n</style>\n<table border=\"1\" class=\"dataframe\">\n  <thead>\n    <tr style=\"text-align: right;\">\n      <th></th>\n      <th>Unnamed: 0</th>\n      <th>buurtcode</th>\n      <th>ee_wox</th>\n      <th>ee_nowox</th>\n      <th>TK_wox</th>\n      <th>TK_nowox</th>\n      <th>wox_info</th>\n      <th>EE_Ensemble</th>\n      <th>TK_Ensemble</th>\n    </tr>\n  </thead>\n  <tbody>\n    <tr>\n      <td>0</td>\n      <td>0</td>\n      <td>30000</td>\n      <td>c</td>\n      <td>b</td>\n      <td>c</td>\n      <td>c</td>\n      <td>False</td>\n      <td>b</td>\n      <td>c</td>\n    </tr>\n    <tr>\n      <td>1</td>\n      <td>1</td>\n      <td>30001</td>\n      <td>c</td>\n      <td>b</td>\n      <td>c</td>\n      <td>c</td>\n      <td>False</td>\n      <td>b</td>\n      <td>c</td>\n    </tr>\n    <tr>\n      <td>2</td>\n      <td>2</td>\n      <td>30002</td>\n      <td>c</td>\n      <td>b</td>\n      <td>c</td>\n      <td>c</td>\n      <td>False</td>\n      <td>b</td>\n      <td>c</td>\n    </tr>\n    <tr>\n      <td>3</td>\n      <td>3</td>\n      <td>30007</td>\n      <td>c</td>\n      <td>b</td>\n      <td>c</td>\n      <td>c</td>\n      <td>False</td>\n      <td>b</td>\n      <td>c</td>\n    </tr>\n    <tr>\n      <td>4</td>\n      <td>4</td>\n      <td>30008</td>\n      <td>c</td>\n      <td>c</td>\n      <td>c</td>\n      <td>c</td>\n      <td>False</td>\n      <td>c</td>\n      <td>c</td>\n    </tr>\n  </tbody>\n</table>\n</div>"
     },
     "metadata": {},
     "execution_count": 8
    }
   ],
   "source": [
    "predictions.head()"
   ]
  },
  {
   "cell_type": "markdown",
   "metadata": {},
   "source": [
    "## Identifier van het model gaan wij gebruiken om de bijbehorende informatie op te halen\n",
    "wox -> wox uitleg"
   ]
  },
  {
   "cell_type": "code",
   "execution_count": 32,
   "metadata": {},
   "outputs": [],
   "source": [
    "ee_nowox = pd.read_csv('../interpretations/final_model_EE_nowox_interpretations.csv')\n",
    "ee_wox = pd.read_csv('../interpretations/final_model_EE_wox_interpretations.csv')\n",
    "TK_nowox = pd.read_csv('../interpretations/final_model_TK_nowox_interpretations.csv')\n",
    "TK_wox = pd.read_csv('../interpretations/final_model_TK_wox_interpretations.csv')"
   ]
  },
  {
   "cell_type": "code",
   "execution_count": 33,
   "metadata": {},
   "outputs": [
    {
     "output_type": "execute_result",
     "data": {
      "text/plain": "   Unnamed: 0       inw      oadh     inw65        KL   RLBRMTR    RLBWON  \\\n0           0  3.318658  3.930175  4.428645  3.443425  3.527892  3.172834   \n1           1  3.313034  3.634620  4.334825  3.378427  3.505774  4.382347   \n2           2  3.290712  3.840821  4.617866  3.403696  3.527690  4.907984   \n3           3  3.755752  2.654764  3.265404  3.474978  3.609885  2.946239   \n4           4  3.251035  3.213050  3.018885  3.431690  3.518267  4.181158   \n\n     RLBBEV    RLBVRZ    RLBVEI  ...  hh30inkHoog  aandeelMH19    auto30  \\\n0  4.202292  4.160336  3.669563  ...     3.432216     2.679482  3.920994   \n1  4.179473  3.935186  3.539427  ...     3.449648     3.463188  3.931020   \n2  4.040775  3.953690  3.562878  ...     3.398747     2.953709  3.879969   \n3  3.970471  3.998899  3.768880  ...     3.436391     3.903928  4.061105   \n4  4.099533  3.375625  3.446905  ...     3.408454     1.471394  3.782325   \n\n     auto60      ov30      ov60     fiets     banen  confidence  \\\n0  5.359560  3.087606  3.532189  1.900289  3.453048    0.550466   \n1  5.350854  2.851768  3.360046  1.714316  3.420658    0.683708   \n2  5.337527  2.737161  3.380181  1.861119  3.390353    0.512660   \n3  5.997788  3.234663  3.599758  2.185984  3.606681    0.643239   \n4  3.607321  3.521154  4.037943  3.797934  3.720797    0.561279   \n\n   predicted_label  \n0                1  \n1                1  \n2                1  \n3                1  \n4                2  \n\n[5 rows x 31 columns]",
      "text/html": "<div>\n<style scoped>\n    .dataframe tbody tr th:only-of-type {\n        vertical-align: middle;\n    }\n\n    .dataframe tbody tr th {\n        vertical-align: top;\n    }\n\n    .dataframe thead th {\n        text-align: right;\n    }\n</style>\n<table border=\"1\" class=\"dataframe\">\n  <thead>\n    <tr style=\"text-align: right;\">\n      <th></th>\n      <th>Unnamed: 0</th>\n      <th>inw</th>\n      <th>oadh</th>\n      <th>inw65</th>\n      <th>KL</th>\n      <th>RLBRMTR</th>\n      <th>RLBWON</th>\n      <th>RLBBEV</th>\n      <th>RLBVRZ</th>\n      <th>RLBVEI</th>\n      <th>...</th>\n      <th>hh30inkHoog</th>\n      <th>aandeelMH19</th>\n      <th>auto30</th>\n      <th>auto60</th>\n      <th>ov30</th>\n      <th>ov60</th>\n      <th>fiets</th>\n      <th>banen</th>\n      <th>confidence</th>\n      <th>predicted_label</th>\n    </tr>\n  </thead>\n  <tbody>\n    <tr>\n      <td>0</td>\n      <td>0</td>\n      <td>3.318658</td>\n      <td>3.930175</td>\n      <td>4.428645</td>\n      <td>3.443425</td>\n      <td>3.527892</td>\n      <td>3.172834</td>\n      <td>4.202292</td>\n      <td>4.160336</td>\n      <td>3.669563</td>\n      <td>...</td>\n      <td>3.432216</td>\n      <td>2.679482</td>\n      <td>3.920994</td>\n      <td>5.359560</td>\n      <td>3.087606</td>\n      <td>3.532189</td>\n      <td>1.900289</td>\n      <td>3.453048</td>\n      <td>0.550466</td>\n      <td>1</td>\n    </tr>\n    <tr>\n      <td>1</td>\n      <td>1</td>\n      <td>3.313034</td>\n      <td>3.634620</td>\n      <td>4.334825</td>\n      <td>3.378427</td>\n      <td>3.505774</td>\n      <td>4.382347</td>\n      <td>4.179473</td>\n      <td>3.935186</td>\n      <td>3.539427</td>\n      <td>...</td>\n      <td>3.449648</td>\n      <td>3.463188</td>\n      <td>3.931020</td>\n      <td>5.350854</td>\n      <td>2.851768</td>\n      <td>3.360046</td>\n      <td>1.714316</td>\n      <td>3.420658</td>\n      <td>0.683708</td>\n      <td>1</td>\n    </tr>\n    <tr>\n      <td>2</td>\n      <td>2</td>\n      <td>3.290712</td>\n      <td>3.840821</td>\n      <td>4.617866</td>\n      <td>3.403696</td>\n      <td>3.527690</td>\n      <td>4.907984</td>\n      <td>4.040775</td>\n      <td>3.953690</td>\n      <td>3.562878</td>\n      <td>...</td>\n      <td>3.398747</td>\n      <td>2.953709</td>\n      <td>3.879969</td>\n      <td>5.337527</td>\n      <td>2.737161</td>\n      <td>3.380181</td>\n      <td>1.861119</td>\n      <td>3.390353</td>\n      <td>0.512660</td>\n      <td>1</td>\n    </tr>\n    <tr>\n      <td>3</td>\n      <td>3</td>\n      <td>3.755752</td>\n      <td>2.654764</td>\n      <td>3.265404</td>\n      <td>3.474978</td>\n      <td>3.609885</td>\n      <td>2.946239</td>\n      <td>3.970471</td>\n      <td>3.998899</td>\n      <td>3.768880</td>\n      <td>...</td>\n      <td>3.436391</td>\n      <td>3.903928</td>\n      <td>4.061105</td>\n      <td>5.997788</td>\n      <td>3.234663</td>\n      <td>3.599758</td>\n      <td>2.185984</td>\n      <td>3.606681</td>\n      <td>0.643239</td>\n      <td>1</td>\n    </tr>\n    <tr>\n      <td>4</td>\n      <td>4</td>\n      <td>3.251035</td>\n      <td>3.213050</td>\n      <td>3.018885</td>\n      <td>3.431690</td>\n      <td>3.518267</td>\n      <td>4.181158</td>\n      <td>4.099533</td>\n      <td>3.375625</td>\n      <td>3.446905</td>\n      <td>...</td>\n      <td>3.408454</td>\n      <td>1.471394</td>\n      <td>3.782325</td>\n      <td>3.607321</td>\n      <td>3.521154</td>\n      <td>4.037943</td>\n      <td>3.797934</td>\n      <td>3.720797</td>\n      <td>0.561279</td>\n      <td>2</td>\n    </tr>\n  </tbody>\n</table>\n<p>5 rows × 31 columns</p>\n</div>"
     },
     "metadata": {},
     "execution_count": 33
    }
   ],
   "source": [
    "ee_nowox.head()"
   ]
  },
  {
   "cell_type": "code",
   "execution_count": 35,
   "metadata": {},
   "outputs": [
    {
     "output_type": "stream",
     "name": "stdout",
     "text": "0.8096279000000001\n0.82563585\n"
    }
   ],
   "source": [
    "def capture_conf_ee(x):\n",
    "    # check index\n",
    "    index = x.ix[0]\n",
    "    if x['wox_info']:\n",
    "        return ee_wox.iloc[index]['confidence']\n",
    "    else:\n",
    "        return ee_nowox.iloc[index]['confidence']\n",
    "capture_conf(predictions.iloc[1000])\n",
    "\n",
    "def capture_conf_TK(x):\n",
    "    # check index\n",
    "    index = x.ix[0]\n",
    "    if x['wox_info']:\n",
    "        return TK_wox.iloc[index]['confidence']\n",
    "    else:\n",
    "        return TK_nowox.iloc[index]['confidence']\n",
    "print(capture_conf_ee(predictions.iloc[1000]))\n",
    "print(capture_conf_TK(predictions.iloc[1000]))"
   ]
  },
  {
   "cell_type": "code",
   "execution_count": 36,
   "metadata": {},
   "outputs": [],
   "source": [
    "predictions['TK_conf']  = predictions.apply(lambda x: capture_conf_TK(x), axis = 1)\n",
    "predictions['EE_conf']  = predictions.apply(lambda x: capture_conf_ee(x), axis = 1)"
   ]
  },
  {
   "cell_type": "code",
   "execution_count": 37,
   "metadata": {},
   "outputs": [
    {
     "output_type": "execute_result",
     "data": {
      "text/plain": "   Unnamed: 0  buurtcode ee_wox ee_nowox TK_wox TK_nowox  wox_info  \\\n0           0      30000      c        b      c        c     False   \n1           1      30001      c        b      c        c     False   \n2           2      30002      c        b      c        c     False   \n3           3      30007      c        b      c        c     False   \n4           4      30008      c        c      c        c     False   \n\n  EE_Ensemble TK_Ensemble   TK_conf   EE_conf  \n0           b           c  0.837450  0.550466  \n1           b           c  0.843811  0.683708  \n2           b           c  0.778277  0.512660  \n3           b           c  0.944196  0.643239  \n4           c           c  0.976197  0.561279  ",
      "text/html": "<div>\n<style scoped>\n    .dataframe tbody tr th:only-of-type {\n        vertical-align: middle;\n    }\n\n    .dataframe tbody tr th {\n        vertical-align: top;\n    }\n\n    .dataframe thead th {\n        text-align: right;\n    }\n</style>\n<table border=\"1\" class=\"dataframe\">\n  <thead>\n    <tr style=\"text-align: right;\">\n      <th></th>\n      <th>Unnamed: 0</th>\n      <th>buurtcode</th>\n      <th>ee_wox</th>\n      <th>ee_nowox</th>\n      <th>TK_wox</th>\n      <th>TK_nowox</th>\n      <th>wox_info</th>\n      <th>EE_Ensemble</th>\n      <th>TK_Ensemble</th>\n      <th>TK_conf</th>\n      <th>EE_conf</th>\n    </tr>\n  </thead>\n  <tbody>\n    <tr>\n      <td>0</td>\n      <td>0</td>\n      <td>30000</td>\n      <td>c</td>\n      <td>b</td>\n      <td>c</td>\n      <td>c</td>\n      <td>False</td>\n      <td>b</td>\n      <td>c</td>\n      <td>0.837450</td>\n      <td>0.550466</td>\n    </tr>\n    <tr>\n      <td>1</td>\n      <td>1</td>\n      <td>30001</td>\n      <td>c</td>\n      <td>b</td>\n      <td>c</td>\n      <td>c</td>\n      <td>False</td>\n      <td>b</td>\n      <td>c</td>\n      <td>0.843811</td>\n      <td>0.683708</td>\n    </tr>\n    <tr>\n      <td>2</td>\n      <td>2</td>\n      <td>30002</td>\n      <td>c</td>\n      <td>b</td>\n      <td>c</td>\n      <td>c</td>\n      <td>False</td>\n      <td>b</td>\n      <td>c</td>\n      <td>0.778277</td>\n      <td>0.512660</td>\n    </tr>\n    <tr>\n      <td>3</td>\n      <td>3</td>\n      <td>30007</td>\n      <td>c</td>\n      <td>b</td>\n      <td>c</td>\n      <td>c</td>\n      <td>False</td>\n      <td>b</td>\n      <td>c</td>\n      <td>0.944196</td>\n      <td>0.643239</td>\n    </tr>\n    <tr>\n      <td>4</td>\n      <td>4</td>\n      <td>30008</td>\n      <td>c</td>\n      <td>c</td>\n      <td>c</td>\n      <td>c</td>\n      <td>False</td>\n      <td>c</td>\n      <td>c</td>\n      <td>0.976197</td>\n      <td>0.561279</td>\n    </tr>\n  </tbody>\n</table>\n</div>"
     },
     "metadata": {},
     "execution_count": 37
    }
   ],
   "source": [
    "predictions.head()"
   ]
  },
  {
   "cell_type": "code",
   "execution_count": null,
   "metadata": {},
   "outputs": [],
   "source": [
    "#ee_wox_expl = pd.read_csv('../interpretations/')"
   ]
  },
  {
   "cell_type": "code",
   "execution_count": 77,
   "metadata": {},
   "outputs": [
    {
     "output_type": "stream",
     "name": "stdout",
     "text": "['woxww-11.4', 'woxm2-7.0', 'woxm2WG-5.0', 'AantalRest3-4.4', 'woxdelta1jr-3.2']\nIndex(['wox', 'fiets', 'ov30', 'AantalMusea10', 'AantalCafe3'], dtype='object')\n"
    }
   ],
   "source": [
    "# Capturing top 5 explanations\n",
    "\n",
    "def capture_expl_ee(x):\n",
    "    # check index\n",
    "    index = x.ix[0]\n",
    "    if x['wox_info']:\n",
    "        # take top 5 from the dataframe\n",
    "        temp = ee_wox.iloc[index].sort_values(ascending=False).drop(['Unnamed: 0', 'confidence'])[:5]\n",
    "        temp_index, temp_values = [x for x in temp.index], [x for x in temp.values]\n",
    "        # we zip so we can iterate\n",
    "        return [f'{item[0]}-{item[1]:.1f}' for item in zip(temp_index,temp_values)]\n",
    "    else:\n",
    "        temp = ee_nowox.iloc[index].sort_values(ascending=False).drop(['Unnamed: 0', 'confidence'])[:5]\n",
    "        temp_index, temp_values = [x for x in temp.index], [x for x in temp.values]\n",
    "        return [f'{item[0]}-{item[1]:.1f}' for item in zip(temp_index,temp_values)]\n",
    "\n",
    "def capture_expl_tk(x):\n",
    "    # check index\n",
    "    index = x.ix[0]\n",
    "    if x['wox_info']:\n",
    "        return TK_wox.iloc[index].sort_values(ascending=False).drop(['Unnamed: 0', 'confidence']).index[:5]\n",
    "    else:\n",
    "        return TK_nowox.iloc[index].sort_values(ascending=False).drop(['Unnamed: 0', 'confidence']).index[:5]\n",
    "print(capture_expl_ee(predictions.iloc[1000]))\n",
    "print(capture_expl_tk(predictions.iloc[1000]))"
   ]
  },
  {
   "cell_type": "code",
   "execution_count": 49,
   "metadata": {},
   "outputs": [],
   "source": [
    "temp = ee_wox.iloc[1000].sort_values(ascending=False).drop(['Unnamed: 0', 'confidence'])[:5]"
   ]
  },
  {
   "cell_type": "code",
   "execution_count": 62,
   "metadata": {},
   "outputs": [],
   "source": [
    "temp_index = [x for x in temp.index]\n",
    "temp_values = [x for x in temp.values]"
   ]
  },
  {
   "cell_type": "code",
   "execution_count": 63,
   "metadata": {},
   "outputs": [
    {
     "output_type": "execute_result",
     "data": {
      "text/plain": "array([11.370603 ,  7.0356836,  4.977991 ,  4.396611 ,  3.2131932])"
     },
     "metadata": {},
     "execution_count": 63
    }
   ],
   "source": [
    "temp.values"
   ]
  },
  {
   "cell_type": "code",
   "execution_count": 66,
   "metadata": {},
   "outputs": [],
   "source": [
    "zipped = [x for x in zip(temp_index,temp_values)]"
   ]
  },
  {
   "cell_type": "code",
   "execution_count": 73,
   "metadata": {},
   "outputs": [],
   "source": [
    "feature_list = []\n",
    "for item in zipped:\n",
    "    to_add = f'{item[0]}-{item[1]:.1f}'\n",
    "    feature_list.append(to_add)"
   ]
  },
  {
   "cell_type": "code",
   "execution_count": 76,
   "metadata": {},
   "outputs": [
    {
     "output_type": "execute_result",
     "data": {
      "text/plain": "['woxww-11.4',\n 'woxm2-7.0',\n 'woxm2WG-5.0',\n 'AantalRest3-4.4',\n 'woxdelta1jr-3.2']"
     },
     "metadata": {},
     "execution_count": 76
    }
   ],
   "source": [
    "[f'{item[0]}-{item[1]:.1f}' for item in zip(temp_index,temp_values)]"
   ]
  },
  {
   "cell_type": "code",
   "execution_count": null,
   "metadata": {},
   "outputs": [],
   "source": []
  }
 ],
 "metadata": {
  "language_info": {
   "name": "python",
   "codemirror_mode": {
    "name": "ipython",
    "version": 3
   },
   "version": "3.7.4-final"
  },
  "orig_nbformat": 2,
  "file_extension": ".py",
  "mimetype": "text/x-python",
  "name": "python",
  "npconvert_exporter": "python",
  "pygments_lexer": "ipython3",
  "version": 3,
  "kernelspec": {
   "name": "python37464bitbaseconda242bb0ba9e57475e817de0db7bd613e8",
   "display_name": "Python 3.7.4 64-bit ('base': conda)"
  }
 },
 "nbformat": 4,
 "nbformat_minor": 2
}