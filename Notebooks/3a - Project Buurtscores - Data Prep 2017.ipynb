{
 "cells": [
  {
   "cell_type": "markdown",
   "metadata": {},
   "source": [
    "# Buurtscore project - maken datamodel 2017 voor analyse\n",
    "\n",
    "### Beschrijving\n",
    "Dit script laadt de data voor de analyse/modellen in, koppelt die, en doet benodigde bewerkingen om een datamodel te bouwen voor verder gebruik <br>\n",
    "\n",
    "Input<br>\n",
    "- Leefbaarometer, https://data.overheid.nl/dataset/leefbaarometer-2-0---meting-2016<br>\n",
    "- CBS: buurten, wijken, gemeenten: Drie kleinere bestanden op https://www.cbs.nl/nl-nl/maatwerk/2017/38/buurt-wijk-en-gemeente-2017-voor-postcode-huisnummer<br>\n",
    "- CBS: adressen koppelbestand: https://www.cbs.nl/nl-nl/maatwerk/2017/38/buurt-wijk-en-gemeente-2017-voor-postcode-huisnummer<br>\n",
    "- CBS: kerncijfers wijken en buurten, zowel in CBSODATA als hier: https://www.cbs.nl/nl-nl/maatwerk/2017/31/kerncijfers-wijken-en-buurten-2017\n",
    "- CBS: nabijheidsstatistieken over voorzieningen in buurten, zowel in CBSODATA als hier: https://www.cbs.nl/nl-nl/dossier/nederland-regionaal/wijk-en-buurtstatistieken/nabijheidsstatistieken-per-wijk-buurt\n",
    "\n",
    "- Calcasa: woningmarktprijsinformatie per wijk, Vesteda data<br>\n",
    "- Calcasa: woningmarktprijsinformatie per gemeente, Vesteda data<br>\n",
    "- Calcasa: woningvoorraad incl bouwjaren informatie per buurt, incl koop/huur splits, bestanden zijn gesplitst naar provincie, Vesteda data<br>\n",
    "N.B. van Calcasa is alleen de wijk/buurt/gemeentenamen per heden beschikbaar. De bronbestanden bevatten de waarden van 2017Q4. \n",
    "Calcasa bestanden bevatten geen codes om te matchen, alleen namen. \n",
    "\n",
    "\n",
    "Geen 2017 versie van en daarom niet inlezen: \n",
    "- Vesteda interne data: MobilityLabel: bereikbaarheidstabel per PC5 en markpotentie per gemeente<br>\n",
    "- ABF: data over midden en hoge inkomens per buurt (er is wel iets maar dat is alleen op gemeente niveau)<br>\n",
    "\n",
    "\n",
    "Output, in 2017 subdir:\n",
    "- bm = buurten main: Bestand met alle buurten van Nederland en informatie daarover; als input voor analyses van buurten gezamenlijk met wm en gm\n",
    "- wm = wijken main\n",
    "- gm = gemeenten main\n",
    "- buurten: bm,wm,gm samengevoegd"
   ]
  },
  {
   "cell_type": "markdown",
   "metadata": {},
   "source": [
    "### Declaraties"
   ]
  },
  {
   "cell_type": "code",
   "execution_count": 3,
   "metadata": {},
   "outputs": [],
   "source": [
    "# importeren packages\n",
    "# package odata installeren: pip install cbsodata (zie ook https://pypi.org/project/cbsodata/)\n",
    "import cbsodata\n",
    "import pandas as pd\n",
    "import numpy as np\n",
    "\n",
    "# setten source path: later moet alle brondata naar datalake\n",
    "source_path =\"P:\\\\DATASCIENCE\\\\Aantrekkelijkheid buurten\\\\Brondata\\\\2017\\\\\"\n",
    "# alle tussentijdse data voorlopig in dezelfde map op een schijf opslaan in\n",
    "save_path = \"P:\\\\DATASCIENCE\\\\Aantrekkelijkheid buurten\\\\Resultaten\\\\2017\\\\\"\n",
    "\n",
    "# jaar waarin gemeente op 1 januari een bevolking moet hebben om meegenomen te worden \n",
    "peiljaar = 2017"
   ]
  },
  {
   "cell_type": "markdown",
   "metadata": {},
   "source": [
    "### Inlezen buurtcodes en buurtnamen\n",
    "Bronbestand CBS van peiljaar inlezen (in dit geval 2017)"
   ]
  },
  {
   "cell_type": "code",
   "execution_count": 5,
   "metadata": {},
   "outputs": [],
   "source": [
    "# inladen master bestand buurtcodes. Verschil tov 2019 data is dat hier een unicode escape nodig is anders foutmeldingen met speciale tekens.\n",
    "buurten = pd.read_csv(source_path+'buurt'+str(peiljaar)+'.csv', sep=';', encoding='unicode_escape')\n",
    "# hernoemen kolommen\n",
    "buurten.columns=['buurtcode', 'buurtnaam']\n",
    "# kolom maken met buurtcodeLetters ten behoeve van mergen met andere bronnen\n",
    "buurten['buurtcodeLetters'] = 'BU' + buurten['buurtcode'].astype(str).str.zfill(8)"
   ]
  },
  {
   "cell_type": "markdown",
   "metadata": {},
   "source": [
    "### Inlezen wijkcodes en wijknamen"
   ]
  },
  {
   "cell_type": "code",
   "execution_count": 6,
   "metadata": {},
   "outputs": [],
   "source": [
    "wijken = pd.read_csv(source_path+'wijk'+str(peiljaar)+'.csv', sep=';', encoding='unicode_escape')\n",
    "# hernoemen kolommen\n",
    "wijken.columns=['wijkcode', 'wijknaam']"
   ]
  },
  {
   "cell_type": "markdown",
   "metadata": {},
   "source": [
    "### Inlezen gemeentecodes en gemeentenamen"
   ]
  },
  {
   "cell_type": "code",
   "execution_count": 7,
   "metadata": {},
   "outputs": [],
   "source": [
    "# inladen master bestand gemeenten\n",
    "gemeenten = pd.read_csv(source_path+'gem'+str(peiljaar)+'.csv', sep=';', encoding='unicode_escape')\n",
    "# hernoemen kolommen\n",
    "gemeenten.columns=['gemeentecode', 'gemeentenaam']"
   ]
  },
  {
   "cell_type": "markdown",
   "metadata": {},
   "source": [
    "### Wijkcodes, wijknamen, gemeentecodes, gemeentenamen toevoegen aan buurten<br>En gemeentecodes, gemeentenamen toevoegen aan wijken\n",
    "Dit is gebaseerd op uitgangspunten: <br>\n",
    "1. Een wijkcode is af te leiden uit de buurtcodes door de laatste twee cijfers van de buurtcode te verwijderen <br>\n",
    "2. Een gemeentecode is af te leiden uit de wijkcode door de laatste twee cijfers van de wijkcode te verwijderen <br>\n",
    "Dit moet altijd kloppen, ook na herindelingen.(voor 2019 situatie gecheckt met koppeltabel)."
   ]
  },
  {
   "cell_type": "code",
   "execution_count": 8,
   "metadata": {},
   "outputs": [],
   "source": [
    "buurten['wijkcode'] = buurten['buurtcode'].astype(str).str[:-2].astype(np.int64)\n",
    "buurten = pd.merge(buurten, wijken, how='left', on='wijkcode')\n",
    "\n",
    "buurten['gemeentecode'] = buurten['wijkcode'].astype(str).str[:-2].astype(np.int64)\n",
    "buurten = pd.merge(buurten, gemeenten, how='left', on='gemeentecode')\n",
    "\n",
    "wijken['gemeentecode'] = wijken['wijkcode'].astype(str).str[:-2].astype(np.int64)\n",
    "wijken = pd.merge(wijken, gemeenten, how='left', on='gemeentecode')"
   ]
  },
  {
   "cell_type": "markdown",
   "metadata": {},
   "source": [
    "### Ophalen regionale kerncijfers van CBS ODATA"
   ]
  },
  {
   "cell_type": "code",
   "execution_count": 9,
   "metadata": {},
   "outputs": [],
   "source": [
    "# dit tabelnummer 84583 is de versie van 2019; 83765 is de versie van 2017. \n",
    "kerncijfers = pd.DataFrame(cbsodata.get_data('83765NED'))"
   ]
  },
  {
   "cell_type": "markdown",
   "metadata": {},
   "source": [
    "### Toevoegen regionale kerncijfers aan buurten. Alleen relevante kolommen. \n",
    "Het bronbestand regionale kerncijfers telt ruim 100 kolommen. Hiervan zijn er maar ca 5 nodig.<br>\n",
    "Daarnaast alleen de rijen gebruiken die buurtinformatie bevatten, dus weggooien alle andere rijen."
   ]
  },
  {
   "cell_type": "code",
   "execution_count": 10,
   "metadata": {},
   "outputs": [],
   "source": [
    "# filteren alleen buurt: SoortRegio_2 = Buurt met 5 spaties\n",
    "kerncijfersBuurt = kerncijfers.loc[kerncijfers['SoortRegio_2'] == 'Buurt     ']\n",
    "\n",
    "# selecteren relevante kolommen\n",
    "keepcols  = ['Codering_3', 'AantalInwoners_5', 'Bevolkingsdichtheid_33', 'Omgevingsadressendichtheid_105', \n",
    "             'HuishoudensTotaal_28', 'k_65JaarOfOuder_12']\n",
    "kerncijfersBuurt = kerncijfersBuurt[keepcols]\n",
    "# hernoemen kolomnamen\n",
    "kerncijfersBuurt.columns=['buurtcodeLetters', 'inw', 'bevdh', 'oadh', 'hh', 'inw65' ]"
   ]
  },
  {
   "cell_type": "markdown",
   "metadata": {},
   "source": [
    "### Introductie bm: buurten Main"
   ]
  },
  {
   "cell_type": "code",
   "execution_count": 11,
   "metadata": {},
   "outputs": [],
   "source": [
    "# toevoegen kerncijfers aan masterbestand gematcht op buurtcodeLetters\n",
    "# hier wordt bm geintroduceerd: buurten bestand MAIN. \n",
    "bm=pd.merge(buurten, kerncijfersBuurt, how='left', on='buurtcodeLetters')"
   ]
  },
  {
   "cell_type": "markdown",
   "metadata": {},
   "source": [
    "### Ophalen leefbaarometer"
   ]
  },
  {
   "cell_type": "code",
   "execution_count": 12,
   "metadata": {},
   "outputs": [],
   "source": [
    "# inlezen leefbaarheidsexcels\n",
    "leefbaarheid=pd.read_excel(source_path+ 'Score_Buurt.xlsx', sheet_name='data')\n",
    "dimensiescore=pd.read_excel(source_path+ 'dimensiescore_Buurt (stand).xlsx', sheet_name='data(2)')"
   ]
  },
  {
   "cell_type": "markdown",
   "metadata": {},
   "source": [
    "### Toevoegen leefbaarometer op buurtniveau aan buurten\n",
    "Kolommen selecteren en hernoemen<br>\n",
    "Matchen<br>\n",
    "Opmerkingen:\n",
    "1. Er zijn buurten die niet meer bestaan in de CBS buurten maar nog wel in de leefbarometer Dat komt door herindelingen. Dit is waarschijnlijk de andere kant van het volgende punt<br>\n",
    "2. Er bleken  buurten die wel bestaan in CBS buurten maar niet in leefbarometer. Itt 2019 data is dat hier voor 2017 niet op te lossen want er zijn geen historische buurtcodes<br>\n",
    "3. daarnaast zijn er buurten andere grenzen hebben gekregen."
   ]
  },
  {
   "cell_type": "code",
   "execution_count": 13,
   "metadata": {},
   "outputs": [],
   "source": [
    "# selecteren relevante kolommen score\n",
    "keepcols =['BU_CODE', 'KL14', 'KL16', 'VKL1416']\n",
    "leefbaarheid=leefbaarheid[keepcols]\n",
    "\n",
    "# hernoemen sleutelkolom tbv samenvoegen\n",
    "leefbaarheid.columns = ['buurtcodeLetters', 'KL14', 'KL16', 'VKL1416']\n",
    "\n",
    "# selecteren relevante kolommen dimensiescore\n",
    "keepcols =['GBD', 'RLBRMTR14', 'RLBWON14', 'RLBBEV14','RLBVRZ14', 'RLBVEI14', 'RLBFYS14',\n",
    "           'RLBRMTR16', 'RLBWON16', 'RLBBEV16', 'RLBVRZ16', 'RLBVEI16', 'RLBFYS16']\n",
    "\n",
    "# hernoemen sleutelkolom tbv samenvoegen\n",
    "dimensiescore=dimensiescore[keepcols]\n",
    "dimensiescore.columns = ['buurtcodeLetters', 'RLBRMTR14', 'RLBWON14', 'RLBBEV14', 'RLBVRZ14', 'RLBVEI14', 'RLBFYS14',\n",
    "                         'RLBRMTR16', 'RLBWON16', 'RLBBEV16', 'RLBVRZ16', 'RLBVEI16', 'RLBFYS16']"
   ]
  },
  {
   "cell_type": "markdown",
   "metadata": {},
   "source": [
    "### Toevoegen leefbaarheidsinfo obv buurtode"
   ]
  },
  {
   "cell_type": "code",
   "execution_count": 14,
   "metadata": {},
   "outputs": [],
   "source": [
    "# samenvoegen\n",
    "bm=pd.merge(bm, leefbaarheid, how='left', on='buurtcodeLetters')\n",
    "# toevoegen dimensiescore info\n",
    "bm=pd.merge(bm, dimensiescore, how ='left', on= 'buurtcodeLetters')"
   ]
  },
  {
   "cell_type": "markdown",
   "metadata": {},
   "source": [
    "### Ophalen voorzieningen informatie CBS\n",
    "Deze tabel heet nabijheidsstatistieken en is nodig omdat diverse nabijheidsinformatie in de regionale kerncijfers leeg was. \n",
    "Versie 2017 heet 84334"
   ]
  },
  {
   "cell_type": "code",
   "execution_count": 15,
   "metadata": {},
   "outputs": [],
   "source": [
    "nabij = pd.DataFrame(cbsodata.get_data('84334NED'))"
   ]
  },
  {
   "cell_type": "markdown",
   "metadata": {},
   "source": [
    "### Toevoegen voorzieningen / nabijheids informatie aan buurten\n",
    "er zijn hier ca 70 interessante indicatoren, hieronder een eerste selectie, wellicht tzt nog eens alle 70 bekijken en\n",
    "beoordelen op samenhang!"
   ]
  },
  {
   "cell_type": "code",
   "execution_count": 16,
   "metadata": {},
   "outputs": [],
   "source": [
    "# filteren alleen buurt: SoortRegio_2 = Buurt met 5 spaties\n",
    "# LET OP hier wordt info op wijkniveau weggegooid, dat is jammer want er ontbreekt veel op buurtniveau!\n",
    "nabij = nabij.loc[nabij['SoortRegio_2'] == 'Buurt     ']\n",
    "\n",
    "# selecteren relevante kolommen. Totaal zijn er 70 waarvan veel overlap. Dit is een eerste selectie met interessante kandidaten.\n",
    "# de kolomnamen 19 en 17 zijn gelukkig allemaal gelijk\n",
    "keepcols  = ['Codering_3', 'AfstandTotGroteSupermarkt_24', 'Binnen3Km_30', 'AfstandTotHuisartsenpraktijk_5', 'Binnen3Km_38', \n",
    "             'Binnen3Km_46', 'Binnen1Km_53', 'AfstandTotZwembad_93', 'Binnen10Km_97', 'Binnen10Km_101', 'Binnen5Km_105']\n",
    "nabij= nabij[keepcols]\n",
    "\n",
    "# hernoemen kolomnamen\n",
    "nabij.columns= ['buurtcodeLetters','AfstandSupermarkt', 'AantalLevensm3', 'AfstandHuisarts', 'AantalCafe3', 'AantalRest3', \n",
    "                     'AantalKinderopvang1', 'AfstandZwembad', 'AantalMusea10', 'AantalPodiumk10', 'AantalBios5']"
   ]
  },
  {
   "cell_type": "code",
   "execution_count": 17,
   "metadata": {},
   "outputs": [],
   "source": [
    "# hernoemen kolomnamen\n",
    "nabij.columns= ['buurtcodeLetters','AfstandSupermarkt', 'AantalLevensm3', 'AfstandHuisarts', 'AantalCafe3', 'AantalRest3', \n",
    "                     'AantalKinderopvang1', 'AfstandZwembad', 'AantalMusea10', 'AantalPodiumk10', 'AantalBios5']"
   ]
  },
  {
   "cell_type": "code",
   "execution_count": 18,
   "metadata": {},
   "outputs": [],
   "source": [
    "# toevoegen aan buurtmain obv buurtcodeLetters\n",
    "bm=pd.merge(bm, nabij, how='left', on='buurtcodeLetters')"
   ]
  },
  {
   "cell_type": "markdown",
   "metadata": {},
   "source": [
    "### Ophalen Calcasa info wijk en gemeente\n",
    "Huizenprijs ontwikkelingen zijn op wijkniveau veel completer beschikbaar dan op buurtniveau. Daarom op wijkniveau. \n",
    "Omdat er vergeleken gaat worden met gemeente niveau moet er ook info op gemeenteniveau worden ingelezen. \n",
    "\n",
    "Woningvoorraad en koop/huur split echter wel gebruiken op buurtniveau, omdat daar beschikbaarheid goed is."
   ]
  },
  {
   "cell_type": "code",
   "execution_count": 19,
   "metadata": {},
   "outputs": [],
   "source": [
    "# inlezen Calcasa xlsx wijken.\n",
    "calcWijk = pd.read_excel(source_path + 'calcasa wijken 2017q4.xlsx', na_values='-')\\\n",
    "# verwijderen 1e regel die bevat de datum\n",
    "calcWijk =  calcWijk.iloc[1:]\n",
    "# hernoemen kolommen\n",
    "calcWijk.columns = ['wijknaam', 'gemeentenaam', 'wox', 'woxdelta1jr', 'woxdelta5jr', 'woxww', 'woxm2']\n",
    "# verwijderen de laatste regel die bevat Bron: Calcasa\n",
    "calcWijk = calcWijk[~calcWijk.wijknaam.str.contains(\"Calcasa\")]\n",
    "\n",
    "# verwijderen rijen met alleen maar nullen want ca 100 wijken van de 1300 bevatten alleen maar nullen d.i. naN\n",
    "# Dit zijn vnl bedrijventerreinen.\n",
    "# door deze verwijdering vervalt ook het dubbel voorkomen van Kraggenburg-bedrijventerrein binnen dezelfde gemeente. \n",
    "calcWijk.dropna(axis=0, subset=['wox', 'woxdelta1jr', 'woxdelta5jr', 'woxww', 'woxm2'], how='all', inplace=True)"
   ]
  },
  {
   "cell_type": "code",
   "execution_count": 20,
   "metadata": {},
   "outputs": [],
   "source": [
    "# inlezen Calcasa xlsx gemeenten. N.b. moet zelfde peildatum als wijken hebben \n",
    "calcGem = pd.read_excel(source_path + 'calcasa gemeenten 2017q4.xlsx', na_values='-')\n",
    "# verwijderen 1e regel die bevat de datum\n",
    "calcGem =  calcGem.iloc[1:]\n",
    "calcGem.columns = ['gemeentenaam', 'woxGem', 'woxdelta1jrGem', 'woxdelta5jrGem', 'woxwwGem', 'woxm2Gem']\n",
    "# verwijderen laatste regel die bevat bron: Calcasa\n",
    "calcGem = calcGem[~calcGem.gemeentenaam.str.contains(\"Calcasa\")]"
   ]
  },
  {
   "cell_type": "markdown",
   "metadata": {},
   "source": [
    "### Afleiden nieuwe kolommen  die wijk en gemeente vergelijken Calcasa info"
   ]
  },
  {
   "cell_type": "code",
   "execution_count": 21,
   "metadata": {},
   "outputs": [],
   "source": [
    "# toevoegen calcGem aan calcWijk\n",
    "calcWijk=pd.merge(calcWijk, calcGem, how='left', on=['gemeentenaam'])\n",
    "# afleiden kolom absoluut verschil 5jrs delta wijk en gem, uitkomst is een percentage\n",
    "calcWijk['woxdelta5jrWGabs'] = calcWijk['woxdelta5jr'] - calcWijk['woxdelta5jrGem']\n",
    "# afleiden kolom relatief verschil 5jrs delta wijk en gem\n",
    "calcWijk['woxdelta5jrWGrel'] = calcWijk['woxdelta5jr'] / calcWijk['woxdelta5jrGem']\n",
    "# afleiden kolom verschil m2 prijs wijk en gem\n",
    "calcWijk['woxm2WG'] = calcWijk['woxm2'] / calcWijk['woxm2Gem']"
   ]
  },
  {
   "cell_type": "markdown",
   "metadata": {},
   "source": [
    "### Toevoegen Calcasa info aan wijken"
   ]
  },
  {
   "cell_type": "code",
   "execution_count": 22,
   "metadata": {},
   "outputs": [],
   "source": [
    "# introducie wm: wijken main\n",
    "# matchen aan de hand van wijknaam en gemeentenaam. Code niet aanwezig dus dat kan niet. \n",
    "# En alleen matchen op wijknaam geeft dubbelen.  Daarom inclusief gemeentenaam. \n",
    "wm=pd.merge(wijken, calcWijk, how='left', on=['wijknaam', 'gemeentenaam'])"
   ]
  },
  {
   "cell_type": "markdown",
   "metadata": {},
   "source": [
    "### Ophalen Calcasa op buurtniveau mbt woningvoorraad en koop/huur"
   ]
  },
  {
   "cell_type": "code",
   "execution_count": 23,
   "metadata": {},
   "outputs": [],
   "source": [
    "# functie declareren die alle deelbestanden inleest en samenvoegt\n",
    "def prov():\n",
    "    # eerst de dfwv opbouwen met een eerste provincie\n",
    "    provincie='NB'\n",
    "    prov = pd.read_excel(source_path + 'calcasa wv bouwjaren 2017Q4 ' + provincie + '.xlsx', na_values='-')\n",
    "    # verwijderen 1e regel die bevat de datum\n",
    "    prov =  prov.iloc[1:]\n",
    "    # hernoemen kolommen\n",
    "    prov.columns = ['buurtnaam', 'gemeentenaam', 'wvtotaal', 'wvkoop', 'wvhuursoc', 'wvhuurov', \n",
    "                    'wv<1945', 'wv1945-1970', 'wv1970-1980', 'wv1980-1990', 'wv1990-2000', 'wv2000-2010', 'wv>=2010']\n",
    "    # verwijderen laatste regel die bevat bron: Calcasa\n",
    "    prov = prov[~prov.buurtnaam.str.contains(\"Calcasa\")]\n",
    "    #print(prov.head())\n",
    "    #print('aantal rijen na verwerken van NB: ', len(prov))\n",
    "    dfwv = prov\n",
    "    \n",
    "    # hier de dfwv steeds uitbreiden met een provincie\n",
    "    for provincie in ['ZE', 'ZH', 'LI', 'OV', 'GE', 'DR', 'FL', 'FR', 'GR', 'NH', 'UT']:\n",
    "        prov = pd.read_excel(source_path + 'calcasa wv bouwjaren 2017Q4 ' + provincie + '.xlsx', na_values='-')\n",
    "        # verwijderen 1e regel die bevat de datum\n",
    "        prov =  prov.iloc[1:]\n",
    "        # hernoemen kolommen\n",
    "        prov.columns = ['buurtnaam', 'gemeentenaam', 'wvtotaal', 'wvkoop', 'wvhuursoc', 'wvhuurov', \n",
    "                        'wv<1945', 'wv1945-1970', 'wv1970-1980', 'wv1980-1990', 'wv1990-2000', 'wv2000-2010', 'wv>=2010']\n",
    "        # verwijderen laatste regel die bevat bron: Calcasa\n",
    "        prov = prov[~prov.buurtnaam.str.contains(\"Calcasa\")]\n",
    "        # toevoegen aan main\n",
    "        dfwv = dfwv.append(prov, ignore_index=True)\n",
    "        # LAB versie statement\n",
    "        #print('aantal rijen na verwerken van', provincie, ': ', len(dfwv))\n",
    "    return dfwv"
   ]
  },
  {
   "cell_type": "code",
   "execution_count": 24,
   "metadata": {},
   "outputs": [],
   "source": [
    "#aanroepen van de functie\n",
    "dfwv=prov()"
   ]
  },
  {
   "cell_type": "code",
   "execution_count": 25,
   "metadata": {},
   "outputs": [],
   "source": [
    "# merge sleutel maken. Hier wordt gematcht op buurtnaam. \n",
    "dfwv['sleutel'] = dfwv['gemeentenaam']+dfwv['buurtnaam']\n",
    "bm['sleutel'] = bm['gemeentenaam']+bm['buurtnaam']"
   ]
  },
  {
   "cell_type": "code",
   "execution_count": 26,
   "metadata": {},
   "outputs": [],
   "source": [
    "# verwijderen rijen die dubbel voorkomen\n",
    "# verwijderen kolommen\n",
    "\n",
    "eruit = dfwv[dfwv.duplicated(['sleutel'])]\n",
    "# de dubbele sleutels in wv moeten worden opgelost. bv. Sterrenbuurt in Lansingerland: betreft 2 andere plaatsen. Dimensie wijk \n",
    "# erbij was handig geweest! Voor nu makkelijkste oplossing eruit gooien. \n",
    "dfwv =  dfwv[~dfwv.sleutel.isin(eruit['sleutel'])]\n",
    "\n",
    "# verwijderen gemeentenaam en buurtnaam uit dfwv anders worden deze kolommen gedupliceerd\n",
    "dfwv.drop(columns=['gemeentenaam', 'buurtnaam'], inplace=True)"
   ]
  },
  {
   "cell_type": "code",
   "execution_count": 27,
   "metadata": {},
   "outputs": [],
   "source": [
    "# kolommen toeovegen voor de procentuele aandelen van elke bouwperiode en koop/huur verdeling\n",
    "dfwv.fillna(0, inplace = True) \n",
    "dfwv['aand<1945'] = dfwv['wv<1945'] / dfwv['wvtotaal']\n",
    "dfwv['aand1945-1970'] = dfwv['wv1945-1970'] / dfwv['wvtotaal']\n",
    "dfwv['aand1970-1980'] = dfwv['wv1970-1980'] / dfwv['wvtotaal']\n",
    "dfwv['aand1980-1990'] = dfwv['wv1980-1990'] / dfwv['wvtotaal']\n",
    "dfwv['aand1990-2000'] = dfwv['wv1990-2000'] / dfwv['wvtotaal']\n",
    "dfwv['aand2000-2010'] = dfwv['wv2000-2010'] / dfwv['wvtotaal']\n",
    "dfwv['aand>=2010'] = dfwv['wv>=2010'] / dfwv['wvtotaal']\n",
    "dfwv['aandkoop'] = dfwv['wvkoop'] / dfwv['wvtotaal']\n",
    "dfwv['aandhuursoc'] = dfwv['wvhuursoc'] / dfwv['wvtotaal']\n",
    "dfwv['aandhuurov'] = dfwv['wvhuurov'] / dfwv['wvtotaal']"
   ]
  },
  {
   "cell_type": "code",
   "execution_count": 28,
   "metadata": {},
   "outputs": [],
   "source": [
    "# toevoegen wv info aan bm\n",
    "bm = pd.merge(bm, dfwv, how='left', on=['sleutel'])"
   ]
  },
  {
   "cell_type": "markdown",
   "metadata": {},
   "source": [
    "### gemeenten\n",
    "Geen bewerkingen want geen MP in de 2017 versie"
   ]
  },
  {
   "cell_type": "code",
   "execution_count": 27,
   "metadata": {},
   "outputs": [],
   "source": [
    "gm = gemeenten"
   ]
  },
  {
   "cell_type": "markdown",
   "metadata": {},
   "source": [
    "### Opslaan resultaten als csv"
   ]
  },
  {
   "cell_type": "code",
   "execution_count": 28,
   "metadata": {},
   "outputs": [],
   "source": [
    "# drie basisbestanden\n",
    "bm.to_csv(save_path+'bm.csv', encoding='utf-16', index=False)\n",
    "wm.to_csv(save_path+'wm.csv', encoding='utf-16', index=False)\n",
    "gm.to_csv(save_path+'gm.csv', encoding='utf-16', index=False)"
   ]
  },
  {
   "cell_type": "code",
   "execution_count": 29,
   "metadata": {},
   "outputs": [],
   "source": [
    "# samengestelde csv. om dubbele kolommen te voorkomen eerst droppen bepaalde kolommen\n",
    "wm.drop(columns=['wijknaam', 'gemeentecode', 'gemeentenaam'], inplace=True)\n",
    "gm.drop(columns=['gemeentenaam'], inplace=True)\n",
    "\n",
    "buurten=pd.merge(bm, wm, how='left', on ='wijkcode')\n",
    "buurten=pd.merge(buurten, gm, how='left', on ='gemeentecode')\n",
    "\n",
    "buurten.to_csv(save_path+'buurten.csv', encoding='utf-16', index=False)"
   ]
  },
  {
   "cell_type": "code",
   "execution_count": null,
   "metadata": {},
   "outputs": [],
   "source": []
  }
 ],
 "metadata": {
  "kernelspec": {
   "display_name": "Python 3",
   "language": "python",
   "name": "python3"
  },
  "language_info": {
   "codemirror_mode": {
    "name": "ipython",
    "version": 3
   },
   "file_extension": ".py",
   "mimetype": "text/x-python",
   "name": "python",
   "nbconvert_exporter": "python",
   "pygments_lexer": "ipython3",
   "version": "3.7.4"
  }
 },
 "nbformat": 4,
 "nbformat_minor": 2
}
