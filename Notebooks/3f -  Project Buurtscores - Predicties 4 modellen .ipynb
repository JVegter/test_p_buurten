{
 "nbformat": 4,
 "nbformat_minor": 2,
 "metadata": {
  "language_info": {
   "name": "python",
   "codemirror_mode": {
    "name": "ipython",
    "version": 3
   },
   "version": "3.7.4-final"
  },
  "orig_nbformat": 2,
  "file_extension": ".py",
  "mimetype": "text/x-python",
  "name": "python",
  "npconvert_exporter": "python",
  "pygments_lexer": "ipython3",
  "version": 3,
  "kernelspec": {
   "name": "python37464bitbaseconda242bb0ba9e57475e817de0db7bd613e8",
   "display_name": "Python 3.7.4 64-bit ('base': conda)"
  }
 },
 "cells": [
  {
   "cell_type": "code",
   "execution_count": 1,
   "metadata": {},
   "outputs": [],
   "source": [
    "# importeren packages\n",
    "import pandas as pd\n",
    "import numpy as np\n",
    "#conda install -c anaconda py-xgboost #installeer XGBoost\n",
    "import xgboost\n",
    "import pickle\n",
    "from sklearn.preprocessing import RobustScaler\n",
    "from sklearn.metrics import accuracy_score, confusion_matrix\n",
    "import numpy as np\n",
    "#conda install -c anaconda py-xgboost #installeer XGBoost\n",
    "import xgboost\n",
    "#from xgboost import XGBClassifier\n",
    "from xgboost import plot_importance\n",
    "from sklearn.model_selection import train_test_split, RandomizedSearchCV, GridSearchCV, KFold, cross_val_score"
   ]
  },
  {
   "cell_type": "code",
   "execution_count": 2,
   "metadata": {},
   "outputs": [],
   "source": [
    "# setten source path: later moet alle brondata naar datalake\n",
    "source_path =\"P:\\\\DATASCIENCE\\\\Aantrekkelijkheid buurten\\\\Resultaten\\\\\"\n",
    "# alle tussentijdse data voorlopig in dezelfde map op een schijf opslaan in\n",
    "save_path = \"P:\\\\DATASCIENCE\\\\Aantrekkelijkheid buurten\\\\Resultaten\\\\\""
   ]
  },
  {
   "cell_type": "code",
   "execution_count": 3,
   "metadata": {},
   "outputs": [],
   "source": [
    "# inladen bestand met alle buurten en onafhankelijke variabelen als all\n",
    "buurtendata = pd.read_csv(source_path + 'buurten.csv', encoding='utf-16')\n",
    "buurtendata.rename(columns={\"RLBBEV18\":\"RLBBEV\",'KL18': \"KL\", \n",
    "               'RLBRMTR18': 'RLBRMTR', 'RLBWON18':'RLBWON' , 'RLBBEV18':'RLBBEV', 'RLBVRZ18':'RLBVRZ', 'RLBVEI18': 'RLBVEI', 'RLBFYS18': 'RLBFYS',}, inplace=True) "
   ]
  },
  {
   "cell_type": "code",
   "execution_count": 4,
   "metadata": {},
   "outputs": [],
   "source": [
    "# inladen bestand met scores als sc\n",
    "sc = pd.read_excel(source_path + 'buurten voor experts 2e ronde.xlsx', sheet_name='buurten')\n",
    "# alleen selecteren kolommen voor scores en oordelen\n",
    "sc = sc[['buurtcode','EE','TK']]"
   ]
  },
  {
   "cell_type": "code",
   "execution_count": 5,
   "metadata": {},
   "outputs": [],
   "source": [
    "# merge op buurtcode (die van 2019)\n",
    "df = pd.merge(sc, buurtendata, on='buurtcode')"
   ]
  },
  {
   "cell_type": "code",
   "execution_count": 6,
   "metadata": {},
   "outputs": [],
   "source": [
    "# minus de kolommen die niet in de 2016 dataset aanwezig zijn\n",
    "feature_cols = ['AantalCafe3', 'woxdelta5jr', 'woxm2', 'woxww',\n",
    "       'woxdelta5jrGem', 'wox', 'RLBBEV',\n",
    "       'RLBVRZ', 'AantalLevensm3', 'woxm2WG', 'aand1945-1970',\n",
    "       'woxdelta5jrWGabs', 'woxdelta1jrGem', 'AantalPodiumk10',\n",
    "       'wv2000-2010', 'AantalBios5']\n",
    "       \n",
    "X = df[feature_cols]\n",
    "y = df['EE']"
   ]
  },
  {
   "cell_type": "code",
   "execution_count": 7,
   "metadata": {},
   "outputs": [],
   "source": [
    "X_train, X_test, y_train, y_test = train_test_split(X, y, test_size=0.25, random_state=2)"
   ]
  },
  {
   "cell_type": "code",
   "execution_count": 9,
   "metadata": {},
   "outputs": [
    {
     "output_type": "execute_result",
     "data": {
      "text/plain": "XGBClassifier(base_score=0.5, booster='gbtree', colsample_bylevel=1,\n              colsample_bynode=1, colsample_bytree=0.7, gamma=0.2, gpu_id=-1,\n              importance_type='gain', interaction_constraints=None,\n              learning_rate=0.15, max_delta_step=0, max_depth=7,\n              min_child_weight=3, missing=nan, monotone_constraints=None,\n              n_estimators=250, n_jobs=1, nthread=1, num_parallel_tree=1,\n              objective='multi:softprob', random_state=0, reg_alpha=0,\n              reg_lambda=1, scale_pos_weight=1, seed=2, silent=None,\n              subsample=0.8, tree_method=None, validate_parameters=False,\n              verbosity=1)"
     },
     "metadata": {},
     "execution_count": 9
    }
   ],
   "source": [
    "# maak object met geoptimaliseerde hyperparameters\n",
    "model = xgboost.XGBClassifier(base_score=0.5, booster='gbtree', colsample_bylevel=1,\n",
    "              colsample_bynode=1, colsample_bytree=0.7, gamma=0.2,\n",
    "              learning_rate=0.15, max_delta_step=0, max_depth=7,\n",
    "              min_child_weight=3, missing=None, n_estimators=250, n_jobs=1,\n",
    "              nthread=None, objective='multi:softprob', random_state=0,\n",
    "              reg_alpha=0, reg_lambda=1, scale_pos_weight=1, seed=2,\n",
    "              silent=None, subsample=0.8, verbosity=1)\n",
    "\n",
    "# en fit op data\n",
    "model.fit(X_train, y_train)"
   ]
  },
  {
   "cell_type": "code",
   "execution_count": 10,
   "metadata": {},
   "outputs": [
    {
     "output_type": "stream",
     "name": "stdout",
     "text": "0.9920948616600791 \n 0.9176470588235294 \n [[38  1  0]\n [ 3 25  2]\n [ 1  0 15]]\n"
    }
   ],
   "source": [
    "y_pred = model.predict(X_test)\n",
    "y_train_pred = model.predict(X_train)\n",
    "\n",
    "train_accuracy = accuracy_score(y_train,y_train_pred)\n",
    "test_accuracy = accuracy_score(y_test,y_pred)\n",
    "cm = confusion_matrix(y_test, y_pred)\n",
    "print(train_accuracy, '\\n',test_accuracy,'\\n', cm)"
   ]
  },
  {
   "cell_type": "code",
   "execution_count": 11,
   "metadata": {},
   "outputs": [
    {
     "output_type": "execute_result",
     "data": {
      "text/plain": "                  feature_score           feature\nwoxm2                  0.223192             woxm2\nwoxww                  0.152606             woxww\nwoxm2WG                0.102962           woxm2WG\nwoxdelta1jrGem         0.082279    woxdelta1jrGem\nAantalPodiumk10        0.078607   AantalPodiumk10\nwox                    0.073167               wox\nwoxdelta5jr            0.061225       woxdelta5jr\nwoxdelta5jrWGabs       0.036442  woxdelta5jrWGabs\nwv2000-2010            0.032491       wv2000-2010\nRLBBEV                 0.029391            RLBBEV\naand1945-1970          0.026352     aand1945-1970\nRLBVRZ                 0.024363            RLBVRZ\nAantalCafe3            0.021436       AantalCafe3\nAantalLevensm3         0.019692    AantalLevensm3\nwoxdelta5jrGem         0.018342    woxdelta5jrGem\nAantalBios5            0.017453       AantalBios5",
      "text/html": "<div>\n<style scoped>\n    .dataframe tbody tr th:only-of-type {\n        vertical-align: middle;\n    }\n\n    .dataframe tbody tr th {\n        vertical-align: top;\n    }\n\n    .dataframe thead th {\n        text-align: right;\n    }\n</style>\n<table border=\"1\" class=\"dataframe\">\n  <thead>\n    <tr style=\"text-align: right;\">\n      <th></th>\n      <th>feature_score</th>\n      <th>feature</th>\n    </tr>\n  </thead>\n  <tbody>\n    <tr>\n      <td>woxm2</td>\n      <td>0.223192</td>\n      <td>woxm2</td>\n    </tr>\n    <tr>\n      <td>woxww</td>\n      <td>0.152606</td>\n      <td>woxww</td>\n    </tr>\n    <tr>\n      <td>woxm2WG</td>\n      <td>0.102962</td>\n      <td>woxm2WG</td>\n    </tr>\n    <tr>\n      <td>woxdelta1jrGem</td>\n      <td>0.082279</td>\n      <td>woxdelta1jrGem</td>\n    </tr>\n    <tr>\n      <td>AantalPodiumk10</td>\n      <td>0.078607</td>\n      <td>AantalPodiumk10</td>\n    </tr>\n    <tr>\n      <td>wox</td>\n      <td>0.073167</td>\n      <td>wox</td>\n    </tr>\n    <tr>\n      <td>woxdelta5jr</td>\n      <td>0.061225</td>\n      <td>woxdelta5jr</td>\n    </tr>\n    <tr>\n      <td>woxdelta5jrWGabs</td>\n      <td>0.036442</td>\n      <td>woxdelta5jrWGabs</td>\n    </tr>\n    <tr>\n      <td>wv2000-2010</td>\n      <td>0.032491</td>\n      <td>wv2000-2010</td>\n    </tr>\n    <tr>\n      <td>RLBBEV</td>\n      <td>0.029391</td>\n      <td>RLBBEV</td>\n    </tr>\n    <tr>\n      <td>aand1945-1970</td>\n      <td>0.026352</td>\n      <td>aand1945-1970</td>\n    </tr>\n    <tr>\n      <td>RLBVRZ</td>\n      <td>0.024363</td>\n      <td>RLBVRZ</td>\n    </tr>\n    <tr>\n      <td>AantalCafe3</td>\n      <td>0.021436</td>\n      <td>AantalCafe3</td>\n    </tr>\n    <tr>\n      <td>AantalLevensm3</td>\n      <td>0.019692</td>\n      <td>AantalLevensm3</td>\n    </tr>\n    <tr>\n      <td>woxdelta5jrGem</td>\n      <td>0.018342</td>\n      <td>woxdelta5jrGem</td>\n    </tr>\n    <tr>\n      <td>AantalBios5</td>\n      <td>0.017453</td>\n      <td>AantalBios5</td>\n    </tr>\n  </tbody>\n</table>\n</div>"
     },
     "metadata": {},
     "execution_count": 11
    }
   ],
   "source": [
    "fi = pd.DataFrame(model.feature_importances_,X_train.columns)\n",
    "fi.columns = ['feature_score']\n",
    "fi.sort_values('feature_score', ascending=False, inplace=True)\n",
    "fi['feature'] = fi.index\n",
    "fi"
   ]
  },
  {
   "cell_type": "code",
   "execution_count": null,
   "metadata": {},
   "outputs": [],
   "source": [
    "# Het opslaan van het model\n",
    "file_name = \"models/final_model_EE_wox.pkl\"\n",
    "pickle.dump(model, open(file_name, \"wb\"))"
   ]
  },
  {
   "cell_type": "markdown",
   "metadata": {},
   "source": [
    "## Volledige dataset voorspelling\n",
    "Hier testen we de accuracy als wij een getraind model gebruiken om de volledige dataset te voorspellen."
   ]
  },
  {
   "cell_type": "code",
   "execution_count": 30,
   "metadata": {},
   "outputs": [],
   "source": [
    "# Wel enkel de kolommen nodig waarop ons model is getraind\n",
    "X_pred = buurtendata[feature_cols]\n",
    "X_pred = pd.DataFrame(X_pred)\n",
    "X_pred.columns = feature_cols"
   ]
  },
  {
   "cell_type": "code",
   "execution_count": 31,
   "metadata": {},
   "outputs": [
    {
     "output_type": "error",
     "ename": "NameError",
     "evalue": "name 'model' is not defined",
     "traceback": [
      "\u001b[1;31m---------------------------------------------------------------------------\u001b[0m",
      "\u001b[1;31mNameError\u001b[0m                                 Traceback (most recent call last)",
      "\u001b[1;32m<ipython-input-31-d910f097f168>\u001b[0m in \u001b[0;36m<module>\u001b[1;34m\u001b[0m\n\u001b[0;32m      1\u001b[0m \u001b[1;31m# Dit is het erwin model dus deze waarde voorspellen wij\u001b[0m\u001b[1;33m\u001b[0m\u001b[1;33m\u001b[0m\u001b[1;33m\u001b[0m\u001b[0m\n\u001b[1;32m----> 2\u001b[1;33m \u001b[0mX_pred\u001b[0m\u001b[1;33m[\u001b[0m\u001b[1;34m'EE_preds'\u001b[0m\u001b[1;33m]\u001b[0m \u001b[1;33m=\u001b[0m \u001b[0mmodel\u001b[0m\u001b[1;33m.\u001b[0m\u001b[0mpredict\u001b[0m\u001b[1;33m(\u001b[0m\u001b[0mX_pred\u001b[0m\u001b[1;33m)\u001b[0m\u001b[1;33m\u001b[0m\u001b[1;33m\u001b[0m\u001b[0m\n\u001b[0m\u001b[0;32m      3\u001b[0m \u001b[0mX_pred\u001b[0m\u001b[1;33m[\u001b[0m\u001b[1;34m'buurtcode'\u001b[0m\u001b[1;33m]\u001b[0m \u001b[1;33m=\u001b[0m \u001b[0mbuurtendata\u001b[0m\u001b[1;33m[\u001b[0m\u001b[1;34m'buurtcode'\u001b[0m\u001b[1;33m]\u001b[0m\u001b[1;33m\u001b[0m\u001b[1;33m\u001b[0m\u001b[0m\n",
      "\u001b[1;31mNameError\u001b[0m: name 'model' is not defined"
     ]
    }
   ],
   "source": [
    "# Dit is het erwin model dus deze waarde voorspellen wij\n",
    "X_pred['EE_preds'] = model.predict(X_pred)\n",
    "X_pred['buurtcode'] = buurtendata['buurtcode']"
   ]
  },
  {
   "cell_type": "code",
   "execution_count": 16,
   "metadata": {},
   "outputs": [],
   "source": [
    "# Hier koppelen we de 'echte' waardes hieraan om de accuracy te voorspellen.\n",
    "X_pred = X_pred.merge(sc, how='left', on ='buurtcode')\n",
    "temp = X_pred[X_pred['EE'].notnull()][['EE', 'EE_preds']]\n",
    "accuracy_score(temp['EE_preds'].values,temp['EE'].values)\n"
   ]
  },
  {
   "cell_type": "markdown",
   "metadata": {},
   "source": [
    "## Thomas model"
   ]
  },
  {
   "cell_type": "code",
   "execution_count": 22,
   "metadata": {},
   "outputs": [],
   "source": [
    "# Hier hebben wij een dataset nodig met de labels van Thomas. \n",
    "X = df[feature_cols]\n",
    "y = df['TK']\n",
    "X_train, X_test, y_train, y_test = train_test_split(X, y, test_size=0.25, random_state=2) # dmv de seed is de verdeling van de items hetzelfde"
   ]
  },
  {
   "cell_type": "code",
   "execution_count": 23,
   "metadata": {},
   "outputs": [
    {
     "output_type": "execute_result",
     "data": {
      "text/plain": "XGBClassifier(base_score=0.5, booster='gbtree', colsample_bylevel=1,\n              colsample_bynode=1, colsample_bytree=0.7, gamma=0.2, gpu_id=-1,\n              importance_type='gain', interaction_constraints=None,\n              learning_rate=0.15, max_delta_step=0, max_depth=7,\n              min_child_weight=3, missing=nan, monotone_constraints=None,\n              n_estimators=250, n_jobs=1, nthread=1, num_parallel_tree=1,\n              objective='multi:softprob', random_state=0, reg_alpha=0,\n              reg_lambda=1, scale_pos_weight=1, seed=2, silent=None,\n              subsample=0.8, tree_method=None, validate_parameters=False,\n              verbosity=1)"
     },
     "metadata": {},
     "execution_count": 23
    }
   ],
   "source": [
    "# maak object met geoptimaliseerde hyperparameters\n",
    "model = xgboost.XGBClassifier(base_score=0.5, booster='gbtree', colsample_bylevel=1,\n",
    "              colsample_bynode=1, colsample_bytree=0.7, gamma=0.2,\n",
    "              learning_rate=0.15, max_delta_step=0, max_depth=7,\n",
    "              min_child_weight=3, missing=None, n_estimators=250, n_jobs=1,\n",
    "              nthread=None, objective='multi:softprob', random_state=0,\n",
    "              reg_alpha=0, reg_lambda=1, scale_pos_weight=1, seed=2,\n",
    "              silent=None, subsample=0.8, verbosity=1)\n",
    "\n",
    "# en fit op data\n",
    "model.fit(X_train, y_train)"
   ]
  },
  {
   "cell_type": "code",
   "execution_count": 24,
   "metadata": {},
   "outputs": [
    {
     "output_type": "stream",
     "name": "stdout",
     "text": "1.0 \n 0.9058823529411765 \n [[38  1  1]\n [ 1 11  4]\n [ 1  0 28]]\n"
    }
   ],
   "source": [
    "# voorspellen en berekenen van de accuracy\n",
    "y_pred = model.predict(X_test)\n",
    "y_train_pred = model.predict(X_train)\n",
    "\n",
    "train_accuracy = accuracy_score(y_train,y_train_pred)\n",
    "test_accuracy = accuracy_score(y_test,y_pred)\n",
    "cm = confusion_matrix(y_test, y_pred)\n",
    "print(train_accuracy, '\\n',test_accuracy,'\\n', cm)"
   ]
  },
  {
   "cell_type": "code",
   "execution_count": 25,
   "metadata": {},
   "outputs": [],
   "source": [
    "# Opslaan van het model\n",
    "file_name = \"models/final_model_TK_wox.pkl\"\n",
    "pickle.dump(model, open(file_name, \"wb\"))"
   ]
  },
  {
   "cell_type": "markdown",
   "metadata": {},
   "source": [
    "## De modellen zonder WOX\n",
    "Hierbij wordt gebruik gemaakt van andere kolommmen. "
   ]
  },
  {
   "cell_type": "code",
   "execution_count": 26,
   "metadata": {},
   "outputs": [],
   "source": [
    "feature_cols_nw = ['inw', 'bevdh', 'oadh', 'hh', 'inw65', 'KL', \n",
    "               'RLBRMTR', 'RLBWON', 'RLBBEV', 'RLBVRZ', 'RLBVEI', 'RLBFYS', \n",
    "               'AfstandSupermarkt', 'AantalLevensm3', 'AfstandHuisarts', 'AantalCafe3','AantalRest3', 'AantalKinderopvang1', \n",
    "               'AfstandZwembad', 'AantalMusea10', 'AantalPodiumk10', 'AantalBios5', \n",
    "               'hh19inkLaag', 'hh30inkLaag', 'hh19inkMidden', 'hh30inkMidden', 'hh19inkHoog', 'hh30inkHoog', \n",
    "               'aandeelMH19', 'auto30', 'auto60', 'ov30', 'ov60', 'fiets', 'banen'] "
   ]
  },
  {
   "cell_type": "code",
   "execution_count": 27,
   "metadata": {},
   "outputs": [],
   "source": [
    "# Eerst thomas labels\n",
    "X = df[feature_cols_nw]\n",
    "y = df['TK']\n",
    "X_train, X_test, y_train, y_test = train_test_split(X, y, test_size=0.25, random_state=2)"
   ]
  },
  {
   "cell_type": "code",
   "execution_count": 28,
   "metadata": {},
   "outputs": [
    {
     "output_type": "execute_result",
     "data": {
      "text/plain": "XGBClassifier(base_score=0.5, booster='gbtree', colsample_bylevel=1,\n              colsample_bynode=1, colsample_bytree=0.7, gamma=0.2, gpu_id=-1,\n              importance_type='gain', interaction_constraints=None,\n              learning_rate=0.15, max_delta_step=0, max_depth=7,\n              min_child_weight=3, missing=nan, monotone_constraints=None,\n              n_estimators=250, n_jobs=1, nthread=1, num_parallel_tree=1,\n              objective='multi:softprob', random_state=0, reg_alpha=0,\n              reg_lambda=1, scale_pos_weight=1, seed=2, silent=None,\n              subsample=0.8, tree_method=None, validate_parameters=False,\n              verbosity=1)"
     },
     "metadata": {},
     "execution_count": 28
    }
   ],
   "source": [
    "# maak object met geoptimaliseerde hyperparameters\n",
    "model = xgboost.XGBClassifier(base_score=0.5, booster='gbtree', colsample_bylevel=1,\n",
    "              colsample_bynode=1, colsample_bytree=0.7, gamma=0.2,\n",
    "              learning_rate=0.15, max_delta_step=0, max_depth=7,\n",
    "              min_child_weight=3, missing=None, n_estimators=250, n_jobs=1,\n",
    "              nthread=None, objective='multi:softprob', random_state=0,\n",
    "              reg_alpha=0, reg_lambda=1, scale_pos_weight=1, seed=2,\n",
    "              silent=None, subsample=0.8, verbosity=1)\n",
    "\n",
    "# en fit op data\n",
    "model.fit(X_train, y_train)"
   ]
  },
  {
   "cell_type": "code",
   "execution_count": 29,
   "metadata": {},
   "outputs": [
    {
     "output_type": "stream",
     "name": "stdout",
     "text": "1.0 \n 0.8705882352941177 \n [[38  1  1]\n [ 4  8  4]\n [ 0  1 28]]\n"
    }
   ],
   "source": [
    "# Voorspellen en beoordelen van de resultaten\n",
    "y_pred = model.predict(X_test)\n",
    "y_train_pred = model.predict(X_train)\n",
    "\n",
    "train_accuracy = accuracy_score(y_train,y_train_pred)\n",
    "test_accuracy = accuracy_score(y_test,y_pred)\n",
    "cm = confusion_matrix(y_test, y_pred)\n",
    "print(train_accuracy, '\\n',test_accuracy,'\\n', cm)"
   ]
  },
  {
   "cell_type": "code",
   "execution_count": 30,
   "metadata": {},
   "outputs": [],
   "source": [
    "# Model opslaan\n",
    "file_name = \"models/final_model_TK_nowox.pkl\"\n",
    "pickle.dump(model, open(file_name, \"wb\"))"
   ]
  },
  {
   "cell_type": "code",
   "execution_count": 31,
   "metadata": {},
   "outputs": [
    {
     "output_type": "execute_result",
     "data": {
      "text/plain": "                     feature_score              feature\nAantalCafe3               0.099049          AantalCafe3\nAantalBios5               0.094162          AantalBios5\nfiets                     0.067854                fiets\nauto60                    0.053232               auto60\nAantalPodiumk10           0.053218      AantalPodiumk10\nRLBBEV                    0.047427               RLBBEV\nRLBVRZ                    0.043478               RLBVRZ\nAantalLevensm3            0.040715       AantalLevensm3\nov60                      0.033228                 ov60\nAantalMusea10             0.032168        AantalMusea10\ninw                       0.031587                  inw\nbanen                     0.030592                banen\nhh30inkHoog               0.026201          hh30inkHoog\nRLBRMTR                   0.022696              RLBRMTR\noadh                      0.022366                 oadh\nRLBWON                    0.021850               RLBWON\nAantalRest3               0.020389          AantalRest3\nov30                      0.019272                 ov30\nAfstandSupermarkt         0.019011    AfstandSupermarkt\nKL                        0.018193                   KL\nAfstandZwembad            0.017325       AfstandZwembad\nauto30                    0.016977               auto30\nRLBFYS                    0.016778               RLBFYS\naandeelMH19               0.016216          aandeelMH19\nhh19inkHoog               0.015169          hh19inkHoog\nAantalKinderopvang1       0.014915  AantalKinderopvang1\nhh19inkLaag               0.014317          hh19inkLaag\ninw65                     0.013270                inw65\nhh30inkLaag               0.012486          hh30inkLaag\nhh19inkMidden             0.012165        hh19inkMidden\nRLBVEI                    0.011674               RLBVEI\nbevdh                     0.011546                bevdh\nAfstandHuisarts           0.010640      AfstandHuisarts\nhh30inkMidden             0.010235        hh30inkMidden\nhh                        0.009597                   hh",
      "text/html": "<div>\n<style scoped>\n    .dataframe tbody tr th:only-of-type {\n        vertical-align: middle;\n    }\n\n    .dataframe tbody tr th {\n        vertical-align: top;\n    }\n\n    .dataframe thead th {\n        text-align: right;\n    }\n</style>\n<table border=\"1\" class=\"dataframe\">\n  <thead>\n    <tr style=\"text-align: right;\">\n      <th></th>\n      <th>feature_score</th>\n      <th>feature</th>\n    </tr>\n  </thead>\n  <tbody>\n    <tr>\n      <td>AantalCafe3</td>\n      <td>0.099049</td>\n      <td>AantalCafe3</td>\n    </tr>\n    <tr>\n      <td>AantalBios5</td>\n      <td>0.094162</td>\n      <td>AantalBios5</td>\n    </tr>\n    <tr>\n      <td>fiets</td>\n      <td>0.067854</td>\n      <td>fiets</td>\n    </tr>\n    <tr>\n      <td>auto60</td>\n      <td>0.053232</td>\n      <td>auto60</td>\n    </tr>\n    <tr>\n      <td>AantalPodiumk10</td>\n      <td>0.053218</td>\n      <td>AantalPodiumk10</td>\n    </tr>\n    <tr>\n      <td>RLBBEV</td>\n      <td>0.047427</td>\n      <td>RLBBEV</td>\n    </tr>\n    <tr>\n      <td>RLBVRZ</td>\n      <td>0.043478</td>\n      <td>RLBVRZ</td>\n    </tr>\n    <tr>\n      <td>AantalLevensm3</td>\n      <td>0.040715</td>\n      <td>AantalLevensm3</td>\n    </tr>\n    <tr>\n      <td>ov60</td>\n      <td>0.033228</td>\n      <td>ov60</td>\n    </tr>\n    <tr>\n      <td>AantalMusea10</td>\n      <td>0.032168</td>\n      <td>AantalMusea10</td>\n    </tr>\n    <tr>\n      <td>inw</td>\n      <td>0.031587</td>\n      <td>inw</td>\n    </tr>\n    <tr>\n      <td>banen</td>\n      <td>0.030592</td>\n      <td>banen</td>\n    </tr>\n    <tr>\n      <td>hh30inkHoog</td>\n      <td>0.026201</td>\n      <td>hh30inkHoog</td>\n    </tr>\n    <tr>\n      <td>RLBRMTR</td>\n      <td>0.022696</td>\n      <td>RLBRMTR</td>\n    </tr>\n    <tr>\n      <td>oadh</td>\n      <td>0.022366</td>\n      <td>oadh</td>\n    </tr>\n    <tr>\n      <td>RLBWON</td>\n      <td>0.021850</td>\n      <td>RLBWON</td>\n    </tr>\n    <tr>\n      <td>AantalRest3</td>\n      <td>0.020389</td>\n      <td>AantalRest3</td>\n    </tr>\n    <tr>\n      <td>ov30</td>\n      <td>0.019272</td>\n      <td>ov30</td>\n    </tr>\n    <tr>\n      <td>AfstandSupermarkt</td>\n      <td>0.019011</td>\n      <td>AfstandSupermarkt</td>\n    </tr>\n    <tr>\n      <td>KL</td>\n      <td>0.018193</td>\n      <td>KL</td>\n    </tr>\n    <tr>\n      <td>AfstandZwembad</td>\n      <td>0.017325</td>\n      <td>AfstandZwembad</td>\n    </tr>\n    <tr>\n      <td>auto30</td>\n      <td>0.016977</td>\n      <td>auto30</td>\n    </tr>\n    <tr>\n      <td>RLBFYS</td>\n      <td>0.016778</td>\n      <td>RLBFYS</td>\n    </tr>\n    <tr>\n      <td>aandeelMH19</td>\n      <td>0.016216</td>\n      <td>aandeelMH19</td>\n    </tr>\n    <tr>\n      <td>hh19inkHoog</td>\n      <td>0.015169</td>\n      <td>hh19inkHoog</td>\n    </tr>\n    <tr>\n      <td>AantalKinderopvang1</td>\n      <td>0.014915</td>\n      <td>AantalKinderopvang1</td>\n    </tr>\n    <tr>\n      <td>hh19inkLaag</td>\n      <td>0.014317</td>\n      <td>hh19inkLaag</td>\n    </tr>\n    <tr>\n      <td>inw65</td>\n      <td>0.013270</td>\n      <td>inw65</td>\n    </tr>\n    <tr>\n      <td>hh30inkLaag</td>\n      <td>0.012486</td>\n      <td>hh30inkLaag</td>\n    </tr>\n    <tr>\n      <td>hh19inkMidden</td>\n      <td>0.012165</td>\n      <td>hh19inkMidden</td>\n    </tr>\n    <tr>\n      <td>RLBVEI</td>\n      <td>0.011674</td>\n      <td>RLBVEI</td>\n    </tr>\n    <tr>\n      <td>bevdh</td>\n      <td>0.011546</td>\n      <td>bevdh</td>\n    </tr>\n    <tr>\n      <td>AfstandHuisarts</td>\n      <td>0.010640</td>\n      <td>AfstandHuisarts</td>\n    </tr>\n    <tr>\n      <td>hh30inkMidden</td>\n      <td>0.010235</td>\n      <td>hh30inkMidden</td>\n    </tr>\n    <tr>\n      <td>hh</td>\n      <td>0.009597</td>\n      <td>hh</td>\n    </tr>\n  </tbody>\n</table>\n</div>"
     },
     "metadata": {},
     "execution_count": 31
    }
   ],
   "source": [
    "fi = pd.DataFrame(model.feature_importances_,X_train.columns)\n",
    "fi.columns = ['feature_score']\n",
    "fi.sort_values('feature_score', ascending=False, inplace=True)\n",
    "fi['feature'] = fi.index\n",
    "fi"
   ]
  },
  {
   "cell_type": "markdown",
   "metadata": {},
   "source": [
    "## Het model zonder Wox van Erwin"
   ]
  },
  {
   "cell_type": "code",
   "execution_count": 32,
   "metadata": {},
   "outputs": [],
   "source": [
    "X = df[feature_cols_nw]\n",
    "y = df['EE']\n",
    "X_train, X_test, y_train, y_test = train_test_split(X, y, test_size=0.25, random_state=2)"
   ]
  },
  {
   "cell_type": "code",
   "execution_count": 48,
   "metadata": {},
   "outputs": [
    {
     "output_type": "execute_result",
     "data": {
      "text/plain": "XGBClassifier(base_score=0.5, booster='gbtree', colsample_bylevel=1,\n              colsample_bynode=1, colsample_bytree=0.7, gamma=0.2, gpu_id=-1,\n              importance_type='gain', interaction_constraints=None,\n              learning_rate=0.15, max_delta_step=0, max_depth=7,\n              min_child_weight=3, missing=nan, monotone_constraints=None,\n              n_estimators=250, n_jobs=1, nthread=1, num_parallel_tree=1,\n              objective='multi:softprob', random_state=0, reg_alpha=0,\n              reg_lambda=1, scale_pos_weight=1, seed=2, silent=None,\n              subsample=0.8, tree_method=None, validate_parameters=False,\n              verbosity=1)"
     },
     "metadata": {},
     "execution_count": 48
    }
   ],
   "source": [
    "# maak object met geoptimaliseerde hyperparameters\n",
    "model = xgboost.XGBClassifier(base_score=0.5, booster='gbtree', colsample_bylevel=1,\n",
    "              colsample_bynode=1, colsample_bytree=0.7, gamma=0.2,\n",
    "              learning_rate=0.15, max_delta_step=0, max_depth=7,\n",
    "              min_child_weight=3, missing=None, n_estimators=250, n_jobs=1,\n",
    "              nthread=None, objective='multi:softprob', random_state=0,\n",
    "              reg_alpha=0, reg_lambda=1, scale_pos_weight=1, seed=2,\n",
    "              silent=None, subsample=0.8, verbosity=1)\n",
    "# en fit op data\n",
    "model.fit(X_train, y_train)"
   ]
  },
  {
   "cell_type": "code",
   "execution_count": 49,
   "metadata": {},
   "outputs": [
    {
     "output_type": "stream",
     "name": "stdout",
     "text": "1.0 \n 0.8117647058823529 \n [[34  5  0]\n [ 3 22  5]\n [ 1  2 13]]\n"
    }
   ],
   "source": [
    "y_pred = model.predict(X_test)\n",
    "y_train_pred = model.predict(X_train)\n",
    "\n",
    "train_accuracy = accuracy_score(y_train,y_train_pred)\n",
    "test_accuracy = accuracy_score(y_test,y_pred)\n",
    "cm = confusion_matrix(y_test, y_pred)\n",
    "print(train_accuracy, '\\n',test_accuracy,'\\n', cm)"
   ]
  },
  {
   "cell_type": "code",
   "execution_count": 36,
   "metadata": {},
   "outputs": [],
   "source": [
    "file_name = \"models/final_model_EE_nowox.pkl\"\n",
    "pickle.dump(model, open(file_name, \"wb\"))"
   ]
  },
  {
   "cell_type": "markdown",
   "metadata": {},
   "source": [
    "# Voorspellingen gebruiken/ testen"
   ]
  },
  {
   "cell_type": "code",
   "execution_count": 15,
   "metadata": {},
   "outputs": [],
   "source": [
    "# laad model\n",
    "model_2019_EE = pickle.load(open(\"../final_models/final_model_EE_wox.pkl\", \"rb\"))\n",
    "model_2019_TK = pickle.load(open(\"../final_models/final_model_TK_wox.pkl\", \"rb\"))\n",
    "model_2019_EE_nw = pickle.load(open(\"../final_models/final_model_EE_nowox.pkl\", \"rb\"))\n",
    "model_2019_TK_nw = pickle.load(open(\"../final_models/final_model_TK_nowox.pkl\", \"rb\"))"
   ]
  },
  {
   "cell_type": "code",
   "execution_count": 19,
   "metadata": {},
   "outputs": [],
   "source": [
    "# de preditie dataframes maken:\n",
    "X_pred_w = buurtendata[feature_cols]\n",
    "X_pred_w = pd.DataFrame(X_pred_w)\n",
    "X_pred_w.columns = feature_cols\n",
    "\n",
    "# No wox:\n",
    "feature_cols_nw = ['inw', 'bevdh', 'oadh', 'hh', 'inw65', 'KL', \n",
    "               'RLBRMTR', 'RLBWON', 'RLBBEV', 'RLBVRZ', 'RLBVEI', 'RLBFYS', \n",
    "               'AfstandSupermarkt', 'AantalLevensm3', 'AfstandHuisarts', 'AantalCafe3','AantalRest3', 'AantalKinderopvang1', \n",
    "               'AfstandZwembad', 'AantalMusea10', 'AantalPodiumk10', 'AantalBios5', \n",
    "               'hh19inkLaag', 'hh30inkLaag', 'hh19inkMidden', 'hh30inkMidden', 'hh19inkHoog', 'hh30inkHoog', \n",
    "               'aandeelMH19', 'auto30', 'auto60', 'ov30', 'ov60', 'fiets', 'banen'] \n",
    "\n",
    "\n",
    "X_pred_nw = buurtendata[feature_cols_nw]\n",
    "X_pred_nw = pd.DataFrame(X_pred_nw)\n",
    "X_pred_nw.columns = feature_cols_nw"
   ]
  },
  {
   "cell_type": "code",
   "execution_count": 20,
   "metadata": {},
   "outputs": [],
   "source": [
    "predictions_EE = model_2019_EE.predict(X_pred_w)\n",
    "predictions_TK = model_2019_TK.predict(X_pred_w)\n",
    "predictions_EE_nw = model_2019_EE_nw.predict(X_pred_nw)\n",
    "predictions_TK_nw = model_2019_TK_nw.predict(X_pred_nw)"
   ]
  },
  {
   "cell_type": "code",
   "execution_count": 21,
   "metadata": {},
   "outputs": [],
   "source": [
    "buurtendata['voorspellingen_TK'] = predictions_TK\n",
    "buurtendata['voorspellingen_EE'] = predictions_EE\n",
    "buurtendata['voorspellingen_TK_nw'] = predictions_TK_nw\n",
    "buurtendata['voorspellingen_EE_nw'] = predictions_EE_nw"
   ]
  },
  {
   "cell_type": "code",
   "execution_count": 22,
   "metadata": {},
   "outputs": [
    {
     "output_type": "execute_result",
     "data": {
      "text/plain": "13632"
     },
     "metadata": {},
     "execution_count": 22
    }
   ],
   "source": [
    "len(buurtendata)"
   ]
  },
  {
   "cell_type": "code",
   "execution_count": 23,
   "metadata": {},
   "outputs": [],
   "source": [
    "df_final = pd.merge(buurtendata,sc,how='left', on='buurtcode')"
   ]
  },
  {
   "cell_type": "code",
   "execution_count": 24,
   "metadata": {},
   "outputs": [
    {
     "output_type": "execute_result",
     "data": {
      "text/plain": "(13632, 119)"
     },
     "metadata": {},
     "execution_count": 24
    }
   ],
   "source": [
    "df_final.shape"
   ]
  },
  {
   "cell_type": "code",
   "execution_count": 25,
   "metadata": {},
   "outputs": [
    {
     "output_type": "stream",
     "name": "stdout",
     "text": "accuracy score EE normal  0.9733727810650887\naccuracy score TK normal  0.9763313609467456\naccuracy score EE no wox  0.9526627218934911\naccuracy score TK no wox  0.9674556213017751\n"
    }
   ],
   "source": [
    "df_temp = df_final[df_final['EE'].notnull()]\n",
    "print(\"accuracy score EE normal \", accuracy_score(df_temp['EE'], df_temp['voorspellingen_EE']))\n",
    "print(\"accuracy score TK normal \", accuracy_score(df_temp['TK'], df_temp['voorspellingen_TK']))\n",
    "print(\"accuracy score EE no wox \", accuracy_score(df_temp['EE'], df_temp['voorspellingen_EE_nw']))\n",
    "print(\"accuracy score TK no wox \", accuracy_score(df_temp['TK'], df_temp['voorspellingen_TK_nw']))"
   ]
  },
  {
   "cell_type": "code",
   "execution_count": 26,
   "metadata": {},
   "outputs": [
    {
     "output_type": "execute_result",
     "data": {
      "text/plain": "   buurtcode   EE   TK voorspellingen_EE voorspellingen_TK  \\\n0      30000  NaN  NaN                 c                 c   \n1      30001  NaN  NaN                 c                 c   \n2      30002  NaN  NaN                 c                 c   \n3      30007  NaN  NaN                 c                 c   \n4      30008  NaN  NaN                 c                 c   \n\n  voorspellingen_EE_nw voorspellingen_TK_nw  \n0                    c                    c  \n1                    b                    c  \n2                    c                    c  \n3                    a                    c  \n4                    c                    c  ",
      "text/html": "<div>\n<style scoped>\n    .dataframe tbody tr th:only-of-type {\n        vertical-align: middle;\n    }\n\n    .dataframe tbody tr th {\n        vertical-align: top;\n    }\n\n    .dataframe thead th {\n        text-align: right;\n    }\n</style>\n<table border=\"1\" class=\"dataframe\">\n  <thead>\n    <tr style=\"text-align: right;\">\n      <th></th>\n      <th>buurtcode</th>\n      <th>EE</th>\n      <th>TK</th>\n      <th>voorspellingen_EE</th>\n      <th>voorspellingen_TK</th>\n      <th>voorspellingen_EE_nw</th>\n      <th>voorspellingen_TK_nw</th>\n    </tr>\n  </thead>\n  <tbody>\n    <tr>\n      <td>0</td>\n      <td>30000</td>\n      <td>NaN</td>\n      <td>NaN</td>\n      <td>c</td>\n      <td>c</td>\n      <td>c</td>\n      <td>c</td>\n    </tr>\n    <tr>\n      <td>1</td>\n      <td>30001</td>\n      <td>NaN</td>\n      <td>NaN</td>\n      <td>c</td>\n      <td>c</td>\n      <td>b</td>\n      <td>c</td>\n    </tr>\n    <tr>\n      <td>2</td>\n      <td>30002</td>\n      <td>NaN</td>\n      <td>NaN</td>\n      <td>c</td>\n      <td>c</td>\n      <td>c</td>\n      <td>c</td>\n    </tr>\n    <tr>\n      <td>3</td>\n      <td>30007</td>\n      <td>NaN</td>\n      <td>NaN</td>\n      <td>c</td>\n      <td>c</td>\n      <td>a</td>\n      <td>c</td>\n    </tr>\n    <tr>\n      <td>4</td>\n      <td>30008</td>\n      <td>NaN</td>\n      <td>NaN</td>\n      <td>c</td>\n      <td>c</td>\n      <td>c</td>\n      <td>c</td>\n    </tr>\n  </tbody>\n</table>\n</div>"
     },
     "metadata": {},
     "execution_count": 26
    }
   ],
   "source": [
    "df_final[['buurtcode', 'EE', 'TK', 'voorspellingen_EE', 'voorspellingen_TK','voorspellingen_EE_nw', 'voorspellingen_TK_nw']].head()"
   ]
  },
  {
   "cell_type": "code",
   "execution_count": 27,
   "metadata": {},
   "outputs": [],
   "source": [
    "df_final['wox_info'] = df_final['wox'].notnull()\n",
    "df_final['EE_Choice'] = df_final.apply(lambda x: x['voorspellingen_EE'] if x['wox_info'] else x['voorspellingen_EE_nw'], axis=1)\n",
    "df_final['TK_Choice'] = df_final.apply(lambda x: x['voorspellingen_TK'] if x['wox_info'] else x['voorspellingen_TK_nw'], axis=1)"
   ]
  },
  {
   "cell_type": "code",
   "execution_count": 28,
   "metadata": {},
   "outputs": [
    {
     "output_type": "execute_result",
     "data": {
      "text/plain": "6737"
     },
     "metadata": {},
     "execution_count": 28
    }
   ],
   "source": [
    "sum(df_final['wox'].notnull())"
   ]
  },
  {
   "cell_type": "code",
   "execution_count": 29,
   "metadata": {},
   "outputs": [],
   "source": [
    "df_final[['buurtcode', 'EE', 'TK', 'voorspellingen_EE', 'voorspellingen_TK','voorspellingen_EE_nw', 'voorspellingen_TK_nw', 'wox_info', 'EE_Choice', 'TK_Choice']].to_csv('../predictions buurtscores/predictions_final.csv')"
   ]
  },
  {
   "cell_type": "code",
   "execution_count": null,
   "metadata": {},
   "outputs": [],
   "source": []
  }
 ]
}