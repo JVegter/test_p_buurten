{
 "cells": [
  {
   "cell_type": "markdown",
   "metadata": {},
   "source": [
    "# De Finale Modellen Creeren en hier een verklaring bij geven.\n",
    "Hierbij zijn voor Thomas en Erwin 2 modellen gemaakt: met en zonder WOX.\n",
    "\n",
    "\n",
    "Indien WOX data beschikbaar is, gebruiken wij het wox model. Hier wordt uitgegaan van een optimaal iteraties at 75. Voor het niet WOX model wordt een aantal iteraties van X gebruikt. \n",
    "Deze waardes zijn om overfitting te voorkomen. Wij willen het model alleen dingen leren die te generaliseren zijn. \n",
    "\n",
    "\n",
    "De WOX en niet WOX modellen worden samengevoegd om tot een Ensemble te komen.\n",
    "\n",
    "Via SHAP values worden verklaringen gegeven voor waarom een voorspelling wordt gedaan. \n",
    "\n",
    "Per buurt willen wij hierdoor per emsemble model (= wox/geen wox samengevoegd)\n",
    "* Voorspelling TK \n",
    "* Voorspelling EE \n",
    "* Confidence TK voorspellingen \n",
    "* Confidence EE voorspellingen\n",
    "* Feature Importance TK\n",
    "* Feature Importance EE\n",
    "\n",
    "---------------\n",
    "In deze notebook creeren wij de 4 finale modellen"
   ]
  },
  {
   "cell_type": "code",
   "execution_count": 1,
   "metadata": {},
   "outputs": [],
   "source": [
    "# importeren packages\n",
    "import pandas as pd\n",
    "import numpy as np\n",
    "import xgboost\n",
    "import pickle\n",
    "from sklearn.preprocessing import RobustScaler\n",
    "from sklearn.metrics import accuracy_score, confusion_matrix\n",
    "import numpy as np\n",
    "import xgboost\n",
    "from xgboost import plot_importance\n",
    "from sklearn.model_selection import train_test_split, RandomizedSearchCV, GridSearchCV, KFold, cross_val_score"
   ]
  },
  {
   "cell_type": "code",
   "execution_count": 2,
   "metadata": {},
   "outputs": [],
   "source": [
    "# setten source path: later moet alle brondata naar datalake\n",
    "source_path =\"P:\\\\DATASCIENCE\\\\Aantrekkelijkheid buurten\\\\Resultaten\\\\\"\n",
    "# alle tussentijdse data voorlopig in dezelfde map op een schijf opslaan in\n",
    "save_path = \"P:\\\\DATASCIENCE\\\\Aantrekkelijkheid buurten\\\\Resultaten\\\\\""
   ]
  },
  {
   "cell_type": "code",
   "execution_count": 3,
   "metadata": {},
   "outputs": [],
   "source": [
    "# inladen bestand met alle buurten en onafhankelijke variabelen als all\n",
    "buurtendata = pd.read_csv(source_path + 'buurten.csv', encoding='utf-16')\n",
    "buurtendata.rename(columns={\"RLBBEV18\":\"RLBBEV\",'KL18': \"KL\", \n",
    "               'RLBRMTR18': 'RLBRMTR', 'RLBWON18':'RLBWON' , 'RLBBEV18':'RLBBEV', 'RLBVRZ18':'RLBVRZ', 'RLBVEI18': 'RLBVEI', 'RLBFYS18': 'RLBFYS',}, inplace=True) "
   ]
  },
  {
   "cell_type": "code",
   "execution_count": 4,
   "metadata": {},
   "outputs": [],
   "source": [
    "# inladen bestand met scores als sc\n",
    "sc = pd.read_excel(source_path + 'buurten voor experts 2e ronde.xlsx', sheet_name='buurten')\n",
    "# alleen selecteren kolommen voor scores en oordelen\n",
    "sc = sc[['buurtcode','EE','TK']]"
   ]
  },
  {
   "cell_type": "code",
   "execution_count": 5,
   "metadata": {},
   "outputs": [],
   "source": [
    "# merge op buurtcode (die van 2019)\n",
    "df = pd.merge(sc, buurtendata, on='buurtcode')"
   ]
  },
  {
   "cell_type": "markdown",
   "metadata": {},
   "source": [
    "## Trainen van de Modellen voor Erwin\n",
    "### WOX"
   ]
  },
  {
   "cell_type": "code",
   "execution_count": 6,
   "metadata": {},
   "outputs": [],
   "source": [
    "# minus de kolommen die niet in de 2016 dataset aanwezig zijn\n",
    "               \n",
    "## EE wox filterd.               \n",
    "feature_cols = \t['oadh', 'KL', 'RLBRMTR', 'RLBBEV', 'RLBVRZ', 'RLBFYS', 'AfstandZwembad', 'AantalMusea10', 'AantalPodiumk10', 'aandeelMH19', 'auto30', 'fiets', 'wox', 'woxdelta1jr', 'woxdelta5jr', 'woxww', 'woxm2', 'woxm2Gem', 'woxdelta5jrWGabs', 'woxdelta5jrWGrel', 'woxm2WG']\n",
    "\n",
    "       \n",
    "X = df[feature_cols]\n",
    "y = df['EE']"
   ]
  },
  {
   "cell_type": "code",
   "execution_count": 7,
   "metadata": {},
   "outputs": [
    {
     "output_type": "execute_result",
     "data": {
      "text/plain": "XGBClassifier(base_score=0.5, booster='gbtree', colsample_bylevel=1,\n              colsample_bynode=1, colsample_bytree=0.7, gamma=0.2, gpu_id=-1,\n              importance_type='gain', interaction_constraints=None,\n              learning_rate=0.15, max_delta_step=0, max_depth=7,\n              min_child_weight=3, missing=nan, monotone_constraints=None,\n              n_estimators=70, n_jobs=1, nthread=1, num_parallel_tree=1,\n              objective='multi:softprob', random_state=0, reg_alpha=0,\n              reg_lambda=1, scale_pos_weight=1, seed=2, silent=None,\n              subsample=0.8, tree_method=None, validate_parameters=False,\n              verbosity=1)"
     },
     "metadata": {},
     "execution_count": 7
    }
   ],
   "source": [
    "# maak object met geoptimaliseerde hyperparameters\n",
    "model = xgboost.XGBClassifier(base_score=0.5, booster='gbtree', colsample_bylevel=1,\n",
    "              colsample_bynode=1, colsample_bytree=0.7, gamma=0.2,\n",
    "              learning_rate=0.15, max_delta_step=0, max_depth=7,\n",
    "              min_child_weight=3, missing=None, n_estimators=70, n_jobs=1,\n",
    "              nthread=None, objective='multi:softprob', random_state=0,\n",
    "              reg_alpha=0, reg_lambda=1, scale_pos_weight=1, seed=2,\n",
    "              silent=None, subsample=0.8, verbosity=1)\n",
    "\n",
    "# en fit op data\n",
    "model.fit(X, y)"
   ]
  },
  {
   "cell_type": "code",
   "execution_count": 8,
   "metadata": {},
   "outputs": [
    {
     "output_type": "execute_result",
     "data": {
      "text/plain": "                  feature_score           feature\nwoxm2Gem               0.234091          woxm2Gem\nwoxm2                  0.181392             woxm2\nwoxww                  0.160898             woxww\nwoxdelta5jr            0.051709       woxdelta5jr\nwoxm2WG                0.050305           woxm2WG\nwox                    0.035743               wox\nKL                     0.033038                KL\noadh                   0.023940              oadh\nwoxdelta1jr            0.023507       woxdelta1jr\nRLBBEV                 0.022792            RLBBEV\nRLBFYS                 0.022535            RLBFYS\naandeelMH19            0.022376       aandeelMH19\nwoxdelta5jrWGabs       0.020025  woxdelta5jrWGabs\nAfstandZwembad         0.019529    AfstandZwembad\nRLBRMTR                0.019307           RLBRMTR\nRLBVRZ                 0.017175            RLBVRZ\nauto30                 0.015275            auto30\nwoxdelta5jrWGrel       0.014345  woxdelta5jrWGrel\nfiets                  0.013720             fiets\nAantalMusea10          0.009818     AantalMusea10\nAantalPodiumk10        0.008479   AantalPodiumk10",
      "text/html": "<div>\n<style scoped>\n    .dataframe tbody tr th:only-of-type {\n        vertical-align: middle;\n    }\n\n    .dataframe tbody tr th {\n        vertical-align: top;\n    }\n\n    .dataframe thead th {\n        text-align: right;\n    }\n</style>\n<table border=\"1\" class=\"dataframe\">\n  <thead>\n    <tr style=\"text-align: right;\">\n      <th></th>\n      <th>feature_score</th>\n      <th>feature</th>\n    </tr>\n  </thead>\n  <tbody>\n    <tr>\n      <td>woxm2Gem</td>\n      <td>0.234091</td>\n      <td>woxm2Gem</td>\n    </tr>\n    <tr>\n      <td>woxm2</td>\n      <td>0.181392</td>\n      <td>woxm2</td>\n    </tr>\n    <tr>\n      <td>woxww</td>\n      <td>0.160898</td>\n      <td>woxww</td>\n    </tr>\n    <tr>\n      <td>woxdelta5jr</td>\n      <td>0.051709</td>\n      <td>woxdelta5jr</td>\n    </tr>\n    <tr>\n      <td>woxm2WG</td>\n      <td>0.050305</td>\n      <td>woxm2WG</td>\n    </tr>\n    <tr>\n      <td>wox</td>\n      <td>0.035743</td>\n      <td>wox</td>\n    </tr>\n    <tr>\n      <td>KL</td>\n      <td>0.033038</td>\n      <td>KL</td>\n    </tr>\n    <tr>\n      <td>oadh</td>\n      <td>0.023940</td>\n      <td>oadh</td>\n    </tr>\n    <tr>\n      <td>woxdelta1jr</td>\n      <td>0.023507</td>\n      <td>woxdelta1jr</td>\n    </tr>\n    <tr>\n      <td>RLBBEV</td>\n      <td>0.022792</td>\n      <td>RLBBEV</td>\n    </tr>\n    <tr>\n      <td>RLBFYS</td>\n      <td>0.022535</td>\n      <td>RLBFYS</td>\n    </tr>\n    <tr>\n      <td>aandeelMH19</td>\n      <td>0.022376</td>\n      <td>aandeelMH19</td>\n    </tr>\n    <tr>\n      <td>woxdelta5jrWGabs</td>\n      <td>0.020025</td>\n      <td>woxdelta5jrWGabs</td>\n    </tr>\n    <tr>\n      <td>AfstandZwembad</td>\n      <td>0.019529</td>\n      <td>AfstandZwembad</td>\n    </tr>\n    <tr>\n      <td>RLBRMTR</td>\n      <td>0.019307</td>\n      <td>RLBRMTR</td>\n    </tr>\n    <tr>\n      <td>RLBVRZ</td>\n      <td>0.017175</td>\n      <td>RLBVRZ</td>\n    </tr>\n    <tr>\n      <td>auto30</td>\n      <td>0.015275</td>\n      <td>auto30</td>\n    </tr>\n    <tr>\n      <td>woxdelta5jrWGrel</td>\n      <td>0.014345</td>\n      <td>woxdelta5jrWGrel</td>\n    </tr>\n    <tr>\n      <td>fiets</td>\n      <td>0.013720</td>\n      <td>fiets</td>\n    </tr>\n    <tr>\n      <td>AantalMusea10</td>\n      <td>0.009818</td>\n      <td>AantalMusea10</td>\n    </tr>\n    <tr>\n      <td>AantalPodiumk10</td>\n      <td>0.008479</td>\n      <td>AantalPodiumk10</td>\n    </tr>\n  </tbody>\n</table>\n</div>"
     },
     "metadata": {},
     "execution_count": 8
    }
   ],
   "source": [
    "fi = pd.DataFrame(model.feature_importances_,X.columns)\n",
    "fi.columns = ['feature_score']\n",
    "fi.sort_values('feature_score', ascending=False, inplace=True)\n",
    "fi['feature'] = fi.index\n",
    "fi"
   ]
  },
  {
   "cell_type": "code",
   "execution_count": 9,
   "metadata": {},
   "outputs": [],
   "source": [
    "# Het opslaan van het model\n",
    "file_name = \"../models/final_model_EE_wox.pkl\"\n",
    "pickle.dump(model, open(file_name, \"wb\"))"
   ]
  },
  {
   "cell_type": "markdown",
   "metadata": {},
   "source": [
    "### Volledige dataset voorspelling\n",
    "Hier testen we de accuracy als wij een getraind model gebruiken om de volledige dataset te voorspellen."
   ]
  },
  {
   "cell_type": "code",
   "execution_count": 10,
   "metadata": {},
   "outputs": [],
   "source": [
    "# Wel enkel de kolommen nodig waarop ons model is getraind\n",
    "X_pred = buurtendata[feature_cols]\n",
    "X_pred = pd.DataFrame(X_pred)\n",
    "X_pred.columns = feature_cols"
   ]
  },
  {
   "cell_type": "code",
   "execution_count": 11,
   "metadata": {},
   "outputs": [],
   "source": [
    "final_predictions_df = pd.DataFrame(buurtendata['buurtcode'])\n",
    "final_predictions_df['ee_wox'] = model.predict(X_pred)\n",
    "X_pred['ee_wox'] = model.predict(X_pred)"
   ]
  },
  {
   "cell_type": "code",
   "execution_count": 12,
   "metadata": {},
   "outputs": [
    {
     "output_type": "execute_result",
     "data": {
      "text/plain": "   buurtcode ee_wox\n0      30000      c\n1      30001      c\n2      30002      c\n3      30007      c\n4      30008      c",
      "text/html": "<div>\n<style scoped>\n    .dataframe tbody tr th:only-of-type {\n        vertical-align: middle;\n    }\n\n    .dataframe tbody tr th {\n        vertical-align: top;\n    }\n\n    .dataframe thead th {\n        text-align: right;\n    }\n</style>\n<table border=\"1\" class=\"dataframe\">\n  <thead>\n    <tr style=\"text-align: right;\">\n      <th></th>\n      <th>buurtcode</th>\n      <th>ee_wox</th>\n    </tr>\n  </thead>\n  <tbody>\n    <tr>\n      <td>0</td>\n      <td>30000</td>\n      <td>c</td>\n    </tr>\n    <tr>\n      <td>1</td>\n      <td>30001</td>\n      <td>c</td>\n    </tr>\n    <tr>\n      <td>2</td>\n      <td>30002</td>\n      <td>c</td>\n    </tr>\n    <tr>\n      <td>3</td>\n      <td>30007</td>\n      <td>c</td>\n    </tr>\n    <tr>\n      <td>4</td>\n      <td>30008</td>\n      <td>c</td>\n    </tr>\n  </tbody>\n</table>\n</div>"
     },
     "metadata": {},
     "execution_count": 12
    }
   ],
   "source": [
    "final_predictions_df.head()"
   ]
  },
  {
   "cell_type": "code",
   "execution_count": 13,
   "metadata": {},
   "outputs": [
    {
     "output_type": "execute_result",
     "data": {
      "text/plain": "0.9970414201183432"
     },
     "metadata": {},
     "execution_count": 13
    }
   ],
   "source": [
    "# Hier koppelen we de 'echte' waardes hieraan om de accuracy te voorspellen. Dit is een validatie stap\n",
    "X_pred['buurtcode'] = buurtendata['buurtcode']\n",
    "X_pred = X_pred.merge(sc, how='left', on ='buurtcode')\n",
    "temp = X_pred[X_pred['EE'].notnull()][['EE', 'ee_wox']]\n",
    "accuracy_score(temp['ee_wox'].values,temp['EE'].values)\n",
    ""
   ]
  },
  {
   "cell_type": "markdown",
   "metadata": {},
   "source": [
    "## Model zonder wox EE"
   ]
  },
  {
   "cell_type": "code",
   "execution_count": 14,
   "metadata": {},
   "outputs": [
    {
     "output_type": "execute_result",
     "data": {
      "text/plain": "XGBClassifier(base_score=0.5, booster='gbtree', colsample_bylevel=1,\n              colsample_bynode=1, colsample_bytree=0.7, gamma=0.2, gpu_id=-1,\n              importance_type='gain', interaction_constraints=None,\n              learning_rate=0.15, max_delta_step=0, max_depth=7,\n              min_child_weight=3, missing=nan, monotone_constraints=None,\n              n_estimators=50, n_jobs=1, nthread=1, num_parallel_tree=1,\n              objective='multi:softprob', random_state=0, reg_alpha=0,\n              reg_lambda=1, scale_pos_weight=1, seed=2, silent=None,\n              subsample=0.8, tree_method=None, validate_parameters=False,\n              verbosity=1)"
     },
     "metadata": {},
     "execution_count": 14
    }
   ],
   "source": [
    "## EE wox filterd.               \n",
    "feature_cols = \t\t['oadh', 'KL', 'RLBRMTR', 'RLBWON', 'RLBBEV', 'RLBVRZ', 'RLBFYS', 'AantalLevensm3', 'AantalCafe3', 'AantalRest3', 'AfstandZwembad', 'AantalMusea10', 'AantalPodiumk10', 'AantalBios5', 'hh19inkMidden', 'hh30inkMidden', 'hh19inkHoog', 'hh30inkHoog', 'aandeelMH19', 'auto30', 'auto60', 'ov30', 'fiets', 'banen', 'd_kern']\n",
    "       \n",
    "X = df[feature_cols]\n",
    "y = df['EE']\n",
    "\n",
    "# maak object met geoptimaliseerde hyperparameters\n",
    "model = xgboost.XGBClassifier(base_score=0.5, booster='gbtree', colsample_bylevel=1,\n",
    "              colsample_bynode=1, colsample_bytree=0.7, gamma=0.2,\n",
    "              learning_rate=0.15, max_delta_step=0, max_depth=7,\n",
    "              min_child_weight=3, missing=None, n_estimators=50, n_jobs=1,\n",
    "              nthread=None, objective='multi:softprob', random_state=0,\n",
    "              reg_alpha=0, reg_lambda=1, scale_pos_weight=1, seed=2,\n",
    "              silent=None, subsample=0.8, verbosity=1)\n",
    "\n",
    "# en fit op data\n",
    "model.fit(X, y)"
   ]
  },
  {
   "cell_type": "code",
   "execution_count": 15,
   "metadata": {},
   "outputs": [
    {
     "output_type": "execute_result",
     "data": {
      "text/plain": "                 feature_score          feature\nd_kern                0.204485           d_kern\nAantalPodiumk10       0.107528  AantalPodiumk10\nAantalMusea10         0.063996    AantalMusea10\nKL                    0.063778               KL\nfiets                 0.053097            fiets\nRLBVRZ                0.042387           RLBVRZ\nov30                  0.036658             ov30\nhh19inkHoog           0.035763      hh19inkHoog\nRLBBEV                0.035332           RLBBEV\nRLBWON                0.035287           RLBWON\naandeelMH19           0.031883      aandeelMH19\nhh19inkMidden         0.027993    hh19inkMidden\nAantalRest3           0.027491      AantalRest3\nbanen                 0.026678            banen\nAfstandZwembad        0.024079   AfstandZwembad\nAantalCafe3           0.023614      AantalCafe3\nauto30                0.022001           auto30\nRLBFYS                0.021099           RLBFYS\nAantalLevensm3        0.018247   AantalLevensm3\nhh30inkMidden         0.018198    hh30inkMidden\nRLBRMTR               0.018029          RLBRMTR\nhh30inkHoog           0.016562      hh30inkHoog\nauto60                0.016486           auto60\noadh                  0.014763             oadh\nAantalBios5           0.014565      AantalBios5",
      "text/html": "<div>\n<style scoped>\n    .dataframe tbody tr th:only-of-type {\n        vertical-align: middle;\n    }\n\n    .dataframe tbody tr th {\n        vertical-align: top;\n    }\n\n    .dataframe thead th {\n        text-align: right;\n    }\n</style>\n<table border=\"1\" class=\"dataframe\">\n  <thead>\n    <tr style=\"text-align: right;\">\n      <th></th>\n      <th>feature_score</th>\n      <th>feature</th>\n    </tr>\n  </thead>\n  <tbody>\n    <tr>\n      <td>d_kern</td>\n      <td>0.204485</td>\n      <td>d_kern</td>\n    </tr>\n    <tr>\n      <td>AantalPodiumk10</td>\n      <td>0.107528</td>\n      <td>AantalPodiumk10</td>\n    </tr>\n    <tr>\n      <td>AantalMusea10</td>\n      <td>0.063996</td>\n      <td>AantalMusea10</td>\n    </tr>\n    <tr>\n      <td>KL</td>\n      <td>0.063778</td>\n      <td>KL</td>\n    </tr>\n    <tr>\n      <td>fiets</td>\n      <td>0.053097</td>\n      <td>fiets</td>\n    </tr>\n    <tr>\n      <td>RLBVRZ</td>\n      <td>0.042387</td>\n      <td>RLBVRZ</td>\n    </tr>\n    <tr>\n      <td>ov30</td>\n      <td>0.036658</td>\n      <td>ov30</td>\n    </tr>\n    <tr>\n      <td>hh19inkHoog</td>\n      <td>0.035763</td>\n      <td>hh19inkHoog</td>\n    </tr>\n    <tr>\n      <td>RLBBEV</td>\n      <td>0.035332</td>\n      <td>RLBBEV</td>\n    </tr>\n    <tr>\n      <td>RLBWON</td>\n      <td>0.035287</td>\n      <td>RLBWON</td>\n    </tr>\n    <tr>\n      <td>aandeelMH19</td>\n      <td>0.031883</td>\n      <td>aandeelMH19</td>\n    </tr>\n    <tr>\n      <td>hh19inkMidden</td>\n      <td>0.027993</td>\n      <td>hh19inkMidden</td>\n    </tr>\n    <tr>\n      <td>AantalRest3</td>\n      <td>0.027491</td>\n      <td>AantalRest3</td>\n    </tr>\n    <tr>\n      <td>banen</td>\n      <td>0.026678</td>\n      <td>banen</td>\n    </tr>\n    <tr>\n      <td>AfstandZwembad</td>\n      <td>0.024079</td>\n      <td>AfstandZwembad</td>\n    </tr>\n    <tr>\n      <td>AantalCafe3</td>\n      <td>0.023614</td>\n      <td>AantalCafe3</td>\n    </tr>\n    <tr>\n      <td>auto30</td>\n      <td>0.022001</td>\n      <td>auto30</td>\n    </tr>\n    <tr>\n      <td>RLBFYS</td>\n      <td>0.021099</td>\n      <td>RLBFYS</td>\n    </tr>\n    <tr>\n      <td>AantalLevensm3</td>\n      <td>0.018247</td>\n      <td>AantalLevensm3</td>\n    </tr>\n    <tr>\n      <td>hh30inkMidden</td>\n      <td>0.018198</td>\n      <td>hh30inkMidden</td>\n    </tr>\n    <tr>\n      <td>RLBRMTR</td>\n      <td>0.018029</td>\n      <td>RLBRMTR</td>\n    </tr>\n    <tr>\n      <td>hh30inkHoog</td>\n      <td>0.016562</td>\n      <td>hh30inkHoog</td>\n    </tr>\n    <tr>\n      <td>auto60</td>\n      <td>0.016486</td>\n      <td>auto60</td>\n    </tr>\n    <tr>\n      <td>oadh</td>\n      <td>0.014763</td>\n      <td>oadh</td>\n    </tr>\n    <tr>\n      <td>AantalBios5</td>\n      <td>0.014565</td>\n      <td>AantalBios5</td>\n    </tr>\n  </tbody>\n</table>\n</div>"
     },
     "metadata": {},
     "execution_count": 15
    }
   ],
   "source": [
    "fi = pd.DataFrame(model.feature_importances_,X.columns)\n",
    "fi.columns = ['feature_score']\n",
    "fi.sort_values('feature_score', ascending=False, inplace=True)\n",
    "fi['feature'] = fi.index\n",
    "fi"
   ]
  },
  {
   "cell_type": "code",
   "execution_count": 16,
   "metadata": {},
   "outputs": [],
   "source": [
    "# Het opslaan van het model\n",
    "file_name = \"../models/final_model_EE_nowox.pkl\"\n",
    "pickle.dump(model, open(file_name, \"wb\"))"
   ]
  },
  {
   "cell_type": "code",
   "execution_count": 17,
   "metadata": {},
   "outputs": [],
   "source": [
    "# Wel enkel de kolommen nodig waarop ons model is getraind\n",
    "X_pred = buurtendata[feature_cols]\n",
    "X_pred = pd.DataFrame(X_pred)\n",
    "X_pred.columns = feature_cols"
   ]
  },
  {
   "cell_type": "code",
   "execution_count": 18,
   "metadata": {},
   "outputs": [],
   "source": [
    "#final_predictions_df = pd.DataFrame(buurtendata['buurtcode'])\n",
    "final_predictions_df['ee_nowox'] = model.predict(X_pred)\n",
    "X_pred['ee_nowox'] = model.predict(X_pred)"
   ]
  },
  {
   "cell_type": "code",
   "execution_count": 19,
   "metadata": {},
   "outputs": [
    {
     "output_type": "execute_result",
     "data": {
      "text/plain": "0.9970414201183432"
     },
     "metadata": {},
     "execution_count": 19
    }
   ],
   "source": [
    "# Hier koppelen we de 'echte' waardes hieraan om de accuracy te voorspellen. Dit is een validatie stap\n",
    "X_pred['buurtcode'] = buurtendata['buurtcode']\n",
    "X_pred = X_pred.merge(sc, how='left', on ='buurtcode')\n",
    "temp = X_pred[X_pred['EE'].notnull()][['EE', 'ee_nowox']]\n",
    "accuracy_score(temp['ee_nowox'].values,temp['EE'].values)"
   ]
  },
  {
   "cell_type": "code",
   "execution_count": 20,
   "metadata": {},
   "outputs": [
    {
     "output_type": "execute_result",
     "data": {
      "text/plain": "   buurtcode ee_wox ee_nowox\n0      30000      c        c\n1      30001      c        b\n2      30002      c        c\n3      30007      c        a\n4      30008      c        c",
      "text/html": "<div>\n<style scoped>\n    .dataframe tbody tr th:only-of-type {\n        vertical-align: middle;\n    }\n\n    .dataframe tbody tr th {\n        vertical-align: top;\n    }\n\n    .dataframe thead th {\n        text-align: right;\n    }\n</style>\n<table border=\"1\" class=\"dataframe\">\n  <thead>\n    <tr style=\"text-align: right;\">\n      <th></th>\n      <th>buurtcode</th>\n      <th>ee_wox</th>\n      <th>ee_nowox</th>\n    </tr>\n  </thead>\n  <tbody>\n    <tr>\n      <td>0</td>\n      <td>30000</td>\n      <td>c</td>\n      <td>c</td>\n    </tr>\n    <tr>\n      <td>1</td>\n      <td>30001</td>\n      <td>c</td>\n      <td>b</td>\n    </tr>\n    <tr>\n      <td>2</td>\n      <td>30002</td>\n      <td>c</td>\n      <td>c</td>\n    </tr>\n    <tr>\n      <td>3</td>\n      <td>30007</td>\n      <td>c</td>\n      <td>a</td>\n    </tr>\n    <tr>\n      <td>4</td>\n      <td>30008</td>\n      <td>c</td>\n      <td>c</td>\n    </tr>\n  </tbody>\n</table>\n</div>"
     },
     "metadata": {},
     "execution_count": 20
    }
   ],
   "source": [
    "final_predictions_df.head()"
   ]
  },
  {
   "cell_type": "markdown",
   "metadata": {},
   "source": [
    "## Thomas model\n",
    "### Met wox"
   ]
  },
  {
   "cell_type": "code",
   "execution_count": 21,
   "metadata": {},
   "outputs": [],
   "source": [
    "# Hier hebben wij een dataset nodig met de labels van Thomas. \n",
    "feature_cols = ['oadh', 'KL', 'RLBRMTR', 'RLBWON', 'RLBBEV', 'RLBVRZ', 'RLBVEI', 'RLBFYS', 'AantalLevensm3', 'AfstandHuisarts', 'AantalCafe3', 'AantalRest3', 'AfstandZwembad', 'AantalMusea10', 'AantalPodiumk10', 'AantalBios5', 'aandeelMH19', 'auto30', 'ov30', 'fiets', 'wox', 'woxdelta1jr', 'woxdelta5jr', 'woxww', 'woxm2', 'woxm2Gem', 'woxdelta5jrWGabs', 'woxdelta5jrWGrel', 'woxm2WG', 'banen']\n",
    "\n",
    "\n",
    "X = df[feature_cols]\n",
    "y = df['TK']"
   ]
  },
  {
   "cell_type": "code",
   "execution_count": 22,
   "metadata": {},
   "outputs": [
    {
     "output_type": "execute_result",
     "data": {
      "text/plain": "XGBClassifier(base_score=0.5, booster='gbtree', colsample_bylevel=1,\n              colsample_bynode=1, colsample_bytree=0.7, gamma=0.2, gpu_id=-1,\n              importance_type='gain', interaction_constraints=None,\n              learning_rate=0.15, max_delta_step=0, max_depth=7,\n              min_child_weight=3, missing=nan, monotone_constraints=None,\n              n_estimators=60, n_jobs=1, nthread=1, num_parallel_tree=1,\n              objective='multi:softprob', random_state=0, reg_alpha=0,\n              reg_lambda=1, scale_pos_weight=1, seed=2, silent=None,\n              subsample=0.8, tree_method=None, validate_parameters=False,\n              verbosity=1)"
     },
     "metadata": {},
     "execution_count": 22
    }
   ],
   "source": [
    "# maak object met geoptimaliseerde hyperparameters\n",
    "model = xgboost.XGBClassifier(base_score=0.5, booster='gbtree', colsample_bylevel=1,\n",
    "              colsample_bynode=1, colsample_bytree=0.7, gamma=0.2,\n",
    "              learning_rate=0.15, max_delta_step=0, max_depth=7,\n",
    "              min_child_weight=3, missing=None, n_estimators=60, n_jobs=1,\n",
    "              nthread=None, objective='multi:softprob', random_state=0,\n",
    "              reg_alpha=0, reg_lambda=1, scale_pos_weight=1, seed=2,\n",
    "              silent=None, subsample=0.8, verbosity=1)\n",
    "\n",
    "# en fit op data\n",
    "model.fit(X, y)"
   ]
  },
  {
   "cell_type": "code",
   "execution_count": 23,
   "metadata": {},
   "outputs": [
    {
     "output_type": "execute_result",
     "data": {
      "text/plain": "                  feature_score           feature\nAantalBios5            0.099407       AantalBios5\nwoxdelta5jr            0.093094       woxdelta5jr\nAantalCafe3            0.080370       AantalCafe3\nfiets                  0.078096             fiets\nwox                    0.054561               wox\nwoxdelta5jrWGabs       0.048609  woxdelta5jrWGabs\nwoxww                  0.045080             woxww\nAantalLevensm3         0.040006    AantalLevensm3\nwoxm2WG                0.039542           woxm2WG\nRLBVRZ                 0.037079            RLBVRZ\nAantalMusea10          0.031784     AantalMusea10\nAantalPodiumk10        0.030596   AantalPodiumk10\nauto30                 0.029574            auto30\nwoxdelta5jrWGrel       0.025633  woxdelta5jrWGrel\nwoxdelta1jr            0.024191       woxdelta1jr\nov30                   0.023024              ov30\nRLBRMTR                0.022664           RLBRMTR\nwoxm2                  0.022233             woxm2\nRLBBEV                 0.021607            RLBBEV\nAantalRest3            0.021224       AantalRest3\noadh                   0.018281              oadh\nbanen                  0.017895             banen\nAfstandZwembad         0.016923    AfstandZwembad\nRLBWON                 0.016901            RLBWON\nRLBVEI                 0.015956            RLBVEI\nKL                     0.014694                KL\nRLBFYS                 0.011272            RLBFYS\nAfstandHuisarts        0.010235   AfstandHuisarts\naandeelMH19            0.009468       aandeelMH19\nwoxm2Gem               0.000000          woxm2Gem",
      "text/html": "<div>\n<style scoped>\n    .dataframe tbody tr th:only-of-type {\n        vertical-align: middle;\n    }\n\n    .dataframe tbody tr th {\n        vertical-align: top;\n    }\n\n    .dataframe thead th {\n        text-align: right;\n    }\n</style>\n<table border=\"1\" class=\"dataframe\">\n  <thead>\n    <tr style=\"text-align: right;\">\n      <th></th>\n      <th>feature_score</th>\n      <th>feature</th>\n    </tr>\n  </thead>\n  <tbody>\n    <tr>\n      <td>AantalBios5</td>\n      <td>0.099407</td>\n      <td>AantalBios5</td>\n    </tr>\n    <tr>\n      <td>woxdelta5jr</td>\n      <td>0.093094</td>\n      <td>woxdelta5jr</td>\n    </tr>\n    <tr>\n      <td>AantalCafe3</td>\n      <td>0.080370</td>\n      <td>AantalCafe3</td>\n    </tr>\n    <tr>\n      <td>fiets</td>\n      <td>0.078096</td>\n      <td>fiets</td>\n    </tr>\n    <tr>\n      <td>wox</td>\n      <td>0.054561</td>\n      <td>wox</td>\n    </tr>\n    <tr>\n      <td>woxdelta5jrWGabs</td>\n      <td>0.048609</td>\n      <td>woxdelta5jrWGabs</td>\n    </tr>\n    <tr>\n      <td>woxww</td>\n      <td>0.045080</td>\n      <td>woxww</td>\n    </tr>\n    <tr>\n      <td>AantalLevensm3</td>\n      <td>0.040006</td>\n      <td>AantalLevensm3</td>\n    </tr>\n    <tr>\n      <td>woxm2WG</td>\n      <td>0.039542</td>\n      <td>woxm2WG</td>\n    </tr>\n    <tr>\n      <td>RLBVRZ</td>\n      <td>0.037079</td>\n      <td>RLBVRZ</td>\n    </tr>\n    <tr>\n      <td>AantalMusea10</td>\n      <td>0.031784</td>\n      <td>AantalMusea10</td>\n    </tr>\n    <tr>\n      <td>AantalPodiumk10</td>\n      <td>0.030596</td>\n      <td>AantalPodiumk10</td>\n    </tr>\n    <tr>\n      <td>auto30</td>\n      <td>0.029574</td>\n      <td>auto30</td>\n    </tr>\n    <tr>\n      <td>woxdelta5jrWGrel</td>\n      <td>0.025633</td>\n      <td>woxdelta5jrWGrel</td>\n    </tr>\n    <tr>\n      <td>woxdelta1jr</td>\n      <td>0.024191</td>\n      <td>woxdelta1jr</td>\n    </tr>\n    <tr>\n      <td>ov30</td>\n      <td>0.023024</td>\n      <td>ov30</td>\n    </tr>\n    <tr>\n      <td>RLBRMTR</td>\n      <td>0.022664</td>\n      <td>RLBRMTR</td>\n    </tr>\n    <tr>\n      <td>woxm2</td>\n      <td>0.022233</td>\n      <td>woxm2</td>\n    </tr>\n    <tr>\n      <td>RLBBEV</td>\n      <td>0.021607</td>\n      <td>RLBBEV</td>\n    </tr>\n    <tr>\n      <td>AantalRest3</td>\n      <td>0.021224</td>\n      <td>AantalRest3</td>\n    </tr>\n    <tr>\n      <td>oadh</td>\n      <td>0.018281</td>\n      <td>oadh</td>\n    </tr>\n    <tr>\n      <td>banen</td>\n      <td>0.017895</td>\n      <td>banen</td>\n    </tr>\n    <tr>\n      <td>AfstandZwembad</td>\n      <td>0.016923</td>\n      <td>AfstandZwembad</td>\n    </tr>\n    <tr>\n      <td>RLBWON</td>\n      <td>0.016901</td>\n      <td>RLBWON</td>\n    </tr>\n    <tr>\n      <td>RLBVEI</td>\n      <td>0.015956</td>\n      <td>RLBVEI</td>\n    </tr>\n    <tr>\n      <td>KL</td>\n      <td>0.014694</td>\n      <td>KL</td>\n    </tr>\n    <tr>\n      <td>RLBFYS</td>\n      <td>0.011272</td>\n      <td>RLBFYS</td>\n    </tr>\n    <tr>\n      <td>AfstandHuisarts</td>\n      <td>0.010235</td>\n      <td>AfstandHuisarts</td>\n    </tr>\n    <tr>\n      <td>aandeelMH19</td>\n      <td>0.009468</td>\n      <td>aandeelMH19</td>\n    </tr>\n    <tr>\n      <td>woxm2Gem</td>\n      <td>0.000000</td>\n      <td>woxm2Gem</td>\n    </tr>\n  </tbody>\n</table>\n</div>"
     },
     "metadata": {},
     "execution_count": 23
    }
   ],
   "source": [
    "fi = pd.DataFrame(model.feature_importances_,X.columns)\n",
    "fi.columns = ['feature_score']\n",
    "fi.sort_values('feature_score', ascending=False, inplace=True)\n",
    "fi['feature'] = fi.index\n",
    "fi"
   ]
  },
  {
   "cell_type": "code",
   "execution_count": 24,
   "metadata": {},
   "outputs": [],
   "source": [
    "# Opslaan van het model\n",
    "file_name = \"../models/final_model_TK_wox.pkl\"\n",
    "pickle.dump(model, open(file_name, \"wb\"))"
   ]
  },
  {
   "cell_type": "code",
   "execution_count": 25,
   "metadata": {},
   "outputs": [
    {
     "output_type": "execute_result",
     "data": {
      "text/plain": "   buurtcode ee_wox ee_nowox TK_wox\n0      30000      c        c      c\n1      30001      c        b      c\n2      30002      c        c      c\n3      30007      c        a      c\n4      30008      c        c      c",
      "text/html": "<div>\n<style scoped>\n    .dataframe tbody tr th:only-of-type {\n        vertical-align: middle;\n    }\n\n    .dataframe tbody tr th {\n        vertical-align: top;\n    }\n\n    .dataframe thead th {\n        text-align: right;\n    }\n</style>\n<table border=\"1\" class=\"dataframe\">\n  <thead>\n    <tr style=\"text-align: right;\">\n      <th></th>\n      <th>buurtcode</th>\n      <th>ee_wox</th>\n      <th>ee_nowox</th>\n      <th>TK_wox</th>\n    </tr>\n  </thead>\n  <tbody>\n    <tr>\n      <td>0</td>\n      <td>30000</td>\n      <td>c</td>\n      <td>c</td>\n      <td>c</td>\n    </tr>\n    <tr>\n      <td>1</td>\n      <td>30001</td>\n      <td>c</td>\n      <td>b</td>\n      <td>c</td>\n    </tr>\n    <tr>\n      <td>2</td>\n      <td>30002</td>\n      <td>c</td>\n      <td>c</td>\n      <td>c</td>\n    </tr>\n    <tr>\n      <td>3</td>\n      <td>30007</td>\n      <td>c</td>\n      <td>a</td>\n      <td>c</td>\n    </tr>\n    <tr>\n      <td>4</td>\n      <td>30008</td>\n      <td>c</td>\n      <td>c</td>\n      <td>c</td>\n    </tr>\n  </tbody>\n</table>\n</div>"
     },
     "metadata": {},
     "execution_count": 25
    }
   ],
   "source": [
    "# Wel enkel de kolommen nodig waarop ons model is getraind\n",
    "X_pred = buurtendata[feature_cols]\n",
    "X_pred = pd.DataFrame(X_pred)\n",
    "X_pred.columns = feature_cols\n",
    "\n",
    "#opslaan finale voorspelling van dit model\n",
    "final_predictions_df['TK_wox'] = model.predict(X_pred)\n",
    "\n",
    "final_predictions_df.head()"
   ]
  },
  {
   "cell_type": "code",
   "execution_count": 26,
   "metadata": {},
   "outputs": [
    {
     "output_type": "execute_result",
     "data": {
      "text/plain": "1.0"
     },
     "metadata": {},
     "execution_count": 26
    }
   ],
   "source": [
    "# Hier koppelen we de 'echte' waardes hieraan om de accuracy te voorspellen. Dit is een validatie stap\n",
    "X_pred['TK_wox'] = model.predict(X_pred)\n",
    "X_pred['buurtcode'] = buurtendata['buurtcode']\n",
    "X_pred = X_pred.merge(sc, how='left', on ='buurtcode')\n",
    "temp = X_pred[X_pred['TK'].notnull()][['TK', 'TK_wox']]\n",
    "accuracy_score(temp['TK_wox'].values,temp['TK'].values)"
   ]
  },
  {
   "cell_type": "markdown",
   "metadata": {},
   "source": [
    "## Thomas zonder WOX\n",
    "Hierbij wordt gebruik gemaakt van andere kolommmen. "
   ]
  },
  {
   "cell_type": "code",
   "execution_count": 27,
   "metadata": {},
   "outputs": [],
   "source": [
    "feature_cols = ['oadh', 'KL', 'RLBRMTR', 'RLBWON', 'RLBBEV', 'RLBVRZ', 'AantalLevensm3', 'AantalCafe3', 'AantalRest3', 'AantalMusea10', 'AantalPodiumk10', 'AantalBios5', 'hh19inkHoog', 'auto30', 'auto60', 'ov30', 'ov60', 'fiets', 'banen']\n",
    "X = df[feature_cols]\n",
    "y = df['TK']"
   ]
  },
  {
   "cell_type": "code",
   "execution_count": 28,
   "metadata": {},
   "outputs": [
    {
     "output_type": "execute_result",
     "data": {
      "text/plain": "XGBClassifier(base_score=0.5, booster='gbtree', colsample_bylevel=1,\n              colsample_bynode=1, colsample_bytree=0.7, gamma=0.2, gpu_id=-1,\n              importance_type='gain', interaction_constraints=None,\n              learning_rate=0.15, max_delta_step=0, max_depth=7,\n              min_child_weight=3, missing=nan, monotone_constraints=None,\n              n_estimators=55, n_jobs=1, nthread=1, num_parallel_tree=1,\n              objective='multi:softprob', random_state=0, reg_alpha=0,\n              reg_lambda=1, scale_pos_weight=1, seed=2, silent=None,\n              subsample=0.8, tree_method=None, validate_parameters=False,\n              verbosity=1)"
     },
     "metadata": {},
     "execution_count": 28
    }
   ],
   "source": [
    "# Ideaal bleek rond de 30 iteraties\n",
    "# maak object met geoptimaliseerde hyperparameters\n",
    "model = xgboost.XGBClassifier(base_score=0.5, booster='gbtree', colsample_bylevel=1,\n",
    "              colsample_bynode=1, colsample_bytree=0.7, gamma=0.2,\n",
    "              learning_rate=0.15, max_delta_step=0, max_depth=7,\n",
    "              min_child_weight=3, missing=None, n_estimators=55, n_jobs=1,\n",
    "              nthread=None, objective='multi:softprob', random_state=0,\n",
    "              reg_alpha=0, reg_lambda=1, scale_pos_weight=1, seed=2,\n",
    "              silent=None, subsample=0.8, verbosity=1)\n",
    "\n",
    "# en fit op data\n",
    "model.fit(X, y)"
   ]
  },
  {
   "cell_type": "code",
   "execution_count": 29,
   "metadata": {},
   "outputs": [],
   "source": [
    "# Model opslaan\n",
    "file_name = \"../models/final_model_TK_nowox.pkl\"\n",
    "pickle.dump(model, open(file_name, \"wb\"))"
   ]
  },
  {
   "cell_type": "code",
   "execution_count": 30,
   "metadata": {},
   "outputs": [
    {
     "output_type": "execute_result",
     "data": {
      "text/plain": "                 feature_score          feature\nAantalCafe3           0.131060      AantalCafe3\nfiets                 0.100461            fiets\nRLBVRZ                0.066856           RLBVRZ\nbanen                 0.066754            banen\nAantalMusea10         0.063557    AantalMusea10\nauto60                0.061545           auto60\nAantalBios5           0.057311      AantalBios5\nKL                    0.052533               KL\nov60                  0.050638             ov60\nRLBBEV                0.045789           RLBBEV\nRLBRMTR               0.040732          RLBRMTR\nAantalPodiumk10       0.036631  AantalPodiumk10\nov30                  0.036042             ov30\nAantalLevensm3        0.034244   AantalLevensm3\nauto30                0.034118           auto30\nhh19inkHoog           0.031950      hh19inkHoog\noadh                  0.031428             oadh\nAantalRest3           0.030862      AantalRest3\nRLBWON                0.027489           RLBWON",
      "text/html": "<div>\n<style scoped>\n    .dataframe tbody tr th:only-of-type {\n        vertical-align: middle;\n    }\n\n    .dataframe tbody tr th {\n        vertical-align: top;\n    }\n\n    .dataframe thead th {\n        text-align: right;\n    }\n</style>\n<table border=\"1\" class=\"dataframe\">\n  <thead>\n    <tr style=\"text-align: right;\">\n      <th></th>\n      <th>feature_score</th>\n      <th>feature</th>\n    </tr>\n  </thead>\n  <tbody>\n    <tr>\n      <td>AantalCafe3</td>\n      <td>0.131060</td>\n      <td>AantalCafe3</td>\n    </tr>\n    <tr>\n      <td>fiets</td>\n      <td>0.100461</td>\n      <td>fiets</td>\n    </tr>\n    <tr>\n      <td>RLBVRZ</td>\n      <td>0.066856</td>\n      <td>RLBVRZ</td>\n    </tr>\n    <tr>\n      <td>banen</td>\n      <td>0.066754</td>\n      <td>banen</td>\n    </tr>\n    <tr>\n      <td>AantalMusea10</td>\n      <td>0.063557</td>\n      <td>AantalMusea10</td>\n    </tr>\n    <tr>\n      <td>auto60</td>\n      <td>0.061545</td>\n      <td>auto60</td>\n    </tr>\n    <tr>\n      <td>AantalBios5</td>\n      <td>0.057311</td>\n      <td>AantalBios5</td>\n    </tr>\n    <tr>\n      <td>KL</td>\n      <td>0.052533</td>\n      <td>KL</td>\n    </tr>\n    <tr>\n      <td>ov60</td>\n      <td>0.050638</td>\n      <td>ov60</td>\n    </tr>\n    <tr>\n      <td>RLBBEV</td>\n      <td>0.045789</td>\n      <td>RLBBEV</td>\n    </tr>\n    <tr>\n      <td>RLBRMTR</td>\n      <td>0.040732</td>\n      <td>RLBRMTR</td>\n    </tr>\n    <tr>\n      <td>AantalPodiumk10</td>\n      <td>0.036631</td>\n      <td>AantalPodiumk10</td>\n    </tr>\n    <tr>\n      <td>ov30</td>\n      <td>0.036042</td>\n      <td>ov30</td>\n    </tr>\n    <tr>\n      <td>AantalLevensm3</td>\n      <td>0.034244</td>\n      <td>AantalLevensm3</td>\n    </tr>\n    <tr>\n      <td>auto30</td>\n      <td>0.034118</td>\n      <td>auto30</td>\n    </tr>\n    <tr>\n      <td>hh19inkHoog</td>\n      <td>0.031950</td>\n      <td>hh19inkHoog</td>\n    </tr>\n    <tr>\n      <td>oadh</td>\n      <td>0.031428</td>\n      <td>oadh</td>\n    </tr>\n    <tr>\n      <td>AantalRest3</td>\n      <td>0.030862</td>\n      <td>AantalRest3</td>\n    </tr>\n    <tr>\n      <td>RLBWON</td>\n      <td>0.027489</td>\n      <td>RLBWON</td>\n    </tr>\n  </tbody>\n</table>\n</div>"
     },
     "metadata": {},
     "execution_count": 30
    }
   ],
   "source": [
    "fi = pd.DataFrame(model.feature_importances_,X.columns)\n",
    "fi.columns = ['feature_score']\n",
    "fi.sort_values('feature_score', ascending=False, inplace=True)\n",
    "fi['feature'] = fi.index\n",
    "fi"
   ]
  },
  {
   "cell_type": "code",
   "execution_count": 31,
   "metadata": {},
   "outputs": [
    {
     "output_type": "execute_result",
     "data": {
      "text/plain": "   buurtcode ee_wox ee_nowox TK_wox TK_nowox\n0      30000      c        c      c        c\n1      30001      c        b      c        c\n2      30002      c        c      c        c\n3      30007      c        a      c        c\n4      30008      c        c      c        c",
      "text/html": "<div>\n<style scoped>\n    .dataframe tbody tr th:only-of-type {\n        vertical-align: middle;\n    }\n\n    .dataframe tbody tr th {\n        vertical-align: top;\n    }\n\n    .dataframe thead th {\n        text-align: right;\n    }\n</style>\n<table border=\"1\" class=\"dataframe\">\n  <thead>\n    <tr style=\"text-align: right;\">\n      <th></th>\n      <th>buurtcode</th>\n      <th>ee_wox</th>\n      <th>ee_nowox</th>\n      <th>TK_wox</th>\n      <th>TK_nowox</th>\n    </tr>\n  </thead>\n  <tbody>\n    <tr>\n      <td>0</td>\n      <td>30000</td>\n      <td>c</td>\n      <td>c</td>\n      <td>c</td>\n      <td>c</td>\n    </tr>\n    <tr>\n      <td>1</td>\n      <td>30001</td>\n      <td>c</td>\n      <td>b</td>\n      <td>c</td>\n      <td>c</td>\n    </tr>\n    <tr>\n      <td>2</td>\n      <td>30002</td>\n      <td>c</td>\n      <td>c</td>\n      <td>c</td>\n      <td>c</td>\n    </tr>\n    <tr>\n      <td>3</td>\n      <td>30007</td>\n      <td>c</td>\n      <td>a</td>\n      <td>c</td>\n      <td>c</td>\n    </tr>\n    <tr>\n      <td>4</td>\n      <td>30008</td>\n      <td>c</td>\n      <td>c</td>\n      <td>c</td>\n      <td>c</td>\n    </tr>\n  </tbody>\n</table>\n</div>"
     },
     "metadata": {},
     "execution_count": 31
    }
   ],
   "source": [
    "# Wel enkel de kolommen nodig waarop ons model is getraind\n",
    "X_pred = buurtendata[feature_cols]\n",
    "X_pred = pd.DataFrame(X_pred)\n",
    "X_pred.columns = feature_cols\n",
    "\n",
    "#opslaan finale voorspelling van dit model\n",
    "final_predictions_df['TK_nowox'] = model.predict(X_pred)\n",
    "\n",
    "final_predictions_df.head()"
   ]
  },
  {
   "cell_type": "code",
   "execution_count": 32,
   "metadata": {},
   "outputs": [
    {
     "output_type": "execute_result",
     "data": {
      "text/plain": "0.9970414201183432"
     },
     "metadata": {},
     "execution_count": 32
    }
   ],
   "source": [
    "# Hier koppelen we de 'echte' waardes hieraan om de accuracy te voorspellen. Dit is een validatie stap\n",
    "X_pred['TK_nowox'] = model.predict(X_pred)\n",
    "X_pred['buurtcode'] = buurtendata['buurtcode']\n",
    "X_pred = X_pred.merge(sc, how='left', on ='buurtcode')\n",
    "temp = X_pred[X_pred['TK'].notnull()][['TK', 'TK_nowox']]\n",
    "accuracy_score(temp['TK_nowox'].values,temp['TK'].values)"
   ]
  },
  {
   "cell_type": "code",
   "execution_count": 33,
   "metadata": {},
   "outputs": [],
   "source": [
    "# Opslaan van de predictie resultaten\n",
    "final_predictions_df.to_csv('../2019model_predictions.csv')"
   ]
  },
  {
   "cell_type": "markdown",
   "metadata": {},
   "source": [
    "## Het gebruiken en testen van onze getrainde modellen"
   ]
  },
  {
   "cell_type": "code",
   "execution_count": 34,
   "metadata": {},
   "outputs": [],
   "source": [
    "# laad model\n",
    "model_2019_EE = pickle.load(open(\"../models/final_model_EE_wox.pkl\", \"rb\"))\n",
    "model_2019_TK = pickle.load(open(\"../models/final_model_TK_wox.pkl\", \"rb\"))\n",
    "model_2019_EE_nw = pickle.load(open(\"../models/final_model_EE_nowox.pkl\", \"rb\"))\n",
    "model_2019_TK_nw = pickle.load(open(\"../models/final_model_TK_nowox.pkl\", \"rb\"))"
   ]
  }
 ],
 "metadata": {
  "language_info": {
   "name": "python",
   "codemirror_mode": {
    "name": "ipython",
    "version": 3
   },
   "version": "3.7.4-final"
  },
  "orig_nbformat": 2,
  "file_extension": ".py",
  "mimetype": "text/x-python",
  "name": "python",
  "npconvert_exporter": "python",
  "pygments_lexer": "ipython3",
  "version": 3,
  "kernelspec": {
   "name": "python37464bitbaseconda242bb0ba9e57475e817de0db7bd613e8",
   "display_name": "Python 3.7.4 64-bit ('base': conda)"
  }
 },
 "nbformat": 4,
 "nbformat_minor": 2
}