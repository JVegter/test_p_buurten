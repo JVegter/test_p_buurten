{
 "cells": [
  {
   "attachments": {},
   "cell_type": "markdown",
   "metadata": {},
   "source": [
    "# Backtest uitvoeren\n",
    "\n",
    "Op 2020 data\n"
   ]
  },
  {
   "cell_type": "code",
   "execution_count": 27,
   "metadata": {},
   "outputs": [],
   "source": [
    "# importeren packages\n",
    "import pandas as pd\n",
    "import numpy as np\n",
    "#conda install -c anaconda py-xgboost #installeer XGBoost\n",
    "import xgboost\n",
    "#from xgboost import XGBClassifier\n",
    "from xgboost import plot_importance\n",
    "from sklearn.model_selection import train_test_split, RandomizedSearchCV, GridSearchCV, KFold, cross_val_score\n",
    "from sklearn.metrics import accuracy_score, confusion_matrix\n",
    "from sklearn import preprocessing\n",
    "from sklearn.preprocessing import RobustScaler \n",
    "import pickle\n",
    "from matplotlib import pyplot\n",
    "#import seaborn as sns #visualisation\n",
    "#import matplotlib.pyplot as plt #visualisation\n",
    "\n",
    "# setten source path: later moet alle brondata naar datalake\n",
    "source_path =\"P:\\\\DATASCIENCE\\\\Aantrekkelijkheid buurten\\\\Resultaten\\\\\"\n",
    "# alle tussentijdse data voorlopig in dezelfde map op een schijf opslaan in\n",
    "save_path = \"P:\\\\DATASCIENCE\\\\Aantrekkelijkheid buurten\\\\Resultaten\\\\\"\n",
    "\n",
    "\n",
    "#%matplotlib inline"
   ]
  },
  {
   "cell_type": "code",
   "execution_count": 85,
   "metadata": {},
   "outputs": [],
   "source": [
    "# display meer regels\n",
    "pd.set_option('display.max_rows', 500)"
   ]
  },
  {
   "cell_type": "markdown",
   "metadata": {},
   "source": [
    "### Inladen data"
   ]
  },
  {
   "cell_type": "code",
   "execution_count": 54,
   "metadata": {},
   "outputs": [],
   "source": [
    "# # inladen bestand met scores als sc\n",
    "# sc = pd.read_excel(source_path + 'buurten voor experts 2e ronde.xlsx', sheet_name='buurten')\n",
    "# # alleen selecteren kolommen voor scores en oordelen\n",
    "# sc = sc[['buurtcode','EE','TK']]\n",
    "\n",
    "# inladen bestand met alle buurten en onafhankelijke variabelen als all\n",
    "buurtendata = pd.read_csv(source_path + '2017\\\\' +  'buurten.csv', encoding='utf-16')"
   ]
  },
  {
   "cell_type": "code",
   "execution_count": 57,
   "metadata": {},
   "outputs": [],
   "source": [
    "# merge op buurtcode (die van 2019)\n",
    "# df = pd.merge(sc,buurtendata, on='buurtcode')\n",
    "df = buurtendata"
   ]
  },
  {
   "cell_type": "markdown",
   "metadata": {},
   "source": [
    "### Maak splits in test en training set"
   ]
  },
  {
   "cell_type": "code",
   "execution_count": 58,
   "metadata": {},
   "outputs": [
    {
     "data": {
      "text/plain": [
       "Index(['buurtcode', 'buurtnaam', 'buurtcodeLetters', 'wijkcode', 'wijknaam',\n",
       "       'gemeentecode', 'gemeentenaam', 'inw', 'bevdh', 'oadh', 'hh', 'inw65',\n",
       "       'KL14', 'KL16', 'VKL1416', 'RLBRMTR14', 'RLBWON14', 'RLBBEV14',\n",
       "       'RLBVRZ14', 'RLBVEI14', 'RLBFYS14', 'RLBRMTR16', 'RLBWON16', 'RLBBEV16',\n",
       "       'RLBVRZ16', 'RLBVEI16', 'RLBFYS16', 'AfstandSupermarkt',\n",
       "       'AantalLevensm3', 'AfstandHuisarts', 'AantalCafe3', 'AantalRest3',\n",
       "       'AantalKinderopvang1', 'AfstandZwembad', 'AantalMusea10',\n",
       "       'AantalPodiumk10', 'AantalBios5', 'sleutel', 'wvtotaal', 'wvkoop',\n",
       "       'wvhuursoc', 'wvhuurov', 'wv<1945', 'wv1945-1970', 'wv1970-1980',\n",
       "       'wv1980-1990', 'wv1990-2000', 'wv2000-2010', 'wv>=2010', 'aand<1945',\n",
       "       'aand1945-1970', 'aand1970-1980', 'aand1980-1990', 'aand1990-2000',\n",
       "       'aand2000-2010', 'aand>=2010', 'aandkoop', 'aandhuursoc', 'aandhuurov',\n",
       "       'wox', 'woxdelta1jr', 'woxdelta5jr', 'woxww', 'woxm2', 'woxGem',\n",
       "       'woxdelta1jrGem', 'woxdelta5jrGem', 'woxwwGem', 'woxm2Gem',\n",
       "       'woxdelta5jrWGabs', 'woxdelta5jrWGrel', 'woxm2WG'],\n",
       "      dtype='object')"
      ]
     },
     "execution_count": 58,
     "metadata": {},
     "output_type": "execute_result"
    }
   ],
   "source": [
    "df.columns"
   ]
  },
  {
   "cell_type": "code",
   "execution_count": 59,
   "metadata": {},
   "outputs": [],
   "source": [
    "# hernoem RLBBEV naar zonder jaartal, zodat we kunnen vergelijken tussen 2016 en 2018\n",
    "df.rename(columns={\"RLBBEV16\":\"RLBBEV\"}, inplace=True) "
   ]
  },
  {
   "cell_type": "code",
   "execution_count": 61,
   "metadata": {},
   "outputs": [],
   "source": [
    "# alle kolommen! behalve enkele omschhrijvingen, onnodige wijkcodes, marktpotentie want String \n",
    "# feature_cols = ['woxdelta5jrGem', 'AantalCafe3', 'woxdelta5jr', 'wox',\n",
    "#        'woxdelta1jrGem', 'AantalBios5', 'woxm2WG']\n",
    "\n",
    "\n",
    "\n",
    "\n",
    "feature_cols = ['AantalCafe3', 'woxdelta5jr', 'woxm2', 'woxww',\n",
    "       'woxdelta5jrGem', 'wox', 'RLBBEV',\n",
    "       'RLBVRZ16', 'AantalLevensm3', 'woxm2WG', 'aand1945-1970',\n",
    "       'woxdelta5jrWGabs', 'woxdelta1jrGem', 'AantalPodiumk10',\n",
    "       'wv2000-2010', 'AantalBios5']\n",
    "\n",
    "\n",
    "\n",
    "\n",
    "#zonder wox\n",
    "#feature_cols = ['buurtcode','inw', 'bevdh', 'oadh', 'hh', 'inw65', 'KL16', 'KL18', 'VKL1618',\n",
    "#                'RLBRMTR18', 'RLBWON18', 'RLBBEV18', 'RLBVRZ18', 'RLBVEI18', 'RLBFYS18', \n",
    "#                'AfstandSupermarkt', 'AantalLevensm3', 'AfstandHuisarts', 'AantalCafe3','AantalRest3', 'AantalKinderopvang1', \n",
    "#                'AfstandZwembad', 'AantalMusea10', 'AantalPodiumk10', 'AantalBios5', \n",
    "#                'hh19inkLaag', 'hh30inkLaag', 'hh19inkMidden', 'hh30inkMidden', 'hh19inkHoog', 'hh30inkHoog', \n",
    "#                'aandeelMH19', 'auto30', 'auto60', 'ov30', 'ov60', 'fiets', 'banen'] \n",
    "\n",
    "\n",
    "\n",
    "#X = df[feature_cols]\n",
    "# y = df[['TK']]"
   ]
  },
  {
   "cell_type": "code",
   "execution_count": 62,
   "metadata": {},
   "outputs": [],
   "source": [
    "# Normaliseren data\n",
    "# Creating a scaled feature set\n",
    "scaler = RobustScaler()\n",
    "X_2017 = scaler.fit_transform(df[feature_cols])\n",
    "X_2017 = pd.DataFrame(X_2017)\n",
    "X_2017.columns = feature_cols"
   ]
  },
  {
   "cell_type": "code",
   "execution_count": 63,
   "metadata": {},
   "outputs": [],
   "source": [
    "model_2019 = xgboost.XGBClassifier(base_score=0.5, booster='gbtree', colsample_bylevel=1,\n",
    "              colsample_bynode=1, colsample_bytree=0.7, gamma=0.2,\n",
    "              learning_rate=0.15, max_delta_step=0, max_depth=7,\n",
    "              min_child_weight=3, missing=None, n_estimators=250, n_jobs=1,\n",
    "              nthread=None, objective='multi:softprob', random_state=0,\n",
    "              reg_alpha=0, reg_lambda=1, scale_pos_weight=1, seed=2,\n",
    "              silent=None, subsample=0.8, verbosity=1)\n",
    "\n",
    "# laad model\n",
    "model_2019 = pickle.load(open(\"model_backtesting.pkl\", \"rb\"))\n"
   ]
  },
  {
   "cell_type": "code",
   "execution_count": 64,
   "metadata": {},
   "outputs": [],
   "source": [
    "y_pred = model_2019.predict(X_2017)"
   ]
  },
  {
   "cell_type": "code",
   "execution_count": 65,
   "metadata": {},
   "outputs": [
    {
     "data": {
      "text/plain": [
       "(13208,)"
      ]
     },
     "execution_count": 65,
     "metadata": {},
     "output_type": "execute_result"
    }
   ],
   "source": [
    "y_pred.shape"
   ]
  },
  {
   "cell_type": "code",
   "execution_count": 68,
   "metadata": {},
   "outputs": [
    {
     "data": {
      "text/plain": [
       "Index(['AantalCafe3', 'woxdelta5jr', 'woxm2', 'woxww', 'woxdelta5jrGem', 'wox',\n",
       "       'RLBBEV', 'RLBVRZ16', 'AantalLevensm3', 'woxm2WG', 'aand1945-1970',\n",
       "       'woxdelta5jrWGabs', 'woxdelta1jrGem', 'AantalPodiumk10', 'wv2000-2010',\n",
       "       'AantalBios5'],\n",
       "      dtype='object')"
      ]
     },
     "execution_count": 68,
     "metadata": {},
     "output_type": "execute_result"
    }
   ],
   "source": [
    "X_2017.columns"
   ]
  },
  {
   "cell_type": "code",
   "execution_count": 67,
   "metadata": {},
   "outputs": [
    {
     "data": {
      "text/plain": [
       "array(['c', 'c', 'c', ..., 'c', 'c', 'c'], dtype=object)"
      ]
     },
     "execution_count": 67,
     "metadata": {},
     "output_type": "execute_result"
    }
   ],
   "source": [
    "y_pred"
   ]
  },
  {
   "cell_type": "code",
   "execution_count": 76,
   "metadata": {},
   "outputs": [
    {
     "name": "stderr",
     "output_type": "stream",
     "text": [
      "C:\\Users\\rondea\\AppData\\Local\\Continuum\\anaconda3\\lib\\site-packages\\ipykernel_launcher.py:2: SettingWithCopyWarning: \n",
      "A value is trying to be set on a copy of a slice from a DataFrame.\n",
      "Try using .loc[row_indexer,col_indexer] = value instead\n",
      "\n",
      "See the caveats in the documentation: http://pandas.pydata.org/pandas-docs/stable/user_guide/indexing.html#returning-a-view-versus-a-copy\n",
      "  \n"
     ]
    }
   ],
   "source": [
    "# selecteer alleen kolommen om op te vergelijken en key, absolute getallen\n",
    "X_oud = df[[\"buurtcode\", \"woxww\"]]\n",
    "# voeg predicties toe\n",
    "X_oud['pred_2017'] = list(y_pred)"
   ]
  },
  {
   "cell_type": "code",
   "execution_count": 79,
   "metadata": {},
   "outputs": [],
   "source": [
    "# laad 2019 data in voor vergelijking\n",
    "X_nieuw = pd.read_csv(source_path + 'buurten.csv', encoding='utf-16')\n",
    "# selecteer alleen kolommen om op te vergelijken\n",
    "X_nieuw = X_nieuw[['buurtcode', 'woxww', 'VKL1618']]"
   ]
  },
  {
   "cell_type": "code",
   "execution_count": 105,
   "metadata": {},
   "outputs": [],
   "source": [
    "# mergen beiden\n",
    "X_vgl = pd.merge(X_oud, X_nieuw, on='buurtcode')\n",
    "\n",
    "# berekenen verschil woxww\n",
    "X_vgl['delta_woxww'] = X_vgl['woxww_y'] - X_vgl['woxww_x']"
   ]
  },
  {
   "cell_type": "code",
   "execution_count": 108,
   "metadata": {},
   "outputs": [],
   "source": [
    "X_vgl = X_vgl[X_vgl['delta_woxww'].notnull()]"
   ]
  },
  {
   "cell_type": "code",
   "execution_count": 109,
   "metadata": {},
   "outputs": [
    {
     "data": {
      "text/plain": [
       "(6219, 6)"
      ]
     },
     "execution_count": 109,
     "metadata": {},
     "output_type": "execute_result"
    }
   ],
   "source": [
    "X_vgl.shape"
   ]
  },
  {
   "cell_type": "code",
   "execution_count": 103,
   "metadata": {},
   "outputs": [
    {
     "data": {
      "text/plain": [
       "pred_2017\n",
       "a    50674.220963\n",
       "b    36843.522562\n",
       "c    47190.228690\n",
       "Name: delta_woxww, dtype: float64"
      ]
     },
     "execution_count": 103,
     "metadata": {},
     "output_type": "execute_result"
    }
   ],
   "source": [
    "X_vgl.groupby('pred_2017')['delta_woxww'].mean()"
   ]
  },
  {
   "cell_type": "code",
   "execution_count": 104,
   "metadata": {},
   "outputs": [
    {
     "data": {
      "text/plain": [
       "pred_2017\n",
       "a    3883\n",
       "b    1374\n",
       "c     962\n",
       "Name: delta_woxww, dtype: int64"
      ]
     },
     "execution_count": 104,
     "metadata": {},
     "output_type": "execute_result"
    }
   ],
   "source": [
    "X_vgl.groupby('pred_2017')['delta_woxww'].count()"
   ]
  },
  {
   "cell_type": "code",
   "execution_count": 96,
   "metadata": {},
   "outputs": [
    {
     "data": {
      "text/plain": [
       "pred_2017\n",
       "a    4.043744\n",
       "b    4.044248\n",
       "c    4.045625\n",
       "Name: VKL1618, dtype: float64"
      ]
     },
     "execution_count": 96,
     "metadata": {},
     "output_type": "execute_result"
    }
   ],
   "source": [
    "\n",
    "X_vgl = X_vgl[X_vgl['VKL1618'].notnull()]\n",
    "X_vgl.groupby('pred_2017')['VKL1618'].mean()"
   ]
  },
  {
   "cell_type": "code",
   "execution_count": null,
   "metadata": {},
   "outputs": [],
   "source": []
  }
 ],
 "metadata": {
  "kernelspec": {
   "display_name": "Python 3",
   "language": "python",
   "name": "python3"
  },
  "language_info": {
   "codemirror_mode": {
    "name": "ipython",
    "version": 3
   },
   "file_extension": ".py",
   "mimetype": "text/x-python",
   "name": "python",
   "nbconvert_exporter": "python",
   "pygments_lexer": "ipython3",
   "version": "3.7.4"
  }
 },
 "nbformat": 4,
 "nbformat_minor": 2
}
