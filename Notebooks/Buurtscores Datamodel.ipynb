{
 "cells": [
  {
   "cell_type": "markdown",
   "metadata": {},
   "source": [
    "### Beschrijving\n",
    "\n",
    "1. Koppeltabellen inlezen\n",
    "2. Per bron de informatie toevoegen aan de koppeltabellen op het betreffende aggregatieniveau\n",
    "\n",
    "Waarschuwing<br>\n",
    "- CBS kerncijfers (ODATA) is nu de versie van 2019 maar wijzigt elk jaar, alsmede buurten, wijken en gemeenten, adressen<br>\n",
    "- De code in dit programma moet achter elkaar gedraaid worden en geen stukjes apart\n",
    "\n",
    "Input<br>\n",
    "- Leefbaarometer, https://data.overheid.nl/dataset/leefbaarometer-meting-2018<br>\n",
    "- CBS: buurten, wijken, gemeenten: Drie kleinere bestanden op https://www.cbs.nl/nl-nl/maatwerk/2019/42/buurt-wijk-en-gemeente-2019-voor-postcode-huisnummer<br>\n",
    "- CBS: adressen koppelbestand: https://www.cbs.nl/nl-nl/maatwerk/2019/42/buurt-wijk-en-gemeente-2019-voor-postcode-huisnummer <br>\n",
    "- CBS: kerncijfers wijken en buurten, zowel in CBSODATA als hier: https://www.cbs.nl/nl-nl/maatwerk/2019/31/kerncijfers-wijken-en-buurten-2019\n",
    "- CBS: nabijheidsstatistieken over voorzieningen in buurten, zowel in CBSODATA als hier: https://www.cbs.nl/nl-nl/dossier/nederland-regionaal/wijk-en-buurtstatistieken/nabijheidsstatistieken-per-wijk-buurt\n",
    "- CBS; maatwerktabel vernummering ontvangen van regstat@cbs.nl; betreft oude en nieuwe buurtcodes, ook af te leiden uit kerncijfers wijken en buurten adhv wijzigingsindicator\n",
    "- Vesteda interne data: MobilityLabel: bereikbaarheidstabel per PC5 en markpotentie per gemeente<br>\n",
    "- Calcasa: woningmarktinformatie per wijk, Vesteda data<br>\n",
    "- Calcasa: woningvoorraad incl bouwjaren informatie per buurt, Vesteda data<br>\n",
    "- ABF: data over midden en hoge inkomens per buurt, Vesteda data<br>\n",
    "\n",
    "Output\n",
    "- bm = buurten main: Bestand met alle buurten van Nederland en informatie daarover; als input voor analyses van buurten gezamenlijk met wm en gm\n",
    "- wm = wijken main\n",
    "- gm = gemeenten main\n",
    "- buurten: bm,wm,gm samengevoegd"
   ]
  },
  {
   "cell_type": "markdown",
   "metadata": {},
   "source": [
    "### Declaraties"
   ]
  },
  {
   "cell_type": "code",
   "execution_count": 2,
   "metadata": {},
   "outputs": [],
   "source": [
    "# importeren packages\n",
    "# package odata installeren: pip install cbsodata (zie ook https://pypi.org/project/cbsodata/)\n",
    "import cbsodata\n",
    "import pandas as pd\n",
    "import numpy as np\n",
    "\n",
    "# setten source path: later moet alle brondata naar datalake\n",
    "source_path =\"Q:\\\\RESEARCH\\\\RESEARCH ALGEMEEN\\\\Aantrekkelijkheid buurten\\\\DS project 2020\\\\Brondata\\\\\"\n",
    "# alle tussentijdse data voorlopig in dezelfde map op een schijf opslaan in\n",
    "save_path = \"Q:\\RESEARCH\\RESEARCH ALGEMEEN\\\\Aantrekkelijkheid buurten\\\\DS project 2020\\\\Resultaten\\\\\"\n",
    "\n",
    "# jaar waarin gemeente op 1 januari een bevolking moet hebben om meegenomen te worden \n",
    "peiljaar = 2019"
   ]
  },
  {
   "cell_type": "markdown",
   "metadata": {},
   "source": [
    "### Inlezen buurtcodes en buurtnamen\n",
    "Bronbestand CBS van peiljaar inlezen (in dit geval 2019)"
   ]
  },
  {
   "cell_type": "code",
   "execution_count": 39,
   "metadata": {},
   "outputs": [],
   "source": [
    "# inladen master bestand buurtcodes\n",
    "buurten = pd.read_csv(source_path+'buurt'+str(peiljaar)+'.csv', sep=';')\n",
    "# hernoemen kolommen\n",
    "buurten.columns=['buurtcode', 'buurtnaam']\n",
    "# kolom maken met buurtcodeLetters ten behoeve van mergen met andere bronnen\n",
    "buurten['buurtcodeLetters'] = 'BU' + buurten['buurtcode'].astype(str).str.zfill(8)"
   ]
  },
  {
   "cell_type": "markdown",
   "metadata": {},
   "source": [
    "### Inlezen wijkcodes en wijknamen"
   ]
  },
  {
   "cell_type": "code",
   "execution_count": 40,
   "metadata": {},
   "outputs": [],
   "source": [
    "wijken = pd.read_csv(source_path+'wijk'+str(peiljaar)+'.csv', sep=';')\n",
    "# hernoemen kolommen\n",
    "wijken.columns=['wijkcode', 'wijknaam']"
   ]
  },
  {
   "cell_type": "markdown",
   "metadata": {},
   "source": [
    "### Inlezen gemeentecodes en gemeentenamen"
   ]
  },
  {
   "cell_type": "code",
   "execution_count": 41,
   "metadata": {},
   "outputs": [],
   "source": [
    "# inladen master bestand gemeenten\n",
    "gemeenten = pd.read_csv(source_path+'gem'+str(peiljaar)+'.csv', sep=';')\n",
    "# hernoemen kolommen\n",
    "gemeenten.columns=['gemeentecode', 'gemeentenaam']"
   ]
  },
  {
   "cell_type": "markdown",
   "metadata": {},
   "source": [
    "### Wijkcodes, wijknamen, gemeentecodes, gemeentenamen toevoegen aan buurten<br>En gemeentecodes, gemeentenamen toevoegen aan wijken\n",
    "Dit is gebaseerd op uitgangspunten: <br>\n",
    "1. Een wijkcode is af te leiden uit de buurtcodes door de laatste twee cijfers van de buurtcode te verwijderen <br>\n",
    "2. Een gemeentecode is af te leiden uit de wijkcode door de laatste twee cijfers van de wijkcode te verwijderen <br>\n",
    "Dit moet altijd kloppen ook na herindelingen. Dit is gecheckt met koppeltabel (adressenbestand). "
   ]
  },
  {
   "cell_type": "code",
   "execution_count": 42,
   "metadata": {},
   "outputs": [],
   "source": [
    "buurten['wijkcode'] = buurten['buurtcode'].astype(str).str[:-2].astype(np.int64)\n",
    "buurten = pd.merge(buurten, wijken, how='left', on='wijkcode')\n",
    "\n",
    "buurten['gemeentecode'] = buurten['wijkcode'].astype(str).str[:-2].astype(np.int64)\n",
    "buurten = pd.merge(buurten, gemeenten, how='left', on='gemeentecode')\n",
    "\n",
    "wijken['gemeentecode'] = wijken['wijkcode'].astype(str).str[:-2].astype(np.int64)\n",
    "wijken = pd.merge(wijken, gemeenten, how='left', on='gemeentecode')"
   ]
  },
  {
   "cell_type": "markdown",
   "metadata": {},
   "source": [
    "### Ophalen vernummeringstabel CBS\n",
    "Dit is een bestand dat door regstat is aangeleverd. Bevat 549 rijen en is consistent met wijzigingsindicator. Bevat alleen buurtcodes 2019 en hun voorganger. Betreft alleen indelingswijziging =2, dus alleen code gewijzigd, niet grens. \n",
    "Deze oude buurtcodes gaan bij het ophalen van andere bronnen helpen om een match te vinden.<br>\n",
    "Na toevoegen zijn er 3 soorten buurtcodes: \n",
    "- buurtcodeLetters: dit zijn buurtcodeLetters volgens 2019, de masterlist afgeleid van CBS buurten 2019\n",
    "- buurtcodeLetters18 (veelal leeg)\n",
    "- buurtcodeLettersMatch: buurtcode 19 tenzij buurtcode 18 bekend is, dan die van 2018. Deze wordt gebruikt voor matches bij bronnen die 18 betreffen ipv 19."
   ]
  },
  {
   "cell_type": "code",
   "execution_count": 43,
   "metadata": {},
   "outputs": [],
   "source": [
    "vernummerd = pd.read_excel(source_path+'vernum2019, gecheckt, consistent met wijzigingsindicator.xlsx', sheet_name ='vernum2019')"
   ]
  },
  {
   "cell_type": "code",
   "execution_count": 44,
   "metadata": {},
   "outputs": [],
   "source": [
    "# kolomnamen hernoemen \n",
    "vernummerd.columns=['buurtcode18', 'buurtcode']\n",
    "# kolom maken met buurtcodeLetters ten behoeve van mergen met andere bronnen\n",
    "vernummerd['buurtcodeLetters18'] = 'BU' + vernummerd['buurtcode18'].astype(str).str.zfill(8)\n",
    "\n",
    "# toevoegen aan buurten\n",
    "buurten = pd.merge(buurten, vernummerd, how='left', on='buurtcode')\n",
    "\n",
    "# nieuwe kolom maken gebaseerd op het al dan niet gevuld zijn van buurtcodeLetters18\n",
    "buurten['buurtcodeLettersMatch']=np.where(buurten['buurtcodeLetters18'].isnull(), buurten['buurtcodeLetters'], buurten['buurtcodeLetters18'])\n"
   ]
  },
  {
   "cell_type": "markdown",
   "metadata": {},
   "source": [
    "### Ophalen regionale kerncijfers van CBS ODATA"
   ]
  },
  {
   "cell_type": "code",
   "execution_count": 45,
   "metadata": {},
   "outputs": [],
   "source": [
    "# dit tabelnummer 84583 is de versie van 2019. \n",
    "kerncijfers = pd.DataFrame(cbsodata.get_data('84583NED'))"
   ]
  },
  {
   "cell_type": "markdown",
   "metadata": {},
   "source": [
    "### Toevoegen regionale kerncijfers aan buurten. Alleen relevante kolommen. \n",
    "Het bronbestand regionale kerncijfers telt ruim 100 kolommen. Hiervan zijn er maar ca 5 nodig.<br>\n",
    "Daarnaast alleen de rijen gebruiken die buurtinformatie bevatten, dus weggooien alle andere rijen."
   ]
  },
  {
   "cell_type": "code",
   "execution_count": 46,
   "metadata": {},
   "outputs": [],
   "source": [
    "# filteren alleen buurt: SoortRegio_2 = Buurt met 5 spaties\n",
    "kerncijfersBuurt = kerncijfers.loc[kerncijfers['SoortRegio_2'] == 'Buurt     ']\n",
    "\n",
    "# selecteren relevante kolommen\n",
    "keepcols  = ['Codering_3', 'AantalInwoners_5', 'Bevolkingsdichtheid_33', 'Omgevingsadressendichtheid_106', 'HuishoudensTotaal_28', 'k_65JaarOfOuder_12']\n",
    "kerncijfersBuurt = kerncijfersBuurt[keepcols]\n",
    "# hernoemen kolomnamen\n",
    "kerncijfersBuurt.columns=['buurtcodeLetters', 'inw', 'bevdh', 'oadh', 'hh', 'inw65' ]"
   ]
  },
  {
   "cell_type": "markdown",
   "metadata": {},
   "source": [
    "### Introductie bm: buurten Main"
   ]
  },
  {
   "cell_type": "code",
   "execution_count": 47,
   "metadata": {},
   "outputs": [],
   "source": [
    "# toevoegen kerncijfers aan masterbestand gematcht op buurtcodeLetters\n",
    "# hier wordt bm geintroduceerd: buurten bestand MAIN. \n",
    "bm=pd.merge(buurten, kerncijfersBuurt, how='left', on='buurtcodeLetters')"
   ]
  },
  {
   "cell_type": "markdown",
   "metadata": {},
   "source": [
    "### Ophalen leefbaarometer\n",
    "Kolommen selecteren en hernoemen en Matchen.<br>\n",
    "Opmerkingen:\n",
    "1. Er zijn buurten die niet meer bestaan in de CBS buurten maar nog wel in de leefbarometer Dat komt door herindelingen. Dit is waarschijnlijk de andere kant van het volgende punt<br>\n",
    "2. Er bleken  buurten die wel bestaan in CBS buurten maar niet in leefbarometer. Dit is op te lossen door te matchen op buurtcodeMatch, dat betekent dat waar van toepassing, wordt teruggegrepen op buurtcode 18<br>\n",
    "3. Niet alles is op te lossen door teruggrijpen op buurtcode 18 nl. als buurten ook een andere grenzen hebben gekregen. in dit geval is er geen buurtcode18 in ons masterbestand buurt toegevoegd."
   ]
  },
  {
   "cell_type": "code",
   "execution_count": 48,
   "metadata": {},
   "outputs": [],
   "source": [
    "# inlezen leefbaarheidsexcels\n",
    "leefbaarheid=pd.read_excel(source_path+ 'Score_Buurt.xlsx', sheet_name='data')\n",
    "dimensiescore=pd.read_excel(source_path+ 'dimensiescore_Buurt (stand).xlsx', sheet_name='data(2)')"
   ]
  },
  {
   "cell_type": "code",
   "execution_count": 49,
   "metadata": {},
   "outputs": [],
   "source": [
    "# selecteren relevante kolommen score\n",
    "keepcols =['CODE', 'KL16', 'KL18', 'VKL1618']\n",
    "leefbaarheid=leefbaarheid[keepcols]\n",
    "\n",
    "# hernoemen sleutelkolom tbv samenvoegen\n",
    "leefbaarheid.columns = ['buurtcodeLettersMatch', 'KL16', 'KL18', 'VKL1618']\n",
    "\n",
    "# selecteren relevante kolommen dimensiescore\n",
    "keepcols =['GBD', 'RLBRMTR16', 'RLBWON16', 'RLBBEV16', 'RLBVRZ16', 'RLBVEI16', 'RLBFYS16', \n",
    "                   'RLBRMTR18', 'RLBWON18', 'RLBBEV18','RLBVRZ18', 'RLBVEI18', 'RLBFYS18']\n",
    "\n",
    "dimensiescore=dimensiescore[keepcols]\n",
    "dimensiescore.columns = ['buurtcodeLettersMatch', 'RLBRMTR16', 'RLBWON16', 'RLBBEV16', 'RLBVRZ16', 'RLBVEI16', 'RLBFYS16', 'RLBRMTR18', 'RLBWON18', 'RLBBEV18',\n",
    "           'RLBVRZ18', 'RLBVEI18', 'RLBFYS18']"
   ]
  },
  {
   "cell_type": "code",
   "execution_count": 50,
   "metadata": {},
   "outputs": [],
   "source": [
    "# samenvoegen\n",
    "bm=pd.merge(bm, leefbaarheid, how='left', on='buurtcodeLettersMatch')\n",
    "\n",
    "# toevoegen dimensiescore info\n",
    "bm=pd.merge(bm, dimensiescore, how ='left', on= 'buurtcodeLettersMatch')"
   ]
  },
  {
   "cell_type": "markdown",
   "metadata": {},
   "source": [
    "### Ophalen voorzieningen informatie CBS\n",
    "Deze tabel heet nabijheidsstatistieken en is nodig omdat diverse nabijheidsinformatie in de regionale kerncijfers leeg was. \n",
    "N.B. de nabijheidsstatistieken zijn van 2018 en de kerncijfers zijn van 2019. Daarom matchen adhv buurtcodeLettersMatch"
   ]
  },
  {
   "cell_type": "code",
   "execution_count": 51,
   "metadata": {},
   "outputs": [],
   "source": [
    "nabij = pd.DataFrame(cbsodata.get_data('84463NED'))"
   ]
  },
  {
   "cell_type": "markdown",
   "metadata": {},
   "source": [
    "### Toevoegen voorzieningen informatie aan buurten\n",
    "er zijn hier ca 70 interessante indicatoren, hieronder een eerste selectie, wellicht tzt nog eens alle 70 bekijken en\n",
    "beoordelen op samenhang!"
   ]
  },
  {
   "cell_type": "code",
   "execution_count": 52,
   "metadata": {},
   "outputs": [],
   "source": [
    "# filteren alleen buurt: SoortRegio_2 = Buurt met 5 spaties\n",
    "nabij = nabij.loc[nabij['SoortRegio_2'] == 'Buurt     ']\n",
    "\n",
    "# selecteren relevante kolommen. Totaal zijn er 70 waarvan veel overlap. Dit is een eerste selectie met interessante kandidaten.\n",
    "keepcols  = ['Codering_3', 'AfstandTotGroteSupermarkt_24', 'Binnen3Km_30', 'AfstandTotHuisartsenpraktijk_5', 'Binnen3Km_38', \n",
    "             'Binnen3Km_46', 'Binnen1Km_53', 'AfstandTotZwembad_93', 'Binnen10Km_97', 'Binnen10Km_101', 'Binnen5Km_105']\n",
    "nabij= nabij[keepcols]\n",
    "\n",
    "# hernoemen kolomnamen\n",
    "nabij.columns= ['buurtcodeLettersMatch','AfstandSupermarkt', 'AantalLevensm3', 'AfstandHuisarts', 'AantalCafe3', 'AantalRest3', \n",
    "                     'AantalKinderopvang1', 'AfstandZwembad', 'AantalMusea10', 'AantalPodiumk10', 'AantalBios5']"
   ]
  },
  {
   "cell_type": "code",
   "execution_count": 53,
   "metadata": {},
   "outputs": [],
   "source": [
    "# toevoegen aan buurtmain obv buurtcodeLettersMatch\n",
    "bm=pd.merge(bm, nabij, how='left', on='buurtcodeLettersMatch')"
   ]
  },
  {
   "cell_type": "markdown",
   "metadata": {},
   "source": [
    "### Ophalen ABF info"
   ]
  },
  {
   "cell_type": "code",
   "execution_count": 54,
   "metadata": {},
   "outputs": [],
   "source": [
    "# inlezen ABF excel met aantallen huishoudens\n",
    "ink = pd.read_excel(source_path+'Huishoudens in woningen  - Socrates 2019 Midden.xlsx', sheet_name ='Data',na_values = '.')"
   ]
  },
  {
   "cell_type": "markdown",
   "metadata": {},
   "source": [
    "### Toevoegen ABF info aan buurten\n",
    "obv buurtcodeLettersMatch omdat buurten van 2018 bleken te zijn"
   ]
  },
  {
   "cell_type": "code",
   "execution_count": 55,
   "metadata": {},
   "outputs": [],
   "source": [
    "# hernoemen kolommen\n",
    "ink.columns = ['buurtnaam', 'buurtcode', 'hh19inkLaag', 'hh30inkLaag', 'hh19inkMidden', 'hh30inkMidden', 'hh19inkHoog', 'hh30inkHoog']\n",
    "\n",
    "# creëren buurtcodeLetters\n",
    "ink['buurtcodeLettersMatch'] ='BU' + ink['buurtcode'].astype(str).str.zfill(8)\n",
    "# kolommen buurtnaam en buurtcode zijn niet meer nodig en laten vervallen\n",
    "ink.drop(['buurtnaam', 'buurtcode'], axis=1, inplace=True)\n",
    "\n",
    "# toevoegen kolom aandeelMH19\n",
    "ink['aandeelMH19'] = (ink['hh19inkMidden'] + ink['hh19inkHoog']) / (ink['hh19inkLaag'] + ink['hh19inkMidden'] + ink['hh19inkHoog'])"
   ]
  },
  {
   "cell_type": "code",
   "execution_count": 56,
   "metadata": {},
   "outputs": [],
   "source": [
    "# toevoegen aan bm\n",
    "bm=pd.merge(bm, ink, how ='left', on= 'buurtcodeLettersMatch')"
   ]
  },
  {
   "cell_type": "markdown",
   "metadata": {},
   "source": [
    "### Ophalen Calcasa prijs info  (wijk en gemeente)\n",
    "Huizenprijs ontwikkelingen, is niet beschikbaar op buurtniveau. Daarom op wijkniveau. \n",
    "Omdat er vergeleken gaat worden met gemeente niveau moet er ook info op gemeenteniveau worden ingelezen. "
   ]
  },
  {
   "cell_type": "code",
   "execution_count": 57,
   "metadata": {},
   "outputs": [],
   "source": [
    "# inlezen Calcasa xlsx wijken. N.b. zo recent mogelijk, maar 2019Q4 nog niet beschikbaar. \n",
    "calcWijk = pd.read_excel(source_path + 'calcasa wijken 2019q3.xlsx', na_values='-')\\\n",
    "# verwijderen 1e regel die bevat de datum\n",
    "calcWijk =  calcWijk.iloc[1:]\n",
    "# hernoemen kolommen\n",
    "calcWijk.columns = ['wijknaam', 'gemeentenaam', 'wox', 'woxdelta1jr', 'woxdelta5jr', 'woxww', 'woxm2']\n",
    "# verwijderen de laatste regel die bevat Bron: Calcasa\n",
    "calcWijk = calcWijk[~calcWijk.wijknaam.str.contains(\"Calcasa\")]\n",
    "\n",
    "# verwijderen rijen met alleen maar nullen want ca 100 wijken van de 1300 bevatten alleen maar nullen d.i. naN\n",
    "# Dit zijn vnl bedrijventerreinen.\n",
    "# door deze verwijdering vervalt ook het dubbel voorkomen van Kraggenburg-bedrijventerrein binnen dezelfde gemeente. \n",
    "calcWijk.dropna(axis=0, subset=['wox', 'woxdelta1jr', 'woxdelta5jr', 'woxww', 'woxm2'], how='all', inplace=True)"
   ]
  },
  {
   "cell_type": "code",
   "execution_count": 58,
   "metadata": {},
   "outputs": [],
   "source": [
    "# inlezen Calcasa xlsx gemeenten. N.b. moet zelfde peildatum als wijken hebben \n",
    "calcGem = pd.read_excel(source_path + 'calcasa gemeenten 2019q3.xlsx', na_values='-')\n",
    "# verwijderen 1e regel die bevat de datum\n",
    "calcGem =  calcGem.iloc[1:]\n",
    "calcGem.columns = ['gemeentenaam', 'woxGem', 'woxdelta1jrGem', 'woxdelta5jrGem', 'woxwwGem', 'woxm2Gem']\n",
    "# verwijderen laatste regel die bevat bron: Calcasa\n",
    "calcGem = calcGem[~calcGem.gemeentenaam.str.contains(\"Calcasa\")]"
   ]
  },
  {
   "cell_type": "markdown",
   "metadata": {},
   "source": [
    "### Afleiden nieuwe kolommen obv Calcasa info"
   ]
  },
  {
   "cell_type": "code",
   "execution_count": 59,
   "metadata": {},
   "outputs": [],
   "source": [
    "# toevoegen calGem aan calcWijk\n",
    "calcWijk=pd.merge(calcWijk, calcGem, how='left', on=['gemeentenaam'])\n",
    "# afleiden kolom absoluut verschil 5jrs delta wijk en gem, uitkomst is een percentage\n",
    "calcWijk['woxdelta5jrWGabs'] = calcWijk['woxdelta5jr'] - calcWijk['woxdelta5jrGem']\n",
    "# afleiden kolom relatief verschil 5jrs delta wijk en gem\n",
    "calcWijk['woxdelta5jrWGrel'] = calcWijk['woxdelta5jr'] / calcWijk['woxdelta5jrGem']\n",
    "# afleiden kolom verschil m2 prijs wijk en gem\n",
    "calcWijk['woxm2WG'] = calcWijk['woxm2'] / calcWijk['woxm2Gem']"
   ]
  },
  {
   "cell_type": "markdown",
   "metadata": {},
   "source": [
    "### Toevoegen Calcasa info aan wijken"
   ]
  },
  {
   "cell_type": "code",
   "execution_count": 60,
   "metadata": {},
   "outputs": [],
   "source": [
    "# introducie wm: wijken main\n",
    "# matchen aan de hand van wijknaam en gemeentenaam. Code niet aanwezig dus dat kan niet. \n",
    "# En alleen matchen op wijknaam geeft dubbelen.  Daarom inclusief gemeentenaam. \n",
    "wm=pd.merge(wijken, calcWijk, how='left', on=['wijknaam', 'gemeentenaam'])"
   ]
  },
  {
   "cell_type": "markdown",
   "metadata": {},
   "source": [
    "### Woningvoorraad en bouwjaren Calcasa op buurtniveau"
   ]
  },
  {
   "cell_type": "code",
   "execution_count": 61,
   "metadata": {},
   "outputs": [],
   "source": [
    "# functie declareren die alle deelbestanden inleest en samenvoegt\n",
    "def prov():\n",
    "    # eerst de dfwv opbouwen met een eerste provincie\n",
    "    provincie='NB'\n",
    "    prov = pd.read_excel(source_path + 'calcasa wv bouwjaren 2018Q4 ' + provincie + '.xlsx', na_values='-')\n",
    "    # verwijderen 1e regel die bevat de datum\n",
    "    prov =  prov.iloc[1:]\n",
    "    # hernoemen kolommen\n",
    "    prov.columns = ['buurtnaam', 'gemeentenaam', 'wvtotaal', 'wv<1945', 'wv1945-1970', 'wv1970-1980', 'wv1980-1990', 'wv1990-2000', 'wv2000-2010', 'wv>=2010']\n",
    "    # verwijderen laatste regel die bevat bron: Calcasa\n",
    "    prov = prov[~prov.buurtnaam.str.contains(\"Calcasa\")]\n",
    "    #print(prov.head())\n",
    "    print('aantal rijen na verwerken van NB: ', len(prov))\n",
    "    dfwv = prov\n",
    "    \n",
    "    # hier de dfwv steeds uitbreiden met een provincie\n",
    "    for provincie in ['ZE', 'ZH', 'LI', 'OV', 'GE', 'DR', 'FL', 'FR', 'GR', 'NH', 'UT']:\n",
    "        prov = pd.read_excel(source_path + 'calcasa wv bouwjaren 2018Q4 ' + provincie + '.xlsx', na_values='-')\n",
    "        # verwijderen 1e regel die bevat de datum\n",
    "        prov =  prov.iloc[1:]\n",
    "        # hernoemen kolommen\n",
    "        prov.columns = ['buurtnaam', 'gemeentenaam', 'wvtotaal', 'wv<1945', 'wv1945-1970', 'wv1970-1980', 'wv1980-1990', 'wv1990-2000', 'wv2000-2010', 'wv>=2010']\n",
    "        # verwijderen laatste regel die bevat bron: Calcasa\n",
    "        prov = prov[~prov.buurtnaam.str.contains(\"Calcasa\")]\n",
    "        #print(prov.head())\n",
    "        # toevoegen aan main\n",
    "        dfwv = dfwv.append(prov, ignore_index=True)\n",
    "        print('aantal rijen na verwerken van', provincie, ': ', len(dfwv))\n",
    "    return dfwv"
   ]
  },
  {
   "cell_type": "code",
   "execution_count": 62,
   "metadata": {},
   "outputs": [
    {
     "name": "stdout",
     "output_type": "stream",
     "text": [
      "aantal rijen na verwerken van NB:  1090\n",
      "aantal rijen na verwerken van ZE :  1114\n",
      "aantal rijen na verwerken van ZH :  2881\n",
      "aantal rijen na verwerken van LI :  3164\n",
      "aantal rijen na verwerken van OV :  3559\n",
      "aantal rijen na verwerken van GE :  4229\n",
      "aantal rijen na verwerken van DR :  4467\n",
      "aantal rijen na verwerken van FL :  4772\n",
      "aantal rijen na verwerken van FR :  4902\n",
      "aantal rijen na verwerken van GR :  5014\n",
      "aantal rijen na verwerken van NH :  6419\n",
      "aantal rijen na verwerken van UT :  7284\n"
     ]
    }
   ],
   "source": [
    "#aanroepen van de functie\n",
    "dfwv=prov()"
   ]
  },
  {
   "cell_type": "code",
   "execution_count": 63,
   "metadata": {},
   "outputs": [],
   "source": [
    "# merge sleutel maken. Hier wordt gematcht op combi gemeentenaam en buurtnaam, omdat Calcasa geen codes levert. \n",
    "# Als de code veranderd is van 18 op 19 is de buurtnaam gelijk gebleven. \n",
    "dfwv['sleutel'] = dfwv['gemeentenaam']+dfwv['buurtnaam']\n",
    "bm['sleutel'] = bm['gemeentenaam']+bm['buurtnaam']"
   ]
  },
  {
   "cell_type": "code",
   "execution_count": 64,
   "metadata": {},
   "outputs": [],
   "source": [
    "# kolommen toevoegen voor de procentuele aandelen van elke bouwperiode\n",
    "# ivm delen door NA eerst alle NA vullen met 0\n",
    "dfwv.fillna(0, inplace = True) \n",
    "\n",
    "dfwv['aand<1945'] = dfwv['wv<1945'] / dfwv['wvtotaal']\n",
    "dfwv['aand1945-1970'] = dfwv['wv1945-1970'] / dfwv['wvtotaal']\n",
    "dfwv['aand1970-1980'] = dfwv['wv1970-1980'] / dfwv['wvtotaal']\n",
    "dfwv['aand1980-1990'] = dfwv['wv1980-1990'] / dfwv['wvtotaal']\n",
    "dfwv['aand1990-2000'] = dfwv['wv1990-2000'] / dfwv['wvtotaal']\n",
    "dfwv['aand2000-2010'] = dfwv['wv2000-2010'] / dfwv['wvtotaal']\n",
    "dfwv['aand>=2010'] = dfwv['wv>=2010'] / dfwv['wvtotaal']\n",
    "\n",
    "# verwijderen kolommen buurtnaam en gemeentenaam uit dfwv anders krijg je bij de merge onnodige dubbelen\n",
    "dfwv.drop(['gemeentenaam', 'buurtnaam'], axis=1, inplace=True)"
   ]
  },
  {
   "cell_type": "code",
   "execution_count": 65,
   "metadata": {},
   "outputs": [
    {
     "data": {
      "text/html": [
       "<div>\n",
       "<style scoped>\n",
       "    .dataframe tbody tr th:only-of-type {\n",
       "        vertical-align: middle;\n",
       "    }\n",
       "\n",
       "    .dataframe tbody tr th {\n",
       "        vertical-align: top;\n",
       "    }\n",
       "\n",
       "    .dataframe thead th {\n",
       "        text-align: right;\n",
       "    }\n",
       "</style>\n",
       "<table border=\"1\" class=\"dataframe\">\n",
       "  <thead>\n",
       "    <tr style=\"text-align: right;\">\n",
       "      <th></th>\n",
       "      <th>buurtcode</th>\n",
       "      <th>buurtnaam</th>\n",
       "      <th>buurtcodeLetters</th>\n",
       "      <th>wijkcode</th>\n",
       "      <th>wijknaam</th>\n",
       "      <th>gemeentecode</th>\n",
       "      <th>gemeentenaam</th>\n",
       "      <th>buurtcode18</th>\n",
       "      <th>buurtcodeLetters18</th>\n",
       "      <th>buurtcodeLettersMatch</th>\n",
       "      <th>...</th>\n",
       "      <th>wv1980-1990</th>\n",
       "      <th>wv1990-2000</th>\n",
       "      <th>wv2000-2010</th>\n",
       "      <th>wv&gt;=2010</th>\n",
       "      <th>aand1945-1970</th>\n",
       "      <th>aand1970-1980</th>\n",
       "      <th>aand1980-1990</th>\n",
       "      <th>aand1990-2000</th>\n",
       "      <th>aand2000-2010</th>\n",
       "      <th>aand&gt;=2010</th>\n",
       "    </tr>\n",
       "  </thead>\n",
       "  <tbody>\n",
       "    <tr>\n",
       "      <th>0</th>\n",
       "      <td>30000</td>\n",
       "      <td>Appingedam-Centrum</td>\n",
       "      <td>BU00030000</td>\n",
       "      <td>300</td>\n",
       "      <td>Wijk 00</td>\n",
       "      <td>3</td>\n",
       "      <td>Appingedam</td>\n",
       "      <td>NaN</td>\n",
       "      <td>NaN</td>\n",
       "      <td>BU00030000</td>\n",
       "      <td>...</td>\n",
       "      <td>NaN</td>\n",
       "      <td>NaN</td>\n",
       "      <td>NaN</td>\n",
       "      <td>NaN</td>\n",
       "      <td>NaN</td>\n",
       "      <td>NaN</td>\n",
       "      <td>NaN</td>\n",
       "      <td>NaN</td>\n",
       "      <td>NaN</td>\n",
       "      <td>NaN</td>\n",
       "    </tr>\n",
       "    <tr>\n",
       "      <th>1</th>\n",
       "      <td>30001</td>\n",
       "      <td>Appingedam-West</td>\n",
       "      <td>BU00030001</td>\n",
       "      <td>300</td>\n",
       "      <td>Wijk 00</td>\n",
       "      <td>3</td>\n",
       "      <td>Appingedam</td>\n",
       "      <td>NaN</td>\n",
       "      <td>NaN</td>\n",
       "      <td>BU00030001</td>\n",
       "      <td>...</td>\n",
       "      <td>NaN</td>\n",
       "      <td>NaN</td>\n",
       "      <td>NaN</td>\n",
       "      <td>NaN</td>\n",
       "      <td>NaN</td>\n",
       "      <td>NaN</td>\n",
       "      <td>NaN</td>\n",
       "      <td>NaN</td>\n",
       "      <td>NaN</td>\n",
       "      <td>NaN</td>\n",
       "    </tr>\n",
       "    <tr>\n",
       "      <th>2</th>\n",
       "      <td>30002</td>\n",
       "      <td>Appingedam-Oost</td>\n",
       "      <td>BU00030002</td>\n",
       "      <td>300</td>\n",
       "      <td>Wijk 00</td>\n",
       "      <td>3</td>\n",
       "      <td>Appingedam</td>\n",
       "      <td>NaN</td>\n",
       "      <td>NaN</td>\n",
       "      <td>BU00030002</td>\n",
       "      <td>...</td>\n",
       "      <td>NaN</td>\n",
       "      <td>NaN</td>\n",
       "      <td>NaN</td>\n",
       "      <td>NaN</td>\n",
       "      <td>NaN</td>\n",
       "      <td>NaN</td>\n",
       "      <td>NaN</td>\n",
       "      <td>NaN</td>\n",
       "      <td>NaN</td>\n",
       "      <td>NaN</td>\n",
       "    </tr>\n",
       "    <tr>\n",
       "      <th>3</th>\n",
       "      <td>30007</td>\n",
       "      <td>Verspreide huizen Damsterdiep en Eemskanaal</td>\n",
       "      <td>BU00030007</td>\n",
       "      <td>300</td>\n",
       "      <td>Wijk 00</td>\n",
       "      <td>3</td>\n",
       "      <td>Appingedam</td>\n",
       "      <td>NaN</td>\n",
       "      <td>NaN</td>\n",
       "      <td>BU00030007</td>\n",
       "      <td>...</td>\n",
       "      <td>NaN</td>\n",
       "      <td>NaN</td>\n",
       "      <td>NaN</td>\n",
       "      <td>NaN</td>\n",
       "      <td>NaN</td>\n",
       "      <td>NaN</td>\n",
       "      <td>NaN</td>\n",
       "      <td>NaN</td>\n",
       "      <td>NaN</td>\n",
       "      <td>NaN</td>\n",
       "    </tr>\n",
       "    <tr>\n",
       "      <th>4</th>\n",
       "      <td>30008</td>\n",
       "      <td>Verspreide huizen ten zuiden van Eemskanaal</td>\n",
       "      <td>BU00030008</td>\n",
       "      <td>300</td>\n",
       "      <td>Wijk 00</td>\n",
       "      <td>3</td>\n",
       "      <td>Appingedam</td>\n",
       "      <td>NaN</td>\n",
       "      <td>NaN</td>\n",
       "      <td>BU00030008</td>\n",
       "      <td>...</td>\n",
       "      <td>NaN</td>\n",
       "      <td>NaN</td>\n",
       "      <td>NaN</td>\n",
       "      <td>NaN</td>\n",
       "      <td>NaN</td>\n",
       "      <td>NaN</td>\n",
       "      <td>NaN</td>\n",
       "      <td>NaN</td>\n",
       "      <td>NaN</td>\n",
       "      <td>NaN</td>\n",
       "    </tr>\n",
       "  </tbody>\n",
       "</table>\n",
       "<p>5 rows × 62 columns</p>\n",
       "</div>"
      ],
      "text/plain": [
       "   buurtcode                                    buurtnaam buurtcodeLetters  \\\n",
       "0      30000                           Appingedam-Centrum       BU00030000   \n",
       "1      30001                              Appingedam-West       BU00030001   \n",
       "2      30002                              Appingedam-Oost       BU00030002   \n",
       "3      30007  Verspreide huizen Damsterdiep en Eemskanaal       BU00030007   \n",
       "4      30008  Verspreide huizen ten zuiden van Eemskanaal       BU00030008   \n",
       "\n",
       "   wijkcode wijknaam  gemeentecode gemeentenaam  buurtcode18  \\\n",
       "0       300  Wijk 00             3   Appingedam          NaN   \n",
       "1       300  Wijk 00             3   Appingedam          NaN   \n",
       "2       300  Wijk 00             3   Appingedam          NaN   \n",
       "3       300  Wijk 00             3   Appingedam          NaN   \n",
       "4       300  Wijk 00             3   Appingedam          NaN   \n",
       "\n",
       "  buurtcodeLetters18 buurtcodeLettersMatch     ...      wv1980-1990  \\\n",
       "0                NaN            BU00030000     ...              NaN   \n",
       "1                NaN            BU00030001     ...              NaN   \n",
       "2                NaN            BU00030002     ...              NaN   \n",
       "3                NaN            BU00030007     ...              NaN   \n",
       "4                NaN            BU00030008     ...              NaN   \n",
       "\n",
       "   wv1990-2000  wv2000-2010  wv>=2010  aand1945-1970  aand1970-1980  \\\n",
       "0          NaN          NaN       NaN            NaN            NaN   \n",
       "1          NaN          NaN       NaN            NaN            NaN   \n",
       "2          NaN          NaN       NaN            NaN            NaN   \n",
       "3          NaN          NaN       NaN            NaN            NaN   \n",
       "4          NaN          NaN       NaN            NaN            NaN   \n",
       "\n",
       "   aand1980-1990  aand1990-2000  aand2000-2010  aand>=2010  \n",
       "0            NaN            NaN            NaN         NaN  \n",
       "1            NaN            NaN            NaN         NaN  \n",
       "2            NaN            NaN            NaN         NaN  \n",
       "3            NaN            NaN            NaN         NaN  \n",
       "4            NaN            NaN            NaN         NaN  \n",
       "\n",
       "[5 rows x 62 columns]"
      ]
     },
     "execution_count": 65,
     "metadata": {},
     "output_type": "execute_result"
    }
   ],
   "source": [
    "# toevoegen wv info aan bm\n",
    "bm = pd.merge(bm, dfwv, how='left', on=['sleutel'])"
   ]
  },
  {
   "cell_type": "markdown",
   "metadata": {},
   "source": [
    "### TO DO. dubbelen verwijderen wv. 30 rijen. "
   ]
  },
  {
   "cell_type": "markdown",
   "metadata": {},
   "source": [
    "### Ophalen marktpotentie"
   ]
  },
  {
   "cell_type": "code",
   "execution_count": 66,
   "metadata": {},
   "outputs": [],
   "source": [
    "# de marktpotentie van 2019 inlezen, deze is al handmatig aangepast voor gemeentes per 1.1.2019 en mp omschrijving is korte variant\n",
    "mp = pd.read_excel(source_path+ 'MP2019.xlsx', sheet_name='master')\n",
    "# hernoemen kolommen\n",
    "mp.columns=['gemeentecodeLetter', 'gemeentenaam', 'mp']\n",
    "# 1 kolom is niet meer nodig\n",
    "mp.drop('gemeentecodeLetter', axis=1, inplace=True)"
   ]
  },
  {
   "cell_type": "markdown",
   "metadata": {},
   "source": [
    "### Toevoegen marktpotentie aan gemeenten"
   ]
  },
  {
   "cell_type": "code",
   "execution_count": 67,
   "metadata": {},
   "outputs": [],
   "source": [
    "# toevoegen mp aan masterbestand aan de hand van match op gemeentenaam\n",
    "# introductie gm: gemeenten main\n",
    "gm = pd.merge(gemeenten, mp, how='left', on='gemeentenaam')"
   ]
  },
  {
   "cell_type": "markdown",
   "metadata": {},
   "source": [
    "### Ophalen bereikbaarheidsinformatie: mob (van MobilityLabel)"
   ]
  },
  {
   "cell_type": "code",
   "execution_count": 68,
   "metadata": {},
   "outputs": [],
   "source": [
    "# inlezen mobility label data in xlsx\n",
    "mob = pd.read_excel(source_path + 'bereikbaarheidsrangen_pc5_incl banen.xlsx', sheet_name ='PC5')"
   ]
  },
  {
   "cell_type": "markdown",
   "metadata": {},
   "source": [
    "### Omrekenen bereikbaarheidsinformatie mob van pc5 naar buurt\n",
    "Hiervoor is het adressenbestand nodig. Omdat een pc5 in meerdere buurten voor kan komen moet er een omrekening plaatsvinden.\n",
    "Er wordt gekozen voor simpelweg middelen. "
   ]
  },
  {
   "cell_type": "code",
   "execution_count": 69,
   "metadata": {},
   "outputs": [],
   "source": [
    "adressen = pd.read_csv(source_path+'pc6hnr20190801_gwb.csv', sep=';')\n",
    "\n",
    "# alle uniek voorkomende combinaties van pc5 en buurtcode creëen vanuit het adressenbestand\n",
    "adressen['pc5']=adressen['PC6'].str.slice(stop=5)\n",
    "keepcols =['pc5', 'Buurt2019']\n",
    "adressen = adressen[keepcols]\n",
    "adressen.drop_duplicates(inplace=True)\n",
    "\n",
    "# mob: alleen relevante kolommen\n",
    "keepcols = ['rekenpunt', 'banen_auto_30min', 'banen_auto_60min', 'banen_ov_30min', 'banen_ov_60min', 'banen_fiets', \n",
    "            'anders_reizen_waarde_30min', 'anders_reizen_waarde_60min', 'doorstromingswaarde_30min', 'doorstromingswaarde_60min']\n",
    "mob=mob[keepcols]\n",
    "\n",
    "# hernoemen kolommen\n",
    "mob.columns =['pc5', 'auto30', 'auto60', 'ov30', 'ov60', 'fiets', 'ar30', 'ar60', 'door30', 'door60']\n",
    "\n",
    "# mob toevoegen aan adressenbestand\n",
    "adressen=pd.merge(adressen, mob, how='left', on='pc5')"
   ]
  },
  {
   "cell_type": "code",
   "execution_count": 70,
   "metadata": {},
   "outputs": [],
   "source": [
    "# nu per buurt de gemiddelden berekenen\n",
    "adressenGroup = adressen.groupby(['Buurt2019']).agg({'auto30': 'mean', 'auto60': 'mean', 'ov30': 'mean', 'ov60': 'mean', 'fiets': 'mean', \n",
    "                                   'ar30': 'mean', 'ar60': 'mean', 'door30': 'mean', 'door60': 'mean'})\n",
    "adressenGroup.reset_index(level=0, inplace=True)\n",
    "adressenGroup.columns = ['buurtcode', 'auto30', 'auto60','ov30','ov60', 'fiets', 'ar30', 'ar60','door30', 'door60']"
   ]
  },
  {
   "cell_type": "markdown",
   "metadata": {},
   "source": [
    "### Toevoegen bereikbaarheidsinformatie mob aan buurten"
   ]
  },
  {
   "cell_type": "code",
   "execution_count": 71,
   "metadata": {},
   "outputs": [],
   "source": [
    "bm=pd.merge(bm, adressenGroup, how='left', on='buurtcode')"
   ]
  },
  {
   "cell_type": "markdown",
   "metadata": {},
   "source": [
    "### Opslaan resultaten als csv\n",
    "Encoding=utf-16 zorgt ervoor dat diakritische tekens in Excel goed leesbaar zijn."
   ]
  },
  {
   "cell_type": "code",
   "execution_count": 72,
   "metadata": {},
   "outputs": [],
   "source": [
    "# drie basisbestanden\n",
    "bm.to_csv(save_path+'bm.csv', encoding='utf-16', index=False)\n",
    "wm.to_csv(save_path+'wm.csv', encoding='utf-16', index=False)\n",
    "gm.to_csv(save_path+'gm.csv', encoding='utf-16', index=False)"
   ]
  },
  {
   "cell_type": "code",
   "execution_count": 73,
   "metadata": {},
   "outputs": [],
   "source": [
    "# samengestelde csv. om dubbele kolommen te voorkomen eerst droppen bepaalde kolommen\n",
    "wm.drop(columns=['wijknaam', 'gemeentecode', 'gemeentenaam'], inplace=True)\n",
    "gm.drop(columns=['gemeentenaam'], inplace=True)\n",
    "\n",
    "buurten=pd.merge(bm, wm, how='left', on ='wijkcode')\n",
    "buurten=pd.merge(buurten, gm, how='left', on ='gemeentecode')\n",
    "\n",
    "buurten.to_csv(save_path+'buurten.csv', encoding='utf-16', index=False)"
   ]
  },
  {
   "cell_type": "markdown",
   "metadata": {},
   "source": [
    "### Einde Buurtscores Datamodel. Vervolg: Buurtscores EDA"
   ]
  }
 ],
 "metadata": {
  "kernelspec": {
   "display_name": "Python 3",
   "language": "python",
   "name": "python3"
  },
  "language_info": {
   "codemirror_mode": {
    "name": "ipython",
    "version": 3
   },
   "file_extension": ".py",
   "mimetype": "text/x-python",
   "name": "python",
   "nbconvert_exporter": "python",
   "pygments_lexer": "ipython3",
   "version": "3.7.0"
  }
 },
 "nbformat": 4,
 "nbformat_minor": 2
}
