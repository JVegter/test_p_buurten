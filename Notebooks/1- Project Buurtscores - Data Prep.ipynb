{
 "cells": [
  {
   "cell_type": "markdown",
   "metadata": {},
   "source": [
    "# Buurtscore project - maken datamodel voor analyse\n",
    "\n",
    "### Projectdocument\n",
    "- zie locatie: ....\n",
    "\n",
    "### Beschrijving\n",
    "\n",
    "Dit script laadt de data voor de analyse/modellen in, koppelt die, en doet benodigde bewerkingen om een datamodel te bouwen voor verder gebruik <br>\n",
    "\n",
    "1. Koppeltabellen inlezen\n",
    "2. Per bron de informatie toevoegen aan de koppeltabellen op het betreffende aggregatieniveau\n",
    "\n",
    "Waarschuwing<br>\n",
    "- De code in dit programma moet achter elkaar gedraaid worden en geen stukjes apart\n",
    "- Omdat de bronnen veelal (gedownloade) excel bestanden zijn en de formats niet allemaal even mooi zijn is het mogelijk dat updates daarvan net iets anders lezen dan zoals het nu staat, en het dus wat tijd gaat kosten om dit te herstellen.\n",
    "\n",
    "Input<br>\n",
    "- Leefbaarometer, https://data.overheid.nl/dataset/leefbaarometer-meting-2018:  buurtdata, wijkdata, dimensiescore, 2016 data<br>\n",
    "- CBS: buurten, wijken, gemeenten: Drie kleinere bestanden op https://www.cbs.nl/nl-nl/maatwerk/2019/42/buurt-wijk-en-gemeente-2019-voor-postcode-huisnummer<br>\n",
    "- CBS: adressen koppelbestand: https://www.cbs.nl/nl-nl/maatwerk/2019/42/buurt-wijk-en-gemeente-2019-voor-postcode-huisnummer <br>\n",
    "- CBS: kerncijfers wijken en buurten, zowel in CBSODATA als hier: https://www.cbs.nl/nl-nl/maatwerk/2019/31/kerncijfers-wijken-en-buurten-2019\n",
    "- CBS: nabijheidsstatistieken over voorzieningen in buurten, zowel in CBSODATA als hier: https://www.cbs.nl/nl-nl/dossier/nederland-regionaal/wijk-en-buurtstatistieken/nabijheidsstatistieken-per-wijk-buurt\n",
    "- CBS; maatwerktabel vernummering ontvangen van regstat@cbs.nl; betreft oude en nieuwe buurtcodes, ook af te leiden uit kerncijfers wijken en buurten adhv wijzigingsindicator\n",
    "- Vesteda interne data: MobilityLabel: bereikbaarheidstabel per PC5 en markpotentie per gemeente<br>\n",
    "- Calcasa: woningmarktinformatie per wijk, Vesteda data<br>\n",
    "- Calcasa: woningvoorraad incl bouwjaren informatie per buurt, incl koop/huur splits, bestanden zjin gesplitst naar provincie, Vesteda data<br>\n",
    "- Calcasa: markthuurinfo per wijk. Vesteda data<br>\n",
    "- ABF: data over midden en hoge inkomens per buurt, Vesteda data<br>\n",
    "\n",
    "Output\n",
    "- bm = buurten main: Bestand met alle buurten van Nederland en informatie daarover; als input voor analyses van buurten gezamenlijk met wm en gm\n",
    "- wm = wijken main\n",
    "- gm = gemeenten main\n",
    "- buurten: bm,wm,gm samengevoegd"
   ]
  },
  {
   "cell_type": "markdown",
   "metadata": {},
   "source": [
    "### Declaraties\n",
    "\n",
    "(later paths en locatie data nog goed zetten voor alle scripts)"
   ]
  },
  {
   "cell_type": "code",
   "execution_count": 1,
   "metadata": {},
   "outputs": [],
   "source": [
    "# importeren packages\n",
    "# package odata installeren: pip install cbsodata (zie ook https://pypi.org/project/cbsodata/)\n",
    "import cbsodata\n",
    "import pandas as pd\n",
    "import numpy as np\n",
    "\n",
    "# setten source path: later moet alle brondata naar datalake\n",
    "source_path =\"P:\\\\DATASCIENCE\\\\Aantrekkelijkheid buurten\\\\Brondata\\\\\"\n",
    "# alle tussentijdse data voorlopig in dezelfde map op een schijf opslaan in\n",
    "save_path = \"P:\\\\DATASCIENCE\\\\Aantrekkelijkheid buurten\\\\Resultaten\\\\\"\n",
    "\n",
    "# jaar waarin gemeente op 1 januari een bevolking moet hebben om meegenomen te worden \n",
    "peiljaar = 2019"
   ]
  },
  {
   "cell_type": "markdown",
   "metadata": {},
   "source": [
    "### Inlezen buurtcodes en buurtnamen\n",
    "Bronbestand CBS van peiljaar inlezen (in dit geval 2019)"
   ]
  },
  {
   "cell_type": "code",
   "execution_count": 2,
   "metadata": {},
   "outputs": [],
   "source": [
    "# inladen master bestand buurtcodes\n",
    "buurten = pd.read_csv(source_path+'buurt'+str(peiljaar)+'.csv', sep=';')\n",
    "# hernoemen kolommen\n",
    "buurten.columns=['buurtcode', 'buurtnaam']\n",
    "# kolom maken met buurtcodeLetters ten behoeve van mergen met andere bronnen\n",
    "buurten['buurtcodeLetters'] = 'BU' + buurten['buurtcode'].astype(str).str.zfill(8)"
   ]
  },
  {
   "cell_type": "markdown",
   "metadata": {},
   "source": [
    "### Inlezen wijkcodes en wijknamen"
   ]
  },
  {
   "cell_type": "code",
   "execution_count": 3,
   "metadata": {},
   "outputs": [],
   "source": [
    "wijken = pd.read_csv(source_path+'wijk'+str(peiljaar)+'.csv', sep=';')\n",
    "# hernoemen kolommen\n",
    "wijken.columns=['wijkcode', 'wijknaam']\n",
    "# kolom maken met wijkcodeLetters ten behoeve van mergen met leefbaarometer\n",
    "wijken['wijkcodeLetters'] = 'WK' + wijken['wijkcode'].astype(str).str.zfill(6)"
   ]
  },
  {
   "cell_type": "markdown",
   "metadata": {},
   "source": [
    "### Inlezen gemeentecodes en gemeentenamen"
   ]
  },
  {
   "cell_type": "code",
   "execution_count": 4,
   "metadata": {},
   "outputs": [],
   "source": [
    "# inladen master bestand gemeenten\n",
    "gemeenten = pd.read_csv(source_path+'gem'+str(peiljaar)+'.csv', sep=';')\n",
    "# hernoemen kolommen\n",
    "gemeenten.columns=['gemeentecode', 'gemeentenaam']"
   ]
  },
  {
   "cell_type": "markdown",
   "metadata": {},
   "source": [
    "### Wijkcodes, wijknamen, gemeentecodes, gemeentenamen toevoegen aan buurten<br>En gemeentecodes, gemeentenamen toevoegen aan wijken\n",
    "Dit is gebaseerd op uitgangspunten: <br>\n",
    "1. Een wijkcode is af te leiden uit de buurtcodes door de laatste twee cijfers van de buurtcode te verwijderen <br>\n",
    "2. Een gemeentecode is af te leiden uit de wijkcode door de laatste twee cijfers van de wijkcode te verwijderen <br>\n",
    "Dit moet altijd kloppen ook na herindelingen. Dit is gecheckt met koppeltabel (adressenbestand). "
   ]
  },
  {
   "cell_type": "code",
   "execution_count": 5,
   "metadata": {},
   "outputs": [],
   "source": [
    "buurten['wijkcode'] = buurten['buurtcode'].astype(str).str[:-2].astype(np.int64)\n",
    "buurten = pd.merge(buurten, wijken, how='left', on='wijkcode')\n",
    "\n",
    "buurten['gemeentecode'] = buurten['wijkcode'].astype(str).str[:-2].astype(np.int64)\n",
    "buurten = pd.merge(buurten, gemeenten, how='left', on='gemeentecode')\n",
    "\n",
    "wijken['gemeentecode'] = wijken['wijkcode'].astype(str).str[:-2].astype(np.int64)\n",
    "wijken = pd.merge(wijken, gemeenten, how='left', on='gemeentecode')"
   ]
  },
  {
   "cell_type": "markdown",
   "metadata": {},
   "source": [
    "### Ophalen vernummeringstabel CBS\n",
    "Dit is een bestand dat door regstat is aangeleverd. Bevat 549 rijen en is consistent met wijzigingsindicator. Bevat alleen buurtcodes 2019 en hun voorganger. Betreft alleen indelingswijziging =2, dus alleen code gewijzigd, niet grens. \n",
    "Deze oude buurtcodes gaan bij het ophalen van andere bronnen helpen om een match te vinden.<br>\n",
    "Na toevoegen zijn er 3 soorten buurtcodes: \n",
    "- buurtcodeLetters: dit zijn buurtcodeLetters volgens 2019, de masterlist afgeleid van CBS buurten 2019\n",
    "- buurtcodeLetters18 (veelal leeg)\n",
    "- buurtcodeLettersMatch: buurtcode 19 tenzij buurtcode 18 bekend is, dan die van 2018. Deze wordt gebruikt voor matches bij bronnen die 18 betreffen ipv 19: Leefbaarheid, Voorzieningeninformatie en ABF\n",
    "\n",
    "Tevens de daarvan afgeleide vernummeringstabel voor wijken ophalen. "
   ]
  },
  {
   "cell_type": "code",
   "execution_count": 6,
   "metadata": {},
   "outputs": [],
   "source": [
    "vernummerd = pd.read_excel(source_path+'vernum2019 gecheckt consistent met wijzigingsindicator.xlsx', sheet_name ='vernum2019 buurt')"
   ]
  },
  {
   "cell_type": "code",
   "execution_count": 7,
   "metadata": {},
   "outputs": [],
   "source": [
    "# kolomnamen hernoemen \n",
    "vernummerd.columns=['buurtcode18', 'buurtcode']\n",
    "# kolom maken met buurtcodeLetters ten behoeve van mergen met andere bronnen\n",
    "vernummerd['buurtcodeLetters18'] = 'BU' + vernummerd['buurtcode18'].astype(str).str.zfill(8)\n",
    "\n",
    "# toevoegen aan buurten\n",
    "buurten = pd.merge(buurten, vernummerd, how='left', on='buurtcode')\n",
    "\n",
    "# nieuwe kolom maken gebaseerd op het al dan niet gevuld zijn van buurtcodeLetters18\n",
    "buurten['buurtcodeLettersMatch']=np.where(buurten['buurtcodeLetters18'].isnull(), buurten['buurtcodeLetters'], buurten['buurtcodeLetters18'])"
   ]
  },
  {
   "cell_type": "code",
   "execution_count": 8,
   "metadata": {},
   "outputs": [],
   "source": [
    "vernummerdwijk = pd.read_excel(source_path+'vernum2019 gecheckt consistent met wijzigingsindicator.xlsx', sheet_name ='vernum2019 wijk')\n",
    "\n",
    "# kolomnamen hernoemen \n",
    "vernummerdwijk.columns=['wijkcode18', 'wijkcode']\n",
    "# kolom maken met wijkcodeLetters ten behoeve van mergen met andere bronnen\n",
    "vernummerdwijk['wijkcodeLetters18'] = 'WK' + vernummerdwijk['wijkcode18'].astype(str).str.zfill(6)\n",
    "\n",
    "\n",
    "# toevoegen aan wijken\n",
    "wijken = pd.merge(wijken, vernummerdwijk, how='left', on='wijkcode')\n",
    "\n",
    "# nieuwe kolom maken gebaseerd op het al dan niet gevuld zijn van buurtcodeLetters18\n",
    "wijken['wijkcodeLettersMatch']=np.where(wijken['wijkcodeLetters18'].isnull(), wijken['wijkcodeLetters'], wijken['wijkcodeLetters18'])"
   ]
  },
  {
   "cell_type": "markdown",
   "metadata": {},
   "source": [
    "### Ophalen regionale kerncijfers van CBS ODATA"
   ]
  },
  {
   "cell_type": "code",
   "execution_count": 9,
   "metadata": {},
   "outputs": [],
   "source": [
    "# dit tabelnummer 84583 is de versie van 2019. \n",
    "kerncijfers = pd.DataFrame(cbsodata.get_data('84583NED'))"
   ]
  },
  {
   "cell_type": "markdown",
   "metadata": {},
   "source": [
    "### Toevoegen regionale kerncijfers aan buurten. Alleen relevante kolommen. \n",
    "Het bronbestand regionale kerncijfers telt ruim 100 kolommen. Hiervan zijn er maar ca 5 nodig.<br>\n",
    "Daarnaast alleen de rijen gebruiken die buurtinformatie bevatten, dus weggooien alle andere rijen."
   ]
  },
  {
   "cell_type": "code",
   "execution_count": 10,
   "metadata": {},
   "outputs": [],
   "source": [
    "# filteren alleen buurt: SoortRegio_2 = Buurt met 5 spaties\n",
    "kerncijfersBuurt = kerncijfers.loc[kerncijfers['SoortRegio_2'] == 'Buurt     ']\n",
    "\n",
    "# selecteren relevante kolommen\n",
    "keepcols  = ['Codering_3', 'AantalInwoners_5', 'Bevolkingsdichtheid_33', 'Omgevingsadressendichtheid_106', 'HuishoudensTotaal_28', 'k_65JaarOfOuder_12']\n",
    "kerncijfersBuurt = kerncijfersBuurt[keepcols]\n",
    "# hernoemen kolomnamen\n",
    "kerncijfersBuurt.columns=['buurtcodeLetters', 'inw', 'bevdh', 'oadh', 'hh', 'inw65' ]"
   ]
  },
  {
   "cell_type": "markdown",
   "metadata": {},
   "source": [
    "### Introductie bm: buurten Main"
   ]
  },
  {
   "cell_type": "code",
   "execution_count": 11,
   "metadata": {},
   "outputs": [],
   "source": [
    "# toevoegen kerncijfers aan masterbestand gematcht op buurtcodeLetters\n",
    "# hier wordt bm geintroduceerd: buurten bestand MAIN. \n",
    "bm=pd.merge(buurten, kerncijfersBuurt, how='left', on='buurtcodeLetters')"
   ]
  },
  {
   "cell_type": "markdown",
   "metadata": {},
   "source": [
    "### Ophalen leefbaarometer buurtniveau\n",
    "Kolommen selecteren en hernoemen en Matchen.<br>\n",
    "Opmerkingen:\n",
    "1. Er zijn buurten die niet meer bestaan in de CBS buurten maar nog wel in de leefbarometer Dat komt door herindelingen. Dit is waarschijnlijk de andere kant van het volgende punt<br>\n",
    "2. Er bleken  buurten die wel bestaan in CBS buurten maar niet in leefbarometer. Dit is op te lossen door te matchen op buurtcodeMatch, dat betekent dat waar van toepassing, wordt teruggegrepen op buurtcode 18<br>\n",
    "3. Niet alles is op te lossen door teruggrijpen op buurtcode 18 nl. als buurten ook een andere grenzen hebben gekregen. in dit geval is er geen buurtcode18 in ons masterbestand buurt toegevoegd."
   ]
  },
  {
   "cell_type": "code",
   "execution_count": 12,
   "metadata": {},
   "outputs": [],
   "source": [
    "# inlezen leefbaarheidsexcels buurtniveau\n",
    "leefbaarheid=pd.read_excel(source_path+ 'Score_Buurt.xlsx', sheet_name='data')\n",
    "dimensiescore=pd.read_excel(source_path+ 'dimensiescore_Buurt (stand).xlsx', sheet_name='data(2)')"
   ]
  },
  {
   "cell_type": "code",
   "execution_count": 13,
   "metadata": {},
   "outputs": [],
   "source": [
    "# selecteren relevante kolommen score\n",
    "keepcols =['CODE', 'KL16', 'KL18', 'VKL1618']\n",
    "leefbaarheid=leefbaarheid[keepcols]\n",
    "\n",
    "# hernoemen sleutelkolom tbv samenvoegen\n",
    "leefbaarheid.columns = ['buurtcodeLettersMatch', 'KL16', 'KL18', 'VKL1618']\n",
    "\n",
    "# selecteren relevante kolommen dimensiescore\n",
    "keepcols =['GBD', 'RLBRMTR16', 'RLBWON16', 'RLBBEV16', 'RLBVRZ16', 'RLBVEI16', 'RLBFYS16', \n",
    "                   'RLBRMTR18', 'RLBWON18', 'RLBBEV18','RLBVRZ18', 'RLBVEI18', 'RLBFYS18']\n",
    "\n",
    "dimensiescore=dimensiescore[keepcols]\n",
    "dimensiescore.columns = ['buurtcodeLettersMatch', 'RLBRMTR16', 'RLBWON16', 'RLBBEV16', 'RLBVRZ16', 'RLBVEI16', 'RLBFYS16', 'RLBRMTR18', 'RLBWON18', 'RLBBEV18',\n",
    "           'RLBVRZ18', 'RLBVEI18', 'RLBFYS18']"
   ]
  },
  {
   "cell_type": "markdown",
   "metadata": {},
   "source": [
    "### Ophalen leefbaarometer wijkniveau"
   ]
  },
  {
   "cell_type": "code",
   "execution_count": 14,
   "metadata": {},
   "outputs": [],
   "source": [
    "# inlezen leefbaarheidsexcels buurtniveau\n",
    "leefbaarheidw=pd.read_excel(source_path+ 'Score_Wijk.xlsx', sheet_name='data')\n",
    "dimensiescorew=pd.read_excel(source_path+ 'dimensiescore_Wijk (stand).xlsx', sheet_name='data(2)')"
   ]
  },
  {
   "cell_type": "code",
   "execution_count": 15,
   "metadata": {},
   "outputs": [],
   "source": [
    "# selecteren relevante kolommen score\n",
    "keepcols =['CODE', 'KL18']\n",
    "leefbaarheidw=leefbaarheidw[keepcols]\n",
    "\n",
    "# hernoemen sleutelkolom tbv samenvoegen\n",
    "leefbaarheidw.columns = ['wijkcodeLettersMatch', 'KL18W']\n",
    "\n",
    "# selecteren relevante kolommen dimensiescore\n",
    "keepcols =['GBD', 'RLBRMTR18', 'RLBWON18', 'RLBBEV18','RLBVRZ18', 'RLBVEI18', 'RLBFYS18']\n",
    "\n",
    "dimensiescorew=dimensiescorew[keepcols]\n",
    "# herneomen met een 2 in de kolomnaam\n",
    "dimensiescorew.columns = ['wijkcodeLettersMatch', 'RLBRMTR18W', 'RLBWON18W', 'RLBBEV18W',\n",
    "           'RLBVRZ18W', 'RLBVEI18W', 'RLBFYS18W']"
   ]
  },
  {
   "cell_type": "markdown",
   "metadata": {},
   "source": [
    "### Afleiden nieuwe kolommen voor buurten main obv verschil in leefbaarheidsscores buurt en wijk"
   ]
  },
  {
   "cell_type": "code",
   "execution_count": 18,
   "metadata": {},
   "outputs": [],
   "source": [
    "# toevoegen leefbaarheidw aan leefbaarheid\n",
    "leefbaarheid['wijkcodeLettersMatch'] = 'WK'+leefbaarheid['buurtcodeLettersMatch'].str.slice(start=2, stop=8)\n",
    "leefbaarheid = pd.merge(leefbaarheid, leefbaarheidw, how='left', on='wijkcodeLettersMatch')\n",
    "# afleiden kolom score buurt tov wijk\n",
    "leefbaarheid['KL18BW'] = leefbaarheid['KL18'] - leefbaarheid['KL18W']\n",
    "\n",
    "# toevoegen dimensiescorew aan dimensiescore\n",
    "dimensiescore['wijkcodeLettersMatch'] = 'WK'+dimensiescore['buurtcodeLettersMatch'].str.slice(start=2, stop=8)\n",
    "dimensiescore = pd.merge(dimensiescore, dimensiescorew, how='left', on='wijkcodeLettersMatch')\n",
    "# afleiden kolommen die buurt tov wijk scoren\n",
    "dimensiescore['RLBRMTR18BW'] = dimensiescore['RLBRMTR18'] - dimensiescore['RLBRMTR18W']\n",
    "dimensiescore['RLBWON18BW']  = dimensiescore['RLBWON18']  - dimensiescore['RLBWON18W']\n",
    "dimensiescore['RLBBEV18BW']  = dimensiescore['RLBBEV18']  - dimensiescore['RLBBEV18W']\n",
    "dimensiescore['RLBVRZ18BW']  = dimensiescore['RLBVRZ18']  - dimensiescore['RLBVRZ18W']\n",
    "dimensiescore['RLBVEI18BW']  = dimensiescore['RLBVEI18']  - dimensiescore['RLBVEI18W']\n",
    "dimensiescore['RLBFYS18BW']  = dimensiescore['RLBFYS18']  - dimensiescore['RLBFYS18W']\n",
    "\n",
    "# droppen wijkcodeLettersMatch anders straks dubbele kolomnamen\n",
    "dimensiescore.drop('wijkcodeLettersMatch', axis=1, inplace=True)"
   ]
  },
  {
   "cell_type": "markdown",
   "metadata": {},
   "source": [
    "### Toevoegen leefbaarheidsinfo obv buurtode"
   ]
  },
  {
   "cell_type": "code",
   "execution_count": 20,
   "metadata": {},
   "outputs": [],
   "source": [
    "# samenvoegen\n",
    "bm=pd.merge(bm, leefbaarheid, how='left', on='buurtcodeLettersMatch')\n",
    "# toevoegen dimensiescore info\n",
    "bm=pd.merge(bm, dimensiescore, how ='left', on= 'buurtcodeLettersMatch')"
   ]
  },
  {
   "cell_type": "markdown",
   "metadata": {},
   "source": [
    "### Toevoegen leefbaarheidsinfo obv wijkcode en introductie wm = wijken main"
   ]
  },
  {
   "cell_type": "code",
   "execution_count": 21,
   "metadata": {},
   "outputs": [],
   "source": [
    "# samenvoegen en creatie van wm\n",
    "wm=pd.merge(wijken, leefbaarheidw, how='left', on='wijkcodeLettersMatch')\n",
    "# toevoegen dimensiescore info\n",
    "wm=pd.merge(wm, dimensiescorew, how ='left', on= 'wijkcodeLettersMatch')"
   ]
  },
  {
   "cell_type": "markdown",
   "metadata": {},
   "source": [
    "### Ophalen voorzieningen informatie CBS\n",
    "Deze tabel heet nabijheidsstatistieken en is nodig omdat diverse nabijheidsinformatie in de regionale kerncijfers leeg was. \n",
    "N.B. de nabijheidsstatistieken zijn van 2018 en de kerncijfers zijn van 2019. Daarom matchen adhv buurtcodeLettersMatch"
   ]
  },
  {
   "cell_type": "code",
   "execution_count": 22,
   "metadata": {},
   "outputs": [],
   "source": [
    "nabij = pd.DataFrame(cbsodata.get_data('84463NED'))"
   ]
  },
  {
   "cell_type": "markdown",
   "metadata": {},
   "source": [
    "### Toevoegen voorzieningen informatie aan buurten\n",
    "er zijn hier ca 70 interessante indicatoren, hieronder een eerste selectie, wellicht tzt nog eens alle 70 bekijken en\n",
    "beoordelen op samenhang!"
   ]
  },
  {
   "cell_type": "code",
   "execution_count": 23,
   "metadata": {},
   "outputs": [],
   "source": [
    "# filteren alleen buurt: SoortRegio_2 = Buurt met 5 spaties\n",
    "nabij = nabij.loc[nabij['SoortRegio_2'] == 'Buurt     ']\n",
    "\n",
    "# selecteren relevante kolommen. Totaal zijn er 70 waarvan veel overlap. Dit is een eerste selectie met interessante kandidaten.\n",
    "keepcols  = ['Codering_3', 'AfstandTotGroteSupermarkt_24', 'Binnen3Km_30', 'AfstandTotHuisartsenpraktijk_5', 'Binnen3Km_38', \n",
    "             'Binnen3Km_46', 'Binnen1Km_53', 'AfstandTotZwembad_93', 'Binnen10Km_97', 'Binnen10Km_101', 'Binnen5Km_105']\n",
    "nabij= nabij[keepcols]\n",
    "\n",
    "# hernoemen kolomnamen\n",
    "nabij.columns= ['buurtcodeLettersMatch','AfstandSupermarkt', 'AantalLevensm3', 'AfstandHuisarts', 'AantalCafe3', 'AantalRest3', \n",
    "                     'AantalKinderopvang1', 'AfstandZwembad', 'AantalMusea10', 'AantalPodiumk10', 'AantalBios5']"
   ]
  },
  {
   "cell_type": "code",
   "execution_count": 24,
   "metadata": {},
   "outputs": [],
   "source": [
    "# toevoegen aan buurtmain obv buurtcodeLettersMatch\n",
    "bm=pd.merge(bm, nabij, how='left', on='buurtcodeLettersMatch')"
   ]
  },
  {
   "cell_type": "markdown",
   "metadata": {},
   "source": [
    "### Ophalen ABF info"
   ]
  },
  {
   "cell_type": "code",
   "execution_count": 25,
   "metadata": {},
   "outputs": [],
   "source": [
    "# inlezen ABF excel met aantallen huishoudens\n",
    "ink = pd.read_excel(source_path+'Huishoudens in woningen  - Socrates 2019 Midden.xlsx', sheet_name ='Data',na_values = '.')"
   ]
  },
  {
   "cell_type": "markdown",
   "metadata": {},
   "source": [
    "### Toevoegen ABF info aan buurten\n",
    "obv buurtcodeLettersMatch omdat buurten van 2018 bleken te zijn"
   ]
  },
  {
   "cell_type": "code",
   "execution_count": 26,
   "metadata": {},
   "outputs": [],
   "source": [
    "# hernoemen kolommen\n",
    "ink.columns = ['buurtnaam', 'buurtcode', 'hh19inkLaag', 'hh30inkLaag', 'hh19inkMidden', 'hh30inkMidden', 'hh19inkHoog', 'hh30inkHoog']\n",
    "\n",
    "# creëren buurtcodeLetters\n",
    "ink['buurtcodeLettersMatch'] ='BU' + ink['buurtcode'].astype(str).str.zfill(8)\n",
    "# kolommen buurtnaam en buurtcode zijn niet meer nodig en laten vervallen\n",
    "ink.drop(['buurtnaam', 'buurtcode'], axis=1, inplace=True)\n",
    "\n",
    "# toevoegen kolom aandeelMH19\n",
    "ink['aandeelMH19'] = (ink['hh19inkMidden'] + ink['hh19inkHoog']) / (ink['hh19inkLaag'] + ink['hh19inkMidden'] + ink['hh19inkHoog'])"
   ]
  },
  {
   "cell_type": "code",
   "execution_count": 27,
   "metadata": {},
   "outputs": [],
   "source": [
    "# toevoegen aan bm\n",
    "bm=pd.merge(bm, ink, how ='left', on= 'buurtcodeLettersMatch')"
   ]
  },
  {
   "cell_type": "markdown",
   "metadata": {},
   "source": [
    "### Ophalen Calcasa prijs info  (wijk en gemeente) 2019Q4\n",
    "Huizenprijs ontwikkelingen, is niet beschikbaar op buurtniveau. Daarom op wijkniveau. \n",
    "Omdat er vergeleken gaat worden met gemeente niveau moet er ook info op gemeenteniveau worden ingelezen. "
   ]
  },
  {
   "cell_type": "code",
   "execution_count": 28,
   "metadata": {},
   "outputs": [],
   "source": [
    "# inlezen Calcasa xlsx wijken. \n",
    "calcWijk = pd.read_excel(source_path + 'calcasa wijken 2019q4.xlsx', na_values='-')\\\n",
    "# verwijderen 1e regel die bevat de datum\n",
    "calcWijk =  calcWijk.iloc[1:]\n",
    "# hernoemen kolommen\n",
    "calcWijk.columns = ['wijknaam', 'gemeentenaam', 'wox', 'woxdelta1jr', 'woxdelta5jr', 'woxww', 'woxm2']\n",
    "# verwijderen de laatste regel die bevat Bron: Calcasa\n",
    "calcWijk = calcWijk[~calcWijk.wijknaam.str.contains(\"Calcasa\")]\n",
    "\n",
    "# verwijderen rijen met alleen maar nullen want ca 100 wijken van de 1300 bevatten alleen maar nullen d.i. naN\n",
    "# Dit zijn vnl bedrijventerreinen.\n",
    "# door deze verwijdering vervalt ook het dubbel voorkomen van Kraggenburg-bedrijventerrein binnen dezelfde gemeente. \n",
    "calcWijk.dropna(axis=0, subset=['wox', 'woxdelta1jr', 'woxdelta5jr', 'woxww', 'woxm2'], how='all', inplace=True)"
   ]
  },
  {
   "cell_type": "code",
   "execution_count": 29,
   "metadata": {},
   "outputs": [],
   "source": [
    "# inlezen Calcasa xlsx gemeenten. N.b. moet zelfde peildatum als wijken hebben \n",
    "calcGem = pd.read_excel(source_path + 'calcasa gemeenten 2019q4.xlsx', na_values='-')\n",
    "# verwijderen 1e regel die bevat de datum\n",
    "calcGem =  calcGem.iloc[1:]\n",
    "calcGem.columns = ['gemeentenaam', 'woxGem', 'woxdelta1jrGem', 'woxdelta5jrGem', 'woxwwGem', 'woxm2Gem']\n",
    "# verwijderen laatste regel die bevat bron: Calcasa\n",
    "calcGem = calcGem[~calcGem.gemeentenaam.str.contains(\"Calcasa\")]"
   ]
  },
  {
   "cell_type": "markdown",
   "metadata": {},
   "source": [
    "### Afleiden nieuwe kolommen obv Calcasa info"
   ]
  },
  {
   "cell_type": "code",
   "execution_count": 30,
   "metadata": {},
   "outputs": [],
   "source": [
    "# toevoegen calGem aan calcWijk\n",
    "calcWijk=pd.merge(calcWijk, calcGem, how='left', on=['gemeentenaam'])\n",
    "# afleiden kolom absoluut verschil 5jrs delta wijk en gem, uitkomst is een percentage\n",
    "calcWijk['woxdelta5jrWGabs'] = calcWijk['woxdelta5jr'] - calcWijk['woxdelta5jrGem']\n",
    "# afleiden kolom relatief verschil 5jrs delta wijk en gem\n",
    "calcWijk['woxdelta5jrWGrel'] = calcWijk['woxdelta5jr'] / calcWijk['woxdelta5jrGem']\n",
    "# afleiden kolom verschil m2 prijs wijk en gem\n",
    "calcWijk['woxm2WG'] = calcWijk['woxm2'] / calcWijk['woxm2Gem']"
   ]
  },
  {
   "cell_type": "markdown",
   "metadata": {},
   "source": [
    "### Toevoegen Calcasa info aan wijken"
   ]
  },
  {
   "cell_type": "code",
   "execution_count": 31,
   "metadata": {},
   "outputs": [],
   "source": [
    "# matchen aan de hand van wijknaam en gemeentenaam. Code niet aanwezig dus dat kan niet. \n",
    "# En alleen matchen op wijknaam geeft dubbelen.  Daarom inclusief gemeentenaam. \n",
    "wm=pd.merge(wm, calcWijk, how='left', on=['wijknaam', 'gemeentenaam'])"
   ]
  },
  {
   "cell_type": "markdown",
   "metadata": {},
   "source": [
    "### Woningvoorraad en bouwjaren Calcasa op buurtniveau en koophuur"
   ]
  },
  {
   "cell_type": "code",
   "execution_count": 32,
   "metadata": {},
   "outputs": [],
   "source": [
    "# functie declareren die alle deelbestanden inleest en samenvoegt\n",
    "def prov():\n",
    "    # eerst de dfwv opbouwen met een eerste provincie\n",
    "    provincie='NB'\n",
    "    prov = pd.read_excel(source_path + 'calcasa wv bouwjaren 2018Q4 ' + provincie + '.xlsx', na_values='-')\n",
    "    # verwijderen 1e regel die bevat de datum\n",
    "    prov =  prov.iloc[1:]\n",
    "    # hernoemen kolommen\n",
    "    prov.columns = ['buurtnaam', 'gemeentenaam', 'wvtotaal', 'wvkoop', 'wvhuursoc', 'wvhuurov', \n",
    "                    'wv<1945', 'wv1945-1970', 'wv1970-1980', 'wv1980-1990', 'wv1990-2000', 'wv2000-2010', 'wv>=2010']\n",
    "    # verwijderen laatste regel die bevat bron: Calcasa\n",
    "    prov = prov[~prov.buurtnaam.str.contains(\"Calcasa\")]\n",
    "    #print(prov.head())\n",
    "    #print('aantal rijen na verwerken van NB: ', len(prov))\n",
    "    dfwv = prov\n",
    "    \n",
    "    # hier de dfwv steeds uitbreiden met een provincie\n",
    "    for provincie in ['ZE', 'ZH', 'LI', 'OV', 'GE', 'DR', 'FL', 'FR', 'GR', 'NH', 'UT']:\n",
    "        prov = pd.read_excel(source_path + 'calcasa wv bouwjaren 2018Q4 ' + provincie + '.xlsx', na_values='-')\n",
    "        # verwijderen 1e regel die bevat de datum\n",
    "        prov =  prov.iloc[1:]\n",
    "        # hernoemen kolommen\n",
    "        prov.columns = ['buurtnaam', 'gemeentenaam', 'wvtotaal','wvkoop', 'wvhuursoc', 'wvhuurov', \n",
    "                        'wv<1945', 'wv1945-1970', 'wv1970-1980', 'wv1980-1990', 'wv1990-2000', 'wv2000-2010', 'wv>=2010']\n",
    "        # verwijderen laatste regel die bevat bron: Calcasa\n",
    "        prov = prov[~prov.buurtnaam.str.contains(\"Calcasa\")]\n",
    "        #print(prov.head())\n",
    "        # toevoegen aan main\n",
    "        dfwv = dfwv.append(prov, ignore_index=True)\n",
    "        # LAB versie statement\n",
    "        #print('aantal rijen na verwerken van', provincie, ': ', len(dfwv))\n",
    "    return dfwv"
   ]
  },
  {
   "cell_type": "code",
   "execution_count": 33,
   "metadata": {},
   "outputs": [],
   "source": [
    "#aanroepen van de functie\n",
    "dfwv=prov()"
   ]
  },
  {
   "cell_type": "code",
   "execution_count": 34,
   "metadata": {},
   "outputs": [],
   "source": [
    "# merge sleutel maken. Hier wordt gematcht op combi gemeentenaam en buurtnaam, omdat Calcasa geen codes levert. \n",
    "# Als de code veranderd is van 18 op 19 is de buurtnaam gelijk gebleven. \n",
    "dfwv['sleutel'] = dfwv['gemeentenaam']+dfwv['buurtnaam']\n",
    "bm['sleutel'] = bm['gemeentenaam']+bm['buurtnaam']"
   ]
  },
  {
   "cell_type": "code",
   "execution_count": 35,
   "metadata": {},
   "outputs": [],
   "source": [
    "# verwijderen rijen die dubbel voorkomen\n",
    "# verwijderen kolommen\n",
    "\n",
    "eruit = dfwv[dfwv.duplicated(['sleutel'])]\n",
    "# de dubbele sleutels in wv moeten worden opgelost. bv. Sterrenbuurt in Lansingerland: betreft 2 andere plaatsen. Dimensie wijk \n",
    "# erbij was handig geweest! Voor nu makkelijkste oplossing eruit gooien. \n",
    "dfwv =  dfwv[~dfwv.sleutel.isin(eruit['sleutel'])]\n",
    "\n",
    "# verwijderen gemeentenaam en buurtnaam uit dfwv anders worden deze kolommen gedupliceerd\n",
    "dfwv.drop(columns=['gemeentenaam', 'buurtnaam'], inplace=True)"
   ]
  },
  {
   "cell_type": "code",
   "execution_count": 36,
   "metadata": {},
   "outputs": [],
   "source": [
    "# kolommen toevoegen voor de procentuele aandelen van elke bouwperiode\n",
    "# ivm delen door NA eerst alle NA vullen met 0\n",
    "dfwv.fillna(0, inplace = True) \n",
    "dfwv['aand<1945'] = dfwv['wv<1945'] / dfwv['wvtotaal']\n",
    "dfwv['aand1945-1970'] = dfwv['wv1945-1970'] / dfwv['wvtotaal']\n",
    "dfwv['aand1970-1980'] = dfwv['wv1970-1980'] / dfwv['wvtotaal']\n",
    "dfwv['aand1980-1990'] = dfwv['wv1980-1990'] / dfwv['wvtotaal']\n",
    "dfwv['aand1990-2000'] = dfwv['wv1990-2000'] / dfwv['wvtotaal']\n",
    "dfwv['aand2000-2010'] = dfwv['wv2000-2010'] / dfwv['wvtotaal']\n",
    "dfwv['aand>=2010'] = dfwv['wv>=2010'] / dfwv['wvtotaal']\n",
    "dfwv['aandkoop'] = dfwv['wvkoop'] / dfwv['wvtotaal']\n",
    "dfwv['aandhuursoc'] = dfwv['wvhuursoc'] / dfwv['wvtotaal']\n",
    "dfwv['aandhuurov'] = dfwv['wvhuurov'] / dfwv['wvtotaal']"
   ]
  },
  {
   "cell_type": "code",
   "execution_count": 37,
   "metadata": {},
   "outputs": [],
   "source": [
    "# toevoegen wv info aan bm\n",
    "bm = pd.merge(bm, dfwv, how='left', on=['sleutel'])"
   ]
  },
  {
   "cell_type": "markdown",
   "metadata": {},
   "source": [
    "### Ophalen marktpotentie"
   ]
  },
  {
   "cell_type": "code",
   "execution_count": 38,
   "metadata": {},
   "outputs": [],
   "source": [
    "# de marktpotentie van 2019 inlezen, deze is al handmatig aangepast voor gemeentes per 1.1.2019 en mp omschrijving is korte variant\n",
    "mp = pd.read_excel(source_path+ 'MP2019.xlsx', sheet_name='master')\n",
    "# hernoemen kolommen\n",
    "mp.columns = ['gemeentecodeLetter', 'gemeentenaam', 'mp']\n",
    "# dummies aanmaken voor de marktpotentie categorieën\n",
    "mp['d_overig'] = mp['mp'].apply(lambda x: 1 if x == 'Overig' else 0)\n",
    "mp['d_optioneel'] = mp['mp'].apply(lambda x: 1 if x == 'Optioneel' else 0)\n",
    "mp['d_kern'] = mp['mp'].apply(lambda x: 1 if x == 'Kern' else 0)\n",
    "# 1 kolom is niet meer nodig\n",
    "mp.drop(columns=['gemeentecodeLetter','mp'], axis=1, inplace=True)"
   ]
  },
  {
   "cell_type": "markdown",
   "metadata": {},
   "source": [
    "### Toevoegen marktpotentie aan gemeenten"
   ]
  },
  {
   "cell_type": "code",
   "execution_count": 39,
   "metadata": {},
   "outputs": [],
   "source": [
    "# toevoegen mp aan masterbestand aan de hand van match op gemeentenaam\n",
    "# introductie gm: gemeenten main\n",
    "gm = pd.merge(gemeenten, mp, how='left', on='gemeentenaam')"
   ]
  },
  {
   "cell_type": "markdown",
   "metadata": {},
   "source": [
    "### Ophalen bereikbaarheidsinformatie: mob (van MobilityLabel)"
   ]
  },
  {
   "cell_type": "code",
   "execution_count": 40,
   "metadata": {},
   "outputs": [],
   "source": [
    "# inlezen mobility label data in xlsx\n",
    "mob = pd.read_excel(source_path + 'bereikbaarheidsrangen_pc5_incl banen.xlsx', sheet_name ='PC5')"
   ]
  },
  {
   "cell_type": "markdown",
   "metadata": {},
   "source": [
    "### Omrekenen bereikbaarheidsinformatie mob van pc5 naar buurt\n",
    "Hiervoor is het adressenbestand nodig. Omdat een pc5 in meerdere buurten voor kan komen moet er een omrekening plaatsvinden.\n",
    "Er wordt gekozen voor simpelweg middelen. "
   ]
  },
  {
   "cell_type": "code",
   "execution_count": 41,
   "metadata": {},
   "outputs": [],
   "source": [
    "adressen = pd.read_csv(source_path+'pc6hnr20190801_gwb.csv', sep=';')\n",
    "\n",
    "# alle uniek voorkomende combinaties van pc5 en buurtcode creëen vanuit het adressenbestand\n",
    "adressen['pc5']=adressen['PC6'].str.slice(stop=5)\n",
    "keepcols =['pc5', 'Buurt2019']\n",
    "adressen = adressen[keepcols]\n",
    "adressen.drop_duplicates(inplace=True)\n",
    "\n",
    "# mob: alleen relevante kolommen\n",
    "keepcols = ['rekenpunt', 'banen_auto_30min', 'banen_auto_60min', 'banen_ov_30min', 'banen_ov_60min', 'banen_fiets', \n",
    "            'anders_reizen_waarde_30min', 'anders_reizen_waarde_60min', 'doorstromingswaarde_30min', 'doorstromingswaarde_60min']\n",
    "mob=mob[keepcols]\n",
    "\n",
    "# hernoemen kolommen\n",
    "mob.columns =['pc5', 'auto30', 'auto60', 'ov30', 'ov60', 'fiets', 'ar30', 'ar60', 'door30', 'door60']\n",
    "\n",
    "# mob toevoegen aan adressenbestand\n",
    "adressen=pd.merge(adressen, mob, how='left', on='pc5')"
   ]
  },
  {
   "cell_type": "code",
   "execution_count": 42,
   "metadata": {},
   "outputs": [],
   "source": [
    "# nu per buurt de gemiddelden berekenen\n",
    "adressenGroup = adressen.groupby(['Buurt2019']).agg({'auto30': 'mean', 'auto60': 'mean', 'ov30': 'mean', 'ov60': 'mean', 'fiets': 'mean', \n",
    "                                   'ar30': 'mean', 'ar60': 'mean', 'door30': 'mean', 'door60': 'mean'})\n",
    "adressenGroup.reset_index(level=0, inplace=True)\n",
    "adressenGroup.columns = ['buurtcode', 'auto30', 'auto60','ov30','ov60', 'fiets', 'ar30', 'ar60','door30', 'door60']"
   ]
  },
  {
   "cell_type": "markdown",
   "metadata": {},
   "source": [
    "### Toevoegen bereikbaarheidsinformatie mob aan buurten"
   ]
  },
  {
   "cell_type": "code",
   "execution_count": 43,
   "metadata": {},
   "outputs": [],
   "source": [
    "bm=pd.merge(bm, adressenGroup, how='left', on='buurtcode')"
   ]
  },
  {
   "cell_type": "markdown",
   "metadata": {},
   "source": [
    "### Bereken kolom 'banen' als gemiddelde van auto, OV, en fiets"
   ]
  },
  {
   "cell_type": "code",
   "execution_count": 44,
   "metadata": {},
   "outputs": [],
   "source": [
    "# buurten: toevoegen kolom banen\n",
    "bm['banen']=(bm['auto30']+ bm['ov30']+bm['fiets'])/3"
   ]
  },
  {
   "cell_type": "markdown",
   "metadata": {},
   "source": [
    "### Opslaan resultaten als csv\n",
    "Encoding=utf-16 zorgt ervoor dat diakritische tekens in Excel goed leesbaar zijn."
   ]
  },
  {
   "cell_type": "code",
   "execution_count": 73,
   "metadata": {},
   "outputs": [],
   "source": [
    "# drie basisbestanden\n",
    "bm.to_csv(save_path+'bm.csv', encoding='utf-16', index=False)\n",
    "wm.to_csv(save_path+'wm.csv', encoding='utf-16', index=False)\n",
    "gm.to_csv(save_path+'gm.csv', encoding='utf-16', index=False)"
   ]
  },
  {
   "cell_type": "code",
   "execution_count": 49,
   "metadata": {},
   "outputs": [
    {
     "name": "stdout",
     "output_type": "stream",
     "text": [
      "   buurtcode                                    buurtnaam buurtcodeLetters  \\\n",
      "0      30000                           Appingedam-Centrum       BU00030000   \n",
      "1      30001                              Appingedam-West       BU00030001   \n",
      "2      30002                              Appingedam-Oost       BU00030002   \n",
      "3      30007  Verspreide huizen Damsterdiep en Eemskanaal       BU00030007   \n",
      "4      30008  Verspreide huizen ten zuiden van Eemskanaal       BU00030008   \n",
      "\n",
      "   wijkcode wijknaam wijkcodeLetters  gemeentecode gemeentenaam  buurtcode18  \\\n",
      "0       300  Wijk 00        WK000300             3   Appingedam          NaN   \n",
      "1       300  Wijk 00        WK000300             3   Appingedam          NaN   \n",
      "2       300  Wijk 00        WK000300             3   Appingedam          NaN   \n",
      "3       300  Wijk 00        WK000300             3   Appingedam          NaN   \n",
      "4       300  Wijk 00        WK000300             3   Appingedam          NaN   \n",
      "\n",
      "  buurtcodeLetters18 buurtcodeLettersMatch   inw   bevdh    oadh    hh  inw65  \\\n",
      "0                NaN            BU00030000  2370  2812.0  1210.0  1315    700   \n",
      "1                NaN            BU00030001  3035  1922.0   903.0  1335    640   \n",
      "2                NaN            BU00030002  5725  2012.0  1140.0  2665   1480   \n",
      "3                NaN            BU00030007   325    60.0   359.0   115     30   \n",
      "4                NaN            BU00030008   100    18.0    79.0    40     15   \n",
      "\n",
      "   KL16  KL18  VKL1618 wijkcodeLettersMatch  KL18W  KL18BW  RLBRMTR16  \\\n",
      "0   6.0   6.0      4.0             WK000300    6.0     0.0  -0.037149   \n",
      "1   6.0   6.0      4.0             WK000300    6.0     0.0  -0.020703   \n",
      "2   6.0   6.0      4.0             WK000300    6.0     0.0  -0.184474   \n",
      "3   8.0   8.0      4.0             WK000300    6.0     2.0   0.141571   \n",
      "4   NaN   NaN      NaN             WK000300    6.0     NaN        NaN   \n",
      "\n",
      "   RLBWON16  RLBBEV16  RLBVRZ16  RLBVEI16  RLBFYS16  RLBRMTR18  RLBWON18  \\\n",
      "0  0.018669  0.020411 -0.095291  0.020484 -0.001422  -0.051487  0.008156   \n",
      "1 -0.021652  0.042858 -0.121602  0.065330  0.014363  -0.045828 -0.024550   \n",
      "2 -0.075782  0.001613 -0.114112  0.009125 -0.005320  -0.185803 -0.076795   \n",
      "3  0.124710  0.080290 -0.138137  0.076849 -0.002141   0.141117  0.125779   \n",
      "4       NaN       NaN       NaN       NaN       NaN        NaN       NaN   \n",
      "\n",
      "   RLBBEV18  RLBVRZ18  RLBVEI18  RLBFYS18  RLBRMTR18W  RLBWON18W  RLBBEV18W  \\\n",
      "0  0.033864 -0.100124  0.012116 -0.005499   -0.110031  -0.037883   0.020318   \n",
      "1  0.048271 -0.124013  0.040323  0.014141   -0.110031  -0.037883   0.020318   \n",
      "2 -0.005198 -0.114426  0.017314 -0.006698   -0.110031  -0.037883   0.020318   \n",
      "3  0.105121 -0.139309  0.048507  0.001020   -0.110031  -0.037883   0.020318   \n",
      "4       NaN       NaN       NaN       NaN   -0.110031  -0.037883   0.020318   \n",
      "\n",
      "   RLBVRZ18W  RLBVEI18W  RLBFYS18W  RLBRMTR18BW  RLBWON18BW  RLBBEV18BW  \\\n",
      "0  -0.115618   0.025172  -0.002019     0.058543    0.046039    0.013546   \n",
      "1  -0.115618   0.025172  -0.002019     0.064202    0.013333    0.027953   \n",
      "2  -0.115618   0.025172  -0.002019    -0.075772   -0.038912   -0.025516   \n",
      "3  -0.115618   0.025172  -0.002019     0.251148    0.163661    0.084804   \n",
      "4  -0.115618   0.025172  -0.002019          NaN         NaN         NaN   \n",
      "\n",
      "   RLBVRZ18BW  RLBVEI18BW  RLBFYS18BW  AfstandSupermarkt  AantalLevensm3  \\\n",
      "0    0.015494   -0.013056   -0.003479                0.6            14.0   \n",
      "1   -0.008394    0.015151    0.016160                1.3            14.0   \n",
      "2    0.001192   -0.007858   -0.004679                0.6            14.0   \n",
      "3   -0.023691    0.023335    0.003039                1.8            12.5   \n",
      "4         NaN         NaN         NaN                2.7             8.7   \n",
      "\n",
      "   AfstandHuisarts  AantalCafe3  AantalRest3  AantalKinderopvang1  \\\n",
      "0              1.0          5.0          8.0                  0.3   \n",
      "1              1.6          5.6          8.0                  0.5   \n",
      "2              1.2          5.0          8.0                  0.8   \n",
      "3              2.0          4.6          7.2                  0.6   \n",
      "4              3.0          2.5          4.7                  0.0   \n",
      "\n",
      "   AfstandZwembad  AantalMusea10  AantalPodiumk10  AantalBios5  hh19inkLaag  \\\n",
      "0             2.3            2.0              1.0          0.0        990.0   \n",
      "1             3.1            2.0              1.0          0.0        800.0   \n",
      "2             1.8            2.0              1.0          0.0       2050.0   \n",
      "3             3.6            2.0              1.0          0.0         50.0   \n",
      "4             4.2            2.0              1.0          0.0         20.0   \n",
      "\n",
      "   hh30inkLaag  hh19inkMidden  hh30inkMidden  hh19inkHoog  hh30inkHoog  \\\n",
      "0        940.0          200.0          260.0        170.0        220.0   \n",
      "1        830.0          300.0          320.0        270.0        290.0   \n",
      "2       2000.0          480.0          470.0        220.0        300.0   \n",
      "3         50.0           30.0           30.0         40.0         40.0   \n",
      "4         20.0           10.0           10.0         10.0         10.0   \n",
      "\n",
      "   aandeelMH19                                            sleutel  wvtotaal  \\\n",
      "0     0.272059                       AppingedamAppingedam-Centrum       NaN   \n",
      "1     0.416058                          AppingedamAppingedam-West       NaN   \n",
      "2     0.254545                          AppingedamAppingedam-Oost       NaN   \n",
      "3     0.583333  AppingedamVerspreide huizen Damsterdiep en Eem...       NaN   \n",
      "4     0.500000  AppingedamVerspreide huizen ten zuiden van Eem...       NaN   \n",
      "\n",
      "   wvkoop  wvhuursoc  wvhuurov  wv<1945  wv1945-1970  wv1970-1980  \\\n",
      "0     NaN        NaN       NaN      NaN          NaN          NaN   \n",
      "1     NaN        NaN       NaN      NaN          NaN          NaN   \n",
      "2     NaN        NaN       NaN      NaN          NaN          NaN   \n",
      "3     NaN        NaN       NaN      NaN          NaN          NaN   \n",
      "4     NaN        NaN       NaN      NaN          NaN          NaN   \n",
      "\n",
      "   wv1980-1990  wv1990-2000  wv2000-2010  wv>=2010  aand<1945  aand1945-1970  \\\n",
      "0          NaN          NaN          NaN       NaN        NaN            NaN   \n",
      "1          NaN          NaN          NaN       NaN        NaN            NaN   \n",
      "2          NaN          NaN          NaN       NaN        NaN            NaN   \n",
      "3          NaN          NaN          NaN       NaN        NaN            NaN   \n",
      "4          NaN          NaN          NaN       NaN        NaN            NaN   \n",
      "\n",
      "   aand1970-1980  aand1980-1990  aand1990-2000  aand2000-2010  aand>=2010  \\\n",
      "0            NaN            NaN            NaN            NaN         NaN   \n",
      "1            NaN            NaN            NaN            NaN         NaN   \n",
      "2            NaN            NaN            NaN            NaN         NaN   \n",
      "3            NaN            NaN            NaN            NaN         NaN   \n",
      "4            NaN            NaN            NaN            NaN         NaN   \n",
      "\n",
      "   aandkoop  aandhuursoc  aandhuurov      auto30       auto60        ov30  \\\n",
      "0       NaN          NaN         NaN  100149.700  446721.0000  10454.3000   \n",
      "1       NaN          NaN         NaN  104746.875  432936.3750   6666.8750   \n",
      "2       NaN          NaN         NaN   94492.750  464010.8125  10386.9375   \n",
      "3       NaN          NaN         NaN  108028.750  455182.7500   6217.8750   \n",
      "4       NaN          NaN         NaN  133888.000  481726.7500   5464.0000   \n",
      "\n",
      "         ov60      fiets     ar30    ar60   door30   door60         banen  \\\n",
      "0  97301.3000  14014.000  15.5000  21.900   99.000  97.9000  41539.333333   \n",
      "1  83720.1250  12920.375  13.2500  19.250  100.000  97.7500  41444.708333   \n",
      "2  67878.9375  14503.500  15.8125  14.875   88.750  96.4375  39794.395833   \n",
      "3  60918.1250  12860.875  13.1250  13.625   93.375  97.0000  42369.166667   \n",
      "4  54654.2500  11777.500   9.7500  12.000   87.500  95.2500  50376.500000   \n",
      "\n",
      "   wijkcode18 wijkcodeLetters18  wox woxdelta1jr woxdelta5jr woxww woxm2  \\\n",
      "0         NaN               NaN  NaN         NaN         NaN   NaN   NaN   \n",
      "1         NaN               NaN  NaN         NaN         NaN   NaN   NaN   \n",
      "2         NaN               NaN  NaN         NaN         NaN   NaN   NaN   \n",
      "3         NaN               NaN  NaN         NaN         NaN   NaN   NaN   \n",
      "4         NaN               NaN  NaN         NaN         NaN   NaN   NaN   \n",
      "\n",
      "  woxGem woxdelta1jrGem woxdelta5jrGem woxwwGem woxm2Gem woxdelta5jrWGabs  \\\n",
      "0    NaN            NaN            NaN      NaN      NaN              NaN   \n",
      "1    NaN            NaN            NaN      NaN      NaN              NaN   \n",
      "2    NaN            NaN            NaN      NaN      NaN              NaN   \n",
      "3    NaN            NaN            NaN      NaN      NaN              NaN   \n",
      "4    NaN            NaN            NaN      NaN      NaN              NaN   \n",
      "\n",
      "  woxdelta5jrWGrel woxm2WG  d_overig  d_optioneel  d_kern  \n",
      "0              NaN     NaN         1            0       0  \n",
      "1              NaN     NaN         1            0       0  \n",
      "2              NaN     NaN         1            0       0  \n",
      "3              NaN     NaN         1            0       0  \n",
      "4              NaN     NaN         1            0       0  \n"
     ]
    }
   ],
   "source": [
    "# samengestelde csv. om dubbele kolommen te voorkomen eerst droppen bepaalde kolommen \n",
    "wm.drop(columns=['wijknaam', 'wijkcodeLetters', 'wijkcodeLettersMatch', 'gemeentecode', 'gemeentenaam', \n",
    "                 'KL18W', 'RLBRMTR18W', 'RLBWON18W', 'RLBBEV18W', 'RLBVRZ18W', 'RLBVEI18W', 'RLBFYS18W'], inplace=True)\n",
    "gm.drop(columns=['gemeentenaam'], inplace=True)\n",
    "\n",
    "buurten=pd.merge(bm, wm, how='left', on ='wijkcode')\n",
    "buurten=pd.merge(buurten, gm, how='left', on ='gemeentecode')\n",
    "buurten.to_csv(save_path+'buurten.csv', encoding='utf-16', index=False)"
   ]
  },
  {
   "cell_type": "markdown",
   "metadata": {},
   "source": [
    "### Einde data preparatie. Vervolg: Buurtscores EDA of Decision Tree of XGB"
   ]
  },
  {
   "cell_type": "code",
   "execution_count": null,
   "metadata": {},
   "outputs": [],
   "source": []
  }
 ],
 "metadata": {
  "kernelspec": {
   "display_name": "Python 3",
   "language": "python",
   "name": "python3"
  },
  "language_info": {
   "codemirror_mode": {
    "name": "ipython",
    "version": 3
   },
   "file_extension": ".py",
   "mimetype": "text/x-python",
   "name": "python",
   "nbconvert_exporter": "python",
   "pygments_lexer": "ipython3",
   "version": "3.7.4"
  }
 },
 "nbformat": 4,
 "nbformat_minor": 2
}
