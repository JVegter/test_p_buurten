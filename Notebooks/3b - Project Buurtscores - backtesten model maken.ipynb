{
 "cells": [
  {
   "cell_type": "markdown",
   "metadata": {},
   "source": [
    "# Model voor backtesten maken\n",
    "\n",
    "Op 2020 data, genormaliseerd\n",
    "\n",
    "Script komt grotendeels overeen met script 2d\n"
   ]
  },
  {
   "cell_type": "code",
   "execution_count": 26,
   "metadata": {},
   "outputs": [],
   "source": [
    "# importeren packages\n",
    "import pandas as pd\n",
    "import numpy as np\n",
    "#conda install -c anaconda py-xgboost #installeer XGBoost\n",
    "import xgboost\n",
    "#from xgboost import XGBClassifier\n",
    "from xgboost import plot_importance\n",
    "from sklearn.model_selection import train_test_split, RandomizedSearchCV, GridSearchCV, KFold, cross_val_score\n",
    "from sklearn.metrics import accuracy_score, confusion_matrix\n",
    "from sklearn import preprocessing\n",
    "from sklearn.preprocessing import RobustScaler \n",
    "import pickle\n",
    "from matplotlib import pyplot\n",
    "#import seaborn as sns #visualisation\n",
    "#import matplotlib.pyplot as plt #visualisation\n",
    "\n",
    "# setten source path: later moet alle brondata naar datalake\n",
    "source_path =\"P:\\\\DATASCIENCE\\\\Aantrekkelijkheid buurten\\\\Resultaten\\\\\"\n",
    "# alle tussentijdse data voorlopig in dezelfde map op een schijf opslaan in\n",
    "save_path = \"P:\\\\DATASCIENCE\\\\Aantrekkelijkheid buurten\\\\Resultaten\\\\\"\n",
    "\n",
    "\n",
    "#%matplotlib inline"
   ]
  },
  {
   "cell_type": "code",
   "execution_count": 2,
   "metadata": {},
   "outputs": [],
   "source": [
    "# display meer regels\n",
    "pd.set_option('display.max_rows', 500)"
   ]
  },
  {
   "cell_type": "markdown",
   "metadata": {},
   "source": [
    "### Inladen data"
   ]
  },
  {
   "cell_type": "code",
   "execution_count": 3,
   "metadata": {},
   "outputs": [
    {
     "name": "stderr",
     "output_type": "stream",
     "text": [
      "C:\\Users\\rondea\\AppData\\Local\\Continuum\\anaconda3\\lib\\site-packages\\IPython\\core\\interactiveshell.py:3058: DtypeWarning: Columns (8) have mixed types. Specify dtype option on import or set low_memory=False.\n",
      "  interactivity=interactivity, compiler=compiler, result=result)\n"
     ]
    }
   ],
   "source": [
    "# inladen bestand met scores als sc\n",
    "sc = pd.read_excel(source_path + 'buurten voor experts 2e ronde.xlsx', sheet_name='buurten')\n",
    "# alleen selecteren kolommen voor scores en oordelen\n",
    "sc = sc[['buurtcode','EE','TK']]\n",
    "\n",
    "# inladen bestand met alle buurten en onafhankelijke variabelen als all\n",
    "buurtendata = pd.read_csv(source_path + 'buurten.csv', encoding='utf-16')"
   ]
  },
  {
   "cell_type": "code",
   "execution_count": 4,
   "metadata": {},
   "outputs": [],
   "source": [
    "# merge op buurtcode (die van 2019)\n",
    "df = pd.merge(sc,buurtendata, on='buurtcode')"
   ]
  },
  {
   "cell_type": "markdown",
   "metadata": {},
   "source": [
    "### Maak splits in test en training set"
   ]
  },
  {
   "cell_type": "code",
   "execution_count": 5,
   "metadata": {},
   "outputs": [],
   "source": [
    "# hernoem RLBBEV naar zonder jaartal, zodat we kunnen vergelijken tussen 2016 en 2018\n",
    "df.rename(columns={\"RLBBEV18\":\"RLBBEV\"}, inplace=True) "
   ]
  },
  {
   "cell_type": "code",
   "execution_count": 6,
   "metadata": {},
   "outputs": [],
   "source": [
    "# alle kolommen! behalve enkele omschhrijvingen, onnodige wijkcodes, marktpotentie want String \n",
    "# feature_cols = ['woxdelta5jrGem', 'AantalCafe3', 'woxdelta5jr', 'ar60', 'wox',\n",
    "#        'woxdelta1jrGem', 'AantalBios5', 'woxm2WG']\n",
    "\n",
    "\n",
    "\n",
    "# minus de kolommen die niet in de 2016 dataset aanwezig zijn\n",
    "feature_cols = ['AantalCafe3', 'woxdelta5jr', 'woxm2', 'woxww',\n",
    "       'woxdelta5jrGem', 'wox', 'RLBBEV',\n",
    "       'RLBVRZ16', 'AantalLevensm3', 'woxm2WG', 'aand1945-1970',\n",
    "       'woxdelta5jrWGabs', 'woxdelta1jrGem', 'AantalPodiumk10',\n",
    "       'wv2000-2010', 'AantalBios5']\n",
    "\n",
    "\n",
    "\n",
    "\n",
    "#zonder wox\n",
    "#feature_cols = ['buurtcode','inw', 'bevdh', 'oadh', 'hh', 'inw65', 'KL16', 'KL18', 'VKL1618',\n",
    "#                'RLBRMTR18', 'RLBWON18', 'RLBBEV18', 'RLBVRZ18', 'RLBVEI18', 'RLBFYS18', \n",
    "#                'AfstandSupermarkt', 'AantalLevensm3', 'AfstandHuisarts', 'AantalCafe3','AantalRest3', 'AantalKinderopvang1', \n",
    "#                'AfstandZwembad', 'AantalMusea10', 'AantalPodiumk10', 'AantalBios5', \n",
    "#                'hh19inkLaag', 'hh30inkLaag', 'hh19inkMidden', 'hh30inkMidden', 'hh19inkHoog', 'hh30inkHoog', \n",
    "#                'aandeelMH19', 'auto30', 'auto60', 'ov30', 'ov60', 'fiets', 'banen'] \n",
    "\n",
    "\n",
    "\n",
    "#X = df[feature_cols]\n",
    "y = df[['TK']]"
   ]
  },
  {
   "cell_type": "code",
   "execution_count": 7,
   "metadata": {},
   "outputs": [],
   "source": [
    "# Normaliseren data\n",
    "# Creating a scaled feature set\n",
    "scaler = RobustScaler()\n",
    "X = scaler.fit_transform(df[feature_cols])\n",
    "X = pd.DataFrame(X)\n",
    "X.columns = feature_cols"
   ]
  },
  {
   "cell_type": "markdown",
   "metadata": {},
   "source": [
    "## hyperparameter search\n",
    "\n",
    "- 3*10-fold cross-validation met random seeds\n",
    "- en holdout set om te verzekeren dat je niet je cross-validatie overfit\n",
    "\n",
    "- gekozen om gewoon bomen te gebruiken als booster\n",
    "- model in principe niet exact reproducible ook als we random state\n",
    "- base_score zou lager kunnen omdat we voor 3 groepen classificeren, maar we geven hem genoeg stappen om te trainen dus deze maakt niet echt uit\n",
    "\n",
    "\n"
   ]
  },
  {
   "cell_type": "code",
   "execution_count": 9,
   "metadata": {},
   "outputs": [],
   "source": [
    "# Laad model\n",
    "clf = xgboost.XGBClassifier(seed=2)"
   ]
  },
  {
   "cell_type": "code",
   "execution_count": 30,
   "metadata": {},
   "outputs": [
    {
     "data": {
      "text/plain": [
       "{'max_depth': 3,\n",
       " 'learning_rate': 0.1,\n",
       " 'n_estimators': 100,\n",
       " 'verbosity': 1,\n",
       " 'silent': None,\n",
       " 'objective': 'binary:logistic',\n",
       " 'booster': 'gbtree',\n",
       " 'gamma': 0,\n",
       " 'min_child_weight': 1,\n",
       " 'max_delta_step': 0,\n",
       " 'subsample': 1,\n",
       " 'colsample_bytree': 1,\n",
       " 'colsample_bylevel': 1,\n",
       " 'colsample_bynode': 1,\n",
       " 'reg_alpha': 0,\n",
       " 'reg_lambda': 1,\n",
       " 'scale_pos_weight': 1,\n",
       " 'base_score': 0.5,\n",
       " 'missing': nan,\n",
       " 'kwargs': {},\n",
       " '_Booster': None,\n",
       " 'seed': 2,\n",
       " 'random_state': 0,\n",
       " 'nthread': None,\n",
       " 'n_jobs': 1,\n",
       " 'importance_type': 'gain'}"
      ]
     },
     "execution_count": 30,
     "metadata": {},
     "output_type": "execute_result"
    }
   ],
   "source": [
    "clf.__dict__"
   ]
  },
  {
   "cell_type": "code",
   "execution_count": 151,
   "metadata": {},
   "outputs": [],
   "source": [
    "# test hyperparameter search input (per parameter terugbrengen naar minder waarden)\n",
    "#    \"max_depth\"        : [2, 3, 4, 5, 6, 7, 9, 12, 19, 25],\n",
    "#    \"learning_rate\"    : [0.01, 0.05, 0.10, 0.15, 0.20, 0.30, 0.50, 0.80],\n",
    "#    \"subsample\"        : [0.1, 0.4, 0.6, 0.8, 1],\n",
    "#    \"min_child_weight\" : [1, 3, 5, 7],\n",
    "#    \"gamma\"            : [0.0, 0.1, 0.2, 0.3, 0.4],\n",
    "#    \"colsample_bytree\" : [0.3, 0.4, 0.5, 0.7, 1],\n",
    "#    \"n_estimators\"     : [10, 100, 250, 500]\n",
    "\n",
    "\n",
    "\n",
    "# hyperparameter search input\n",
    "params = {\n",
    "    \"max_depth\"        : [2, 5, 7, 9],\n",
    "    \"learning_rate\"    : [0.10, 0.15, 0.20],\n",
    "    \"subsample\"        : [0.8, 1],\n",
    "    \"min_child_weight\" : [3, 5, 7],\n",
    "    \"gamma\"            : [0.1, 0.2, 0.3],\n",
    "    \"colsample_bytree\" : [0.4, 0.5, 0.7],\n",
    "    \"n_estimators\"     : [100, 250]\n",
    "}"
   ]
  },
  {
   "cell_type": "code",
   "execution_count": 152,
   "metadata": {},
   "outputs": [],
   "source": [
    "grid_search = GridSearchCV(\n",
    "    estimator = clf,\n",
    "    param_grid = params,\n",
    "    scoring = 'f1_macro',\n",
    "    n_jobs = 10,\n",
    "    cv = 10,\n",
    "    verbose = True\n",
    ")"
   ]
  },
  {
   "cell_type": "code",
   "execution_count": 113,
   "metadata": {
    "scrolled": true
   },
   "outputs": [
    {
     "name": "stdout",
     "output_type": "stream",
     "text": [
      "Fitting 10 folds for each of 1296 candidates, totalling 12960 fits\n"
     ]
    },
    {
     "name": "stderr",
     "output_type": "stream",
     "text": [
      "[Parallel(n_jobs=10)]: Using backend LokyBackend with 10 concurrent workers.\n",
      "[Parallel(n_jobs=10)]: Done  30 tasks      | elapsed:    9.2s\n",
      "[Parallel(n_jobs=10)]: Done 180 tasks      | elapsed:   29.6s\n",
      "[Parallel(n_jobs=10)]: Done 430 tasks      | elapsed:  1.2min\n",
      "[Parallel(n_jobs=10)]: Done 780 tasks      | elapsed:  2.0min\n",
      "[Parallel(n_jobs=10)]: Done 1230 tasks      | elapsed:  3.0min\n",
      "[Parallel(n_jobs=10)]: Done 1780 tasks      | elapsed:  4.3min\n",
      "[Parallel(n_jobs=10)]: Done 2430 tasks      | elapsed:  5.9min\n",
      "[Parallel(n_jobs=10)]: Done 3180 tasks      | elapsed:  7.7min\n",
      "[Parallel(n_jobs=10)]: Done 4030 tasks      | elapsed:  9.8min\n",
      "[Parallel(n_jobs=10)]: Done 4980 tasks      | elapsed: 12.4min\n",
      "[Parallel(n_jobs=10)]: Done 6030 tasks      | elapsed: 15.1min\n",
      "[Parallel(n_jobs=10)]: Done 7180 tasks      | elapsed: 18.3min\n",
      "[Parallel(n_jobs=10)]: Done 8430 tasks      | elapsed: 21.8min\n",
      "[Parallel(n_jobs=10)]: Done 9780 tasks      | elapsed: 26.1min\n",
      "[Parallel(n_jobs=10)]: Done 11230 tasks      | elapsed: 30.8min\n",
      "[Parallel(n_jobs=10)]: Done 12780 tasks      | elapsed: 36.2min\n",
      "[Parallel(n_jobs=10)]: Done 12960 out of 12960 | elapsed: 36.8min finished\n",
      "C:\\Users\\rondea\\AppData\\Local\\Continuum\\anaconda3\\lib\\site-packages\\sklearn\\model_selection\\_search.py:814: DeprecationWarning: The default of the `iid` parameter will change from True to False in version 0.22 and will be removed in 0.24. This will change numeric results when test-set sizes are unequal.\n",
      "  DeprecationWarning)\n",
      "C:\\Users\\rondea\\AppData\\Local\\Continuum\\anaconda3\\lib\\site-packages\\sklearn\\preprocessing\\label.py:219: DataConversionWarning: A column-vector y was passed when a 1d array was expected. Please change the shape of y to (n_samples, ), for example using ravel().\n",
      "  y = column_or_1d(y, warn=True)\n",
      "C:\\Users\\rondea\\AppData\\Local\\Continuum\\anaconda3\\lib\\site-packages\\sklearn\\preprocessing\\label.py:252: DataConversionWarning: A column-vector y was passed when a 1d array was expected. Please change the shape of y to (n_samples, ), for example using ravel().\n",
      "  y = column_or_1d(y, warn=True)\n"
     ]
    },
    {
     "data": {
      "text/plain": [
       "GridSearchCV(cv=10, error_score='raise-deprecating',\n",
       "             estimator=XGBClassifier(base_score=0.5, booster='gbtree',\n",
       "                                     colsample_bylevel=1, colsample_bynode=1,\n",
       "                                     colsample_bytree=1, gamma=0,\n",
       "                                     learning_rate=0.1, max_delta_step=0,\n",
       "                                     max_depth=3, min_child_weight=1,\n",
       "                                     missing=None, n_estimators=100, n_jobs=1,\n",
       "                                     nthread=None, objective='binary:logistic',\n",
       "                                     random_state=0, reg_alpha=0, reg_...\n",
       "                                     scale_pos_weight=1, seed=2, silent=None,\n",
       "                                     subsample=1, verbosity=1),\n",
       "             iid='warn', n_jobs=10,\n",
       "             param_grid={'colsample_bytree': [0.4, 0.5, 0.7],\n",
       "                         'gamma': [0.1, 0.2, 0.3],\n",
       "                         'learning_rate': [0.1, 0.15, 0.2],\n",
       "                         'max_depth': [2, 5, 7, 9],\n",
       "                         'min_child_weight': [3, 5, 7],\n",
       "                         'n_estimators': [100, 250], 'subsample': [0.8, 1]},\n",
       "             pre_dispatch='2*n_jobs', refit=True, return_train_score=False,\n",
       "             scoring='f1_macro', verbose=True)"
      ]
     },
     "execution_count": 113,
     "metadata": {},
     "output_type": "execute_result"
    }
   ],
   "source": [
    "grid_search.fit(X, y)"
   ]
  },
  {
   "cell_type": "code",
   "execution_count": 115,
   "metadata": {
    "scrolled": true
   },
   "outputs": [
    {
     "data": {
      "text/plain": [
       "XGBClassifier(base_score=0.5, booster='gbtree', colsample_bylevel=1,\n",
       "              colsample_bynode=1, colsample_bytree=0.7, gamma=0.2,\n",
       "              learning_rate=0.15, max_delta_step=0, max_depth=7,\n",
       "              min_child_weight=3, missing=None, n_estimators=250, n_jobs=1,\n",
       "              nthread=None, objective='multi:softprob', random_state=0,\n",
       "              reg_alpha=0, reg_lambda=1, scale_pos_weight=1, seed=2,\n",
       "              silent=None, subsample=0.8, verbosity=1)"
      ]
     },
     "execution_count": 115,
     "metadata": {},
     "output_type": "execute_result"
    }
   ],
   "source": [
    "grid_search.best_estimator_"
   ]
  },
  {
   "cell_type": "code",
   "execution_count": 10,
   "metadata": {},
   "outputs": [],
   "source": [
    "# splitten\n",
    "X_train, X_test, y_train, y_test = train_test_split(X, y, test_size=0.25, random_state=2)"
   ]
  },
  {
   "cell_type": "markdown",
   "metadata": {},
   "source": [
    "# voor geselecteerde kolommen, fase 2, TK\n",
    "\n",
    "XGBClassifier(base_score=0.5, booster='gbtree', colsample_bylevel=1,\n",
    "              colsample_bynode=1, colsample_bytree=0.7, gamma=0.2,\n",
    "              learning_rate=0.15, max_delta_step=0, max_depth=7,\n",
    "              min_child_weight=3, missing=None, n_estimators=250, n_jobs=1,\n",
    "              nthread=None, objective='multi:softprob', random_state=0,\n",
    "              reg_alpha=0, reg_lambda=1, scale_pos_weight=1, seed=2,\n",
    "              silent=None, subsample=0.8, verbosity=1)"
   ]
  },
  {
   "cell_type": "code",
   "execution_count": 29,
   "metadata": {},
   "outputs": [
    {
     "data": {
      "text/plain": [
       "XGBClassifier(base_score=0.5, booster='gbtree', colsample_bylevel=1,\n",
       "              colsample_bynode=1, colsample_bytree=0.7, gamma=0.2,\n",
       "              learning_rate=0.15, max_delta_step=0, max_depth=7,\n",
       "              min_child_weight=3, missing=None, n_estimators=250, n_jobs=1,\n",
       "              nthread=None, objective='multi:softprob', random_state=0,\n",
       "              reg_alpha=0, reg_lambda=1, scale_pos_weight=1, seed=2,\n",
       "              silent=None, subsample=0.8, verbosity=1)"
      ]
     },
     "execution_count": 29,
     "metadata": {},
     "output_type": "execute_result"
    }
   ],
   "source": [
    "# maak object met geoptimaliseerde hyperparameters\n",
    "model_2019 = xgboost.XGBClassifier(base_score=0.5, booster='gbtree', colsample_bylevel=1,\n",
    "              colsample_bynode=1, colsample_bytree=0.7, gamma=0.2,\n",
    "              learning_rate=0.15, max_delta_step=0, max_depth=7,\n",
    "              min_child_weight=3, missing=None, n_estimators=250, n_jobs=1,\n",
    "              nthread=None, objective='multi:softprob', random_state=0,\n",
    "              reg_alpha=0, reg_lambda=1, scale_pos_weight=1, seed=2,\n",
    "              silent=None, subsample=0.8, verbosity=1)\n",
    "\n",
    "# en fit op data\n",
    "model_2019.fit(X_train, y_train)"
   ]
  },
  {
   "cell_type": "code",
   "execution_count": 34,
   "metadata": {},
   "outputs": [],
   "source": [
    "# sla model op\n",
    "file_name = \"model_backtesting.pkl\"\n",
    "pickle.dump(model_2019, open(file_name, \"wb\"))\n"
   ]
  },
  {
   "cell_type": "code",
   "execution_count": 15,
   "metadata": {},
   "outputs": [],
   "source": [
    "y_pred = model_2019.predict(X_test)\n",
    "y_train_pred = model_2019.predict(X_train)"
   ]
  },
  {
   "cell_type": "code",
   "execution_count": 16,
   "metadata": {},
   "outputs": [],
   "source": [
    "train_accuracy = accuracy_score(y_train,y_train_pred)\n",
    "test_accuracy = accuracy_score(y_test,y_pred)\n",
    "cm = confusion_matrix(y_test, y_pred)"
   ]
  },
  {
   "cell_type": "code",
   "execution_count": 17,
   "metadata": {},
   "outputs": [
    {
     "data": {
      "text/plain": [
       "1.0"
      ]
     },
     "execution_count": 17,
     "metadata": {},
     "output_type": "execute_result"
    }
   ],
   "source": [
    "train_accuracy"
   ]
  },
  {
   "cell_type": "code",
   "execution_count": 18,
   "metadata": {},
   "outputs": [
    {
     "data": {
      "text/plain": [
       "0.9176470588235294"
      ]
     },
     "execution_count": 18,
     "metadata": {},
     "output_type": "execute_result"
    }
   ],
   "source": [
    "test_accuracy"
   ]
  },
  {
   "cell_type": "code",
   "execution_count": 19,
   "metadata": {},
   "outputs": [
    {
     "data": {
      "text/plain": [
       "array([[38,  1,  1],\n",
       "       [ 1, 12,  3],\n",
       "       [ 1,  0, 28]], dtype=int64)"
      ]
     },
     "execution_count": 19,
     "metadata": {},
     "output_type": "execute_result"
    }
   ],
   "source": [
    "cm"
   ]
  },
  {
   "cell_type": "code",
   "execution_count": 21,
   "metadata": {},
   "outputs": [
    {
     "data": {
      "text/plain": [
       "array([0.09708524, 0.06382816, 0.0703288 , 0.05850822, 0.10547711,\n",
       "       0.12422597, 0.0373393 , 0.04409109, 0.03296622, 0.06023987,\n",
       "       0.03562468, 0.0368512 , 0.07125703, 0.05782312, 0.03101709,\n",
       "       0.07333696], dtype=float32)"
      ]
     },
     "execution_count": 21,
     "metadata": {},
     "output_type": "execute_result"
    }
   ],
   "source": [
    "model_2019.feature_importances_"
   ]
  },
  {
   "cell_type": "code",
   "execution_count": 24,
   "metadata": {
    "scrolled": true
   },
   "outputs": [
    {
     "data": {
      "text/html": [
       "<div>\n",
       "<style scoped>\n",
       "    .dataframe tbody tr th:only-of-type {\n",
       "        vertical-align: middle;\n",
       "    }\n",
       "\n",
       "    .dataframe tbody tr th {\n",
       "        vertical-align: top;\n",
       "    }\n",
       "\n",
       "    .dataframe thead th {\n",
       "        text-align: right;\n",
       "    }\n",
       "</style>\n",
       "<table border=\"1\" class=\"dataframe\">\n",
       "  <thead>\n",
       "    <tr style=\"text-align: right;\">\n",
       "      <th></th>\n",
       "      <th>feature_score</th>\n",
       "      <th>feature</th>\n",
       "    </tr>\n",
       "  </thead>\n",
       "  <tbody>\n",
       "    <tr>\n",
       "      <td>wox</td>\n",
       "      <td>0.124226</td>\n",
       "      <td>wox</td>\n",
       "    </tr>\n",
       "    <tr>\n",
       "      <td>woxdelta5jrGem</td>\n",
       "      <td>0.105477</td>\n",
       "      <td>woxdelta5jrGem</td>\n",
       "    </tr>\n",
       "    <tr>\n",
       "      <td>AantalCafe3</td>\n",
       "      <td>0.097085</td>\n",
       "      <td>AantalCafe3</td>\n",
       "    </tr>\n",
       "    <tr>\n",
       "      <td>AantalBios5</td>\n",
       "      <td>0.073337</td>\n",
       "      <td>AantalBios5</td>\n",
       "    </tr>\n",
       "    <tr>\n",
       "      <td>woxdelta1jrGem</td>\n",
       "      <td>0.071257</td>\n",
       "      <td>woxdelta1jrGem</td>\n",
       "    </tr>\n",
       "    <tr>\n",
       "      <td>woxm2</td>\n",
       "      <td>0.070329</td>\n",
       "      <td>woxm2</td>\n",
       "    </tr>\n",
       "    <tr>\n",
       "      <td>woxdelta5jr</td>\n",
       "      <td>0.063828</td>\n",
       "      <td>woxdelta5jr</td>\n",
       "    </tr>\n",
       "    <tr>\n",
       "      <td>woxm2WG</td>\n",
       "      <td>0.060240</td>\n",
       "      <td>woxm2WG</td>\n",
       "    </tr>\n",
       "    <tr>\n",
       "      <td>woxww</td>\n",
       "      <td>0.058508</td>\n",
       "      <td>woxww</td>\n",
       "    </tr>\n",
       "    <tr>\n",
       "      <td>AantalPodiumk10</td>\n",
       "      <td>0.057823</td>\n",
       "      <td>AantalPodiumk10</td>\n",
       "    </tr>\n",
       "    <tr>\n",
       "      <td>RLBVRZ16</td>\n",
       "      <td>0.044091</td>\n",
       "      <td>RLBVRZ16</td>\n",
       "    </tr>\n",
       "    <tr>\n",
       "      <td>RLBBEV</td>\n",
       "      <td>0.037339</td>\n",
       "      <td>RLBBEV</td>\n",
       "    </tr>\n",
       "    <tr>\n",
       "      <td>woxdelta5jrWGabs</td>\n",
       "      <td>0.036851</td>\n",
       "      <td>woxdelta5jrWGabs</td>\n",
       "    </tr>\n",
       "    <tr>\n",
       "      <td>aand1945-1970</td>\n",
       "      <td>0.035625</td>\n",
       "      <td>aand1945-1970</td>\n",
       "    </tr>\n",
       "    <tr>\n",
       "      <td>AantalLevensm3</td>\n",
       "      <td>0.032966</td>\n",
       "      <td>AantalLevensm3</td>\n",
       "    </tr>\n",
       "    <tr>\n",
       "      <td>wv2000-2010</td>\n",
       "      <td>0.031017</td>\n",
       "      <td>wv2000-2010</td>\n",
       "    </tr>\n",
       "  </tbody>\n",
       "</table>\n",
       "</div>"
      ],
      "text/plain": [
       "                  feature_score           feature\n",
       "wox                    0.124226               wox\n",
       "woxdelta5jrGem         0.105477    woxdelta5jrGem\n",
       "AantalCafe3            0.097085       AantalCafe3\n",
       "AantalBios5            0.073337       AantalBios5\n",
       "woxdelta1jrGem         0.071257    woxdelta1jrGem\n",
       "woxm2                  0.070329             woxm2\n",
       "woxdelta5jr            0.063828       woxdelta5jr\n",
       "woxm2WG                0.060240           woxm2WG\n",
       "woxww                  0.058508             woxww\n",
       "AantalPodiumk10        0.057823   AantalPodiumk10\n",
       "RLBVRZ16               0.044091          RLBVRZ16\n",
       "RLBBEV                 0.037339            RLBBEV\n",
       "woxdelta5jrWGabs       0.036851  woxdelta5jrWGabs\n",
       "aand1945-1970          0.035625     aand1945-1970\n",
       "AantalLevensm3         0.032966    AantalLevensm3\n",
       "wv2000-2010            0.031017       wv2000-2010"
      ]
     },
     "execution_count": 24,
     "metadata": {},
     "output_type": "execute_result"
    }
   ],
   "source": [
    "# maak dataframe met feature importances\n",
    "fi = pd.DataFrame(model_2019.feature_importances_,X_train.columns)\n",
    "fi.columns = ['feature_score']\n",
    "fi.sort_values('feature_score', ascending=False, inplace=True)\n",
    "fi['feature'] = fi.index\n",
    "fi"
   ]
  },
  {
   "cell_type": "code",
   "execution_count": 23,
   "metadata": {},
   "outputs": [
    {
     "data": {
      "text/plain": [
       "16"
      ]
     },
     "execution_count": 23,
     "metadata": {},
     "output_type": "execute_result"
    }
   ],
   "source": [
    "len(feature_cols)"
   ]
  },
  {
   "cell_type": "code",
   "execution_count": null,
   "metadata": {},
   "outputs": [],
   "source": [
    "fi[fi['feature_score']>0.05]['feature'].values"
   ]
  },
  {
   "cell_type": "code",
   "execution_count": 35,
   "metadata": {},
   "outputs": [],
   "source": [
    "#fi.to_csv('fi EE zonder wox.csv', encoding='utf-16', index=False)"
   ]
  },
  {
   "cell_type": "markdown",
   "metadata": {},
   "source": [
    "### Predicten rest van buurten en maken bestand"
   ]
  },
  {
   "cell_type": "code",
   "execution_count": 61,
   "metadata": {},
   "outputs": [],
   "source": [
    "prb = buurtendata[feature_cols]"
   ]
  },
  {
   "cell_type": "code",
   "execution_count": 62,
   "metadata": {},
   "outputs": [
    {
     "name": "stderr",
     "output_type": "stream",
     "text": [
      "C:\\Users\\rondea\\AppData\\Local\\Continuum\\anaconda3\\lib\\site-packages\\ipykernel_launcher.py:3: SettingWithCopyWarning: \n",
      "A value is trying to be set on a copy of a slice from a DataFrame.\n",
      "Try using .loc[row_indexer,col_indexer] = value instead\n",
      "\n",
      "See the caveats in the documentation: http://pandas.pydata.org/pandas-docs/stable/user_guide/indexing.html#returning-a-view-versus-a-copy\n",
      "  This is separate from the ipykernel package so we can avoid doing imports until\n"
     ]
    }
   ],
   "source": [
    "pred = model.predict(prb)\n",
    "pred = pd.DataFrame(pred,columns=['pred_TK'])\n",
    "prb['pred_TK'] = pred"
   ]
  },
  {
   "cell_type": "code",
   "execution_count": 63,
   "metadata": {},
   "outputs": [
    {
     "data": {
      "text/html": [
       "<div>\n",
       "<style scoped>\n",
       "    .dataframe tbody tr th:only-of-type {\n",
       "        vertical-align: middle;\n",
       "    }\n",
       "\n",
       "    .dataframe tbody tr th {\n",
       "        vertical-align: top;\n",
       "    }\n",
       "\n",
       "    .dataframe thead th {\n",
       "        text-align: right;\n",
       "    }\n",
       "</style>\n",
       "<table border=\"1\" class=\"dataframe\">\n",
       "  <thead>\n",
       "    <tr style=\"text-align: right;\">\n",
       "      <th></th>\n",
       "      <th>buurtcode</th>\n",
       "      <th>inw</th>\n",
       "      <th>bevdh</th>\n",
       "      <th>oadh</th>\n",
       "      <th>hh</th>\n",
       "      <th>inw65</th>\n",
       "      <th>KL16</th>\n",
       "      <th>KL18</th>\n",
       "      <th>VKL1618</th>\n",
       "      <th>RLBRMTR18</th>\n",
       "      <th>...</th>\n",
       "      <th>woxGem</th>\n",
       "      <th>woxdelta1jrGem</th>\n",
       "      <th>woxdelta5jrGem</th>\n",
       "      <th>woxwwGem</th>\n",
       "      <th>woxm2Gem</th>\n",
       "      <th>woxdelta5jrWGabs</th>\n",
       "      <th>woxdelta5jrWGrel</th>\n",
       "      <th>woxm2WG</th>\n",
       "      <th>banen</th>\n",
       "      <th>pred_TK</th>\n",
       "    </tr>\n",
       "  </thead>\n",
       "  <tbody>\n",
       "    <tr>\n",
       "      <td>0</td>\n",
       "      <td>30000</td>\n",
       "      <td>2370</td>\n",
       "      <td>2812.0</td>\n",
       "      <td>1210.0</td>\n",
       "      <td>1315</td>\n",
       "      <td>700</td>\n",
       "      <td>6.0</td>\n",
       "      <td>6.0</td>\n",
       "      <td>4.0</td>\n",
       "      <td>-0.051487</td>\n",
       "      <td>...</td>\n",
       "      <td>NaN</td>\n",
       "      <td>NaN</td>\n",
       "      <td>NaN</td>\n",
       "      <td>NaN</td>\n",
       "      <td>NaN</td>\n",
       "      <td>NaN</td>\n",
       "      <td>NaN</td>\n",
       "      <td>NaN</td>\n",
       "      <td>41539.333333</td>\n",
       "      <td>c</td>\n",
       "    </tr>\n",
       "    <tr>\n",
       "      <td>1</td>\n",
       "      <td>30001</td>\n",
       "      <td>3035</td>\n",
       "      <td>1922.0</td>\n",
       "      <td>903.0</td>\n",
       "      <td>1335</td>\n",
       "      <td>640</td>\n",
       "      <td>6.0</td>\n",
       "      <td>6.0</td>\n",
       "      <td>4.0</td>\n",
       "      <td>-0.045828</td>\n",
       "      <td>...</td>\n",
       "      <td>NaN</td>\n",
       "      <td>NaN</td>\n",
       "      <td>NaN</td>\n",
       "      <td>NaN</td>\n",
       "      <td>NaN</td>\n",
       "      <td>NaN</td>\n",
       "      <td>NaN</td>\n",
       "      <td>NaN</td>\n",
       "      <td>41444.708333</td>\n",
       "      <td>c</td>\n",
       "    </tr>\n",
       "    <tr>\n",
       "      <td>2</td>\n",
       "      <td>30002</td>\n",
       "      <td>5725</td>\n",
       "      <td>2012.0</td>\n",
       "      <td>1140.0</td>\n",
       "      <td>2665</td>\n",
       "      <td>1480</td>\n",
       "      <td>6.0</td>\n",
       "      <td>6.0</td>\n",
       "      <td>4.0</td>\n",
       "      <td>-0.185803</td>\n",
       "      <td>...</td>\n",
       "      <td>NaN</td>\n",
       "      <td>NaN</td>\n",
       "      <td>NaN</td>\n",
       "      <td>NaN</td>\n",
       "      <td>NaN</td>\n",
       "      <td>NaN</td>\n",
       "      <td>NaN</td>\n",
       "      <td>NaN</td>\n",
       "      <td>39794.395833</td>\n",
       "      <td>c</td>\n",
       "    </tr>\n",
       "    <tr>\n",
       "      <td>3</td>\n",
       "      <td>30007</td>\n",
       "      <td>325</td>\n",
       "      <td>60.0</td>\n",
       "      <td>359.0</td>\n",
       "      <td>115</td>\n",
       "      <td>30</td>\n",
       "      <td>8.0</td>\n",
       "      <td>8.0</td>\n",
       "      <td>4.0</td>\n",
       "      <td>0.141117</td>\n",
       "      <td>...</td>\n",
       "      <td>NaN</td>\n",
       "      <td>NaN</td>\n",
       "      <td>NaN</td>\n",
       "      <td>NaN</td>\n",
       "      <td>NaN</td>\n",
       "      <td>NaN</td>\n",
       "      <td>NaN</td>\n",
       "      <td>NaN</td>\n",
       "      <td>42369.166667</td>\n",
       "      <td>c</td>\n",
       "    </tr>\n",
       "    <tr>\n",
       "      <td>4</td>\n",
       "      <td>30008</td>\n",
       "      <td>100</td>\n",
       "      <td>18.0</td>\n",
       "      <td>79.0</td>\n",
       "      <td>40</td>\n",
       "      <td>15</td>\n",
       "      <td>NaN</td>\n",
       "      <td>NaN</td>\n",
       "      <td>NaN</td>\n",
       "      <td>NaN</td>\n",
       "      <td>...</td>\n",
       "      <td>NaN</td>\n",
       "      <td>NaN</td>\n",
       "      <td>NaN</td>\n",
       "      <td>NaN</td>\n",
       "      <td>NaN</td>\n",
       "      <td>NaN</td>\n",
       "      <td>NaN</td>\n",
       "      <td>NaN</td>\n",
       "      <td>50376.500000</td>\n",
       "      <td>c</td>\n",
       "    </tr>\n",
       "    <tr>\n",
       "      <td>...</td>\n",
       "      <td>...</td>\n",
       "      <td>...</td>\n",
       "      <td>...</td>\n",
       "      <td>...</td>\n",
       "      <td>...</td>\n",
       "      <td>...</td>\n",
       "      <td>...</td>\n",
       "      <td>...</td>\n",
       "      <td>...</td>\n",
       "      <td>...</td>\n",
       "      <td>...</td>\n",
       "      <td>...</td>\n",
       "      <td>...</td>\n",
       "      <td>...</td>\n",
       "      <td>...</td>\n",
       "      <td>...</td>\n",
       "      <td>...</td>\n",
       "      <td>...</td>\n",
       "      <td>...</td>\n",
       "      <td>...</td>\n",
       "      <td>...</td>\n",
       "    </tr>\n",
       "    <tr>\n",
       "      <td>13619</td>\n",
       "      <td>19781901</td>\n",
       "      <td>110</td>\n",
       "      <td>2043.0</td>\n",
       "      <td>50.0</td>\n",
       "      <td>40</td>\n",
       "      <td>10</td>\n",
       "      <td>NaN</td>\n",
       "      <td>NaN</td>\n",
       "      <td>NaN</td>\n",
       "      <td>NaN</td>\n",
       "      <td>...</td>\n",
       "      <td>NaN</td>\n",
       "      <td>NaN</td>\n",
       "      <td>NaN</td>\n",
       "      <td>NaN</td>\n",
       "      <td>NaN</td>\n",
       "      <td>NaN</td>\n",
       "      <td>NaN</td>\n",
       "      <td>NaN</td>\n",
       "      <td>29348.666667</td>\n",
       "      <td>c</td>\n",
       "    </tr>\n",
       "    <tr>\n",
       "      <td>13620</td>\n",
       "      <td>19782001</td>\n",
       "      <td>10</td>\n",
       "      <td>2.0</td>\n",
       "      <td>18.0</td>\n",
       "      <td>5</td>\n",
       "      <td>0</td>\n",
       "      <td>NaN</td>\n",
       "      <td>NaN</td>\n",
       "      <td>NaN</td>\n",
       "      <td>NaN</td>\n",
       "      <td>...</td>\n",
       "      <td>NaN</td>\n",
       "      <td>NaN</td>\n",
       "      <td>NaN</td>\n",
       "      <td>NaN</td>\n",
       "      <td>NaN</td>\n",
       "      <td>NaN</td>\n",
       "      <td>NaN</td>\n",
       "      <td>NaN</td>\n",
       "      <td>242544.333333</td>\n",
       "      <td>c</td>\n",
       "    </tr>\n",
       "    <tr>\n",
       "      <td>13621</td>\n",
       "      <td>19782002</td>\n",
       "      <td>440</td>\n",
       "      <td>3870.0</td>\n",
       "      <td>75.0</td>\n",
       "      <td>180</td>\n",
       "      <td>95</td>\n",
       "      <td>NaN</td>\n",
       "      <td>NaN</td>\n",
       "      <td>NaN</td>\n",
       "      <td>NaN</td>\n",
       "      <td>...</td>\n",
       "      <td>NaN</td>\n",
       "      <td>NaN</td>\n",
       "      <td>NaN</td>\n",
       "      <td>NaN</td>\n",
       "      <td>NaN</td>\n",
       "      <td>NaN</td>\n",
       "      <td>NaN</td>\n",
       "      <td>NaN</td>\n",
       "      <td>242544.333333</td>\n",
       "      <td>c</td>\n",
       "    </tr>\n",
       "    <tr>\n",
       "      <td>13622</td>\n",
       "      <td>19782003</td>\n",
       "      <td>150</td>\n",
       "      <td>536.0</td>\n",
       "      <td>36.0</td>\n",
       "      <td>45</td>\n",
       "      <td>35</td>\n",
       "      <td>NaN</td>\n",
       "      <td>NaN</td>\n",
       "      <td>NaN</td>\n",
       "      <td>NaN</td>\n",
       "      <td>...</td>\n",
       "      <td>NaN</td>\n",
       "      <td>NaN</td>\n",
       "      <td>NaN</td>\n",
       "      <td>NaN</td>\n",
       "      <td>NaN</td>\n",
       "      <td>NaN</td>\n",
       "      <td>NaN</td>\n",
       "      <td>NaN</td>\n",
       "      <td>242544.333333</td>\n",
       "      <td>c</td>\n",
       "    </tr>\n",
       "    <tr>\n",
       "      <td>13623</td>\n",
       "      <td>19782004</td>\n",
       "      <td>115</td>\n",
       "      <td>616.0</td>\n",
       "      <td>59.0</td>\n",
       "      <td>40</td>\n",
       "      <td>30</td>\n",
       "      <td>NaN</td>\n",
       "      <td>NaN</td>\n",
       "      <td>NaN</td>\n",
       "      <td>NaN</td>\n",
       "      <td>...</td>\n",
       "      <td>NaN</td>\n",
       "      <td>NaN</td>\n",
       "      <td>NaN</td>\n",
       "      <td>NaN</td>\n",
       "      <td>NaN</td>\n",
       "      <td>NaN</td>\n",
       "      <td>NaN</td>\n",
       "      <td>NaN</td>\n",
       "      <td>242544.333333</td>\n",
       "      <td>c</td>\n",
       "    </tr>\n",
       "  </tbody>\n",
       "</table>\n",
       "<p>13624 rows × 52 columns</p>\n",
       "</div>"
      ],
      "text/plain": [
       "       buurtcode   inw   bevdh    oadh    hh  inw65  KL16  KL18  VKL1618  \\\n",
       "0          30000  2370  2812.0  1210.0  1315    700   6.0   6.0      4.0   \n",
       "1          30001  3035  1922.0   903.0  1335    640   6.0   6.0      4.0   \n",
       "2          30002  5725  2012.0  1140.0  2665   1480   6.0   6.0      4.0   \n",
       "3          30007   325    60.0   359.0   115     30   8.0   8.0      4.0   \n",
       "4          30008   100    18.0    79.0    40     15   NaN   NaN      NaN   \n",
       "...          ...   ...     ...     ...   ...    ...   ...   ...      ...   \n",
       "13619   19781901   110  2043.0    50.0    40     10   NaN   NaN      NaN   \n",
       "13620   19782001    10     2.0    18.0     5      0   NaN   NaN      NaN   \n",
       "13621   19782002   440  3870.0    75.0   180     95   NaN   NaN      NaN   \n",
       "13622   19782003   150   536.0    36.0    45     35   NaN   NaN      NaN   \n",
       "13623   19782004   115   616.0    59.0    40     30   NaN   NaN      NaN   \n",
       "\n",
       "       RLBRMTR18  ...  woxGem  woxdelta1jrGem  woxdelta5jrGem  woxwwGem  \\\n",
       "0      -0.051487  ...     NaN             NaN             NaN       NaN   \n",
       "1      -0.045828  ...     NaN             NaN             NaN       NaN   \n",
       "2      -0.185803  ...     NaN             NaN             NaN       NaN   \n",
       "3       0.141117  ...     NaN             NaN             NaN       NaN   \n",
       "4            NaN  ...     NaN             NaN             NaN       NaN   \n",
       "...          ...  ...     ...             ...             ...       ...   \n",
       "13619        NaN  ...     NaN             NaN             NaN       NaN   \n",
       "13620        NaN  ...     NaN             NaN             NaN       NaN   \n",
       "13621        NaN  ...     NaN             NaN             NaN       NaN   \n",
       "13622        NaN  ...     NaN             NaN             NaN       NaN   \n",
       "13623        NaN  ...     NaN             NaN             NaN       NaN   \n",
       "\n",
       "       woxm2Gem  woxdelta5jrWGabs  woxdelta5jrWGrel  woxm2WG          banen  \\\n",
       "0           NaN               NaN               NaN      NaN   41539.333333   \n",
       "1           NaN               NaN               NaN      NaN   41444.708333   \n",
       "2           NaN               NaN               NaN      NaN   39794.395833   \n",
       "3           NaN               NaN               NaN      NaN   42369.166667   \n",
       "4           NaN               NaN               NaN      NaN   50376.500000   \n",
       "...         ...               ...               ...      ...            ...   \n",
       "13619       NaN               NaN               NaN      NaN   29348.666667   \n",
       "13620       NaN               NaN               NaN      NaN  242544.333333   \n",
       "13621       NaN               NaN               NaN      NaN  242544.333333   \n",
       "13622       NaN               NaN               NaN      NaN  242544.333333   \n",
       "13623       NaN               NaN               NaN      NaN  242544.333333   \n",
       "\n",
       "       pred_TK  \n",
       "0            c  \n",
       "1            c  \n",
       "2            c  \n",
       "3            c  \n",
       "4            c  \n",
       "...        ...  \n",
       "13619        c  \n",
       "13620        c  \n",
       "13621        c  \n",
       "13622        c  \n",
       "13623        c  \n",
       "\n",
       "[13624 rows x 52 columns]"
      ]
     },
     "execution_count": 63,
     "metadata": {},
     "output_type": "execute_result"
    }
   ],
   "source": [
    "prb"
   ]
  },
  {
   "cell_type": "code",
   "execution_count": 22,
   "metadata": {},
   "outputs": [],
   "source": [
    "#prb.to_csv('predicties TK alle data, zonder wox.csv', encoding='utf-16', index=False)"
   ]
  }
 ],
 "metadata": {
  "kernelspec": {
   "display_name": "Python 3",
   "language": "python",
   "name": "python3"
  },
  "language_info": {
   "codemirror_mode": {
    "name": "ipython",
    "version": 3
   },
   "file_extension": ".py",
   "mimetype": "text/x-python",
   "name": "python",
   "nbconvert_exporter": "python",
   "pygments_lexer": "ipython3",
   "version": "3.7.4"
  }
 },
 "nbformat": 4,
 "nbformat_minor": 2
}
